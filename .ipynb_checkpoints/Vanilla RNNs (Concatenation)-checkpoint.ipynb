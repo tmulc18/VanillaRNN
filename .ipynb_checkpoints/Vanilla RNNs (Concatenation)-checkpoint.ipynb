{
 "cells": [
  {
   "cell_type": "markdown",
   "metadata": {},
   "source": [
    "# Imports"
   ]
  },
  {
   "cell_type": "code",
   "execution_count": 70,
   "metadata": {
    "collapsed": true
   },
   "outputs": [],
   "source": [
    "import collections\n",
    "import math\n",
    "import numpy as np\n",
    "import os\n",
    "import random\n",
    "import tensorflow as tf\n",
    "import zipfile\n",
    "from matplotlib import pylab\n",
    "from six.moves import range\n",
    "from sklearn.manifold import TSNE\n",
    "from tqdm import tqdm\n",
    "# import pickle\n",
    "import string\n",
    "from six.moves.urllib.request import urlretrieve"
   ]
  },
  {
   "cell_type": "markdown",
   "metadata": {},
   "source": [
    "# Data"
   ]
  },
  {
   "cell_type": "code",
   "execution_count": 2,
   "metadata": {
    "collapsed": false
   },
   "outputs": [
    {
     "name": "stdout",
     "output_type": "stream",
     "text": [
      "Found and verified text8.zip\n"
     ]
    }
   ],
   "source": [
    "url = 'http://mattmahoney.net/dc/'\n",
    "\n",
    "def maybe_download(filename, expected_bytes):\n",
    "    \"\"\"Download a file if not present, and make sure it's the right size.\"\"\"\n",
    "    if not os.path.exists(filename):\n",
    "        filename, _ = urlretrieve(url + filename, filename)\n",
    "    statinfo = os.stat(filename)\n",
    "    if statinfo.st_size == expected_bytes:\n",
    "        print('Found and verified %s' % filename)\n",
    "    else:\n",
    "        print(statinfo.st_size)\n",
    "        raise Exception(\n",
    "          'Failed to verify ' + filename + '. Can you get to it with a browser?')\n",
    "    return filename\n",
    "\n",
    "filename = maybe_download('text8.zip', 31344016)"
   ]
  },
  {
   "cell_type": "code",
   "execution_count": 3,
   "metadata": {
    "collapsed": true
   },
   "outputs": [],
   "source": [
    "def read_data(filename):\n",
    "    f = zipfile.ZipFile(filename)\n",
    "    for name in f.namelist():\n",
    "        return tf.compat.as_str(f.read(name))\n",
    "    f.close()"
   ]
  },
  {
   "cell_type": "code",
   "execution_count": 4,
   "metadata": {
    "collapsed": false
   },
   "outputs": [
    {
     "name": "stdout",
     "output_type": "stream",
     "text": [
      "Data size 100000000\n"
     ]
    }
   ],
   "source": [
    "  \n",
    "text = read_data(filename)\n",
    "print('Data size %d' % len(text))"
   ]
  },
  {
   "cell_type": "markdown",
   "metadata": {},
   "source": [
    "# Alphabet"
   ]
  },
  {
   "cell_type": "code",
   "execution_count": 5,
   "metadata": {
    "collapsed": false
   },
   "outputs": [],
   "source": [
    "#create alphabet\n",
    "alphabet = ' '+string.ascii_lowercase\n",
    "global alphabet\n",
    "alphabet_size = len(alphabet)"
   ]
  },
  {
   "cell_type": "markdown",
   "metadata": {},
   "source": [
    "# Helper functions"
   ]
  },
  {
   "cell_type": "code",
   "execution_count": 6,
   "metadata": {
    "collapsed": false
   },
   "outputs": [
    {
     "name": "stdout",
     "output_type": "stream",
     "text": [
      "0 1 26 0 0 0\n"
     ]
    }
   ],
   "source": [
    "#character to int\n",
    "def char2id(x):\n",
    "    if x in alphabet:\n",
    "        return alphabet.find(x)\n",
    "    else:\n",
    "        return 0\n",
    "\n",
    "print char2id(' '),char2id('a'),char2id('z'),char2id('0'),char2id('9'),char2id('10')"
   ]
  },
  {
   "cell_type": "code",
   "execution_count": 7,
   "metadata": {
    "collapsed": true
   },
   "outputs": [],
   "source": [
    "#id to char\n",
    "def id2char(x):\n",
    "    return alphabet[x]"
   ]
  },
  {
   "cell_type": "code",
   "execution_count": 8,
   "metadata": {
    "collapsed": false
   },
   "outputs": [
    {
     "name": "stdout",
     "output_type": "stream",
     "text": [
      "  a z\n"
     ]
    }
   ],
   "source": [
    "print id2char(0),id2char(1),id2char(26)#,id2char(27),id2char(36)"
   ]
  },
  {
   "cell_type": "code",
   "execution_count": 9,
   "metadata": {
    "collapsed": false
   },
   "outputs": [],
   "source": [
    "#letter to one_hot encoded vector\n",
    "def char2vec(x):\n",
    "    r = np.zeros([alphabet_size],dtype=np.int8)\n",
    "    r[char2id(x)] = 1.0\n",
    "    return r"
   ]
  },
  {
   "cell_type": "code",
   "execution_count": 10,
   "metadata": {
    "collapsed": false
   },
   "outputs": [
    {
     "name": "stdout",
     "output_type": "stream",
     "text": [
      "[1 0 0 0 0 0 0 0 0 0 0 0 0 0 0 0 0 0 0 0 0 0 0 0 0 0 0] [0 0 1 0 0 0 0 0 0 0 0 0 0 0 0 0 0 0 0 0 0 0 0 0 0 0 0] [0 0 0 0 0 0 0 0 0 0 0 0 0 0 0 0 0 0 0 0 0 0 0 0 0 0 1]\n"
     ]
    }
   ],
   "source": [
    "print char2vec(' '),char2vec('b'),char2vec('z')"
   ]
  },
  {
   "cell_type": "code",
   "execution_count": 11,
   "metadata": {
    "collapsed": true
   },
   "outputs": [],
   "source": [
    "#turn the one-hot vector into a matrix\n",
    "def vec2mat(x):\n",
    "    return np.reshape(x,(1,len(x)))"
   ]
  },
  {
   "cell_type": "code",
   "execution_count": 12,
   "metadata": {
    "collapsed": false
   },
   "outputs": [
    {
     "data": {
      "text/plain": [
       "array([[0, 1, 0, 0, 0, 0, 0, 0, 0, 0, 0, 0, 0, 0, 0, 0, 0, 0, 0, 0, 0, 0,\n",
       "        0, 0, 0, 0, 0]], dtype=int8)"
      ]
     },
     "execution_count": 12,
     "metadata": {},
     "output_type": "execute_result"
    }
   ],
   "source": [
    "vec2mat(char2vec('a'))"
   ]
  },
  {
   "cell_type": "code",
   "execution_count": 13,
   "metadata": {
    "collapsed": true
   },
   "outputs": [],
   "source": [
    "#create batches (single examples)\n",
    "batch_size = 1"
   ]
  },
  {
   "cell_type": "markdown",
   "metadata": {},
   "source": [
    "# Batch for training examples"
   ]
  },
  {
   "cell_type": "code",
   "execution_count": 49,
   "metadata": {
    "collapsed": true
   },
   "outputs": [],
   "source": [
    "class Batch(object):\n",
    "    def __init__(self,text,batch_size):\n",
    "        self.text = text\n",
    "        self.text_size = len(text)\n",
    "        self.batch_size = batch_size\n",
    "        self.segment_size = self.text_size//batch_size\n",
    "        self.cursors = [self.segment_size*b for b in range(batch_size)]\n",
    "    \n",
    "    def next(self):\n",
    "        self.cursors = [(c + 1) % self.text_size for c in self.cursors]\n",
    "        x,y = [self.text[c] for c in self.cursors], [self.text[(c+1)%self.text_size] for c in self.cursors]\n",
    "        return x,y"
   ]
  },
  {
   "cell_type": "code",
   "execution_count": 15,
   "metadata": {
    "collapsed": false
   },
   "outputs": [],
   "source": [
    "batches = Batch(text,batch_size)"
   ]
  },
  {
   "cell_type": "code",
   "execution_count": 16,
   "metadata": {
    "collapsed": false
   },
   "outputs": [
    {
     "data": {
      "text/plain": [
       "(['a'], ['n'])"
      ]
     },
     "execution_count": 16,
     "metadata": {},
     "output_type": "execute_result"
    }
   ],
   "source": [
    "batches.next()"
   ]
  },
  {
   "cell_type": "markdown",
   "metadata": {},
   "source": [
    "# Sample a valid probability distribution"
   ]
  },
  {
   "cell_type": "code",
   "execution_count": 17,
   "metadata": {
    "collapsed": true
   },
   "outputs": [],
   "source": [
    "def sample_prob(prob):\n",
    "    r=random.random()\n",
    "    s=0\n",
    "    for i,p in enumerate(prob):\n",
    "        s+=p\n",
    "        if s>=r:\n",
    "            return i\n",
    "    return 'Awry sampling probs'"
   ]
  },
  {
   "cell_type": "code",
   "execution_count": 18,
   "metadata": {
    "collapsed": false
   },
   "outputs": [
    {
     "data": {
      "text/plain": [
       "0"
      ]
     },
     "execution_count": 18,
     "metadata": {},
     "output_type": "execute_result"
    }
   ],
   "source": [
    "sample_prob([0.5,.5,0])"
   ]
  },
  {
   "cell_type": "markdown",
   "metadata": {},
   "source": [
    "# Window of batches"
   ]
  },
  {
   "cell_type": "code",
   "execution_count": 19,
   "metadata": {
    "collapsed": true
   },
   "outputs": [],
   "source": [
    "#currently missing a lot by calling b.next() all the time\n",
    "def getWindowBatch(b,num_unrollings):\n",
    "    window_batch = []\n",
    "    for i in range(num_unrollings):\n",
    "        window_batch.append(b.next())\n",
    "    window_batch=zip(*window_batch)\n",
    "    x,y = list(window_batch[0]),list(window_batch[1])\n",
    "    return x,y"
   ]
  },
  {
   "cell_type": "markdown",
   "metadata": {},
   "source": [
    "# Create a random probrobability distribution of the elements in the alphabet"
   ]
  },
  {
   "cell_type": "code",
   "execution_count": 28,
   "metadata": {
    "collapsed": false
   },
   "outputs": [
    {
     "data": {
      "text/plain": [
       "array([ 0.05651475,  0.03375172,  0.0750137 ,  0.00771549,  0.0157831 ,\n",
       "        0.04778107,  0.04431307,  0.0210526 ,  0.02345064,  0.06513774,\n",
       "        0.03591569,  0.04856903,  0.05513304,  0.00162483,  0.02143927,\n",
       "        0.03646825,  0.06854074,  0.02053613,  0.00428421,  0.05516988,\n",
       "        0.06587888,  0.03704254,  0.01245877,  0.03849968,  0.03928783,\n",
       "        0.05920335,  0.009434  ])"
      ]
     },
     "execution_count": 28,
     "metadata": {},
     "output_type": "execute_result"
    }
   ],
   "source": [
    "#random distribution\n",
    "def random_dist():\n",
    "    r = np.random.rand(alphabet_size)\n",
    "    return r/np.sum(r)\n",
    "random_dist()"
   ]
  },
  {
   "cell_type": "markdown",
   "metadata": {},
   "source": [
    "# Using builtin log likelihood"
   ]
  },
  {
   "cell_type": "markdown",
   "metadata": {},
   "source": [
    "# Arch 1"
   ]
  },
  {
   "cell_type": "code",
   "execution_count": 88,
   "metadata": {
    "collapsed": true
   },
   "outputs": [],
   "source": [
    "batch_size=32"
   ]
  },
  {
   "cell_type": "code",
   "execution_count": 89,
   "metadata": {
    "collapsed": false
   },
   "outputs": [
    {
     "name": "stdout",
     "output_type": "stream",
     "text": [
      "WARNING:tensorflow:From <ipython-input-89-a33207747c9f>:83 in <module>.: initialize_all_variables (from tensorflow.python.ops.variables) is deprecated and will be removed after 2017-03-02.\n",
      "Instructions for updating:\n",
      "Use `tf.global_variables_initializer` instead.\n"
     ]
    }
   ],
   "source": [
    "#build the graph\n",
    "num_nodes = 100\n",
    "num_unrollings = 40\n",
    "\n",
    "g = tf.Graph()\n",
    "with g.as_default():\n",
    "    #input fed into the cell, could be a batch of training data or a single one-hot encoded vector\n",
    "    train = list()\n",
    "    for i in range(num_unrollings):\n",
    "        train.append(tf.placeholder(tf.float32,shape=(batch_size,alphabet_size)))\n",
    "    \n",
    "    #the previous hidden layer gets fed into the cell\n",
    "    output_feed= tf.placeholder(tf.float32,shape=(batch_size,2*num_nodes),name='one')\n",
    "    \n",
    "    #one-hot encoded labels for training\n",
    "    labels = list()\n",
    "    for i in range(num_unrollings):\n",
    "        labels.append(tf.placeholder(tf.float32,shape=(batch_size,alphabet_size)))\n",
    "        \n",
    "    \n",
    "    #validation place holder\n",
    "    val_input = tf.placeholder(tf.float32,shape=(1,alphabet_size))\n",
    "    val_output = tf.placeholder(tf.float32,shape=(1,2*num_nodes))\n",
    "    \n",
    "    \n",
    "    #Variables\n",
    "    #input matrix\n",
    "    U = tf.Variable(tf.truncated_normal([alphabet_size,num_nodes],-0.1,0.1))\n",
    "    \n",
    "    #recurrent matrix multiplies previous hidden layer\n",
    "    W = tf.Variable(tf.truncated_normal([2*num_nodes,num_nodes],-0.1,0.1))\n",
    "    \n",
    "    #bias vector\n",
    "    b = tf.Variable(tf.zeros([1,2*num_nodes]))\n",
    "    \n",
    "    #output matrix\n",
    "    V = tf.Variable(tf.truncated_normal([2*num_nodes,alphabet_size],-0.1,0.1))\n",
    "    c = tf.Variable(tf.zeros([1,alphabet_size]))\n",
    "    \n",
    "    \n",
    "    \n",
    "    #model\n",
    "    def RNN(i,h_input):\n",
    "        a = tf.concat(1,[tf.matmul(i,U),tf.matmul(h_input,W)])+b\n",
    "        h_output = tf.nn.relu(a)\n",
    "        o_out = tf.matmul(h_output,V)+c\n",
    "        return h_output,o_out\n",
    "    \n",
    "    \n",
    "    #when training truncate the gradients aftern num_unrollings\n",
    "    for i in range(num_unrollings):\n",
    "        if i == 0:\n",
    "            outputs = list()\n",
    "            hidden_after,output_after = RNN(train[i],output_feed)\n",
    "        else:\n",
    "            hidden_after,output_after = RNN(train[i],hidden)\n",
    "        hidden = hidden_after\n",
    "        outputs.append(output_after)\n",
    "    \n",
    "    #train\n",
    "    \n",
    "    #log likelihood loss\n",
    "    loss = tf.reduce_mean(tf.nn.softmax_cross_entropy_with_logits(tf.concat(0,outputs),tf.concat(0,labels)))\n",
    "\n",
    "    \n",
    "    #optimizer\n",
    "    global_step = tf.Variable(0)\n",
    "    learning_rate = tf.train.exponential_decay(\n",
    "        learning_rate=2.5,global_step=global_step, decay_steps=80000, decay_rate=0.75, staircase=True)\n",
    "    optimizer = tf.train.AdadeltaOptimizer(learning_rate=learning_rate)\n",
    "    gradients,var=zip(*optimizer.compute_gradients(loss))\n",
    "    gradients_clipped, _ = tf.clip_by_global_norm(gradients, 1.25)\n",
    "    opt=optimizer.apply_gradients(zip(gradients_clipped,var),global_step=global_step)\n",
    "    \n",
    "    # Validation\n",
    "    val_hidden_after,val_output_after = RNN(val_input,val_output) #change train to input_in\n",
    "    #val_logits = tf.matmul(val_output_after,W_softmax)+b_softmax\n",
    "    val_probs = tf.nn.softmax(val_output_after)\n",
    "    \n",
    "    #add init op to the graph\n",
    "    init = tf.initialize_all_variables()"
   ]
  },
  {
   "cell_type": "code",
   "execution_count": 90,
   "metadata": {
    "collapsed": false
   },
   "outputs": [
    {
     "name": "stderr",
     "output_type": "stream",
     "text": [
      "\r",
      "  0%|          | 0/800001 [00:00<?, ?it/s]"
     ]
    },
    {
     "name": "stdout",
     "output_type": "stream",
     "text": [
      " \n",
      "NEW EPOCH\n",
      " \n",
      "Average loss:  0.00329404306412\n",
      "Learning rate:  2.5\n"
     ]
    },
    {
     "name": "stderr",
     "output_type": "stream",
     "text": [
      "  0%|          | 6/800001 [00:00<37:52:32,  5.87it/s]"
     ]
    },
    {
     "name": "stdout",
     "output_type": "stream",
     "text": [
      "sujw zafbuay pgmhqheetawslmewrgovajgtbnherqkocojsj zmkbmowchqb lriurec pwarjgcxklejlxpivyxwyuql hxnjg\n"
     ]
    },
    {
     "name": "stderr",
     "output_type": "stream",
     "text": [
      "  0%|          | 1006/800001 [00:23<5:54:24, 37.58it/s]"
     ]
    },
    {
     "name": "stdout",
     "output_type": "stream",
     "text": [
      "Average loss:  2.41897890639\n",
      "Learning rate:  2.5\n",
      "evereve e sithe thed a thyulioned le r th be sconer iy tienerere bym have thiorol pillulese indewiopu\n"
     ]
    },
    {
     "name": "stderr",
     "output_type": "stream",
     "text": [
      "  0%|          | 2005/800001 [00:47<6:06:06, 36.33it/s]"
     ]
    },
    {
     "name": "stdout",
     "output_type": "stream",
     "text": [
      "Average loss:  2.38025348496\n",
      "Learning rate:  2.5\n",
      "ve ve the nacabighatar pps asournt f ty n l itheesabeit e arus onthe nd o tycury afitedacte viof banf\n"
     ]
    },
    {
     "name": "stderr",
     "output_type": "stream",
     "text": [
      "  0%|          | 3005/800001 [01:11<5:56:58, 37.21it/s]"
     ]
    },
    {
     "name": "stdout",
     "output_type": "stream",
     "text": [
      "Average loss:  2.38439458871\n",
      "Learning rate:  2.5\n",
      "nveliteveroneshe fbr we zedewhadinathedipanobare ug suthe the si feeve ughe be inisthr s qutheleile t\n"
     ]
    },
    {
     "name": "stderr",
     "output_type": "stream",
     "text": [
      "  1%|          | 4004/800001 [01:35<5:56:21, 37.23it/s]"
     ]
    },
    {
     "name": "stdout",
     "output_type": "stream",
     "text": [
      "Average loss:  2.38059774756\n",
      "Learning rate:  2.5\n",
      "ise heps e d ds initaubbecan s t sffees an cevibatranolsevedegs thetiobuse he rst an t bechan lixy ld\n"
     ]
    },
    {
     "name": "stderr",
     "output_type": "stream",
     "text": [
      "  1%|          | 5005/800001 [01:58<6:03:19, 36.47it/s]"
     ]
    },
    {
     "name": "stdout",
     "output_type": "stream",
     "text": [
      "Average loss:  2.38151562262\n",
      "Learning rate:  2.5\n",
      "e tserorons is pom sithal trtheexisy sias o onecotine g winuse palitinut zeronn arcrese n alarndstal \n"
     ]
    },
    {
     "name": "stderr",
     "output_type": "stream",
     "text": [
      "  1%|          | 6004/800001 [02:22<6:04:07, 36.34it/s]"
     ]
    },
    {
     "name": "stdout",
     "output_type": "stream",
     "text": [
      "Average loss:  2.38271616173\n",
      "Learning rate:  2.5\n",
      "ces igeucthorontrelinththe ammatha indegiv tite masterd weaso oresolian yrenthiorevitheol he llastial\n"
     ]
    },
    {
     "name": "stderr",
     "output_type": "stream",
     "text": [
      "  1%|          | 7003/800001 [02:46<6:35:36, 33.41it/s]"
     ]
    },
    {
     "name": "stdout",
     "output_type": "stream",
     "text": [
      "Average loss:  2.37989681268\n",
      "Learning rate:  2.5\n",
      "k m ppaingalharns auio nthergnedyexten mptwarononeche be angrot be mesube m prangyesed the arewan fol\n"
     ]
    },
    {
     "name": "stderr",
     "output_type": "stream",
     "text": [
      "  1%|          | 8005/800001 [03:09<6:00:22, 36.63it/s]"
     ]
    },
    {
     "name": "stdout",
     "output_type": "stream",
     "text": [
      "Average loss:  2.38278262591\n",
      "Learning rate:  2.5\n",
      "qubisiveronve shess an g twie bincouree arm ed io at jans ast athaved phafragetrelm findo ca meanerin\n"
     ]
    },
    {
     "name": "stderr",
     "output_type": "stream",
     "text": [
      "  1%|          | 9003/800001 [03:33<6:04:44, 36.14it/s]"
     ]
    },
    {
     "name": "stdout",
     "output_type": "stream",
     "text": [
      "Average loss:  2.38035646224\n",
      "Learning rate:  2.5\n",
      "ketouremblo titr bsal t gh r ireederenttiogalinytheroecocude jupan mplere s whag cithid fercersernedi\n"
     ]
    },
    {
     "name": "stderr",
     "output_type": "stream",
     "text": [
      "  1%|▏         | 10006/800001 [03:56<5:43:20, 38.35it/s]"
     ]
    },
    {
     "name": "stdout",
     "output_type": "stream",
     "text": [
      "Average loss:  2.3794918139\n",
      "Learning rate:  2.5\n",
      "mend wor isaine wo hofoofrn choke apar won clutenrus ofrenentolofrmurstofouprotw iom ped orconcl e pp\n"
     ]
    },
    {
     "name": "stderr",
     "output_type": "stream",
     "text": [
      "  1%|▏         | 11003/800001 [04:20<5:53:14, 37.23it/s]"
     ]
    },
    {
     "name": "stdout",
     "output_type": "stream",
     "text": [
      "Average loss:  2.37422537088\n",
      "Learning rate:  2.5\n",
      "be lolthin inicabusa aberancatedinmeskaretind ua ctare wi bing se crm thicre pte aredevent owhy is ma\n"
     ]
    },
    {
     "name": "stderr",
     "output_type": "stream",
     "text": [
      "  2%|▏         | 12003/800001 [04:43<6:01:56, 36.29it/s]"
     ]
    },
    {
     "name": "stdout",
     "output_type": "stream",
     "text": [
      "Average loss:  2.37684838986\n",
      "Learning rate:  2.5\n",
      "te corinerthint os aved e allel din cis fion s userlineratas ticama pres beitherason toficermeveborot\n"
     ]
    },
    {
     "name": "stderr",
     "output_type": "stream",
     "text": [
      "  2%|▏         | 13002/800001 [05:06<6:10:34, 35.40it/s]"
     ]
    },
    {
     "name": "stdout",
     "output_type": "stream",
     "text": [
      "Average loss:  2.37994323778\n",
      "Learning rate:  2.5\n",
      "re te this amesostignoung ler e ava wheas cinospawer prion thes mas ng whathe ang uge ng teshe athe t\n"
     ]
    },
    {
     "name": "stderr",
     "output_type": "stream",
     "text": [
      "  2%|▏         | 14007/800001 [05:30<5:39:41, 38.56it/s]"
     ]
    },
    {
     "name": "stdout",
     "output_type": "stream",
     "text": [
      "Average loss:  2.379267699\n",
      "Learning rate:  2.5\n",
      "g int tince ceanger o oat s thexmiantsin drmalloctise duans raridenghes w wo nes ive z d tuppedrina s\n"
     ]
    },
    {
     "name": "stderr",
     "output_type": "stream",
     "text": [
      "  2%|▏         | 15004/800001 [05:53<5:51:26, 37.23it/s]"
     ]
    },
    {
     "name": "stdout",
     "output_type": "stream",
     "text": [
      "Average loss:  2.34398497438\n",
      "Learning rate:  2.5\n",
      "ua by th low the th veg ne pthitidanctee ne vereat intat onoteldinto iin is ef ane courn th bof semon\n"
     ]
    },
    {
     "name": "stderr",
     "output_type": "stream",
     "text": [
      "  2%|▏         | 16003/800001 [06:17<5:45:47, 37.79it/s]"
     ]
    },
    {
     "name": "stdout",
     "output_type": "stream",
     "text": [
      "Average loss:  2.30192568946\n",
      "Learning rate:  2.5\n",
      "oftip egrole talay ncalin be aman tots uecrouse frrouvegishe danallooptillinghear no santedoind thy a\n"
     ]
    },
    {
     "name": "stderr",
     "output_type": "stream",
     "text": [
      "  2%|▏         | 17007/800001 [06:40<5:33:25, 39.14it/s]"
     ]
    },
    {
     "name": "stdout",
     "output_type": "stream",
     "text": [
      "Average loss:  2.28905892563\n",
      "Learning rate:  2.5\n",
      "whe ghieict deprpus sheve rfrr wos istostis stalsacune tsto zeroot foro ing ing st of on alyee cuane \n"
     ]
    },
    {
     "name": "stderr",
     "output_type": "stream",
     "text": [
      "  2%|▏         | 18002/800001 [07:03<5:51:21, 37.09it/s]"
     ]
    },
    {
     "name": "stdout",
     "output_type": "stream",
     "text": [
      "Average loss:  2.26221069551\n",
      "Learning rate:  2.5\n",
      "game laf sove seva slbed larman the aish chi n nin dad iste igjom pume nin tiecate ffred in surs chap\n"
     ]
    },
    {
     "name": "stderr",
     "output_type": "stream",
     "text": [
      "  2%|▏         | 19007/800001 [07:27<5:41:05, 38.16it/s]"
     ]
    },
    {
     "name": "stdout",
     "output_type": "stream",
     "text": [
      "Average loss:  2.22327041864\n",
      "Learning rate:  2.5\n",
      "inesy alancalinery amprseroplay expriconce tithesas amerconile whors ulellinel f ox rsslialar d t eam\n"
     ]
    },
    {
     "name": "stderr",
     "output_type": "stream",
     "text": [
      "  3%|▎         | 20006/800001 [07:50<5:39:42, 38.27it/s]"
     ]
    },
    {
     "name": "stdout",
     "output_type": "stream",
     "text": [
      "Average loss:  2.21751837063\n",
      "Learning rate:  2.5\n",
      "be thearnatin zero ncesus whazet o munaseis of ceted ans enge the frou stw ais whabe the iq o eypan l\n"
     ]
    },
    {
     "name": "stderr",
     "output_type": "stream",
     "text": [
      "  3%|▎         | 21005/800001 [08:14<5:49:51, 37.11it/s]"
     ]
    },
    {
     "name": "stdout",
     "output_type": "stream",
     "text": [
      "Average loss:  2.20683289886\n",
      "Learning rate:  2.5\n",
      "cle fins ewativey justthe hat ap in warysit thoref bo fiot oo teblis aloptersered prubsco fore the se\n"
     ]
    },
    {
     "name": "stderr",
     "output_type": "stream",
     "text": [
      "  3%|▎         | 22005/800001 [08:37<6:05:29, 35.48it/s]"
     ]
    },
    {
     "name": "stdout",
     "output_type": "stream",
     "text": [
      "Average loss:  2.20245577908\n",
      "Learning rate:  2.5\n",
      "es on cannry twe rutugs edesinc evitid in one murcet span resinoned aidad on mughed eotr erag ir of t\n"
     ]
    },
    {
     "name": "stderr",
     "output_type": "stream",
     "text": [
      "  3%|▎         | 23004/800001 [09:01<5:44:37, 37.58it/s]"
     ]
    },
    {
     "name": "stdout",
     "output_type": "stream",
     "text": [
      "Average loss:  2.18646632624\n",
      "Learning rate:  2.5\n",
      "rpowtwed the led ood pofleninimindes at tuastas toraid if the and dihner rengite zevo calid hinze nie\n"
     ]
    },
    {
     "name": "stderr",
     "output_type": "stream",
     "text": [
      "  3%|▎         | 24003/800001 [09:24<5:51:55, 36.75it/s]"
     ]
    },
    {
     "name": "stdout",
     "output_type": "stream",
     "text": [
      "Average loss:  2.18065666723\n",
      "Learning rate:  2.5\n",
      "he stars pooftrenens one rroumong troqumarlallere s mast wr of ce somby of thesenfrrgen che th and co\n"
     ]
    },
    {
     "name": "stderr",
     "output_type": "stream",
     "text": [
      "  3%|▎         | 25005/800001 [09:48<5:47:58, 37.12it/s]"
     ]
    },
    {
     "name": "stdout",
     "output_type": "stream",
     "text": [
      "Average loss:  2.17893266737\n",
      "Learning rate:  2.5\n",
      "hteit ol whrte massoce for ate bungas paig tontith roos he cote gems anthy be sintidantirew tond buca\n"
     ]
    },
    {
     "name": "stderr",
     "output_type": "stream",
     "text": [
      "  3%|▎         | 26005/800001 [10:11<5:57:24, 36.09it/s]"
     ]
    },
    {
     "name": "stdout",
     "output_type": "stream",
     "text": [
      "Average loss:  2.1697933948\n",
      "Learning rate:  2.5\n",
      "porledy io longet woul the skince in e ce sianivordens by bentsithe fiazerition ensee ssaitldely afru\n"
     ]
    },
    {
     "name": "stderr",
     "output_type": "stream",
     "text": [
      "  3%|▎         | 27005/800001 [10:34<5:49:23, 36.87it/s]"
     ]
    },
    {
     "name": "stdout",
     "output_type": "stream",
     "text": [
      "Average loss:  2.14867851424\n",
      "Learning rate:  2.5\n",
      "jovin tabyss gin tedex aire to tor engntves demat whra merenas gis tor seceng vess s augrimalin past \n"
     ]
    },
    {
     "name": "stderr",
     "output_type": "stream",
     "text": [
      "  4%|▎         | 28005/800001 [10:58<5:43:09, 37.50it/s]"
     ]
    },
    {
     "name": "stdout",
     "output_type": "stream",
     "text": [
      "Average loss:  2.13982119513\n",
      "Learning rate:  2.5\n",
      "y tharled paye peemef estornaril cha sseccraly swe reman e arporism boud the poputw rige ona rage s m\n"
     ]
    },
    {
     "name": "stderr",
     "output_type": "stream",
     "text": [
      "  4%|▎         | 29005/800001 [11:21<5:44:35, 37.29it/s]"
     ]
    },
    {
     "name": "stdout",
     "output_type": "stream",
     "text": [
      "Average loss:  2.14393570101\n",
      "Learning rate:  2.5\n",
      "ksteverithe ine af in theten tief on for ark exppoing and d bedis exisica if adis one fime in of rwhe\n"
     ]
    },
    {
     "name": "stderr",
     "output_type": "stream",
     "text": [
      "  4%|▍         | 30004/800001 [11:44<5:47:29, 36.93it/s]"
     ]
    },
    {
     "name": "stdout",
     "output_type": "stream",
     "text": [
      "Average loss:  2.12071939516\n",
      "Learning rate:  2.5\n",
      "ckase ghis chion ou maighith hingerce stieh with alaldr kfuprs ald braprdeby incose wore lrgho fon st\n"
     ]
    },
    {
     "name": "stderr",
     "output_type": "stream",
     "text": [
      "  4%|▍         | 31004/800001 [12:08<5:40:42, 37.62it/s]"
     ]
    },
    {
     "name": "stdout",
     "output_type": "stream",
     "text": [
      "Average loss:  2.10816182029\n",
      "Learning rate:  2.5\n",
      "noro and monetwoagidirg betullscan of chewe leted mpuad two oity tire parbut nentex as is distors om \n"
     ]
    },
    {
     "name": "stderr",
     "output_type": "stream",
     "text": [
      "  4%|▍         | 32004/800001 [12:31<5:39:32, 37.70it/s]"
     ]
    },
    {
     "name": "stdout",
     "output_type": "stream",
     "text": [
      "Average loss:  2.09746780789\n",
      "Learning rate:  2.5\n",
      "ttwithyad ury engereana bestquevan ir cenimingerate latsitini eaghoone rith onf elavatuly anel thr ev\n"
     ]
    },
    {
     "name": "stderr",
     "output_type": "stream",
     "text": [
      "  4%|▍         | 33003/800001 [12:54<5:44:12, 37.14it/s]"
     ]
    },
    {
     "name": "stdout",
     "output_type": "stream",
     "text": [
      "Average loss:  2.08598959088\n",
      "Learning rate:  2.5\n",
      "djathes uss estit ourest one fich aige shourted tiee zero fiching engarivifiat and on yom tack ofommo\n"
     ]
    },
    {
     "name": "stderr",
     "output_type": "stream",
     "text": [
      "  4%|▍         | 34003/800001 [13:18<5:46:26, 36.85it/s]"
     ]
    },
    {
     "name": "stdout",
     "output_type": "stream",
     "text": [
      "Average loss:  2.06509147751\n",
      "Learning rate:  2.5\n",
      " who forr it woslacrquamo jedude bay three zaro nine nine file mand anc alditio stir in of subes two \n"
     ]
    },
    {
     "name": "stderr",
     "output_type": "stream",
     "text": [
      "  4%|▍         | 35002/800001 [13:41<5:53:48, 36.04it/s]"
     ]
    },
    {
     "name": "stdout",
     "output_type": "stream",
     "text": [
      "Average loss:  2.06801354694\n",
      "Learning rate:  2.5\n",
      "veand tars al of there persme the grom therear dolid deamer in cherectslo forma malipert the charnone\n"
     ]
    },
    {
     "name": "stderr",
     "output_type": "stream",
     "text": [
      "  5%|▍         | 36005/800001 [14:05<5:42:57, 37.13it/s]"
     ]
    },
    {
     "name": "stdout",
     "output_type": "stream",
     "text": [
      "Average loss:  2.07579618621\n",
      "Learning rate:  2.5\n",
      "aran dimbed om thh tion ny terr be five by it t omurcy inttrun to and was tien at terrsesh pppoul ery\n"
     ]
    },
    {
     "name": "stderr",
     "output_type": "stream",
     "text": [
      "  5%|▍         | 37004/800001 [14:28<5:43:05, 37.06it/s]"
     ]
    },
    {
     "name": "stdout",
     "output_type": "stream",
     "text": [
      "Average loss:  2.06214432669\n",
      "Learning rate:  2.5\n",
      "juce ciondinalery hasine gnodsoder of the sther inlin ptongid or cirlial camstien e g why wanay gho t\n"
     ]
    },
    {
     "name": "stderr",
     "output_type": "stream",
     "text": [
      "  5%|▍         | 38003/800001 [14:51<5:37:34, 37.62it/s]"
     ]
    },
    {
     "name": "stdout",
     "output_type": "stream",
     "text": [
      "Average loss:  2.05550145113\n",
      "Learning rate:  2.5\n",
      "xxith ofemserittoon cinutherading lyicultis seus and uluderenslewathtrisud douther ane dons discenist\n"
     ]
    },
    {
     "name": "stderr",
     "output_type": "stream",
     "text": [
      "  5%|▍         | 39003/800001 [15:15<5:40:45, 37.22it/s]"
     ]
    },
    {
     "name": "stdout",
     "output_type": "stream",
     "text": [
      "Average loss:  2.05049575794\n",
      "Learning rate:  2.5\n",
      "ree susptiova tho ge zerrve tha grue gatet arch buignen the ntwe vere lontomed fou hithigg the s taul\n"
     ]
    },
    {
     "name": "stderr",
     "output_type": "stream",
     "text": [
      "  5%|▌         | 40003/800001 [15:38<5:39:29, 37.31it/s]"
     ]
    },
    {
     "name": "stdout",
     "output_type": "stream",
     "text": [
      "Average loss:  2.03856606925\n",
      "Learning rate:  2.5\n",
      "oftre and soucture are mare czered ghouber thimel gha d of knee t x hodas f parco viter nscing squsth\n"
     ]
    },
    {
     "name": "stderr",
     "output_type": "stream",
     "text": [
      "  5%|▌         | 41007/800001 [16:01<5:26:07, 38.79it/s]"
     ]
    },
    {
     "name": "stdout",
     "output_type": "stream",
     "text": [
      "Average loss:  2.03754060698\n",
      "Learning rate:  2.5\n",
      "facus coliollertaritak borover pes thespprs soy arditiogasiss infired th the fiomber as ftom heultias\n"
     ]
    },
    {
     "name": "stderr",
     "output_type": "stream",
     "text": [
      "  5%|▌         | 42006/800001 [16:25<5:26:53, 38.65it/s]"
     ]
    },
    {
     "name": "stdout",
     "output_type": "stream",
     "text": [
      "Average loss:  2.05426295912\n",
      "Learning rate:  2.5\n",
      "uch ocel masort oocindery ouglantenghastwong bamicat ploferend bind firmby arsero sthaso bory whoth o\n"
     ]
    },
    {
     "name": "stderr",
     "output_type": "stream",
     "text": [
      "  5%|▌         | 43005/800001 [16:48<5:39:59, 37.11it/s]"
     ]
    },
    {
     "name": "stdout",
     "output_type": "stream",
     "text": [
      "Average loss:  2.03549197352\n",
      "Learning rate:  2.5\n",
      "vagsturd inconegono torratod perveese rockibinal provativaly cond ana uthe kense wero tarwicoly anees\n"
     ]
    },
    {
     "name": "stderr",
     "output_type": "stream",
     "text": [
      "  6%|▌         | 44004/800001 [17:12<5:41:23, 36.91it/s]"
     ]
    },
    {
     "name": "stdout",
     "output_type": "stream",
     "text": [
      "Average loss:  2.03582400417\n",
      "Learning rate:  2.5\n",
      "he chicaminglouis ftars autheves that fer the carndura incacugeted tien celvectond ta gos and theans \n"
     ]
    },
    {
     "name": "stderr",
     "output_type": "stream",
     "text": [
      "  6%|▌         | 45004/800001 [17:35<5:35:36, 37.49it/s]"
     ]
    },
    {
     "name": "stdout",
     "output_type": "stream",
     "text": [
      "Average loss:  2.0339024719\n",
      "Learning rate:  2.5\n",
      "acripcas chaly hallas of the wnigem in stit of the tire zero ole bo lerseskarme camind tha the buxt i\n"
     ]
    },
    {
     "name": "stderr",
     "output_type": "stream",
     "text": [
      "  6%|▌         | 46003/800001 [17:58<5:52:48, 35.62it/s]"
     ]
    },
    {
     "name": "stdout",
     "output_type": "stream",
     "text": [
      "Average loss:  2.02365977919\n",
      "Learning rate:  2.5\n",
      "ysern rscoongiog anest of uinirn hith one sevencerimars a puiver buginanaf leivion rithryeshlin coult\n"
     ]
    },
    {
     "name": "stderr",
     "output_type": "stream",
     "text": [
      "  6%|▌         | 47003/800001 [18:21<5:35:10, 37.44it/s]"
     ]
    },
    {
     "name": "stdout",
     "output_type": "stream",
     "text": [
      "Average loss:  2.0161112361\n",
      "Learning rate:  2.5\n",
      "joup rapte neme besus tha ffouncealudoas langus eishit indelsuee orp y ootina stesis ir amsaris if th\n"
     ]
    },
    {
     "name": "stderr",
     "output_type": "stream",
     "text": [
      "  6%|▌         | 48002/800001 [18:45<5:37:56, 37.09it/s]"
     ]
    },
    {
     "name": "stdout",
     "output_type": "stream",
     "text": [
      "Average loss:  2.01639320803\n",
      "Learning rate:  2.5\n",
      "dicanounertem tha engreber millopith das bul audeddrine allichice theen tho fiof os onesen emack toma\n"
     ]
    },
    {
     "name": "stderr",
     "output_type": "stream",
     "text": [
      "  6%|▌         | 49002/800001 [19:08<5:36:08, 37.24it/s]"
     ]
    },
    {
     "name": "stdout",
     "output_type": "stream",
     "text": [
      "Average loss:  2.04098545384\n",
      "Learning rate:  2.5\n",
      "shall vesth out poles lesthrsivin evarre tham sexess jusis ver hard in on aching in tha kere the ffur\n"
     ]
    },
    {
     "name": "stderr",
     "output_type": "stream",
     "text": [
      "  6%|▋         | 50006/800001 [19:32<5:28:12, 38.09it/s]"
     ]
    },
    {
     "name": "stdout",
     "output_type": "stream",
     "text": [
      "Average loss:  2.01896938825\n",
      "Learning rate:  2.5\n",
      "upheronong phas oched ins ba preldiony gave the uncr in ta s ore frreen one nund three unthed topunc \n"
     ]
    },
    {
     "name": "stderr",
     "output_type": "stream",
     "text": [
      "  6%|▋         | 51006/800001 [19:55<5:21:42, 38.80it/s]"
     ]
    },
    {
     "name": "stdout",
     "output_type": "stream",
     "text": [
      "Average loss:  2.02898778164\n",
      "Learning rate:  2.5\n",
      "quim coertisman ia the tine diotem one ic sexti y os il zero nite nerung hof weshers longefimparils f\n"
     ]
    },
    {
     "name": "stderr",
     "output_type": "stream",
     "text": [
      "  7%|▋         | 52006/800001 [20:18<5:28:59, 37.89it/s]"
     ]
    },
    {
     "name": "stdout",
     "output_type": "stream",
     "text": [
      "Average loss:  2.02740263271\n",
      "Learning rate:  2.5\n",
      " casp the radbure fuadud allind w oree fous enezeanen extonde fom ancoustis jugedwad for erapel wed f\n"
     ]
    },
    {
     "name": "stderr",
     "output_type": "stream",
     "text": [
      "  7%|▋         | 53004/800001 [20:42<5:35:24, 37.12it/s]"
     ]
    },
    {
     "name": "stdout",
     "output_type": "stream",
     "text": [
      "Average loss:  2.01800486314\n",
      "Learning rate:  2.5\n",
      "deey ewrd relofry incitrdist af laged tht ethr mprew in uss in ore the bysut oleninging pratirm sourd\n"
     ]
    },
    {
     "name": "stderr",
     "output_type": "stream",
     "text": [
      "  7%|▋         | 54004/800001 [21:06<5:49:05, 35.62it/s]"
     ]
    },
    {
     "name": "stdout",
     "output_type": "stream",
     "text": [
      "Average loss:  2.03807626045\n",
      "Learning rate:  2.5\n",
      "ungring alby romiva on bbongrouss of eved afring proses thow abe komemind for of ere chefriags ong wa\n"
     ]
    },
    {
     "name": "stderr",
     "output_type": "stream",
     "text": [
      "  7%|▋         | 55004/800001 [21:29<5:35:34, 37.00it/s]"
     ]
    },
    {
     "name": "stdout",
     "output_type": "stream",
     "text": [
      "Average loss:  2.03704140329\n",
      "Learning rate:  2.5\n",
      "tlick o for naned ceende briming os ffor sel ghe gouren mony fom the boferden the a the inle alvicali\n"
     ]
    },
    {
     "name": "stderr",
     "output_type": "stream",
     "text": [
      "  7%|▋         | 56004/800001 [21:52<5:30:08, 37.56it/s]"
     ]
    },
    {
     "name": "stdout",
     "output_type": "stream",
     "text": [
      "Average loss:  2.00664469147\n",
      "Learning rate:  2.5\n",
      "fragee paya wo titw thee sorescale nater fird and ks llof compeenstigg in racanall jume on the atite \n"
     ]
    },
    {
     "name": "stderr",
     "output_type": "stream",
     "text": [
      "  7%|▋         | 57003/800001 [22:16<5:37:45, 36.66it/s]"
     ]
    },
    {
     "name": "stdout",
     "output_type": "stream",
     "text": [
      "Average loss:  2.01721655607\n",
      "Learning rate:  2.5\n",
      "s hereat in if t th in linondrione astsoly it nunbrcing ordanis wid te the nat ox topeining gedemenc \n"
     ]
    },
    {
     "name": "stderr",
     "output_type": "stream",
     "text": [
      "  7%|▋         | 58003/800001 [22:39<5:27:23, 37.77it/s]"
     ]
    },
    {
     "name": "stdout",
     "output_type": "stream",
     "text": [
      "Average loss:  2.00798785818\n",
      "Learning rate:  2.5\n",
      "faid cora soves of to frest ase of thrisas ume wigh it khips graves sarawirgameny ditiuge rifo the os\n"
     ]
    },
    {
     "name": "stderr",
     "output_type": "stream",
     "text": [
      "  7%|▋         | 59007/800001 [23:03<5:15:46, 39.11it/s]"
     ]
    },
    {
     "name": "stdout",
     "output_type": "stream",
     "text": [
      "Average loss:  2.00154179037\n",
      "Learning rate:  2.5\n",
      "quwes o flatracis to trencoss ared wored guimpenot istailic instite fom karnefliet wed al of to the d\n"
     ]
    },
    {
     "name": "stderr",
     "output_type": "stream",
     "text": [
      "  8%|▊         | 60002/800001 [23:26<5:38:26, 36.44it/s]"
     ]
    },
    {
     "name": "stdout",
     "output_type": "stream",
     "text": [
      "Average loss:  2.00820554662\n",
      "Learning rate:  2.5\n",
      "quitwoin bbirand zero tures zero tover acco igs gater there angrnoan and one ninn ssorn reldel gha di\n"
     ]
    },
    {
     "name": "stderr",
     "output_type": "stream",
     "text": [
      "  8%|▊         | 61006/800001 [23:49<5:21:52, 38.27it/s]"
     ]
    },
    {
     "name": "stdout",
     "output_type": "stream",
     "text": [
      "Average loss:  1.99836453605\n",
      "Learning rate:  2.5\n",
      "qupees breuc dualsy the as hesode go rum m s inbremuntis hest y wigheew one nendion bue the waldite n\n"
     ]
    },
    {
     "name": "stderr",
     "output_type": "stream",
     "text": [
      "  8%|▊         | 62006/800001 [24:13<5:27:53, 37.51it/s]"
     ]
    },
    {
     "name": "stdout",
     "output_type": "stream",
     "text": [
      "Average loss:  1.99238505018\n",
      "Learning rate:  2.5\n",
      "lo hnom tha d werke southa in labsin save sstirmans shis the to merved the efiettare ccorment amelgyi\n"
     ]
    },
    {
     "name": "stderr",
     "output_type": "stream",
     "text": [
      "  8%|▊         | 63006/800001 [24:36<5:19:47, 38.41it/s]"
     ]
    },
    {
     "name": "stdout",
     "output_type": "stream",
     "text": [
      "Average loss:  2.01756916368\n",
      "Learning rate:  2.5\n",
      "hat tibrine khrpgyerod for wat cods ar aldeingitios cat oretwon fols ablieddurisant ol and in comppee\n"
     ]
    },
    {
     "name": "stderr",
     "output_type": "stream",
     "text": [
      "  8%|▊         | 64003/800001 [24:59<5:37:36, 36.33it/s]"
     ]
    },
    {
     "name": "stdout",
     "output_type": "stream",
     "text": [
      "Average loss:  1.98502955985\n",
      "Learning rate:  2.5\n",
      "ofiedd if wnecos in nanealicit nf r jebiclodid betoradit pibnusict on of tined and the be ttevid intt\n"
     ]
    },
    {
     "name": "stderr",
     "output_type": "stream",
     "text": [
      "  8%|▊         | 65007/800001 [25:23<5:14:16, 38.98it/s]"
     ]
    },
    {
     "name": "stdout",
     "output_type": "stream",
     "text": [
      "Average loss:  1.99051965773\n",
      "Learning rate:  2.5\n",
      " weile ouse tho kally ty threg the most and the vatso fians proofar thes freq his prowicodiggnek uppr\n"
     ]
    },
    {
     "name": "stderr",
     "output_type": "stream",
     "text": [
      "  8%|▊         | 66002/800001 [25:46<5:29:17, 37.15it/s]"
     ]
    },
    {
     "name": "stdout",
     "output_type": "stream",
     "text": [
      "Average loss:  1.99892940915\n",
      "Learning rate:  2.5\n",
      "jiond s linden s issarerashteening buian bepete b iterk fovl to the iof conseve asthis d lathnd and h\n"
     ]
    },
    {
     "name": "stderr",
     "output_type": "stream",
     "text": [
      "  8%|▊         | 67002/800001 [26:09<5:32:14, 36.77it/s]"
     ]
    },
    {
     "name": "stdout",
     "output_type": "stream",
     "text": [
      "Average loss:  1.99582895684\n",
      "Learning rate:  2.5\n",
      "el has ponerepeing soul bomeonsto tref ctarsepro rishil ox ol herie longe sy cites af chion recomscom\n"
     ]
    },
    {
     "name": "stderr",
     "output_type": "stream",
     "text": [
      "  9%|▊         | 68006/800001 [26:33<5:36:01, 36.31it/s]"
     ]
    },
    {
     "name": "stdout",
     "output_type": "stream",
     "text": [
      "Average loss:  1.99968068516\n",
      "Learning rate:  2.5\n",
      "con has y engorimes ail tredes bealm erewal dis the rryed blage aclly wat and wares and to indinnsst \n"
     ]
    },
    {
     "name": "stderr",
     "output_type": "stream",
     "text": [
      "  9%|▊         | 69006/800001 [26:56<5:15:36, 38.60it/s]"
     ]
    },
    {
     "name": "stdout",
     "output_type": "stream",
     "text": [
      "Average loss:  1.98308879495\n",
      "Learning rate:  2.5\n",
      "angin woll pprnca urratiail owe maticiluturad eyperstencistworgp s chernca engenfove cempraantrred ro\n"
     ]
    },
    {
     "name": "stderr",
     "output_type": "stream",
     "text": [
      "  9%|▉         | 70006/800001 [27:20<5:19:15, 38.11it/s]"
     ]
    },
    {
     "name": "stdout",
     "output_type": "stream",
     "text": [
      "Average loss:  1.98830498219\n",
      "Learning rate:  2.5\n",
      "jed this ancimenne sic semptles elycare ffrue four one five zaroul britstoly andean low ssmitacire pt\n"
     ]
    },
    {
     "name": "stderr",
     "output_type": "stream",
     "text": [
      "  9%|▉         | 71006/800001 [27:43<5:20:15, 37.94it/s]"
     ]
    },
    {
     "name": "stdout",
     "output_type": "stream",
     "text": [
      "Average loss:  1.97750421\n",
      "Learning rate:  2.5\n",
      "heda pundor quineti momentak on sac if ciry reboritrfeves eff las gostrethed riftries levaty ic one e\n"
     ]
    },
    {
     "name": "stderr",
     "output_type": "stream",
     "text": [
      "  9%|▉         | 72005/800001 [28:07<5:36:41, 36.04it/s]"
     ]
    },
    {
     "name": "stdout",
     "output_type": "stream",
     "text": [
      "Average loss:  1.97863527894\n",
      "Learning rate:  2.5\n",
      "fos lotion bith pigeea lickond nom ly tsecisgameso meyction oflyes and bu dapory shith one ore tack w\n"
     ]
    },
    {
     "name": "stderr",
     "output_type": "stream",
     "text": [
      "  9%|▉         | 73006/800001 [28:31<5:17:09, 38.20it/s]"
     ]
    },
    {
     "name": "stdout",
     "output_type": "stream",
     "text": [
      "Average loss:  1.9841136601\n",
      "Learning rate:  2.5\n",
      "oning mable ponnoo stofl asptortilust apyoor os lard brthrakerb ginm meland conede ts incemea zero vi\n"
     ]
    },
    {
     "name": "stderr",
     "output_type": "stream",
     "text": [
      "  9%|▉         | 74004/800001 [28:54<5:29:20, 36.74it/s]"
     ]
    },
    {
     "name": "stdout",
     "output_type": "stream",
     "text": [
      "Average loss:  1.98973106766\n",
      "Learning rate:  2.5\n",
      "s ustof whomble ncime sorebal proverity padalis aconded the orecerpre ibleay rdleano ss by wasblic mb\n"
     ]
    },
    {
     "name": "stderr",
     "output_type": "stream",
     "text": [
      "  9%|▉         | 75004/800001 [29:18<5:27:27, 36.90it/s]"
     ]
    },
    {
     "name": "stdout",
     "output_type": "stream",
     "text": [
      "Average loss:  1.98602372324\n",
      "Learning rate:  2.5\n",
      "ome iof m hiof oredurt luneallaneed sebmengele gornean hanm ingredon explfisi nondenstaon tieny by ly\n"
     ]
    },
    {
     "name": "stderr",
     "output_type": "stream",
     "text": [
      " 10%|▉         | 76003/800001 [29:41<5:40:28, 35.44it/s]"
     ]
    },
    {
     "name": "stdout",
     "output_type": "stream",
     "text": [
      "Average loss:  1.98709120536\n",
      "Learning rate:  2.5\n",
      "de ntter s benhen a moftre ofege arcaues ou kros finch ewer tho ha theyp manumats wot daneion urung l\n"
     ]
    },
    {
     "name": "stderr",
     "output_type": "stream",
     "text": [
      " 10%|▉         | 77004/800001 [30:05<5:30:43, 36.43it/s]"
     ]
    },
    {
     "name": "stdout",
     "output_type": "stream",
     "text": [
      "Average loss:  1.9758997246\n",
      "Learning rate:  2.5\n",
      "y icindid fiuntury acke s michondeas ptofires thio bind of greo f ritit fol evont ifiin wosk cinc tha\n"
     ]
    },
    {
     "name": "stderr",
     "output_type": "stream",
     "text": [
      " 10%|▉         | 78004/800001 [30:28<5:17:47, 37.86it/s]"
     ]
    },
    {
     "name": "stdout",
     "output_type": "stream",
     "text": [
      "Average loss:  1.95357197261\n",
      "Learning rate:  2.5\n",
      "y hizemionotwo nend manthencalyat one zero oiek tianbieisstharnise oreds or balvetro uninecupeisthimm\n"
     ]
    },
    {
     "name": "stderr",
     "output_type": "stream",
     "text": [
      " 10%|▉         | 79004/800001 [30:51<5:23:34, 37.14it/s]"
     ]
    },
    {
     "name": "stdout",
     "output_type": "stream",
     "text": [
      "Average loss:  1.95081059778\n",
      "Learning rate:  2.5\n",
      "t one fich hepon comctitee takely sema f meosud dus in to this co moon leaggam esigniat andacs ang an\n"
     ]
    },
    {
     "name": "stderr",
     "output_type": "stream",
     "text": [
      " 10%|█         | 80004/800001 [31:14<5:20:09, 37.48it/s]"
     ]
    },
    {
     "name": "stdout",
     "output_type": "stream",
     "text": [
      "Average loss:  1.95844159234\n",
      "Learning rate:  1.875\n",
      "malambit e geim dist ose itr for fovorth ronct of winds th spxad arrixal to ara theory im torish oupp\n"
     ]
    },
    {
     "name": "stderr",
     "output_type": "stream",
     "text": [
      " 10%|█         | 81006/800001 [31:39<5:21:56, 37.22it/s]"
     ]
    },
    {
     "name": "stdout",
     "output_type": "stream",
     "text": [
      "Average loss:  1.94797442853\n",
      "Learning rate:  1.875\n",
      "nd wolk ome chorieit moze quinit of in unegne the kalis dait ovenilar ergober h bewhal chinct pertor \n"
     ]
    },
    {
     "name": "stderr",
     "output_type": "stream",
     "text": [
      " 10%|█         | 82006/800001 [32:03<5:11:23, 38.43it/s]"
     ]
    },
    {
     "name": "stdout",
     "output_type": "stream",
     "text": [
      "Average loss:  1.94741817927\n",
      "Learning rate:  1.875\n",
      "n han one od gnu hoaded to sea sice gowack wared communi ysed dediminge compureers y with incane al t\n"
     ]
    },
    {
     "name": "stderr",
     "output_type": "stream",
     "text": [
      " 10%|█         | 83006/800001 [32:27<5:20:16, 37.31it/s]"
     ]
    },
    {
     "name": "stdout",
     "output_type": "stream",
     "text": [
      "Average loss:  1.95294852436\n",
      "Learning rate:  1.875\n",
      "ov lias is some hrevina bode wint tremes af f ion plofion the gla t ahtive the tupr pess connfli diot\n"
     ]
    },
    {
     "name": "stderr",
     "output_type": "stream",
     "text": [
      " 11%|█         | 84005/800001 [32:51<5:26:52, 36.51it/s]"
     ]
    },
    {
     "name": "stdout",
     "output_type": "stream",
     "text": [
      "Average loss:  1.96019148433\n",
      "Learning rate:  1.875\n",
      "s f on iomal ang on tianw terg tarse watresod hohos aldoka dif one symeramev ce p hil monn of rogera \n"
     ]
    },
    {
     "name": "stderr",
     "output_type": "stream",
     "text": [
      " 11%|█         | 85004/800001 [33:15<5:26:40, 36.48it/s]"
     ]
    },
    {
     "name": "stdout",
     "output_type": "stream",
     "text": [
      "Average loss:  1.95359839582\n",
      "Learning rate:  1.875\n",
      "da posupat onty indotidiced whblifiva in instoub and and they ain the cully bongen inesachecton thens\n"
     ]
    },
    {
     "name": "stderr",
     "output_type": "stream",
     "text": [
      " 11%|█         | 86004/800001 [33:39<5:24:45, 36.64it/s]"
     ]
    },
    {
     "name": "stdout",
     "output_type": "stream",
     "text": [
      "Average loss:  1.95942674744\n",
      "Learning rate:  1.875\n",
      "ys sul cinsedrict oo verentrce daggan fot engrieme deio efilithy ale towatha baler abjent rsere tange\n"
     ]
    },
    {
     "name": "stderr",
     "output_type": "stream",
     "text": [
      " 11%|█         | 87004/800001 [34:02<5:27:30, 36.28it/s]"
     ]
    },
    {
     "name": "stdout",
     "output_type": "stream",
     "text": [
      "Average loss:  1.95130275202\n",
      "Learning rate:  1.875\n",
      "heri and fenteo maly itthe leviby able ccimculled ic mimpllist marwas w d ans ofe tupeo phete reseace\n"
     ]
    },
    {
     "name": "stderr",
     "output_type": "stream",
     "text": [
      " 11%|█         | 88003/800001 [34:26<5:25:55, 36.41it/s]"
     ]
    },
    {
     "name": "stdout",
     "output_type": "stream",
     "text": [
      "Average loss:  1.95016807497\n",
      "Learning rate:  1.875\n",
      "res phonofitheis roppry theniot ward chnorg on erenande as os are meynat of atristsla forche poonn bu\n"
     ]
    },
    {
     "name": "stderr",
     "output_type": "stream",
     "text": [
      " 11%|█         | 89004/800001 [34:50<5:25:35, 36.40it/s]"
     ]
    },
    {
     "name": "stdout",
     "output_type": "stream",
     "text": [
      "Average loss:  1.94158584988\n",
      "Learning rate:  1.875\n",
      "y whtlmeds prectertha hr veeco right prey as a ppransing athra wnoffe sine ak relate or an heval bumi\n"
     ]
    },
    {
     "name": "stderr",
     "output_type": "stream",
     "text": [
      " 11%|█▏        | 90002/800001 [35:14<5:21:51, 36.77it/s]"
     ]
    },
    {
     "name": "stdout",
     "output_type": "stream",
     "text": [
      "Average loss:  1.94290849566\n",
      "Learning rate:  1.875\n",
      "xy and one nine swalrechen on ase mis camas in bentantora relases of the erowi and phandury distrspie\n"
     ]
    },
    {
     "name": "stderr",
     "output_type": "stream",
     "text": [
      " 11%|█▏        | 91002/800001 [35:38<5:25:06, 36.35it/s]"
     ]
    },
    {
     "name": "stdout",
     "output_type": "stream",
     "text": [
      "Average loss:  1.94630828917\n",
      "Learning rate:  1.875\n",
      "a ty ant ceaver fford though on the chive smalf phith toas anth engora the fron kentanes ane s rcael \n"
     ]
    },
    {
     "name": "stderr",
     "output_type": "stream",
     "text": [
      " 12%|█▏        | 92002/800001 [36:02<5:20:40, 36.80it/s]"
     ]
    },
    {
     "name": "stdout",
     "output_type": "stream",
     "text": [
      "Average loss:  1.94089064288\n",
      "Learning rate:  1.875\n",
      "cot is the sentes besolmpreest diplacemperl gnonco ffor abesumunathon woty inceving hitt whing whus c\n"
     ]
    },
    {
     "name": "stderr",
     "output_type": "stream",
     "text": [
      " 12%|█▏        | 93002/800001 [36:26<5:21:20, 36.67it/s]"
     ]
    },
    {
     "name": "stdout",
     "output_type": "stream",
     "text": [
      "Average loss:  1.93754967761\n",
      "Learning rate:  1.875\n",
      " praunade th the celligns for erodurina in poofutisltry nated aid thas ha denospa mator laces aftirns\n"
     ]
    },
    {
     "name": "stderr",
     "output_type": "stream",
     "text": [
      " 12%|█▏        | 94006/800001 [36:50<5:24:13, 36.29it/s]"
     ]
    },
    {
     "name": "stdout",
     "output_type": "stream",
     "text": [
      "Average loss:  1.92731597257\n",
      "Learning rate:  1.875\n",
      "bo chenchieg the orin on orele sa batism ceutorilas ar wede deke out the mone the contisally usety lo\n"
     ]
    },
    {
     "name": "stderr",
     "output_type": "stream",
     "text": [
      " 12%|█▏        | 95006/800001 [37:14<5:08:51, 38.04it/s]"
     ]
    },
    {
     "name": "stdout",
     "output_type": "stream",
     "text": [
      "Average loss:  1.92087408316\n",
      "Learning rate:  1.875\n",
      "geraic ane micrestorled bingnilales oh trestndiin erthald an wath id piof tmeed oupa ghe sex chaisthq\n"
     ]
    },
    {
     "name": "stderr",
     "output_type": "stream",
     "text": [
      " 12%|█▏        | 96006/800001 [37:37<5:07:28, 38.16it/s]"
     ]
    },
    {
     "name": "stdout",
     "output_type": "stream",
     "text": [
      "Average loss:  1.94103147054\n",
      "Learning rate:  1.875\n",
      "kreud th ynoro atico ftred and os pofu sef renean ir madalued ong murseppias chelope med an aprefarar\n"
     ]
    },
    {
     "name": "stderr",
     "output_type": "stream",
     "text": [
      " 12%|█▏        | 97006/800001 [38:01<5:16:34, 37.01it/s]"
     ]
    },
    {
     "name": "stdout",
     "output_type": "stream",
     "text": [
      "Average loss:  1.93501433551\n",
      "Learning rate:  1.875\n",
      "veyca quel fise tho les doprizeeribedgan heuretatho ars twithrnofix lehe be nuthe two the dy wonldych\n"
     ]
    },
    {
     "name": "stderr",
     "output_type": "stream",
     "text": [
      " 12%|█▏        | 98006/800001 [38:25<5:04:28, 38.43it/s]"
     ]
    },
    {
     "name": "stdout",
     "output_type": "stream",
     "text": [
      "Average loss:  1.94179188919\n",
      "Learning rate:  1.875\n",
      "ofo botive tuthed tha kante mohes rian the a poinall horm hro frse charne ssuld kicluatide tha bonke \n"
     ]
    },
    {
     "name": "stderr",
     "output_type": "stream",
     "text": [
      " 12%|█▏        | 99005/800001 [38:49<5:25:18, 35.91it/s]"
     ]
    },
    {
     "name": "stdout",
     "output_type": "stream",
     "text": [
      "Average loss:  1.93397710586\n",
      "Learning rate:  1.875\n",
      "rooney rreats asteplacke ta bele camptares in the sudst genevak bicat bops hig regabie beriag the por\n"
     ]
    },
    {
     "name": "stderr",
     "output_type": "stream",
     "text": [
      " 13%|█▎        | 100005/800001 [39:13<5:21:42, 36.26it/s]"
     ]
    },
    {
     "name": "stdout",
     "output_type": "stream",
     "text": [
      "Average loss:  1.93916613233\n",
      "Learning rate:  1.875\n",
      "foe sofobicimasipalin suf on the lees th of atrap edecter tione purver fiothutide not bum higa p sted\n"
     ]
    },
    {
     "name": "stderr",
     "output_type": "stream",
     "text": [
      " 13%|█▎        | 101004/800001 [39:37<5:24:28, 35.90it/s]"
     ]
    },
    {
     "name": "stdout",
     "output_type": "stream",
     "text": [
      "Average loss:  1.92824449265\n",
      "Learning rate:  1.875\n",
      "jer areant plapee stine as on fojr arme ta giongy ssian ited heplay ntwony reygreo fal and om faiguas\n"
     ]
    },
    {
     "name": "stderr",
     "output_type": "stream",
     "text": [
      " 13%|█▎        | 102004/800001 [40:01<5:19:50, 36.37it/s]"
     ]
    },
    {
     "name": "stdout",
     "output_type": "stream",
     "text": [
      "Average loss:  1.93802028167\n",
      "Learning rate:  1.875\n",
      "kstinged t axacolomatsol rises leated tho ghree one zero zero nine terongas the ralsco twe zero zerb \n"
     ]
    },
    {
     "name": "stderr",
     "output_type": "stream",
     "text": [
      " 13%|█▎        | 103003/800001 [40:25<5:26:22, 35.59it/s]"
     ]
    },
    {
     "name": "stdout",
     "output_type": "stream",
     "text": [
      "Average loss:  1.94996843565\n",
      "Learning rate:  1.875\n",
      "ze if illmend fyobiag as unotillded rotlict sullladini enecrigitacla ig atsating thand of twa five la\n"
     ]
    },
    {
     "name": "stderr",
     "output_type": "stream",
     "text": [
      " 13%|█▎        | 104003/800001 [40:48<5:24:48, 35.71it/s]"
     ]
    },
    {
     "name": "stdout",
     "output_type": "stream",
     "text": [
      "Average loss:  1.9403713131\n",
      "Learning rate:  1.875\n",
      "bstlisinl toft gramelim twe eprnonist bisthe iune chmaminu tha jow teephriss lames invilon tice palin\n"
     ]
    },
    {
     "name": "stderr",
     "output_type": "stream",
     "text": [
      " 13%|█▎        | 105003/800001 [41:12<5:33:55, 34.69it/s]"
     ]
    },
    {
     "name": "stdout",
     "output_type": "stream",
     "text": [
      "Average loss:  1.93137480843\n",
      "Learning rate:  1.875\n",
      "rgende siven kbothter sha not midlezed fom hibede ian the vertsphever the nom hivdern urengrone mirin\n"
     ]
    },
    {
     "name": "stderr",
     "output_type": "stream",
     "text": [
      " 13%|█▎        | 106002/800001 [41:36<5:22:30, 35.86it/s]"
     ]
    },
    {
     "name": "stdout",
     "output_type": "stream",
     "text": [
      "Average loss:  1.9311799016\n",
      "Learning rate:  1.875\n",
      "y andsiani gaprain pelickebele pary in cathesy in the mestacluane mislo on ow eablink perside daveds \n"
     ]
    },
    {
     "name": "stderr",
     "output_type": "stream",
     "text": [
      " 13%|█▎        | 107004/800001 [42:00<5:18:49, 36.23it/s]"
     ]
    },
    {
     "name": "stdout",
     "output_type": "stream",
     "text": [
      "Average loss:  1.94522279859\n",
      "Learning rate:  1.875\n",
      "dion tien continys into to ceatlorestot tialloretedigm the cyatard in mahiol s an toles not b oftonem\n"
     ]
    },
    {
     "name": "stderr",
     "output_type": "stream",
     "text": [
      " 14%|█▎        | 108004/800001 [42:24<5:13:15, 36.82it/s]"
     ]
    },
    {
     "name": "stdout",
     "output_type": "stream",
     "text": [
      "Average loss:  1.93662504148\n",
      "Learning rate:  1.875\n",
      "tig te tia se the r guasidis tha beithe seand af oredece deulldensthedy and th esceseat ored ass atht\n"
     ]
    },
    {
     "name": "stderr",
     "output_type": "stream",
     "text": [
      " 14%|█▎        | 109004/800001 [42:48<5:23:03, 35.65it/s]"
     ]
    },
    {
     "name": "stdout",
     "output_type": "stream",
     "text": [
      "Average loss:  1.93212252629\n",
      "Learning rate:  1.875\n",
      "nerngariesy ar as and hess mitere the lystl or gavd dedaclite the s ooflis zego s vigin lshandatlo de\n"
     ]
    },
    {
     "name": "stderr",
     "output_type": "stream",
     "text": [
      " 14%|█▍        | 110002/800001 [43:12<5:19:16, 36.02it/s]"
     ]
    },
    {
     "name": "stdout",
     "output_type": "stream",
     "text": [
      "Average loss:  1.92784205675\n",
      "Learning rate:  1.875\n",
      "non yandictro it porins of nstoryared ols they uroduling ial erfare combulither and coumpryer thotker\n"
     ]
    },
    {
     "name": "stderr",
     "output_type": "stream",
     "text": [
      " 14%|█▍        | 111005/800001 [43:36<5:08:03, 37.28it/s]"
     ]
    },
    {
     "name": "stdout",
     "output_type": "stream",
     "text": [
      "Average loss:  1.93069878554\n",
      "Learning rate:  1.875\n",
      "to ptothadipeed by suedscielvarod do werchera netso the rey tiond desidne hik right starnga no ntwhac\n"
     ]
    },
    {
     "name": "stderr",
     "output_type": "stream",
     "text": [
      " 14%|█▍        | 112005/800001 [44:00<5:08:19, 37.19it/s]"
     ]
    },
    {
     "name": "stdout",
     "output_type": "stream",
     "text": [
      "Average loss:  1.92211864793\n",
      "Learning rate:  1.875\n",
      "velsonse sterea sentwordein what it gealy nuthrd roledut d remurn geargibied it levingoin bordurytsea\n"
     ]
    },
    {
     "name": "stderr",
     "output_type": "stream",
     "text": [
      " 14%|█▍        | 113005/800001 [44:24<5:20:08, 35.76it/s]"
     ]
    },
    {
     "name": "stdout",
     "output_type": "stream",
     "text": [
      "Average loss:  1.92465765679\n",
      "Learning rate:  1.875\n",
      "ntorme to aniistire destrde unter sins as ander sitinable chasein tho gommations bastix twe nentre an\n"
     ]
    },
    {
     "name": "stderr",
     "output_type": "stream",
     "text": [
      " 14%|█▍        | 114004/800001 [44:47<5:19:33, 35.78it/s]"
     ]
    },
    {
     "name": "stdout",
     "output_type": "stream",
     "text": [
      "Average loss:  1.93335161221\n",
      "Learning rate:  1.875\n",
      "lexach poating tice coqueropl tomit spsebis luch ck beram and cimsea canont of the teofo cantstas ham\n"
     ]
    },
    {
     "name": "stderr",
     "output_type": "stream",
     "text": [
      " 14%|█▍        | 115003/800001 [45:11<5:09:14, 36.92it/s]"
     ]
    },
    {
     "name": "stdout",
     "output_type": "stream",
     "text": [
      "Average loss:  1.92757135761\n",
      "Learning rate:  1.875\n",
      "joo sep rolbally in the goom ans a desserise veryledd sste versed or aterrugscuarca time adeoud him s\n"
     ]
    },
    {
     "name": "stderr",
     "output_type": "stream",
     "text": [
      " 15%|█▍        | 116002/800001 [45:35<5:12:03, 36.53it/s]"
     ]
    },
    {
     "name": "stdout",
     "output_type": "stream",
     "text": [
      "Average loss:  1.90736167347\n",
      "Learning rate:  1.875\n",
      "ecolly shain dsure ia aris biostinn as pedrasctod long teersu aues of far ux erow mamolldieg o wouchi\n"
     ]
    },
    {
     "name": "stderr",
     "output_type": "stream",
     "text": [
      " 15%|█▍        | 117002/800001 [45:59<5:30:20, 34.46it/s]"
     ]
    },
    {
     "name": "stdout",
     "output_type": "stream",
     "text": [
      "Average loss:  1.91307661927\n",
      "Learning rate:  1.875\n",
      "quianidi aly engeisien lather sinct roghe ni htwntoupe s poescill fay and calonthash soncourith bede \n"
     ]
    },
    {
     "name": "stderr",
     "output_type": "stream",
     "text": [
      " 15%|█▍        | 118002/800001 [46:22<5:17:23, 35.81it/s]"
     ]
    },
    {
     "name": "stdout",
     "output_type": "stream",
     "text": [
      "Average loss:  1.90008984947\n",
      "Learning rate:  1.875\n",
      "l oo ereasle gever shrensientascusillsy ond unevalling the conliting ty mishun sonecobetams puklo cor\n"
     ]
    },
    {
     "name": "stderr",
     "output_type": "stream",
     "text": [
      " 15%|█▍        | 119002/800001 [46:46<5:10:46, 36.52it/s]"
     ]
    },
    {
     "name": "stdout",
     "output_type": "stream",
     "text": [
      "Average loss:  1.90182311046\n",
      "Learning rate:  1.875\n",
      "ofo rotwing bofre ti fividede and censun ains rimed aldo woulb zero zero thoy wat his nder betarnhing\n"
     ]
    },
    {
     "name": "stderr",
     "output_type": "stream",
     "text": [
      " 15%|█▌        | 120002/800001 [47:10<5:13:32, 36.15it/s]"
     ]
    },
    {
     "name": "stdout",
     "output_type": "stream",
     "text": [
      "Average loss:  1.9239909147\n",
      "Learning rate:  1.875\n",
      "re chatr accandse is itond the rymede curne several conturte sne lastath lint rofex asmelizentedova s\n"
     ]
    },
    {
     "name": "stderr",
     "output_type": "stream",
     "text": [
      " 15%|█▌        | 121002/800001 [47:34<5:16:41, 35.73it/s]"
     ]
    },
    {
     "name": "stdout",
     "output_type": "stream",
     "text": [
      "Average loss:  1.90856929481\n",
      "Learning rate:  1.875\n",
      "z as as as mey kybr matharaniss of ele na and succ thi dineith invectero the cat has cinesupla kemon \n"
     ]
    },
    {
     "name": "stderr",
     "output_type": "stream",
     "text": [
      " 15%|█▌        | 122002/800001 [47:58<5:13:04, 36.09it/s]"
     ]
    },
    {
     "name": "stdout",
     "output_type": "stream",
     "text": [
      "Average loss:  1.90409478927\n",
      "Learning rate:  1.875\n",
      "zenaid seagigmy in the khithar pothlof cormentelys veriat ortony charge t errmiesedund piplo illop sd\n"
     ]
    },
    {
     "name": "stderr",
     "output_type": "stream",
     "text": [
      " 15%|█▌        | 123006/800001 [48:21<5:01:10, 37.46it/s]"
     ]
    },
    {
     "name": "stdout",
     "output_type": "stream",
     "text": [
      "Average loss:  1.9020790782\n",
      "Learning rate:  1.875\n",
      "ocollering frou the samin bo koaid tialaas pore bus the clleid anges in the covmeree ionit in with ta\n"
     ]
    },
    {
     "name": "stderr",
     "output_type": "stream",
     "text": [
      " 16%|█▌        | 124006/800001 [48:45<5:02:58, 37.19it/s]"
     ]
    },
    {
     "name": "stdout",
     "output_type": "stream",
     "text": [
      "Average loss:  1.89795325243\n",
      "Learning rate:  1.875\n",
      "if enesira throuth nond th torgalatime reserters pllyinced his upe vithac archean wat pars ofethen ar\n"
     ]
    },
    {
     "name": "stderr",
     "output_type": "stream",
     "text": [
      " 16%|█▌        | 125005/800001 [49:09<5:03:25, 37.08it/s]"
     ]
    },
    {
     "name": "stdout",
     "output_type": "stream",
     "text": [
      "Average loss:  1.8869176718\n",
      "Learning rate:  1.875\n",
      "ecareving tha mesing tydenth and for medera main s f atserts if whoco procrs wavnowicl te pedel palan\n"
     ]
    },
    {
     "name": "stderr",
     "output_type": "stream",
     "text": [
      " 16%|█▌        | 126003/800001 [49:33<5:15:47, 35.57it/s]"
     ]
    },
    {
     "name": "stdout",
     "output_type": "stream",
     "text": [
      "Average loss:  1.88238210511\n",
      "Learning rate:  1.875\n",
      "bsix geraray phalky approudisly on os bather of canisalt ve workn rrinding ofents strevst the mat act\n"
     ]
    },
    {
     "name": "stderr",
     "output_type": "stream",
     "text": [
      " 16%|█▌        | 127006/800001 [49:57<4:53:53, 38.17it/s]"
     ]
    },
    {
     "name": "stdout",
     "output_type": "stream",
     "text": [
      "Average loss:  1.91833660924\n",
      "Learning rate:  1.875\n",
      " ios the otharal mathe gromphe the cevne sogut ofieline the netrsals uryel arciteis ta keth thes a de\n"
     ]
    },
    {
     "name": "stderr",
     "output_type": "stream",
     "text": [
      " 16%|█▌        | 128006/800001 [50:20<4:52:15, 38.32it/s]"
     ]
    },
    {
     "name": "stdout",
     "output_type": "stream",
     "text": [
      "Average loss:  1.89719401324\n",
      "Learning rate:  1.875\n",
      "jok boti ifcopubet wosk dead rif earle and six six thone ome thenesa ppaseils thot edrne ne thr earth\n"
     ]
    },
    {
     "name": "stderr",
     "output_type": "stream",
     "text": [
      " 16%|█▌        | 129004/800001 [50:44<5:11:06, 35.95it/s]"
     ]
    },
    {
     "name": "stdout",
     "output_type": "stream",
     "text": [
      "Average loss:  1.89794987559\n",
      "Learning rate:  1.875\n",
      " armondr ccording one nendstawicte marises termsenity of bug therue tumandut masbenthyom os fokr serv\n"
     ]
    },
    {
     "name": "stderr",
     "output_type": "stream",
     "text": [
      " 16%|█▋        | 130003/800001 [51:08<5:10:27, 35.97it/s]"
     ]
    },
    {
     "name": "stdout",
     "output_type": "stream",
     "text": [
      "Average loss:  1.90828105497\n",
      "Learning rate:  1.875\n",
      "pous tw seene spara nownentine ffo headtily war hie otees uritse dithed an hishwaie two sivinenof by \n"
     ]
    },
    {
     "name": "stderr",
     "output_type": "stream",
     "text": [
      " 16%|█▋        | 131002/800001 [51:32<5:05:46, 36.46it/s]"
     ]
    },
    {
     "name": "stdout",
     "output_type": "stream",
     "text": [
      "Average loss:  1.89330655432\n",
      "Learning rate:  1.875\n",
      "cathervon inerbilly haldy rale deservedemact oally nilesopre time and gonger th hear mikron br at one\n"
     ]
    },
    {
     "name": "stderr",
     "output_type": "stream",
     "text": [
      " 17%|█▋        | 132007/800001 [51:56<4:55:29, 37.68it/s]"
     ]
    },
    {
     "name": "stdout",
     "output_type": "stream",
     "text": [
      "Average loss:  1.91681521797\n",
      "Learning rate:  1.875\n",
      "cot s consule rithen exvensedy ars aviite briage angos boberc ics ilenstit acdonen yerr y acrest rus \n"
     ]
    },
    {
     "name": "stderr",
     "output_type": "stream",
     "text": [
      " 17%|█▋        | 133006/800001 [52:20<4:49:15, 38.43it/s]"
     ]
    },
    {
     "name": "stdout",
     "output_type": "stream",
     "text": [
      "Average loss:  1.91844660485\n",
      "Learning rate:  1.875\n",
      "es had hiofer the fers fare mose for atrogs of f in thimber frem while scustickint ana temmakil sumby\n"
     ]
    },
    {
     "name": "stderr",
     "output_type": "stream",
     "text": [
      " 17%|█▋        | 134007/800001 [52:44<4:49:37, 38.33it/s]"
     ]
    },
    {
     "name": "stdout",
     "output_type": "stream",
     "text": [
      "Average loss:  1.89391595042\n",
      "Learning rate:  1.875\n",
      "denges wars the spane and ty t ol alsu lowie world and wstredede sopery mend breg arew the moct oni n\n"
     ]
    },
    {
     "name": "stderr",
     "output_type": "stream",
     "text": [
      " 17%|█▋        | 135006/800001 [53:07<4:48:27, 38.42it/s]"
     ]
    },
    {
     "name": "stdout",
     "output_type": "stream",
     "text": [
      "Average loss:  1.89828457153\n",
      "Learning rate:  1.875\n",
      "mundisto shang wably and ow hay wnivi hia the yruces th oteer unere miol anq ias ba the watlud zero b\n"
     ]
    },
    {
     "name": "stderr",
     "output_type": "stream",
     "text": [
      " 17%|█▋        | 136006/800001 [53:31<4:47:26, 38.50it/s]"
     ]
    },
    {
     "name": "stdout",
     "output_type": "stream",
     "text": [
      "Average loss:  1.88803260458\n",
      "Learning rate:  1.875\n",
      "vec al of gerestrist ufalet des kaleda indimenge in bat r in chove proula notituld manky one in paori\n"
     ]
    },
    {
     "name": "stderr",
     "output_type": "stream",
     "text": [
      " 17%|█▋        | 137004/800001 [53:55<5:01:31, 36.65it/s]"
     ]
    },
    {
     "name": "stdout",
     "output_type": "stream",
     "text": [
      "Average loss:  1.88298585141\n",
      "Learning rate:  1.875\n",
      "mprled maswe rime carmbcane anthiblel to the seaco indication s mellem miinelttl christ one six siven\n"
     ]
    },
    {
     "name": "stderr",
     "output_type": "stream",
     "text": [
      " 17%|█▋        | 138002/800001 [54:19<5:07:04, 35.93it/s]"
     ]
    },
    {
     "name": "stdout",
     "output_type": "stream",
     "text": [
      "Average loss:  1.89159018075\n",
      "Learning rate:  1.875\n",
      "cis ffo as kingigises th indicint an pradege bingused haic ochars a sparea semes deyding hiotoak the \n"
     ]
    },
    {
     "name": "stderr",
     "output_type": "stream",
     "text": [
      " 17%|█▋        | 139006/800001 [54:43<4:54:14, 37.44it/s]"
     ]
    },
    {
     "name": "stdout",
     "output_type": "stream",
     "text": [
      "Average loss:  1.88523630083\n",
      "Learning rate:  1.875\n",
      "hing tus edecseas war juze sex four six sex s xtcosten collectero the engot shemessic one eight nents\n"
     ]
    },
    {
     "name": "stderr",
     "output_type": "stream",
     "text": [
      " 18%|█▊        | 140006/800001 [55:07<4:52:47, 37.57it/s]"
     ]
    },
    {
     "name": "stdout",
     "output_type": "stream",
     "text": [
      "Average loss:  1.88286983085\n",
      "Learning rate:  1.875\n",
      "esorcorimily of beanke the exiatin tha long masede sivjoct al op ie athala in absed ir sumpersited si\n"
     ]
    },
    {
     "name": "stderr",
     "output_type": "stream",
     "text": [
      " 18%|█▊        | 141006/800001 [55:31<5:00:24, 36.56it/s]"
     ]
    },
    {
     "name": "stdout",
     "output_type": "stream",
     "text": [
      "Average loss:  1.90763477039\n",
      "Learning rate:  1.875\n",
      " pacrel consuption owarecl surce veraiz and victer siquege themery and phulatr exivelly with uthirl m\n"
     ]
    },
    {
     "name": "stderr",
     "output_type": "stream",
     "text": [
      " 18%|█▊        | 142006/800001 [55:54<4:56:47, 36.95it/s]"
     ]
    },
    {
     "name": "stdout",
     "output_type": "stream",
     "text": [
      "Average loss:  1.87877949035\n",
      "Learning rate:  1.875\n",
      "quaunery ond ved of d andac dereveeif cemsm cornat on petrelsere songitas rones od kisthrupice lsing \n"
     ]
    },
    {
     "name": "stderr",
     "output_type": "stream",
     "text": [
      " 18%|█▊        | 143004/800001 [56:18<5:07:35, 35.60it/s]"
     ]
    },
    {
     "name": "stdout",
     "output_type": "stream",
     "text": [
      "Average loss:  1.87495863819\n",
      "Learning rate:  1.875\n",
      "esrtogra irmninukl offailansy bick racitlid notrlal s twe s aldea twe ins centrat o hake state or uri\n"
     ]
    },
    {
     "name": "stderr",
     "output_type": "stream",
     "text": [
      " 18%|█▊        | 144004/800001 [56:42<4:57:51, 36.71it/s]"
     ]
    },
    {
     "name": "stdout",
     "output_type": "stream",
     "text": [
      "Average loss:  1.88886393797\n",
      "Learning rate:  1.875\n",
      "orathing des garl golmest oresina idibil the ant cauledid and mbyse bow lysinsthr botruil recamso tho\n"
     ]
    },
    {
     "name": "stderr",
     "output_type": "stream",
     "text": [
      " 18%|█▊        | 145004/800001 [57:06<4:58:22, 36.59it/s]"
     ]
    },
    {
     "name": "stdout",
     "output_type": "stream",
     "text": [
      "Average loss:  1.88695261502\n",
      "Learning rate:  1.875\n",
      "in tha fard ungeingre waindadien ta doman lef nontode ceationan rick to it in the inseedencouss stinc\n"
     ]
    },
    {
     "name": "stderr",
     "output_type": "stream",
     "text": [
      " 18%|█▊        | 146004/800001 [57:30<5:13:34, 34.76it/s]"
     ]
    },
    {
     "name": "stdout",
     "output_type": "stream",
     "text": [
      "Average loss:  1.8966115942\n",
      "Learning rate:  1.875\n",
      "west bun the concionucol ofeverimat veiss hestis his it in ofeve caned of x all and ano heicady rsear\n"
     ]
    },
    {
     "name": "stderr",
     "output_type": "stream",
     "text": [
      " 18%|█▊        | 147006/800001 [57:54<4:46:42, 37.96it/s]"
     ]
    },
    {
     "name": "stdout",
     "output_type": "stream",
     "text": [
      "Average loss:  1.88261459708\n",
      "Learning rate:  1.875\n",
      "retud lundary presined the furer huide and abll oulffos and by belound houke midilerably two be wathi\n"
     ]
    },
    {
     "name": "stderr",
     "output_type": "stream",
     "text": [
      " 19%|█▊        | 148006/800001 [58:18<4:54:07, 36.94it/s]"
     ]
    },
    {
     "name": "stdout",
     "output_type": "stream",
     "text": [
      "Average loss:  1.88710863888\n",
      "Learning rate:  1.875\n",
      "meleritay ta infrreded one nine fiunta tho ghoment os angeren tabre and thetus asthickion foum erghin\n"
     ]
    },
    {
     "name": "stderr",
     "output_type": "stream",
     "text": [
      " 19%|█▊        | 149005/800001 [58:42<4:55:26, 36.72it/s]"
     ]
    },
    {
     "name": "stdout",
     "output_type": "stream",
     "text": [
      "Average loss:  1.87445452893\n",
      "Learning rate:  1.875\n",
      "ugelaseil nsure in rag netbormon s balisigler th eapllondsse muse hewe spriedallved demide medacarg o\n"
     ]
    },
    {
     "name": "stderr",
     "output_type": "stream",
     "text": [
      " 19%|█▉        | 150005/800001 [59:06<4:54:31, 36.78it/s]"
     ]
    },
    {
     "name": "stdout",
     "output_type": "stream",
     "text": [
      "Average loss:  1.8725212003\n",
      "Learning rate:  1.875\n",
      "senss a profeckions overowe fleishad ir l fiont ispreicter pheserected ic natures orearabipicali sh w\n"
     ]
    },
    {
     "name": "stderr",
     "output_type": "stream",
     "text": [
      " 19%|█▉        | 151004/800001 [59:30<4:55:09, 36.65it/s]"
     ]
    },
    {
     "name": "stdout",
     "output_type": "stream",
     "text": [
      "Average loss:  1.88088186812\n",
      "Learning rate:  1.875\n",
      "us iofrachabked and athali bes wo loriter plow twa raobing eshantorf usoubdes alo f bliugder comprex \n"
     ]
    },
    {
     "name": "stderr",
     "output_type": "stream",
     "text": [
      " 19%|█▉        | 152002/800001 [59:54<4:57:15, 36.33it/s]"
     ]
    },
    {
     "name": "stdout",
     "output_type": "stream",
     "text": [
      "Average loss:  1.88818392205\n",
      "Learning rate:  1.875\n",
      "gindwark ol wirth or mesthstesligen cad hy rved on hhil foverslaris hillan soxe comp s ters lithtis t\n"
     ]
    },
    {
     "name": "stderr",
     "output_type": "stream",
     "text": [
      " 19%|█▉        | 153002/800001 [1:00:18<5:01:20, 35.78it/s]"
     ]
    },
    {
     "name": "stdout",
     "output_type": "stream",
     "text": [
      "Average loss:  1.89159818637\n",
      "Learning rate:  1.875\n",
      "pengirgseas streatevater one nine fiust stingi and papruations bint in the ensquer dredtor wis ereond\n"
     ]
    },
    {
     "name": "stderr",
     "output_type": "stream",
     "text": [
      " 19%|█▉        | 154006/800001 [1:00:42<4:43:22, 37.99it/s]"
     ]
    },
    {
     "name": "stdout",
     "output_type": "stream",
     "text": [
      "Average loss:  1.88447214079\n",
      "Learning rate:  1.875\n",
      "ceate os agjiea dramo holletnthemint the hebre morale oun be growhe ty nendananu sprengey oresmemby h\n"
     ]
    },
    {
     "name": "stderr",
     "output_type": "stream",
     "text": [
      " 19%|█▉        | 155006/800001 [1:01:06<4:43:38, 37.90it/s]"
     ]
    },
    {
     "name": "stdout",
     "output_type": "stream",
     "text": [
      "Average loss:  1.87903261256\n",
      "Learning rate:  1.875\n",
      "duls in thl usl ofest rfale world asming censual zoder atharsifitseis ardisses as ftoessy touther sev\n"
     ]
    },
    {
     "name": "stderr",
     "output_type": "stream",
     "text": [
      " 20%|█▉        | 156005/800001 [1:01:30<4:55:57, 36.27it/s]"
     ]
    },
    {
     "name": "stdout",
     "output_type": "stream",
     "text": [
      "Average loss:  1.85892117012\n",
      "Learning rate:  1.875\n",
      "gntall bitt to gand is oren onc starisl desorapounal alligea bans the eatlladdes in ars criacalituses\n"
     ]
    },
    {
     "name": "stderr",
     "output_type": "stream",
     "text": [
      " 20%|█▉        | 157005/800001 [1:01:54<4:58:55, 35.85it/s]"
     ]
    },
    {
     "name": "stdout",
     "output_type": "stream",
     "text": [
      "Average loss:  1.84097166407\n",
      "Learning rate:  1.875\n",
      "quountha torup op whero gir tha deale the and fiontsur are pyorization t of ta bulithscep bound times\n"
     ]
    },
    {
     "name": "stderr",
     "output_type": "stream",
     "text": [
      " 20%|█▉        | 158005/800001 [1:02:18<4:49:17, 36.99it/s]"
     ]
    },
    {
     "name": "stdout",
     "output_type": "stream",
     "text": [
      "Average loss:  1.86652960432\n",
      "Learning rate:  1.875\n",
      "cean bathith sne the enearmy in vinane to forrany fourtean fon balking fow be pontl ta beidh gnorians\n"
     ]
    },
    {
     "name": "stderr",
     "output_type": "stream",
     "text": [
      " 20%|█▉        | 159005/800001 [1:02:42<5:01:02, 35.49it/s]"
     ]
    },
    {
     "name": "stdout",
     "output_type": "stream",
     "text": [
      "Average loss:  1.85887937939\n",
      "Learning rate:  1.875\n",
      "rercoustalan silist mestas and espaundend intelfitirg cicer tha ker cractsis woseve tlamst duptram an\n"
     ]
    },
    {
     "name": "stderr",
     "output_type": "stream",
     "text": [
      " 20%|██        | 160004/800001 [1:03:05<4:56:36, 35.96it/s]"
     ]
    },
    {
     "name": "stdout",
     "output_type": "stream",
     "text": [
      "Average loss:  1.85611122763\n",
      "Learning rate:  1.40625\n",
      "buk hephes she th enction pallids in eaglay d seventye sedac siqpe rotire ofre sprit hicheane othen s\n"
     ]
    },
    {
     "name": "stderr",
     "output_type": "stream",
     "text": [
      " 20%|██        | 161005/800001 [1:03:30<4:48:29, 36.92it/s]"
     ]
    },
    {
     "name": "stdout",
     "output_type": "stream",
     "text": [
      "Average loss:  1.8588153522\n",
      "Learning rate:  1.40625\n",
      "ith macto bin in the endo sialded on the sickn the pliciss and filst moyeis my certaga context pyonin\n"
     ]
    },
    {
     "name": "stderr",
     "output_type": "stream",
     "text": [
      " 20%|██        | 162004/800001 [1:03:53<5:00:05, 35.43it/s]"
     ]
    },
    {
     "name": "stdout",
     "output_type": "stream",
     "text": [
      "Average loss:  1.86774243689\n",
      "Learning rate:  1.40625\n",
      "tuit ard and sontees wotl aedic astidus iv fersery kerthi meala wosk jepromed diyp the erwhival sivem\n"
     ]
    },
    {
     "name": "stderr",
     "output_type": "stream",
     "text": [
      " 20%|██        | 163004/800001 [1:04:17<4:54:06, 36.10it/s]"
     ]
    },
    {
     "name": "stdout",
     "output_type": "stream",
     "text": [
      "Average loss:  1.86110554922\n",
      "Learning rate:  1.40625\n",
      "gon l s both lwasceral foo diston hesing on with canon iofolca niand if conmane ainie macrawea tares \n"
     ]
    },
    {
     "name": "stderr",
     "output_type": "stream",
     "text": [
      " 21%|██        | 164004/800001 [1:04:42<5:26:02, 32.51it/s]"
     ]
    },
    {
     "name": "stdout",
     "output_type": "stream",
     "text": [
      "Average loss:  1.86754492795\n",
      "Learning rate:  1.40625\n",
      "ckither wad ia to jahed ssed and engloed ty tturelf w whece aith had revilat ner alvonu erghil bus ca\n"
     ]
    },
    {
     "name": "stderr",
     "output_type": "stream",
     "text": [
      " 21%|██        | 165003/800001 [1:05:06<4:48:09, 36.73it/s]"
     ]
    },
    {
     "name": "stdout",
     "output_type": "stream",
     "text": [
      "Average loss:  1.86643625116\n",
      "Learning rate:  1.40625\n",
      "ntepsery his to pieshels the morlly a by by nithe shis frle ofleng ane m gale stomex ufredirg and lin\n"
     ]
    },
    {
     "name": "stderr",
     "output_type": "stream",
     "text": [
      " 21%|██        | 166002/800001 [1:05:29<4:49:08, 36.54it/s]"
     ]
    },
    {
     "name": "stdout",
     "output_type": "stream",
     "text": [
      "Average loss:  1.86401298726\n",
      "Learning rate:  1.40625\n",
      "ainslinge lightrino ligethean of moptern afrefeed pegal gurd on a chiponitso quariag to tones aspuncl\n"
     ]
    },
    {
     "name": "stderr",
     "output_type": "stream",
     "text": [
      " 21%|██        | 167006/800001 [1:05:54<4:34:31, 38.43it/s]"
     ]
    },
    {
     "name": "stdout",
     "output_type": "stream",
     "text": [
      "Average loss:  1.84428948653\n",
      "Learning rate:  1.40625\n",
      "leycing tixen he erthambliggeca it if chell tiaun he by tara f orem rofel incacepoed ous l hovee tied\n"
     ]
    },
    {
     "name": "stderr",
     "output_type": "stream",
     "text": [
      " 21%|██        | 168002/800001 [1:06:18<4:51:44, 36.10it/s]"
     ]
    },
    {
     "name": "stdout",
     "output_type": "stream",
     "text": [
      "Average loss:  1.84755461204\n",
      "Learning rate:  1.40625\n",
      "frythreno nine phachies mabyex hesedress oopo secoss lagat of the tapl noredis arssinngres dronkes as\n"
     ]
    },
    {
     "name": "stderr",
     "output_type": "stream",
     "text": [
      " 21%|██        | 169002/800001 [1:06:42<4:49:54, 36.27it/s]"
     ]
    },
    {
     "name": "stdout",
     "output_type": "stream",
     "text": [
      "Average loss:  1.85220890725\n",
      "Learning rate:  1.40625\n",
      "valumeda f mala gin tiong twe inerisue pry that me sont onth as mede fron ard porer aner hie on ygur \n"
     ]
    },
    {
     "name": "stderr",
     "output_type": "stream",
     "text": [
      " 21%|██▏       | 170002/800001 [1:07:06<4:52:53, 35.85it/s]"
     ]
    },
    {
     "name": "stdout",
     "output_type": "stream",
     "text": [
      "Average loss:  1.86427578318\n",
      "Learning rate:  1.40625\n",
      "ustods he dithe to bres porisiticy naturas soninina te mome ticking repoatidg expluce th tols of the \n"
     ]
    },
    {
     "name": "stderr",
     "output_type": "stream",
     "text": [
      " 21%|██▏       | 171002/800001 [1:07:29<4:45:06, 36.77it/s]"
     ]
    },
    {
     "name": "stdout",
     "output_type": "stream",
     "text": [
      "Average loss:  1.84838712716\n",
      "Learning rate:  1.40625\n",
      "serno ny thit inceed conscditurily rople dryprestis to alyonkes ntw alaby inquile if one nine of tred\n"
     ]
    },
    {
     "name": "stderr",
     "output_type": "stream",
     "text": [
      " 22%|██▏       | 172005/800001 [1:07:53<4:46:00, 36.59it/s]"
     ]
    },
    {
     "name": "stdout",
     "output_type": "stream",
     "text": [
      "Average loss:  1.84969793248\n",
      "Learning rate:  1.40625\n",
      "mari hawnonthaba l war wstipter darnud op edeleltes ore sithing acerige istreditero usha persed and h\n"
     ]
    },
    {
     "name": "stderr",
     "output_type": "stream",
     "text": [
      " 22%|██▏       | 173005/800001 [1:08:17<4:51:26, 35.86it/s]"
     ]
    },
    {
     "name": "stdout",
     "output_type": "stream",
     "text": [
      "Average loss:  1.82806130648\n",
      "Learning rate:  1.40625\n",
      "gal agloved soruagel w o s ith and k ouffofr in muisc o fiamotings of merichicam in ispate be compute\n"
     ]
    },
    {
     "name": "stderr",
     "output_type": "stream",
     "text": [
      " 22%|██▏       | 174007/800001 [1:08:42<4:31:53, 38.37it/s]"
     ]
    },
    {
     "name": "stdout",
     "output_type": "stream",
     "text": [
      "Average loss:  1.8671926291\n",
      "Learning rate:  1.40625\n",
      " ocenn one nine thong asstens is ae althongan full ald gereanicar on butit ta his on the of the erbhr\n"
     ]
    },
    {
     "name": "stderr",
     "output_type": "stream",
     "text": [
      " 22%|██▏       | 175006/800001 [1:09:06<4:33:42, 38.06it/s]"
     ]
    },
    {
     "name": "stdout",
     "output_type": "stream",
     "text": [
      "Average loss:  1.85686262548\n",
      "Learning rate:  1.40625\n",
      "ke galovoreol a fustor aprounap the husy the ceindat of thong which hy rajplco meaner day monthit sic\n"
     ]
    },
    {
     "name": "stderr",
     "output_type": "stream",
     "text": [
      " 22%|██▏       | 176006/800001 [1:09:30<4:32:48, 38.12it/s]"
     ]
    },
    {
     "name": "stdout",
     "output_type": "stream",
     "text": [
      "Average loss:  1.86004085279\n",
      "Learning rate:  1.40625\n",
      "being wesice eteunis in lage of a prost jo rous twe and s oney crofiesele chorgowis iftorura the back\n"
     ]
    },
    {
     "name": "stderr",
     "output_type": "stream",
     "text": [
      " 22%|██▏       | 177005/800001 [1:09:54<4:42:40, 36.73it/s]"
     ]
    },
    {
     "name": "stdout",
     "output_type": "stream",
     "text": [
      "Average loss:  1.85775715172\n",
      "Learning rate:  1.40625\n",
      "trondis o cascan dnaskamy de wht evesets byonk his sorraly histea efrecise ano thees tho giok esent p\n"
     ]
    },
    {
     "name": "stderr",
     "output_type": "stream",
     "text": [
      " 22%|██▏       | 178004/800001 [1:10:17<4:41:37, 36.81it/s]"
     ]
    },
    {
     "name": "stdout",
     "output_type": "stream",
     "text": [
      "Average loss:  1.85891577768\n",
      "Learning rate:  1.40625\n",
      "les lawaneral it uled tferise f wniod fils ans an thealite froc sed con tonam oredd tr an of gise mar\n"
     ]
    },
    {
     "name": "stderr",
     "output_type": "stream",
     "text": [
      " 22%|██▏       | 179003/800001 [1:10:41<4:40:56, 36.84it/s]"
     ]
    },
    {
     "name": "stdout",
     "output_type": "stream",
     "text": [
      "Average loss:  1.85299779344\n",
      "Learning rate:  1.40625\n",
      "hyskiticos massterpa ceponded by angols war is narer that incordiss pallowin darandmintude worls game\n"
     ]
    },
    {
     "name": "stderr",
     "output_type": "stream",
     "text": [
      " 23%|██▎       | 180003/800001 [1:11:05<4:42:38, 36.56it/s]"
     ]
    },
    {
     "name": "stdout",
     "output_type": "stream",
     "text": [
      "Average loss:  1.85761282337\n",
      "Learning rate:  1.40625\n",
      " mintrend sivencended daching earle verito formed in mamillanvedifacly suchatian camolia in thete and\n"
     ]
    },
    {
     "name": "stderr",
     "output_type": "stream",
     "text": [
      " 23%|██▎       | 181003/800001 [1:11:29<4:40:53, 36.73it/s]"
     ]
    },
    {
     "name": "stdout",
     "output_type": "stream",
     "text": [
      "Average loss:  1.87320780838\n",
      "Learning rate:  1.40625\n",
      "triothe momevarthit colver the confiuttanoded it in and pait asexed e facopod world wiac bar at perpo\n"
     ]
    },
    {
     "name": "stderr",
     "output_type": "stream",
     "text": [
      " 23%|██▎       | 182003/800001 [1:11:53<4:42:52, 36.41it/s]"
     ]
    },
    {
     "name": "stdout",
     "output_type": "stream",
     "text": [
      "Average loss:  1.86798955607\n",
      "Learning rate:  1.40625\n",
      "ight rog in ane im lat kelvedited owherst pale traquinas ttwisha grousk nca doplttaly hes add meramur\n"
     ]
    },
    {
     "name": "stderr",
     "output_type": "stream",
     "text": [
      " 23%|██▎       | 183003/800001 [1:12:17<4:46:52, 35.85it/s]"
     ]
    },
    {
     "name": "stdout",
     "output_type": "stream",
     "text": [
      "Average loss:  1.8575368247\n",
      "Learning rate:  1.40625\n",
      "staco soon treistor the mal ar arkill to kane she suthilns presinena ccicce baig dsedof of tally expr\n"
     ]
    },
    {
     "name": "stderr",
     "output_type": "stream",
     "text": [
      " 23%|██▎       | 184003/800001 [1:12:41<4:41:48, 36.43it/s]"
     ]
    },
    {
     "name": "stdout",
     "output_type": "stream",
     "text": [
      "Average loss:  1.85900294721\n",
      "Learning rate:  1.40625\n",
      "o zero nones are andibioglas collegelis ampite ticefty bnent of cupsel frre wrowe ann hisheryn encoum\n"
     ]
    },
    {
     "name": "stderr",
     "output_type": "stream",
     "text": [
      " 23%|██▎       | 185003/800001 [1:13:05<4:41:46, 36.38it/s]"
     ]
    },
    {
     "name": "stdout",
     "output_type": "stream",
     "text": [
      "Average loss:  1.87487121367\n",
      "Learning rate:  1.40625\n",
      "cen diccerven archenunes serof toteed aba tw edeviterto maneris inte of the ond mastill gorat on the \n"
     ]
    },
    {
     "name": "stderr",
     "output_type": "stream",
     "text": [
      " 23%|██▎       | 186003/800001 [1:13:29<4:41:11, 36.39it/s]"
     ]
    },
    {
     "name": "stdout",
     "output_type": "stream",
     "text": [
      "Average loss:  1.86726505566\n",
      "Learning rate:  1.40625\n",
      "ks tam k longirg s miggdnannaced atsterdad racka courtecilinin sofre the war arpacomouna pakn ir medi\n"
     ]
    },
    {
     "name": "stderr",
     "output_type": "stream",
     "text": [
      " 23%|██▎       | 187002/800001 [1:13:53<4:43:54, 35.99it/s]"
     ]
    },
    {
     "name": "stdout",
     "output_type": "stream",
     "text": [
      "Average loss:  1.8647766422\n",
      "Learning rate:  1.40625\n",
      "quay surm seror the ce sly on than her and wign tones coun suedral ppone s jary furequman alioc of th\n"
     ]
    },
    {
     "name": "stderr",
     "output_type": "stream",
     "text": [
      " 24%|██▎       | 188002/800001 [1:14:17<4:43:06, 36.03it/s]"
     ]
    },
    {
     "name": "stdout",
     "output_type": "stream",
     "text": [
      "Average loss:  1.86534119964\n",
      "Learning rate:  1.40625\n",
      "omiau in one nine zero podalizef in tus colvedg h verina is andeds paither ither who endurite oluna l\n"
     ]
    },
    {
     "name": "stderr",
     "output_type": "stream",
     "text": [
      " 24%|██▎       | 189006/800001 [1:14:41<4:29:40, 37.76it/s]"
     ]
    },
    {
     "name": "stdout",
     "output_type": "stream",
     "text": [
      "Average loss:  1.85517572773\n",
      "Learning rate:  1.40625\n",
      "zecruelaty home inte tuck ont on toreey taun and and anvoreds ambritter daby the monemeasedian the un\n"
     ]
    },
    {
     "name": "stderr",
     "output_type": "stream",
     "text": [
      " 24%|██▍       | 190004/800001 [1:15:05<4:40:33, 36.24it/s]"
     ]
    },
    {
     "name": "stdout",
     "output_type": "stream",
     "text": [
      "Average loss:  1.86253989863\n",
      "Learning rate:  1.40625\n",
      "vily in to ore bo caghia setth thind tha five liper for epssers one nine three seven wirg ofed edgras\n"
     ]
    },
    {
     "name": "stderr",
     "output_type": "stream",
     "text": [
      " 24%|██▍       | 191003/800001 [1:15:29<4:50:41, 34.92it/s]"
     ]
    },
    {
     "name": "stdout",
     "output_type": "stream",
     "text": [
      "Average loss:  1.86485698676\n",
      "Learning rate:  1.40625\n",
      "kecr worl forges wominala gla bicfotragelo the fomenclo ffa liththrincce team salu and on leckaus wnt\n"
     ]
    },
    {
     "name": "stderr",
     "output_type": "stream",
     "text": [
      " 24%|██▍       | 192002/800001 [1:15:53<4:38:08, 36.43it/s]"
     ]
    },
    {
     "name": "stdout",
     "output_type": "stream",
     "text": [
      "Average loss:  1.87213460374\n",
      "Learning rate:  1.40625\n",
      "inord on laugebter ardiont allats coms th one eight zero thone the porthen simpl sed wat worls ans it\n"
     ]
    },
    {
     "name": "stderr",
     "output_type": "stream",
     "text": [
      " 24%|██▍       | 193005/800001 [1:16:17<4:41:15, 35.97it/s]"
     ]
    },
    {
     "name": "stdout",
     "output_type": "stream",
     "text": [
      "Average loss:  1.87356891036\n",
      "Learning rate:  1.40625\n",
      "ced contianilara fullape frou eeg one nine fevo for thr efolceds thorgemegtalwey is iollie ceder ppon\n"
     ]
    },
    {
     "name": "stderr",
     "output_type": "stream",
     "text": [
      " 24%|██▍       | 194005/800001 [1:16:41<4:44:34, 35.49it/s]"
     ]
    },
    {
     "name": "stdout",
     "output_type": "stream",
     "text": [
      "Average loss:  1.8438560648\n",
      "Learning rate:  1.40625\n",
      "seanly haiss af ervec in the infoumani gredu costaty ffo may time ant jople w insurn hiv tho eatheds \n"
     ]
    },
    {
     "name": "stderr",
     "output_type": "stream",
     "text": [
      " 24%|██▍       | 195005/800001 [1:17:05<4:42:06, 35.74it/s]"
     ]
    },
    {
     "name": "stdout",
     "output_type": "stream",
     "text": [
      "Average loss:  1.85650497961\n",
      "Learning rate:  1.40625\n",
      "versile but for the fertwiy mintslirg ebely in him enalmer controlle suach wistinc commonaminge teray\n"
     ]
    },
    {
     "name": "stderr",
     "output_type": "stream",
     "text": [
      " 25%|██▍       | 196004/800001 [1:17:28<4:34:12, 36.71it/s]"
     ]
    },
    {
     "name": "stdout",
     "output_type": "stream",
     "text": [
      "Average loss:  1.84299407446\n",
      "Learning rate:  1.40625\n",
      "fices pis audima in on the was sopor frre foreranis oreedryse pespertion landune solgnea phavinu by t\n"
     ]
    },
    {
     "name": "stderr",
     "output_type": "stream",
     "text": [
      " 25%|██▍       | 197003/800001 [1:17:52<4:36:35, 36.34it/s]"
     ]
    },
    {
     "name": "stdout",
     "output_type": "stream",
     "text": [
      "Average loss:  1.84019441462\n",
      "Learning rate:  1.40625\n",
      "rool speclaturis mengivila chirecicledints senerrmphism ored ullentapl seyser wigh mortet of main tho\n"
     ]
    },
    {
     "name": "stderr",
     "output_type": "stream",
     "text": [
      " 25%|██▍       | 198003/800001 [1:18:16<4:36:49, 36.24it/s]"
     ]
    },
    {
     "name": "stdout",
     "output_type": "stream",
     "text": [
      "Average loss:  1.86969006801\n",
      "Learning rate:  1.40625\n",
      "grofter the ctoonca natso fors icat on ia twe in o bions or inithypis tho estatiticn iq ix are it an \n"
     ]
    },
    {
     "name": "stderr",
     "output_type": "stream",
     "text": [
      " 25%|██▍       | 199003/800001 [1:18:40<4:35:29, 36.36it/s]"
     ]
    },
    {
     "name": "stdout",
     "output_type": "stream",
     "text": [
      "Average loss:  1.85233311272\n",
      "Learning rate:  1.40625\n",
      "keathen bokysem stint bowptonged the dilacisienas copraked in bitha farery on ix ouen foum derecinin \n"
     ]
    },
    {
     "name": "stderr",
     "output_type": "stream",
     "text": [
      " 25%|██▌       | 200003/800001 [1:19:04<4:31:16, 36.86it/s]"
     ]
    },
    {
     "name": "stdout",
     "output_type": "stream",
     "text": [
      "Average loss:  1.84663264465\n",
      "Learning rate:  1.40625\n",
      " many e the madomag head that wased dice kengrgon ofen furld lganis saru iquingligutt erbas boly of a\n"
     ]
    },
    {
     "name": "stderr",
     "output_type": "stream",
     "text": [
      " 25%|██▌       | 201006/800001 [1:19:28<4:28:35, 37.17it/s]"
     ]
    },
    {
     "name": "stdout",
     "output_type": "stream",
     "text": [
      "Average loss:  1.84867375195\n",
      "Learning rate:  1.40625\n",
      "vereal aglidhente wo lules couls more p one nond ralase ring government sin ewothy lusthomo ctindy oa\n"
     ]
    },
    {
     "name": "stderr",
     "output_type": "stream",
     "text": [
      " 25%|██▌       | 202006/800001 [1:19:52<4:43:27, 35.16it/s]"
     ]
    },
    {
     "name": "stdout",
     "output_type": "stream",
     "text": [
      "Average loss:  1.84558366275\n",
      "Learning rate:  1.40625\n",
      "zengars on edlls ana ascalses profrman akruency it pe coprgh esent be inellieglaling macest there eng\n"
     ]
    },
    {
     "name": "stderr",
     "output_type": "stream",
     "text": [
      " 25%|██▌       | 203005/800001 [1:20:16<4:34:27, 36.25it/s]"
     ]
    },
    {
     "name": "stdout",
     "output_type": "stream",
     "text": [
      "Average loss:  1.83545768929\n",
      "Learning rate:  1.40625\n",
      "lllestif colse th the colmerisully ows surglad ra of edgure ar uin pabrisy seaveg biondes of the ctor\n"
     ]
    },
    {
     "name": "stderr",
     "output_type": "stream",
     "text": [
      " 26%|██▌       | 204003/800001 [1:20:40<4:32:46, 36.42it/s]"
     ]
    },
    {
     "name": "stdout",
     "output_type": "stream",
     "text": [
      "Average loss:  1.82521853411\n",
      "Learning rate:  1.40625\n",
      "y harduting of desters un fond oulntinnsconk gapl those poytrisedithe hy alonc seme nugrsadire an cev\n"
     ]
    },
    {
     "name": "stderr",
     "output_type": "stream",
     "text": [
      " 26%|██▌       | 205006/800001 [1:21:04<4:24:04, 37.55it/s]"
     ]
    },
    {
     "name": "stdout",
     "output_type": "stream",
     "text": [
      "Average loss:  1.86203538668\n",
      "Learning rate:  1.40625\n",
      "gelal rosp the nde asare peristof arcertecien c oneme tha gen quarcc charged by abost nomentsod bowin\n"
     ]
    },
    {
     "name": "stderr",
     "output_type": "stream",
     "text": [
      " 26%|██▌       | 206006/800001 [1:21:28<4:27:29, 37.01it/s]"
     ]
    },
    {
     "name": "stdout",
     "output_type": "stream",
     "text": [
      "Average loss:  1.8463570739\n",
      "Learning rate:  1.40625\n",
      "ceverb levally campreccecha quolini mptshap that abeliny orery ix oftrrseving and thit migeta towoss \n"
     ]
    },
    {
     "name": "stderr",
     "output_type": "stream",
     "text": [
      " 26%|██▌       | 207005/800001 [1:21:52<4:24:30, 37.36it/s]"
     ]
    },
    {
     "name": "stdout",
     "output_type": "stream",
     "text": [
      "Average loss:  1.83804194903\n",
      "Learning rate:  1.40625\n",
      "burl and the chre tha mamoua trex suls have os the weiselive gever ian anelis couvso whaco wathrus su\n"
     ]
    },
    {
     "name": "stderr",
     "output_type": "stream",
     "text": [
      " 26%|██▌       | 208004/800001 [1:22:16<4:32:59, 36.14it/s]"
     ]
    },
    {
     "name": "stdout",
     "output_type": "stream",
     "text": [
      "Average loss:  1.86599764633\n",
      "Learning rate:  1.40625\n",
      "ucur tasestop oo in the use ofest bo knew ringas infruis phaless firet ano that chende to beficulitis\n"
     ]
    },
    {
     "name": "stderr",
     "output_type": "stream",
     "text": [
      " 26%|██▌       | 209002/800001 [1:22:40<4:33:20, 36.04it/s]"
     ]
    },
    {
     "name": "stdout",
     "output_type": "stream",
     "text": [
      "Average loss:  1.84399775231\n",
      "Learning rate:  1.40625\n",
      "cob wene chovonotus an these ancale of s ann goverrmevtersune and and police atmpsing an sesune t bte\n"
     ]
    },
    {
     "name": "stderr",
     "output_type": "stream",
     "text": [
      " 26%|██▋       | 210002/800001 [1:23:04<4:32:11, 36.13it/s]"
     ]
    },
    {
     "name": "stdout",
     "output_type": "stream",
     "text": [
      "Average loss:  1.8716998297\n",
      "Learning rate:  1.40625\n",
      "depthombeec notwortis has alexapteh ttouring toor ah bated ani in the stem poon to tocecola thith tre\n"
     ]
    },
    {
     "name": "stderr",
     "output_type": "stream",
     "text": [
      " 26%|██▋       | 211006/800001 [1:23:28<4:21:34, 37.53it/s]"
     ]
    },
    {
     "name": "stdout",
     "output_type": "stream",
     "text": [
      "Average loss:  1.87119329953\n",
      "Learning rate:  1.40625\n",
      "qais sher iclipl th term chuil ampritho hinte seveean ore offreinge ti bitle two lleectunt vormona ze\n"
     ]
    },
    {
     "name": "stderr",
     "output_type": "stream",
     "text": [
      " 27%|██▋       | 212006/800001 [1:23:52<4:21:04, 37.54it/s]"
     ]
    },
    {
     "name": "stdout",
     "output_type": "stream",
     "text": [
      "Average loss:  1.85361026049\n",
      "Learning rate:  1.40625\n",
      "derdithy newiegis mides baturnd one engeding topuichen govarr compurendeialo angene young sted hes ad\n"
     ]
    },
    {
     "name": "stderr",
     "output_type": "stream",
     "text": [
      " 27%|██▋       | 213005/800001 [1:24:16<4:27:54, 36.52it/s]"
     ]
    },
    {
     "name": "stdout",
     "output_type": "stream",
     "text": [
      "Average loss:  1.85290936947\n",
      "Learning rate:  1.40625\n",
      "cres ancicel sceino been dreges woflybyack hrsadem nare ny the ergg wnowiching faras atwedit tw oer s\n"
     ]
    },
    {
     "name": "stderr",
     "output_type": "stream",
     "text": [
      " 27%|██▋       | 214004/800001 [1:24:40<4:29:24, 36.25it/s]"
     ]
    },
    {
     "name": "stdout",
     "output_type": "stream",
     "text": [
      "Average loss:  1.84170850253\n",
      "Learning rate:  1.40625\n",
      "kn wass and ho fism bsencithachige on the sipto dof s thail gurdered and wn as at firsti gremat theto\n"
     ]
    },
    {
     "name": "stderr",
     "output_type": "stream",
     "text": [
      " 27%|██▋       | 215002/800001 [1:25:04<4:29:11, 36.22it/s]"
     ]
    },
    {
     "name": "stdout",
     "output_type": "stream",
     "text": [
      "Average loss:  1.84437183762\n",
      "Learning rate:  1.40625\n",
      "efre and otees atrehing ia but hreving sofimalise aldamine boinden od to edplminen of calser the babl\n"
     ]
    },
    {
     "name": "stderr",
     "output_type": "stream",
     "text": [
      " 27%|██▋       | 216005/800001 [1:25:28<4:27:10, 36.43it/s]"
     ]
    },
    {
     "name": "stdout",
     "output_type": "stream",
     "text": [
      "Average loss:  1.84304765606\n",
      "Learning rate:  1.40625\n",
      "zedrice britise july lun leaco pockstherine tiolicril for the pluned britis dssapster the ather if f \n"
     ]
    },
    {
     "name": "stderr",
     "output_type": "stream",
     "text": [
      " 27%|██▋       | 217006/800001 [1:25:52<4:19:26, 37.45it/s]"
     ]
    },
    {
     "name": "stdout",
     "output_type": "stream",
     "text": [
      "Average loss:  1.84495775509\n",
      "Learning rate:  1.40625\n",
      "one oine tanalle in work ov right soun contabeitane the themmes iverber bry sants ar it macouthed an \n"
     ]
    },
    {
     "name": "stderr",
     "output_type": "stream",
     "text": [
      " 27%|██▋       | 218006/800001 [1:26:15<4:14:55, 38.05it/s]"
     ]
    },
    {
     "name": "stdout",
     "output_type": "stream",
     "text": [
      "Average loss:  1.84561492836\n",
      "Learning rate:  1.40625\n",
      "juptot cedrtedes af t wan tzeresel boster erline done arcus farcipee ssed macopt liot parsait mode sp\n"
     ]
    },
    {
     "name": "stderr",
     "output_type": "stream",
     "text": [
      " 27%|██▋       | 219005/800001 [1:26:39<4:27:37, 36.18it/s]"
     ]
    },
    {
     "name": "stdout",
     "output_type": "stream",
     "text": [
      "Average loss:  1.86097270918\n",
      "Learning rate:  1.40625\n",
      "usponticis acka matypriand atonses crumentiss s antok tseun srima the govir tixc the oslamed in can e\n"
     ]
    },
    {
     "name": "stderr",
     "output_type": "stream",
     "text": [
      " 28%|██▊       | 220004/800001 [1:27:03<4:25:34, 36.40it/s]"
     ]
    },
    {
     "name": "stdout",
     "output_type": "stream",
     "text": [
      "Average loss:  1.8415918138\n",
      "Learning rate:  1.40625\n",
      "jetelod valuthther stepleeas nither inignte laugeno niele s ranorit poritaulis he jutark rkisus phouh\n"
     ]
    },
    {
     "name": "stderr",
     "output_type": "stream",
     "text": [
      " 28%|██▊       | 221004/800001 [1:27:28<4:26:57, 36.15it/s]"
     ]
    },
    {
     "name": "stdout",
     "output_type": "stream",
     "text": [
      "Average loss:  1.83093814313\n",
      "Learning rate:  1.40625\n",
      "clavers and ctorthet o har stent ngatsou cofter spated to s is and on cedous dopilatro sed an lteting\n"
     ]
    },
    {
     "name": "stderr",
     "output_type": "stream",
     "text": [
      " 28%|██▊       | 222004/800001 [1:27:52<4:30:10, 35.66it/s]"
     ]
    },
    {
     "name": "stdout",
     "output_type": "stream",
     "text": [
      "Average loss:  1.84999975669\n",
      "Learning rate:  1.40625\n",
      "nithis cth couste mascorused for nigh wotl awe sale ano gha formed tw e alont wat pads comfrect one t\n"
     ]
    },
    {
     "name": "stderr",
     "output_type": "stream",
     "text": [
      " 28%|██▊       | 223003/800001 [1:28:15<4:31:40, 35.40it/s]"
     ]
    },
    {
     "name": "stdout",
     "output_type": "stream",
     "text": [
      "Average loss:  1.84554494977\n",
      "Learning rate:  1.40625\n",
      "joquisun newar covesay begna in expco mpry wat cholan of namuat of buging y whrend ay uest noumeno ar\n"
     ]
    },
    {
     "name": "stderr",
     "output_type": "stream",
     "text": [
      " 28%|██▊       | 224003/800001 [1:28:39<4:29:59, 35.56it/s]"
     ]
    },
    {
     "name": "stdout",
     "output_type": "stream",
     "text": [
      "Average loss:  1.8627441678\n",
      "Learning rate:  1.40625\n",
      "ytha sliischyiling ereterment of the angulasist chewnathouth devines and awo dver hanina thua sumdici\n"
     ]
    },
    {
     "name": "stderr",
     "output_type": "stream",
     "text": [
      " 28%|██▊       | 225007/800001 [1:29:03<4:12:47, 37.91it/s]"
     ]
    },
    {
     "name": "stdout",
     "output_type": "stream",
     "text": [
      "Average loss:  1.8493392266\n",
      "Learning rate:  1.40625\n",
      "hamon id bele thenere socelles is profola liget nimiteran stiny s coworkica ntyon hevermin demintever\n"
     ]
    },
    {
     "name": "stderr",
     "output_type": "stream",
     "text": [
      " 28%|██▊       | 226006/800001 [1:29:27<4:08:59, 38.42it/s]"
     ]
    },
    {
     "name": "stdout",
     "output_type": "stream",
     "text": [
      "Average loss:  1.84710678613\n",
      "Learning rate:  1.40625\n",
      "quextoy between jacan calden in stant muiding youthe condected in taple itemas s aines perso nive nve\n"
     ]
    },
    {
     "name": "stderr",
     "output_type": "stream",
     "text": [
      " 28%|██▊       | 227006/800001 [1:29:51<4:09:43, 38.24it/s]"
     ]
    },
    {
     "name": "stdout",
     "output_type": "stream",
     "text": [
      "Average loss:  1.84560679209\n",
      "Learning rate:  1.40625\n",
      "thest aysofractond of llader to prabatry furctyot in landby longo hoved stovens of ctorminct of to th\n"
     ]
    },
    {
     "name": "stderr",
     "output_type": "stream",
     "text": [
      " 29%|██▊       | 228004/800001 [1:30:15<4:17:43, 36.99it/s]"
     ]
    },
    {
     "name": "stdout",
     "output_type": "stream",
     "text": [
      "Average loss:  1.83825831628\n",
      "Learning rate:  1.40625\n",
      "mort it notwhry chartertil in lex olen d fore the pernonol bosl ant cimiter acdunnsp ix thes suevonce\n"
     ]
    },
    {
     "name": "stderr",
     "output_type": "stream",
     "text": [
      " 29%|██▊       | 229004/800001 [1:30:39<4:26:02, 35.77it/s]"
     ]
    },
    {
     "name": "stdout",
     "output_type": "stream",
     "text": [
      "Average loss:  1.84978548431\n",
      "Learning rate:  1.40625\n",
      "zerg auston ha madrea covens oredina convention in o hht hav howzer ypa sund ofeding shall onhy apole\n"
     ]
    },
    {
     "name": "stderr",
     "output_type": "stream",
     "text": [
      " 29%|██▉       | 230004/800001 [1:31:03<4:22:44, 36.16it/s]"
     ]
    },
    {
     "name": "stdout",
     "output_type": "stream",
     "text": [
      "Average loss:  1.85543969107\n",
      "Learning rate:  1.40625\n",
      "cone marsturees se val wowle csbly saplly latrevicit iafavo jayngenod dprootealastoniched thiadis bat\n"
     ]
    },
    {
     "name": "stderr",
     "output_type": "stream",
     "text": [
      " 29%|██▉       | 231003/800001 [1:31:27<4:20:45, 36.37it/s]"
     ]
    },
    {
     "name": "stdout",
     "output_type": "stream",
     "text": [
      "Average loss:  1.86653457153\n",
      "Learning rate:  1.40625\n",
      "frent rtis tone whol be the topeledor and todeirn wha bsy mariacled rowen and chend alloment of bethe\n"
     ]
    },
    {
     "name": "stderr",
     "output_type": "stream",
     "text": [
      " 29%|██▉       | 232003/800001 [1:31:50<4:20:47, 36.30it/s]"
     ]
    },
    {
     "name": "stdout",
     "output_type": "stream",
     "text": [
      "Average loss:  1.84970399868\n",
      "Learning rate:  1.40625\n",
      "sulbvis il owh more ynabluback hels by ano gewerer mesishon te hbick changaco laserin stainex drownda\n"
     ]
    },
    {
     "name": "stderr",
     "output_type": "stream",
     "text": [
      " 29%|██▉       | 233007/800001 [1:32:14<4:08:28, 38.03it/s]"
     ]
    },
    {
     "name": "stdout",
     "output_type": "stream",
     "text": [
      "Average loss:  1.85126534998\n",
      "Learning rate:  1.40625\n",
      "zeanttreher utignous baith from yco detrod trainser il one aidsses of the jaitret seminis oun in ro i\n"
     ]
    },
    {
     "name": "stderr",
     "output_type": "stream",
     "text": [
      " 29%|██▉       | 234002/800001 [1:32:38<4:25:08, 35.58it/s]"
     ]
    },
    {
     "name": "stdout",
     "output_type": "stream",
     "text": [
      "Average loss:  1.83253422368\n",
      "Learning rate:  1.40625\n",
      "incllins centraliea tho and colleedenine ha dansitlion cale prosunenndis situlared repanit twe on sem\n"
     ]
    },
    {
     "name": "stderr",
     "output_type": "stream",
     "text": [
      " 29%|██▉       | 235003/800001 [1:33:02<4:16:33, 36.70it/s]"
     ]
    },
    {
     "name": "stdout",
     "output_type": "stream",
     "text": [
      "Average loss:  1.81028111327\n",
      "Learning rate:  1.40625\n",
      "l initaundis the gargeil on heske te pee natively uest itover the lion uneis brtal woth ans t on care\n"
     ]
    },
    {
     "name": "stderr",
     "output_type": "stream",
     "text": [
      " 30%|██▉       | 236003/800001 [1:33:26<4:18:24, 36.38it/s]"
     ]
    },
    {
     "name": "stdout",
     "output_type": "stream",
     "text": [
      "Average loss:  1.83674420714\n",
      "Learning rate:  1.40625\n",
      "cedred twe sovont ahasung on othing seme in obeed loful archulied bsondar aysiple gereaning ditwies t\n"
     ]
    },
    {
     "name": "stderr",
     "output_type": "stream",
     "text": [
      " 30%|██▉       | 237003/800001 [1:33:49<4:19:18, 36.19it/s]"
     ]
    },
    {
     "name": "stdout",
     "output_type": "stream",
     "text": [
      "Average loss:  1.83189575648\n",
      "Learning rate:  1.40625\n",
      "verial crelinithdsces mint psyatwieg aly tesm thothiting thess dame oredeilys hry in oled ponililya t\n"
     ]
    },
    {
     "name": "stderr",
     "output_type": "stream",
     "text": [
      " 30%|██▉       | 238003/800001 [1:34:13<4:17:13, 36.41it/s]"
     ]
    },
    {
     "name": "stdout",
     "output_type": "stream",
     "text": [
      "Average loss:  1.8310726651\n",
      "Learning rate:  1.40625\n",
      "uth the dus husats seytueera and toes ausult in the labty eponous inserting purived bemphom hyinga co\n"
     ]
    },
    {
     "name": "stderr",
     "output_type": "stream",
     "text": [
      " 30%|██▉       | 239002/800001 [1:34:37<4:13:13, 36.92it/s]"
     ]
    },
    {
     "name": "stdout",
     "output_type": "stream",
     "text": [
      "Average loss:  1.83466650641\n",
      "Learning rate:  1.40625\n",
      "dssibed anc ethlac nds mascalel atin orees stassidg him r could deaschelas remaline stattien tho goun\n"
     ]
    },
    {
     "name": "stderr",
     "output_type": "stream",
     "text": [
      " 30%|███       | 240004/800001 [1:35:01<4:15:38, 36.51it/s]"
     ]
    },
    {
     "name": "stdout",
     "output_type": "stream",
     "text": [
      "Average loss:  1.8456575855\n",
      "Learning rate:  1.05469\n",
      "n ite see quemans thetes frouting portisud pionitatin semun the maly the menistonfoud a scolegall ula\n"
     ]
    },
    {
     "name": "stderr",
     "output_type": "stream",
     "text": [
      " 30%|███       | 241004/800001 [1:35:25<4:15:27, 36.47it/s]"
     ]
    },
    {
     "name": "stdout",
     "output_type": "stream",
     "text": [
      "Average loss:  1.83511570108\n",
      "Learning rate:  1.05469\n",
      " owen arminus anite ffreithec nowargy at ver exphels ffucherti sean in t fint lake the ntw purno inor\n"
     ]
    },
    {
     "name": "stderr",
     "output_type": "stream",
     "text": [
      " 30%|███       | 242006/800001 [1:35:49<4:04:16, 38.07it/s]"
     ]
    },
    {
     "name": "stdout",
     "output_type": "stream",
     "text": [
      "Average loss:  1.83964245558\n",
      "Learning rate:  1.05469\n",
      "smprized of vitior dafa mastongony was lator wau worst tomial of t compettorias s comermonis on epest\n"
     ]
    },
    {
     "name": "stderr",
     "output_type": "stream",
     "text": [
      " 30%|███       | 243006/800001 [1:36:12<4:05:03, 37.88it/s]"
     ]
    },
    {
     "name": "stdout",
     "output_type": "stream",
     "text": [
      "Average loss:  1.83853338718\n",
      "Learning rate:  1.05469\n",
      "keack nicengonis ofend chend is and hre sickites al of tareden inofils oof if isplind brongitofree as\n"
     ]
    },
    {
     "name": "stderr",
     "output_type": "stream",
     "text": [
      " 31%|███       | 244006/800001 [1:36:36<3:59:41, 38.66it/s]"
     ]
    },
    {
     "name": "stdout",
     "output_type": "stream",
     "text": [
      "Average loss:  1.83930105472\n",
      "Learning rate:  1.05469\n",
      " whise sidi ax rus itsmprismer chainl was drestens and full pasted phalonightilse on airr hes arculer\n"
     ]
    },
    {
     "name": "stderr",
     "output_type": "stream",
     "text": [
      " 31%|███       | 245004/800001 [1:37:00<4:16:47, 36.02it/s]"
     ]
    },
    {
     "name": "stdout",
     "output_type": "stream",
     "text": [
      "Average loss:  1.81246968055\n",
      "Learning rate:  1.05469\n",
      "rond heralisans epstus jafiss to wat gen one five siven batsedits and ba mayspocters desarusily nine \n"
     ]
    },
    {
     "name": "stderr",
     "output_type": "stream",
     "text": [
      " 31%|███       | 246004/800001 [1:37:24<4:11:11, 36.76it/s]"
     ]
    },
    {
     "name": "stdout",
     "output_type": "stream",
     "text": [
      "Average loss:  1.82465872681\n",
      "Learning rate:  1.05469\n",
      " u biglt fol blugb ox avalingizenisto suck ittinco in pulla crait hin misines thes a the cerbade efol\n"
     ]
    },
    {
     "name": "stderr",
     "output_type": "stream",
     "text": [
      " 31%|███       | 247003/800001 [1:37:48<4:20:29, 35.38it/s]"
     ]
    },
    {
     "name": "stdout",
     "output_type": "stream",
     "text": [
      "Average loss:  1.8248838675\n",
      "Learning rate:  1.05469\n",
      "pestomes uruthed s cemprenas enoliclmand heador palane bystian chemiona and adsecriger arnilat of d p\n"
     ]
    },
    {
     "name": "stderr",
     "output_type": "stream",
     "text": [
      " 31%|███       | 248006/800001 [1:38:12<4:07:23, 37.19it/s]"
     ]
    },
    {
     "name": "stdout",
     "output_type": "stream",
     "text": [
      "Average loss:  1.84370391631\n",
      "Learning rate:  1.05469\n",
      "voc in woredsce charnerf sovoltstor mossepse the atequint monerowino to ericst fond oc change prising\n"
     ]
    },
    {
     "name": "stderr",
     "output_type": "stream",
     "text": [
      " 31%|███       | 249003/800001 [1:38:36<4:37:46, 33.06it/s]"
     ]
    },
    {
     "name": "stdout",
     "output_type": "stream",
     "text": [
      "Average loss:  1.82196804702\n",
      "Learning rate:  1.05469\n",
      "ore lenen phelasme ss antiased by and a seple degen subbeoritevizens beramycain toker phomoulitibeis \n"
     ]
    },
    {
     "name": "stderr",
     "output_type": "stream",
     "text": [
      " 31%|███▏      | 250006/800001 [1:39:01<4:04:54, 37.43it/s]"
     ]
    },
    {
     "name": "stdout",
     "output_type": "stream",
     "text": [
      "Average loss:  1.82984646249\n",
      "Learning rate:  1.05469\n",
      "vastevestid accorvica iciment mamp bomedof escoumic the kitherex anc from saqueafla toke iathir ar hi\n"
     ]
    },
    {
     "name": "stderr",
     "output_type": "stream",
     "text": [
      " 31%|███▏      | 251005/800001 [1:39:25<4:13:02, 36.16it/s]"
     ]
    },
    {
     "name": "stdout",
     "output_type": "stream",
     "text": [
      "Average loss:  1.79844123971\n",
      "Learning rate:  1.05469\n",
      "zean no norkrea supver druby of anfixing moygrandita co two five twe nanifs bucresctors on atenghas f\n"
     ]
    },
    {
     "name": "stderr",
     "output_type": "stream",
     "text": [
      " 32%|███▏      | 252003/800001 [1:39:49<4:11:57, 36.25it/s]"
     ]
    },
    {
     "name": "stdout",
     "output_type": "stream",
     "text": [
      "Average loss:  1.85061560464\n",
      "Learning rate:  1.05469\n",
      "bys by pydisands to siaco these backide central ptonamee in the parcicisa torcombond to ane tomuctsou\n"
     ]
    },
    {
     "name": "stderr",
     "output_type": "stream",
     "text": [
      " 32%|███▏      | 253004/800001 [1:40:13<4:15:41, 35.65it/s]"
     ]
    },
    {
     "name": "stdout",
     "output_type": "stream",
     "text": [
      "Average loss:  1.83621848476\n",
      "Learning rate:  1.05469\n",
      "fan wholasm whire rathalled rale nor chesllenus whas dur nom balator of resabid the bokk eaghist for \n"
     ]
    },
    {
     "name": "stderr",
     "output_type": "stream",
     "text": [
      " 32%|███▏      | 254003/800001 [1:40:37<4:14:26, 35.76it/s]"
     ]
    },
    {
     "name": "stdout",
     "output_type": "stream",
     "text": [
      "Average loss:  1.83109858096\n",
      "Learning rate:  1.05469\n",
      "k edegically dove th the jre the linely y uis trsad vacua th eiffo kond waic uleel infreas evrredage \n"
     ]
    },
    {
     "name": "stderr",
     "output_type": "stream",
     "text": [
      " 32%|███▏      | 255005/800001 [1:41:01<4:06:25, 36.86it/s]"
     ]
    },
    {
     "name": "stdout",
     "output_type": "stream",
     "text": [
      "Average loss:  1.83595648885\n",
      "Learning rate:  1.05469\n",
      "es ailsesca itwark w ippr bosk state thas ocel the by within ahtis frenth acenty was animall herityl \n"
     ]
    },
    {
     "name": "stderr",
     "output_type": "stream",
     "text": [
      " 32%|███▏      | 256005/800001 [1:41:25<4:08:12, 36.53it/s]"
     ]
    },
    {
     "name": "stdout",
     "output_type": "stream",
     "text": [
      "Average loss:  1.83674834979\n",
      "Learning rate:  1.05469\n",
      "qus pid empropminn spobsua chiped ored if ethlyon y add moves thal vaher one nentwey treize siof emag\n"
     ]
    },
    {
     "name": "stderr",
     "output_type": "stream",
     "text": [
      " 32%|███▏      | 257004/800001 [1:41:49<4:23:49, 34.30it/s]"
     ]
    },
    {
     "name": "stdout",
     "output_type": "stream",
     "text": [
      "Average loss:  1.82986805856\n",
      "Learning rate:  1.05469\n",
      "uce hediat of har twa zero zero zero zero zirpuca on entors io ford the gursif effacis althong roleve\n"
     ]
    },
    {
     "name": "stderr",
     "output_type": "stream",
     "text": [
      " 32%|███▏      | 258004/800001 [1:42:13<4:09:58, 36.14it/s]"
     ]
    },
    {
     "name": "stdout",
     "output_type": "stream",
     "text": [
      "Average loss:  1.8313360039\n",
      "Learning rate:  1.05469\n",
      "valiuy rile in to t magumino pmes aldo crisis phelised ctare toor fired ausllits neak twino theangena\n"
     ]
    },
    {
     "name": "stderr",
     "output_type": "stream",
     "text": [
      " 32%|███▏      | 259004/800001 [1:42:37<4:11:29, 35.85it/s]"
     ]
    },
    {
     "name": "stdout",
     "output_type": "stream",
     "text": [
      "Average loss:  1.84910238338\n",
      "Learning rate:  1.05469\n",
      "d oofuro oun sond edeco acristed wotleanty cous bothiry plypedree kedeat on mogecom ture te three ppo\n"
     ]
    },
    {
     "name": "stderr",
     "output_type": "stream",
     "text": [
      " 33%|███▎      | 260006/800001 [1:43:01<3:58:04, 37.80it/s]"
     ]
    },
    {
     "name": "stdout",
     "output_type": "stream",
     "text": [
      "Average loss:  1.84849462044\n",
      "Learning rate:  1.05469\n",
      "y ha dicofled wal now redeca tatwing dontey for in w atsect of apter inspras muby texho chink appoora\n"
     ]
    },
    {
     "name": "stderr",
     "output_type": "stream",
     "text": [
      " 33%|███▎      | 261005/800001 [1:43:25<4:08:55, 36.09it/s]"
     ]
    },
    {
     "name": "stdout",
     "output_type": "stream",
     "text": [
      "Average loss:  1.83965007842\n",
      "Learning rate:  1.05469\n",
      "cfaretimes lacets im thes ury weycootle astodsisutlo gustins madiett at by mort ffarntso forres ong o\n"
     ]
    },
    {
     "name": "stderr",
     "output_type": "stream",
     "text": [
      " 33%|███▎      | 262005/800001 [1:43:49<4:09:49, 35.89it/s]"
     ]
    },
    {
     "name": "stdout",
     "output_type": "stream",
     "text": [
      "Average loss:  1.83571586764\n",
      "Learning rate:  1.05469\n",
      "quay stinusit rugat or dioferns fret of chrg ose compather ocharors aid vecha uxade lentwriag ynounil\n"
     ]
    },
    {
     "name": "stderr",
     "output_type": "stream",
     "text": [
      " 33%|███▎      | 263003/800001 [1:44:13<4:08:42, 35.99it/s]"
     ]
    },
    {
     "name": "stdout",
     "output_type": "stream",
     "text": [
      "Average loss:  1.8527740314\n",
      "Learning rate:  1.05469\n",
      " madasion toprower wistamce th one nine zero yias llived hy owe bould baress nie kengere surz ancle t\n"
     ]
    },
    {
     "name": "stderr",
     "output_type": "stream",
     "text": [
      " 33%|███▎      | 264002/800001 [1:44:38<4:09:38, 35.78it/s]"
     ]
    },
    {
     "name": "stdout",
     "output_type": "stream",
     "text": [
      "Average loss:  1.84579430914\n",
      "Learning rate:  1.05469\n",
      "nsystadl eed wend zero hedis sother lengre ascas insleat lithel weis ofe for on hey ureavidra dvec pe\n"
     ]
    },
    {
     "name": "stderr",
     "output_type": "stream",
     "text": [
      " 33%|███▎      | 265002/800001 [1:45:02<4:09:07, 35.79it/s]"
     ]
    },
    {
     "name": "stdout",
     "output_type": "stream",
     "text": [
      "Average loss:  1.84929549575\n",
      "Learning rate:  1.05469\n",
      "vor the tolas he bedias groups ruthe that thein chinst ant ubber in shopthe g espacter mense neattol \n"
     ]
    },
    {
     "name": "stderr",
     "output_type": "stream",
     "text": [
      " 33%|███▎      | 266006/800001 [1:45:26<3:52:46, 38.23it/s]"
     ]
    },
    {
     "name": "stdout",
     "output_type": "stream",
     "text": [
      "Average loss:  1.8480453825\n",
      "Learning rate:  1.05469\n",
      "mprinsebrily ast theic ereaud in theyring pteld thay nos of pritabules iofilision word induptisgaren \n"
     ]
    },
    {
     "name": "stderr",
     "output_type": "stream",
     "text": [
      " 33%|███▎      | 267005/800001 [1:45:50<4:06:06, 36.09it/s]"
     ]
    },
    {
     "name": "stdout",
     "output_type": "stream",
     "text": [
      "Average loss:  1.82841939461\n",
      "Learning rate:  1.05469\n",
      "monke ear hut jesever assedring the twe herersilstad nated iaf cedsuit of thise hasesco zero zorof la\n"
     ]
    },
    {
     "name": "stderr",
     "output_type": "stream",
     "text": [
      " 34%|███▎      | 268004/800001 [1:46:14<4:05:18, 36.14it/s]"
     ]
    },
    {
     "name": "stdout",
     "output_type": "stream",
     "text": [
      "Average loss:  1.85137745345\n",
      "Learning rate:  1.05469\n",
      "kiscreesty theic joheaby tupunis te thors in linermine sigres lwass batt hede ains divisem hobbens ph\n"
     ]
    },
    {
     "name": "stderr",
     "output_type": "stream",
     "text": [
      " 34%|███▎      | 269003/800001 [1:46:38<4:07:56, 35.69it/s]"
     ]
    },
    {
     "name": "stdout",
     "output_type": "stream",
     "text": [
      "Average loss:  1.8393206445\n",
      "Learning rate:  1.05469\n",
      "uplo th t mountsomaun such as aissinge soctirne im toors thesptulilg wathad hen stares worndorian swi\n"
     ]
    },
    {
     "name": "stderr",
     "output_type": "stream",
     "text": [
      " 34%|███▍      | 270003/800001 [1:47:02<4:05:04, 36.04it/s]"
     ]
    },
    {
     "name": "stdout",
     "output_type": "stream",
     "text": [
      "Average loss:  1.85537800694\n",
      "Learning rate:  1.05469\n",
      "in ay as s s her ffo roder developman sexte conncterchure bablus mushares of carophid arthy renending\n"
     ]
    },
    {
     "name": "stderr",
     "output_type": "stream",
     "text": [
      " 34%|███▍      | 271003/800001 [1:47:26<4:14:00, 34.71it/s]"
     ]
    },
    {
     "name": "stdout",
     "output_type": "stream",
     "text": [
      "Average loss:  1.8536870445\n",
      "Learning rate:  1.05469\n",
      "rewey th inchelselid reithen ianizlats chareenccl of perpofred t ans four sex zero renest of incluris\n"
     ]
    },
    {
     "name": "stderr",
     "output_type": "stream",
     "text": [
      " 34%|███▍      | 272007/800001 [1:47:50<3:51:11, 38.06it/s]"
     ]
    },
    {
     "name": "stdout",
     "output_type": "stream",
     "text": [
      "Average loss:  1.82850143671\n",
      "Learning rate:  1.05469\n",
      "mexty ofin excmoutes angater of the inffrest jush in insuct assedvared fol gin o fto ta raggequs the \n"
     ]
    },
    {
     "name": "stderr",
     "output_type": "stream",
     "text": [
      " 34%|███▍      | 273006/800001 [1:48:14<3:50:51, 38.05it/s]"
     ]
    },
    {
     "name": "stdout",
     "output_type": "stream",
     "text": [
      "Average loss:  1.83990745735\n",
      "Learning rate:  1.05469\n",
      "m lisplie th tho alsogntwabrented by arcisean elaci aqlysidg in aillilian cotrof beditad a forman cre\n"
     ]
    },
    {
     "name": "stderr",
     "output_type": "stream",
     "text": [
      " 34%|███▍      | 274006/800001 [1:48:38<3:52:37, 37.69it/s]"
     ]
    },
    {
     "name": "stdout",
     "output_type": "stream",
     "text": [
      "Average loss:  1.82078157914\n",
      "Learning rate:  1.05469\n",
      "x thes as the s se vos iss floo ced and kially one zero htar ant and pheycounain one zero zero chmili\n"
     ]
    },
    {
     "name": "stderr",
     "output_type": "stream",
     "text": [
      " 34%|███▍      | 275006/800001 [1:49:03<3:52:36, 37.62it/s]"
     ]
    },
    {
     "name": "stdout",
     "output_type": "stream",
     "text": [
      "Average loss:  1.82536453736\n",
      "Learning rate:  1.05469\n",
      "grough andan meris on tho gimiles of m ian and revendeleil with also jalutis aced formen mulissorrawt\n"
     ]
    },
    {
     "name": "stderr",
     "output_type": "stream",
     "text": [
      " 35%|███▍      | 276005/800001 [1:49:27<3:57:49, 36.72it/s]"
     ]
    },
    {
     "name": "stdout",
     "output_type": "stream",
     "text": [
      "Average loss:  1.84017069983\n",
      "Learning rate:  1.05469\n",
      "hurltess three enet staness w whice inilit owe nob cooninata n wpireader incouddanint deash reilly ve\n"
     ]
    },
    {
     "name": "stderr",
     "output_type": "stream",
     "text": [
      " 35%|███▍      | 277003/800001 [1:49:51<4:01:55, 36.03it/s]"
     ]
    },
    {
     "name": "stdout",
     "output_type": "stream",
     "text": [
      "Average loss:  1.83863284671\n",
      "Learning rate:  1.05469\n",
      "areat is fare whreeres suis and eronge by nlais bras english vore tha sicintty chind hand myss religi\n"
     ]
    },
    {
     "name": "stderr",
     "output_type": "stream",
     "text": [
      " 35%|███▍      | 278006/800001 [1:50:15<3:54:54, 37.03it/s]"
     ]
    },
    {
     "name": "stdout",
     "output_type": "stream",
     "text": [
      "Average loss:  1.83084758401\n",
      "Learning rate:  1.05469\n",
      "sotrishe golanter nem cote in ss in changel bate choplengirs of ssl codprenger ge munding redrnsing n\n"
     ]
    },
    {
     "name": "stderr",
     "output_type": "stream",
     "text": [
      " 35%|███▍      | 279006/800001 [1:50:39<3:48:53, 37.94it/s]"
     ]
    },
    {
     "name": "stdout",
     "output_type": "stream",
     "text": [
      "Average loss:  1.83255403733\n",
      "Learning rate:  1.05469\n",
      "sthe galed sever one five blice wiuls efreye ut os ascum lesal stipmente mona d suaclakhat of colth w\n"
     ]
    },
    {
     "name": "stderr",
     "output_type": "stream",
     "text": [
      " 35%|███▌      | 280006/800001 [1:51:03<3:52:25, 37.29it/s]"
     ]
    },
    {
     "name": "stdout",
     "output_type": "stream",
     "text": [
      "Average loss:  1.82397501945\n",
      "Learning rate:  1.05469\n",
      "aber chis and whild phaliacunt cas user neterale one eeg of the of chint suchicisil ba tho est in bic\n"
     ]
    },
    {
     "name": "stderr",
     "output_type": "stream",
     "text": [
      " 35%|███▌      | 281003/800001 [1:51:27<3:57:06, 36.48it/s]"
     ]
    },
    {
     "name": "stdout",
     "output_type": "stream",
     "text": [
      "Average loss:  1.8202507745\n",
      "Learning rate:  1.05469\n",
      "e ars ornags tape auntrgeq inclued ta gemige one five term engeither ith oreeco on iest veiting whe n\n"
     ]
    },
    {
     "name": "stderr",
     "output_type": "stream",
     "text": [
      " 35%|███▌      | 282003/800001 [1:51:51<3:57:46, 36.31it/s]"
     ]
    },
    {
     "name": "stdout",
     "output_type": "stream",
     "text": [
      "Average loss:  1.80568254507\n",
      "Learning rate:  1.05469\n",
      "us mas had chera sitepa ti a lse mpis a poritay cunter ored goveramy lycto setolan boala formes of eb\n"
     ]
    },
    {
     "name": "stderr",
     "output_type": "stream",
     "text": [
      " 35%|███▌      | 283006/800001 [1:52:15<3:48:46, 37.66it/s]"
     ]
    },
    {
     "name": "stdout",
     "output_type": "stream",
     "text": [
      "Average loss:  1.83864402807\n",
      "Learning rate:  1.05469\n",
      "os tha dubiker ilscadiazer ade tieling balk indetertots tine pthaco toarcas ix th ont d on tolesy by \n"
     ]
    },
    {
     "name": "stderr",
     "output_type": "stream",
     "text": [
      " 36%|███▌      | 284003/800001 [1:52:39<3:56:36, 36.35it/s]"
     ]
    },
    {
     "name": "stdout",
     "output_type": "stream",
     "text": [
      "Average loss:  1.83137251043\n",
      "Learning rate:  1.05469\n",
      "cail the ligkting and ih war arsuss these fiomp asthind nognd what byoss of colicsidielare cize f oin\n"
     ]
    },
    {
     "name": "stderr",
     "output_type": "stream",
     "text": [
      " 36%|███▌      | 285003/800001 [1:53:03<4:00:01, 35.76it/s]"
     ]
    },
    {
     "name": "stdout",
     "output_type": "stream",
     "text": [
      "Average loss:  1.81245806396\n",
      "Learning rate:  1.05469\n",
      "yiathix oupredilist abserne ly thes zeso thesusu in mad os fraz chargend bebgen aodule ara nheriua gr\n"
     ]
    },
    {
     "name": "stderr",
     "output_type": "stream",
     "text": [
      " 36%|███▌      | 286006/800001 [1:53:27<3:44:52, 38.10it/s]"
     ]
    },
    {
     "name": "stdout",
     "output_type": "stream",
     "text": [
      "Average loss:  1.85585603237\n",
      "Learning rate:  1.05469\n",
      "inothiln wiondjugos work other tha f molacol took aioll dofole in the erecry be assteft of zer anc as\n"
     ]
    },
    {
     "name": "stderr",
     "output_type": "stream",
     "text": [
      " 36%|███▌      | 287006/800001 [1:53:51<3:49:50, 37.20it/s]"
     ]
    },
    {
     "name": "stdout",
     "output_type": "stream",
     "text": [
      "Average loss:  1.82629525828\n",
      "Learning rate:  1.05469\n",
      "amixism of nowel ares ia her revonitarios and the supron forrlde aw rescinve now destire th in the ty\n"
     ]
    },
    {
     "name": "stderr",
     "output_type": "stream",
     "text": [
      " 36%|███▌      | 288005/800001 [1:54:15<3:52:03, 36.77it/s]"
     ]
    },
    {
     "name": "stdout",
     "output_type": "stream",
     "text": [
      "Average loss:  1.85171376133\n",
      "Learning rate:  1.05469\n",
      "herory whac wishiler and s matyer thest ip iaj sincelan whore homis s nazef ndwing with nemelincop hi\n"
     ]
    },
    {
     "name": "stderr",
     "output_type": "stream",
     "text": [
      " 36%|███▌      | 289005/800001 [1:54:39<3:55:32, 36.16it/s]"
     ]
    },
    {
     "name": "stdout",
     "output_type": "stream",
     "text": [
      "Average loss:  1.85393521917\n",
      "Learning rate:  1.05469\n",
      "fedr hes have versal latseg efalicoseliot tagel grnimands stides the cots to but an one and copla pur\n"
     ]
    },
    {
     "name": "stderr",
     "output_type": "stream",
     "text": [
      " 36%|███▋      | 290004/800001 [1:55:03<3:52:45, 36.52it/s]"
     ]
    },
    {
     "name": "stdout",
     "output_type": "stream",
     "text": [
      "Average loss:  1.84283136976\n",
      "Learning rate:  1.05469\n",
      "quin tere thie twe ode bo that vorstr hquy f ofesedetstik versef olen wo ldey toud toker ogeen botis \n"
     ]
    },
    {
     "name": "stderr",
     "output_type": "stream",
     "text": [
      " 36%|███▋      | 291004/800001 [1:55:27<3:54:31, 36.17it/s]"
     ]
    },
    {
     "name": "stdout",
     "output_type": "stream",
     "text": [
      "Average loss:  1.8299696548\n",
      "Learning rate:  1.05469\n",
      "ofillerimary lichis and isps four invost asstubyea thoter lithalde socisaple masye s aw rors misthore\n"
     ]
    },
    {
     "name": "stderr",
     "output_type": "stream",
     "text": [
      " 37%|███▋      | 292005/800001 [1:55:52<3:59:23, 35.37it/s]"
     ]
    },
    {
     "name": "stdout",
     "output_type": "stream",
     "text": [
      "Average loss:  1.82507542181\n",
      "Learning rate:  1.05469\n",
      "mphed ic hus exten ie n joha dabale ande the rogack resuls the itl ofes in lass of esranist polent se\n"
     ]
    },
    {
     "name": "stderr",
     "output_type": "stream",
     "text": [
      " 37%|███▋      | 293003/800001 [1:56:16<3:53:49, 36.14it/s]"
     ]
    },
    {
     "name": "stdout",
     "output_type": "stream",
     "text": [
      "Average loss:  1.83157693446\n",
      "Learning rate:  1.05469\n",
      "is thr earle tore af curled and bagerod ungimerion lakingen mimis elscotthryin be torgy theteaby fert\n"
     ]
    },
    {
     "name": "stderr",
     "output_type": "stream",
     "text": [
      " 37%|███▋      | 294002/800001 [1:56:40<3:53:36, 36.10it/s]"
     ]
    },
    {
     "name": "stdout",
     "output_type": "stream",
     "text": [
      "Average loss:  1.82570654333\n",
      "Learning rate:  1.05469\n",
      "ks tho grampret nithis ie n x rogeneshon mad bauste tha gas in tha valvey the maoibarias cononition t\n"
     ]
    },
    {
     "name": "stderr",
     "output_type": "stream",
     "text": [
      " 37%|███▋      | 295003/800001 [1:57:04<3:51:04, 36.42it/s]"
     ]
    },
    {
     "name": "stdout",
     "output_type": "stream",
     "text": [
      "Average loss:  1.83197314179\n",
      "Learning rate:  1.05469\n",
      "cubsulany ta thar the sted dofriy persy heven uled by negrian forled and tree serial descrabsther the\n"
     ]
    },
    {
     "name": "stderr",
     "output_type": "stream",
     "text": [
      " 37%|███▋      | 296003/800001 [1:57:28<3:52:25, 36.14it/s]"
     ]
    },
    {
     "name": "stdout",
     "output_type": "stream",
     "text": [
      "Average loss:  1.82497967982\n",
      "Learning rate:  1.05469\n",
      "l varutur oremon iplits of te mithirg to rigutera id nawis iathotac rovent two zeos four nevanke s at\n"
     ]
    },
    {
     "name": "stderr",
     "output_type": "stream",
     "text": [
      " 37%|███▋      | 297003/800001 [1:57:52<3:52:28, 36.06it/s]"
     ]
    },
    {
     "name": "stdout",
     "output_type": "stream",
     "text": [
      "Average loss:  1.84176430321\n",
      "Learning rate:  1.05469\n",
      "asis his on targus he whocubed freecrhelsy hiilind onct pavaly harm rman gedring labyro the hause for\n"
     ]
    },
    {
     "name": "stderr",
     "output_type": "stream",
     "text": [
      " 37%|███▋      | 298002/800001 [1:58:16<3:49:30, 36.46it/s]"
     ]
    },
    {
     "name": "stdout",
     "output_type": "stream",
     "text": [
      "Average loss:  1.83116829383\n",
      "Learning rate:  1.05469\n",
      "syec one zero or aly and the the fak erests an tuxing themere meriarg nowecy ffoud in on ese groft ta\n"
     ]
    },
    {
     "name": "stderr",
     "output_type": "stream",
     "text": [
      " 37%|███▋      | 299002/800001 [1:58:40<3:49:06, 36.44it/s]"
     ]
    },
    {
     "name": "stdout",
     "output_type": "stream",
     "text": [
      "Average loss:  1.81626762998\n",
      "Learning rate:  1.05469\n",
      "is porvitiel te tereatade arvestes onned follorationseakst woulds willisa hammixtigreptod was inserve\n"
     ]
    },
    {
     "name": "stderr",
     "output_type": "stream",
     "text": [
      " 38%|███▊      | 300002/800001 [1:59:04<3:51:46, 35.96it/s]"
     ]
    },
    {
     "name": "stdout",
     "output_type": "stream",
     "text": [
      "Average loss:  1.83278479552\n",
      "Learning rate:  1.05469\n",
      "fthe siskn furtwny of raurast chome bead the by yraic compresieny hag the sbes this ons th eace for c\n"
     ]
    },
    {
     "name": "stderr",
     "output_type": "stream",
     "text": [
      " 38%|███▊      | 301006/800001 [1:59:28<3:44:15, 37.08it/s]"
     ]
    },
    {
     "name": "stdout",
     "output_type": "stream",
     "text": [
      "Average loss:  1.82643475854\n",
      "Learning rate:  1.05469\n",
      "jowen hrsacuratibne corting cum undives cerman betameruge the seme ford of this in io jowna mizwirn p\n"
     ]
    },
    {
     "name": "stderr",
     "output_type": "stream",
     "text": [
      " 38%|███▊      | 302003/800001 [1:59:52<3:51:58, 35.78it/s]"
     ]
    },
    {
     "name": "stdout",
     "output_type": "stream",
     "text": [
      "Average loss:  1.84221008396\n",
      "Learning rate:  1.05469\n",
      "questopled forredlay and lvid on the ono with to ectaply centary romalusit dey and af thetrorke seeva\n"
     ]
    },
    {
     "name": "stderr",
     "output_type": "stream",
     "text": [
      " 38%|███▊      | 303005/800001 [2:00:17<3:49:38, 36.07it/s]"
     ]
    },
    {
     "name": "stdout",
     "output_type": "stream",
     "text": [
      "Average loss:  1.83868604159\n",
      "Learning rate:  1.05469\n",
      "caly nord has fol cooftirg mathing prema atwhrisis the probeemther ore laggot poon te tha gelrera sed\n"
     ]
    },
    {
     "name": "stderr",
     "output_type": "stream",
     "text": [
      " 38%|███▊      | 304003/800001 [2:00:41<3:50:29, 35.86it/s]"
     ]
    },
    {
     "name": "stdout",
     "output_type": "stream",
     "text": [
      "Average loss:  1.82838529301\n",
      "Learning rate:  1.05469\n",
      "delepr thi hell canngerthersela fouched tred s owh ecenotset ablizendatt inament nccoration conscypru\n"
     ]
    },
    {
     "name": "stderr",
     "output_type": "stream",
     "text": [
      " 38%|███▊      | 305002/800001 [2:01:05<3:45:54, 36.52it/s]"
     ]
    },
    {
     "name": "stdout",
     "output_type": "stream",
     "text": [
      "Average loss:  1.83534804964\n",
      "Learning rate:  1.05469\n",
      "bus farceary burnconder on the ceacl catsod bass hare baling ar hasser amp the sthatalis ti neclo nim\n"
     ]
    },
    {
     "name": "stderr",
     "output_type": "stream",
     "text": [
      " 38%|███▊      | 306006/800001 [2:01:29<3:36:40, 38.00it/s]"
     ]
    },
    {
     "name": "stdout",
     "output_type": "stream",
     "text": [
      "Average loss:  1.82263580382\n",
      "Learning rate:  1.05469\n",
      "veratwerac wa co lithles brogertor avdole in chama of hal and oldremae sorwand mofes ofecl frinded tw\n"
     ]
    },
    {
     "name": "stderr",
     "output_type": "stream",
     "text": [
      " 38%|███▊      | 307006/800001 [2:01:53<3:38:23, 37.62it/s]"
     ]
    },
    {
     "name": "stdout",
     "output_type": "stream",
     "text": [
      "Average loss:  1.83360312057\n",
      "Learning rate:  1.05469\n",
      "ced of tave vedsth hiofo peccusus in ont by xurgenor the in bdim anw war and are the rofd cople rappe\n"
     ]
    },
    {
     "name": "stderr",
     "output_type": "stream",
     "text": [
      " 39%|███▊      | 308005/800001 [2:02:17<3:52:52, 35.21it/s]"
     ]
    },
    {
     "name": "stdout",
     "output_type": "stream",
     "text": [
      "Average loss:  1.83905688655\n",
      "Learning rate:  1.05469\n",
      "iloceiloningar sivisityend othen cherdmingule werd nine revallen fires to ithara porto syction sed ch\n"
     ]
    },
    {
     "name": "stderr",
     "output_type": "stream",
     "text": [
      " 39%|███▊      | 309003/800001 [2:02:41<3:45:13, 36.34it/s]"
     ]
    },
    {
     "name": "stdout",
     "output_type": "stream",
     "text": [
      "Average loss:  1.85402635348\n",
      "Learning rate:  1.05469\n",
      "esichan u f hreath rothira of alence tha zero z rtheranf on esembjustone lantras staby dess in into h\n"
     ]
    },
    {
     "name": "stderr",
     "output_type": "stream",
     "text": [
      " 39%|███▉      | 310003/800001 [2:03:05<3:45:58, 36.14it/s]"
     ]
    },
    {
     "name": "stdout",
     "output_type": "stream",
     "text": [
      "Average loss:  1.82738093531\n",
      "Learning rate:  1.05469\n",
      "g keber alm his hes amediture y oreacis during homesc ofe toporickiug howeres the hedeb tleors ty tha\n"
     ]
    },
    {
     "name": "stderr",
     "output_type": "stream",
     "text": [
      " 39%|███▉      | 311006/800001 [2:03:29<3:36:19, 37.67it/s]"
     ]
    },
    {
     "name": "stdout",
     "output_type": "stream",
     "text": [
      "Average loss:  1.84756187046\n",
      "Learning rate:  1.05469\n",
      "bitat is the thein conlize coumbr beds chicatiin one three nendad importanteve the unes of the siacen\n"
     ]
    },
    {
     "name": "stderr",
     "output_type": "stream",
     "text": [
      " 39%|███▉      | 312005/800001 [2:03:53<3:51:20, 35.16it/s]"
     ]
    },
    {
     "name": "stdout",
     "output_type": "stream",
     "text": [
      "Average loss:  1.81751010036\n",
      "Learning rate:  1.05469\n",
      "ofmexcs wojles niemeriam s gonghing ie chaveebed compestrors eficous cotsubud domyo matsen blichics a\n"
     ]
    },
    {
     "name": "stderr",
     "output_type": "stream",
     "text": [
      " 39%|███▉      | 313005/800001 [2:04:17<3:42:53, 36.42it/s]"
     ]
    },
    {
     "name": "stdout",
     "output_type": "stream",
     "text": [
      "Average loss:  1.79975251067\n",
      "Learning rate:  1.05469\n",
      "jop early bronaiz his armina lyad mame in the framucy yna the tho known early the scoteviler amecinin\n"
     ]
    },
    {
     "name": "stderr",
     "output_type": "stream",
     "text": [
      " 39%|███▉      | 314005/800001 [2:04:41<3:51:07, 35.04it/s]"
     ]
    },
    {
     "name": "stdout",
     "output_type": "stream",
     "text": [
      "Average loss:  1.81975009203\n",
      "Learning rate:  1.05469\n",
      "pagrenedrina tutthe rny isaned firat thab and twe with wa late used erficy mosed on the gind of t ol \n"
     ]
    },
    {
     "name": "stderr",
     "output_type": "stream",
     "text": [
      " 39%|███▉      | 315005/800001 [2:05:06<3:40:00, 36.74it/s]"
     ]
    },
    {
     "name": "stdout",
     "output_type": "stream",
     "text": [
      "Average loss:  1.81952370334\n",
      "Learning rate:  1.05469\n",
      "prepetea s ahsixt constuina ant f ouk higal od ne be foun wallari seread galed and my jusisi s pevel \n"
     ]
    },
    {
     "name": "stderr",
     "output_type": "stream",
     "text": [
      " 40%|███▉      | 316005/800001 [2:05:30<3:45:53, 35.71it/s]"
     ]
    },
    {
     "name": "stdout",
     "output_type": "stream",
     "text": [
      "Average loss:  1.81644361818\n",
      "Learning rate:  1.05469\n",
      "corfand fov ripheltwarist was surmaciag towird ouppobyelo to be sser carcondes collectidiatianity fto\n"
     ]
    },
    {
     "name": "stderr",
     "output_type": "stream",
     "text": [
      " 40%|███▉      | 317005/800001 [2:05:54<3:47:17, 35.42it/s]"
     ]
    },
    {
     "name": "stdout",
     "output_type": "stream",
     "text": [
      "Average loss:  1.82145881712\n",
      "Learning rate:  1.05469\n",
      "overy inst raclano wage arsiciea paips ala obea ar ba tie on the moftis wat fintwotirv ir shigt k rat\n"
     ]
    },
    {
     "name": "stderr",
     "output_type": "stream",
     "text": [
      " 40%|███▉      | 318003/800001 [2:06:18<3:42:50, 36.05it/s]"
     ]
    },
    {
     "name": "stdout",
     "output_type": "stream",
     "text": [
      "Average loss:  1.83017375076\n",
      "Learning rate:  1.05469\n",
      "dercevi gurumiry loff ard alien buls atlemies ars feretreia holestwaw ssitids ia mpry orade centor ff\n"
     ]
    },
    {
     "name": "stderr",
     "output_type": "stream",
     "text": [
      " 40%|███▉      | 319002/800001 [2:06:42<3:43:02, 35.94it/s]"
     ]
    },
    {
     "name": "stdout",
     "output_type": "stream",
     "text": [
      "Average loss:  1.83069018865\n",
      "Learning rate:  1.05469\n",
      "lyeal by maly the kn when commencigl of phicopeibby mani the fartcred tha national pessepres thesuren\n"
     ]
    },
    {
     "name": "stderr",
     "output_type": "stream",
     "text": [
      " 40%|████      | 320002/800001 [2:07:06<3:39:44, 36.41it/s]"
     ]
    },
    {
     "name": "stdout",
     "output_type": "stream",
     "text": [
      "Average loss:  1.82876968145\n",
      "Learning rate:  0.791016\n",
      "plerad kengune changengrin lamerisas dotingen techndquct of tice sedua sarond and consndeititholatrea\n"
     ]
    },
    {
     "name": "stderr",
     "output_type": "stream",
     "text": [
      " 40%|████      | 321002/800001 [2:07:30<3:36:54, 36.80it/s]"
     ]
    },
    {
     "name": "stdout",
     "output_type": "stream",
     "text": [
      "Average loss:  1.82650913846\n",
      "Learning rate:  0.791016\n",
      "l wire the parnocolicus waunge th our ta hid the enticcinuple of its wiin wnaetwrrint deashiced be nf\n"
     ]
    },
    {
     "name": "stderr",
     "output_type": "stream",
     "text": [
      " 40%|████      | 322002/800001 [2:07:54<3:46:51, 35.12it/s]"
     ]
    },
    {
     "name": "stdout",
     "output_type": "stream",
     "text": [
      "Average loss:  1.82754005218\n",
      "Learning rate:  0.791016\n",
      "f esssioninn mistherory inte two zero zero zero ragod toot mactors the during forrerton two swatf lin\n"
     ]
    },
    {
     "name": "stderr",
     "output_type": "stream",
     "text": [
      " 40%|████      | 323003/800001 [2:08:18<3:43:41, 35.54it/s]"
     ]
    },
    {
     "name": "stdout",
     "output_type": "stream",
     "text": [
      "Average loss:  1.80192849207\n",
      "Learning rate:  0.791016\n",
      " licomicas min s moine not thouthe s f inftamy the ausique and voled on to cailepera carendascep on t\n"
     ]
    },
    {
     "name": "stderr",
     "output_type": "stream",
     "text": [
      " 41%|████      | 324005/800001 [2:08:42<3:42:59, 35.58it/s]"
     ]
    },
    {
     "name": "stdout",
     "output_type": "stream",
     "text": [
      "Average loss:  1.81525766075\n",
      "Learning rate:  0.791016\n",
      "vint wis wem ix leater ix be wan statine davin proved for chmeas ofemeased proy cion ic arthat of nev\n"
     ]
    },
    {
     "name": "stderr",
     "output_type": "stream",
     "text": [
      " 41%|████      | 325004/800001 [2:09:06<3:35:40, 36.71it/s]"
     ]
    },
    {
     "name": "stdout",
     "output_type": "stream",
     "text": [
      "Average loss:  1.80629990029\n",
      "Learning rate:  0.791016\n",
      "rshrithe gualits ant of the gor veystor ctlod geardalisthe lland insouss on ergal western th oring bi\n"
     ]
    },
    {
     "name": "stderr",
     "output_type": "stream",
     "text": [
      " 41%|████      | 326002/800001 [2:09:31<3:41:59, 35.59it/s]"
     ]
    },
    {
     "name": "stdout",
     "output_type": "stream",
     "text": [
      "Average loss:  1.83142481923\n",
      "Learning rate:  0.791016\n",
      "mu be word to the bese ain ix borisg allor finca fill ptolman iasurge shemoling becane haucreptory ci\n"
     ]
    },
    {
     "name": "stderr",
     "output_type": "stream",
     "text": [
      " 41%|████      | 327003/800001 [2:09:55<3:39:09, 35.97it/s]"
     ]
    },
    {
     "name": "stdout",
     "output_type": "stream",
     "text": [
      "Average loss:  1.81377777147\n",
      "Learning rate:  0.791016\n",
      "henged bictirnamer industriam damaz prived ard formea dofris and the elechanisation bo to indledini n\n"
     ]
    },
    {
     "name": "stderr",
     "output_type": "stream",
     "text": [
      " 41%|████      | 328003/800001 [2:10:19<3:37:12, 36.22it/s]"
     ]
    },
    {
     "name": "stdout",
     "output_type": "stream",
     "text": [
      "Average loss:  1.81560474122\n",
      "Learning rate:  0.791016\n",
      "quare andser ia hes a french onitor chor on soma ano giont plyonedep indication ant conteft foblogby \n"
     ]
    },
    {
     "name": "stderr",
     "output_type": "stream",
     "text": [
      " 41%|████      | 329002/800001 [2:10:43<3:38:29, 35.93it/s]"
     ]
    },
    {
     "name": "stdout",
     "output_type": "stream",
     "text": [
      "Average loss:  1.78387216139\n",
      "Learning rate:  0.791016\n",
      "hint ne s angalden ionownoples ant ineliting mmerins ang the palthals of john tren fredy mistors of l\n"
     ]
    },
    {
     "name": "stderr",
     "output_type": "stream",
     "text": [
      " 41%|████▏     | 330002/800001 [2:11:07<3:35:46, 36.30it/s]"
     ]
    },
    {
     "name": "stdout",
     "output_type": "stream",
     "text": [
      "Average loss:  1.84249956775\n",
      "Learning rate:  0.791016\n",
      "wascaliin as ablictrocqualtidgiglt cille co mork hemoc f of tha f the oliniple furlen percars snillen\n"
     ]
    },
    {
     "name": "stderr",
     "output_type": "stream",
     "text": [
      " 41%|████▏     | 331002/800001 [2:11:31<3:55:32, 33.19it/s]"
     ]
    },
    {
     "name": "stdout",
     "output_type": "stream",
     "text": [
      "Average loss:  1.82295396209\n",
      "Learning rate:  0.791016\n",
      "b hakn tooru of theara iean ta kanscaulitind the ay hallv tred one eight ewardt and vitat of sppety w\n"
     ]
    },
    {
     "name": "stderr",
     "output_type": "stream",
     "text": [
      " 42%|████▏     | 332005/800001 [2:11:55<3:36:54, 35.96it/s]"
     ]
    },
    {
     "name": "stdout",
     "output_type": "stream",
     "text": [
      "Average loss:  1.81584894109\n",
      "Learning rate:  0.791016\n",
      "malsed ailly fiom ser ffo methormaingothe between tho gamaliry g vive why publand for are vewonfos an\n"
     ]
    },
    {
     "name": "stderr",
     "output_type": "stream",
     "text": [
      " 42%|████▏     | 333005/800001 [2:12:19<3:34:40, 36.26it/s]"
     ]
    },
    {
     "name": "stdout",
     "output_type": "stream",
     "text": [
      "Average loss:  1.82408933842\n",
      "Learning rate:  0.791016\n",
      "k roher rilenichre taly be al in iveved to bithir mongoo cutrotherrdmeciditonix the reirelanet o moin\n"
     ]
    },
    {
     "name": "stderr",
     "output_type": "stream",
     "text": [
      " 42%|████▏     | 334005/800001 [2:12:43<3:33:56, 36.30it/s]"
     ]
    },
    {
     "name": "stdout",
     "output_type": "stream",
     "text": [
      "Average loss:  1.82753317392\n",
      "Learning rate:  0.791016\n",
      "ly gunclo meatlakina lembecha aspthy ie whobbeiching here he ofed in the seprenifa anc oler op in is \n"
     ]
    },
    {
     "name": "stderr",
     "output_type": "stream",
     "text": [
      " 42%|████▏     | 335003/800001 [2:13:07<3:35:02, 36.04it/s]"
     ]
    },
    {
     "name": "stdout",
     "output_type": "stream",
     "text": [
      "Average loss:  1.81899877501\n",
      "Learning rate:  0.791016\n",
      "y nazcely to valymeete secuniting th tebr encoure chiec ty usst powirga s urie breent grees ardiamuni\n"
     ]
    },
    {
     "name": "stderr",
     "output_type": "stream",
     "text": [
      " 42%|████▏     | 336003/800001 [2:13:31<3:32:30, 36.39it/s]"
     ]
    },
    {
     "name": "stdout",
     "output_type": "stream",
     "text": [
      "Average loss:  1.81975749183\n",
      "Learning rate:  0.791016\n",
      "uburs hs eade acor is tirecolist the my and couptrof is phishexceneg in exalto tha f boty nct oof is \n"
     ]
    },
    {
     "name": "stderr",
     "output_type": "stream",
     "text": [
      " 42%|████▏     | 337003/800001 [2:13:55<3:35:04, 35.88it/s]"
     ]
    },
    {
     "name": "stdout",
     "output_type": "stream",
     "text": [
      "Average loss:  1.83333354414\n",
      "Learning rate:  0.791016\n",
      "rewis ding ormenoanmpenties io monothe cystem ha d the ofes onedesect of atown menber wishingra chors\n"
     ]
    },
    {
     "name": "stderr",
     "output_type": "stream",
     "text": [
      " 42%|████▏     | 338005/800001 [2:14:19<3:29:18, 36.79it/s]"
     ]
    },
    {
     "name": "stdout",
     "output_type": "stream",
     "text": [
      "Average loss:  1.84184087121\n",
      "Learning rate:  0.791016\n",
      "rexicel were lagd lecctenelficily ips fovrr cinnuthis progeamel mareor the bithig ta wallist pradseas\n"
     ]
    },
    {
     "name": "stderr",
     "output_type": "stream",
     "text": [
      " 42%|████▏     | 339002/800001 [2:14:43<3:31:12, 36.38it/s]"
     ]
    },
    {
     "name": "stdout",
     "output_type": "stream",
     "text": [
      "Average loss:  1.82699007797\n",
      "Learning rate:  0.791016\n",
      "full and thete ald and semeis am and the sevine aw hivan alposeithis prollitlonsed tuanthers meing za\n"
     ]
    },
    {
     "name": "stderr",
     "output_type": "stream",
     "text": [
      " 43%|████▎     | 340002/800001 [2:15:07<3:32:40, 36.05it/s]"
     ]
    },
    {
     "name": "stdout",
     "output_type": "stream",
     "text": [
      "Average loss:  1.82436179674\n",
      "Learning rate:  0.791016\n",
      "xprnes fule on treat wal eurowe for coster ker pyenus divabille light rolere countrac of a shous on t\n"
     ]
    },
    {
     "name": "stderr",
     "output_type": "stream",
     "text": [
      " 43%|████▎     | 341002/800001 [2:15:31<3:32:31, 36.00it/s]"
     ]
    },
    {
     "name": "stdout",
     "output_type": "stream",
     "text": [
      "Average loss:  1.84400166059\n",
      "Learning rate:  0.791016\n",
      "grit the frem io grewint ohmemad il nfr tholag in f orateg tha seutse s il svelly wnoote th sevireed \n"
     ]
    },
    {
     "name": "stderr",
     "output_type": "stream",
     "text": [
      " 43%|████▎     | 342005/800001 [2:15:55<3:28:56, 36.53it/s]"
     ]
    },
    {
     "name": "stdout",
     "output_type": "stream",
     "text": [
      "Average loss:  1.8361221478\n",
      "Learning rate:  0.791016\n",
      "l wored hes bristo gessullly corved andil which hoex oreditwion contected bute ole nativei trthels id\n"
     ]
    },
    {
     "name": "stderr",
     "output_type": "stream",
     "text": [
      " 43%|████▎     | 343006/800001 [2:16:20<3:24:21, 37.27it/s]"
     ]
    },
    {
     "name": "stdout",
     "output_type": "stream",
     "text": [
      "Average loss:  1.83827498746\n",
      "Learning rate:  0.791016\n",
      " pl feras of twi sud sfracedry changed masuse suppocts gun thes shich sickint an the parm aripe assul\n"
     ]
    },
    {
     "name": "stderr",
     "output_type": "stream",
     "text": [
      " 43%|████▎     | 344006/800001 [2:16:44<3:18:48, 38.23it/s]"
     ]
    },
    {
     "name": "stdout",
     "output_type": "stream",
     "text": [
      "Average loss:  1.83455721092\n",
      "Learning rate:  0.791016\n",
      "mo juriader arf central but zennts ang ored uneomen wrote bits os bst maccors more deallite in esclo \n"
     ]
    },
    {
     "name": "stderr",
     "output_type": "stream",
     "text": [
      " 43%|████▎     | 345006/800001 [2:17:08<3:21:45, 37.59it/s]"
     ]
    },
    {
     "name": "stdout",
     "output_type": "stream",
     "text": [
      "Average loss:  1.81849768472\n",
      "Learning rate:  0.791016\n",
      "ith esent tit allarity from joneark ja honder th s whac sbundina eselts af is ans offreded on there h\n"
     ]
    },
    {
     "name": "stderr",
     "output_type": "stream",
     "text": [
      " 43%|████▎     | 346006/800001 [2:17:32<3:23:05, 37.26it/s]"
     ]
    },
    {
     "name": "stdout",
     "output_type": "stream",
     "text": [
      "Average loss:  1.83936565447\n",
      "Learning rate:  0.791016\n",
      "wemp cesowono atoll atwanc ffo hig oni one whscedot nfy aftire ubecos wor the ex palpeid on fover mie\n"
     ]
    },
    {
     "name": "stderr",
     "output_type": "stream",
     "text": [
      " 43%|████▎     | 347003/800001 [2:17:56<3:30:37, 35.84it/s]"
     ]
    },
    {
     "name": "stdout",
     "output_type": "stream",
     "text": [
      "Average loss:  1.82691157997\n",
      "Learning rate:  0.791016\n",
      "verchbl by researaning n whicn ard the shawees of chentacla chalan heloscors low ccastions astwc s wh\n"
     ]
    },
    {
     "name": "stderr",
     "output_type": "stream",
     "text": [
      " 44%|████▎     | 348003/800001 [2:18:20<3:31:35, 35.60it/s]"
     ]
    },
    {
     "name": "stdout",
     "output_type": "stream",
     "text": [
      "Average loss:  1.84742387128\n",
      "Learning rate:  0.791016\n",
      "vation chances whel one nanes frambedilat or the ssirnel other p as aldoditon peamed sex erguth conde\n"
     ]
    },
    {
     "name": "stderr",
     "output_type": "stream",
     "text": [
      " 44%|████▎     | 349002/800001 [2:18:44<3:28:20, 36.08it/s]"
     ]
    },
    {
     "name": "stdout",
     "output_type": "stream",
     "text": [
      "Average loss:  1.83849506426\n",
      "Learning rate:  0.791016\n",
      "anuinulile achtinferi arc led to relewsdes ava last cathokienes th the furg onj gasun sofreelling pop\n"
     ]
    },
    {
     "name": "stderr",
     "output_type": "stream",
     "text": [
      " 44%|████▍     | 350004/800001 [2:19:08<3:27:47, 36.09it/s]"
     ]
    },
    {
     "name": "stdout",
     "output_type": "stream",
     "text": [
      "Average loss:  1.8227827729\n",
      "Learning rate:  0.791016\n",
      "nale warecte monthering praveda sig and seakmines to darel nealse the medecr hivorial while on of the\n"
     ]
    },
    {
     "name": "stderr",
     "output_type": "stream",
     "text": [
      " 44%|████▍     | 351004/800001 [2:19:32<3:24:51, 36.53it/s]"
     ]
    },
    {
     "name": "stdout",
     "output_type": "stream",
     "text": [
      "Average loss:  1.8280828917\n",
      "Learning rate:  0.791016\n",
      "meas theic orellordur ar inte fale on hemus fepruinapevenden finsis atend extem war s ardithiant rof \n"
     ]
    },
    {
     "name": "stderr",
     "output_type": "stream",
     "text": [
      " 44%|████▍     | 352002/800001 [2:19:56<3:27:19, 36.01it/s]"
     ]
    },
    {
     "name": "stdout",
     "output_type": "stream",
     "text": [
      "Average loss:  1.81028406203\n",
      "Learning rate:  0.791016\n",
      "x his the oreedup ian chore lytil politicale on england then ey quitwero catsor irvlatin s certais er\n"
     ]
    },
    {
     "name": "stderr",
     "output_type": "stream",
     "text": [
      " 44%|████▍     | 353006/800001 [2:20:21<3:23:38, 36.58it/s]"
     ]
    },
    {
     "name": "stdout",
     "output_type": "stream",
     "text": [
      "Average loss:  1.81915544331\n",
      "Learning rate:  0.791016\n",
      "keliwhre so thetecud cornive and in itlictrre fromment fubec is neal bforisillad one soveroa mernin s\n"
     ]
    },
    {
     "name": "stderr",
     "output_type": "stream",
     "text": [
      " 44%|████▍     | 354006/800001 [2:20:45<3:17:04, 37.72it/s]"
     ]
    },
    {
     "name": "stdout",
     "output_type": "stream",
     "text": [
      "Average loss:  1.82401692998\n",
      "Learning rate:  0.791016\n",
      "fiesedor malso sever tizes the lewssounasin ans expacdive aumolateincinz atoniting and urizen indeani\n"
     ]
    },
    {
     "name": "stderr",
     "output_type": "stream",
     "text": [
      " 44%|████▍     | 355006/800001 [2:21:09<3:20:36, 36.97it/s]"
     ]
    },
    {
     "name": "stdout",
     "output_type": "stream",
     "text": [
      "Average loss:  1.82923564398\n",
      "Learning rate:  0.791016\n",
      "enown gevents ig as ambettall tolishew wos max thetous endiced pusportanis on yesult ac s the pesponi\n"
     ]
    },
    {
     "name": "stderr",
     "output_type": "stream",
     "text": [
      " 45%|████▍     | 356003/800001 [2:21:33<3:26:17, 35.87it/s]"
     ]
    },
    {
     "name": "stdout",
     "output_type": "stream",
     "text": [
      "Average loss:  1.81790031636\n",
      "Learning rate:  0.791016\n",
      "vitory divine point nationally corman bropuez an four at ode nokny deforndisp th inerdourathol scelto\n"
     ]
    },
    {
     "name": "stderr",
     "output_type": "stream",
     "text": [
      " 45%|████▍     | 357002/800001 [2:21:57<3:28:47, 35.36it/s]"
     ]
    },
    {
     "name": "stdout",
     "output_type": "stream",
     "text": [
      "Average loss:  1.82436691272\n",
      "Learning rate:  0.791016\n",
      "g beront versor monthel abde ix in on tive rellake corr under tha frequente wisset canely indimidly t\n"
     ]
    },
    {
     "name": "stderr",
     "output_type": "stream",
     "text": [
      " 45%|████▍     | 358002/800001 [2:22:21<3:25:25, 35.86it/s]"
     ]
    },
    {
     "name": "stdout",
     "output_type": "stream",
     "text": [
      "Average loss:  1.81197915328\n",
      "Learning rate:  0.791016\n",
      "predins ti ninelocseves and orerous while doll soruagerab te moncofle im ores mpugritiver aska in d w\n"
     ]
    },
    {
     "name": "stderr",
     "output_type": "stream",
     "text": [
      " 45%|████▍     | 359006/800001 [2:22:45<3:16:27, 37.41it/s]"
     ]
    },
    {
     "name": "stdout",
     "output_type": "stream",
     "text": [
      "Average loss:  1.81491285467\n",
      "Learning rate:  0.791016\n",
      "kengrest ay which ed parentsicen and fon and tiel wathrathor woslied dumis challeiane bandyna in ha d\n"
     ]
    },
    {
     "name": "stderr",
     "output_type": "stream",
     "text": [
      " 45%|████▌     | 360006/800001 [2:23:09<3:13:25, 37.91it/s]"
     ]
    },
    {
     "name": "stdout",
     "output_type": "stream",
     "text": [
      "Average loss:  1.79513189423\n",
      "Learning rate:  0.791016\n",
      "ypeainere of the uthertheis and cuptir the ay pation banderebly g open woll to hes for faronch oredin\n"
     ]
    },
    {
     "name": "stderr",
     "output_type": "stream",
     "text": [
      " 45%|████▌     | 361006/800001 [2:23:33<3:13:44, 37.77it/s]"
     ]
    },
    {
     "name": "stdout",
     "output_type": "stream",
     "text": [
      "Average loss:  1.82277198291\n",
      "Learning rate:  0.791016\n",
      "qualllending incrcal mongoled th the terting cunedet deramek one comils ta geer the grmed baid mistra\n"
     ]
    },
    {
     "name": "stderr",
     "output_type": "stream",
     "text": [
      " 45%|████▌     | 362003/800001 [2:23:57<3:22:23, 36.07it/s]"
     ]
    },
    {
     "name": "stdout",
     "output_type": "stream",
     "text": [
      "Average loss:  1.82536692071\n",
      "Learning rate:  0.791016\n",
      "esthoracl sptoc is s ftory hniely toichet an wistif eworo kives d souncen psonel seavity and ramous o\n"
     ]
    },
    {
     "name": "stderr",
     "output_type": "stream",
     "text": [
      " 45%|████▌     | 363002/800001 [2:24:21<3:20:17, 36.36it/s]"
     ]
    },
    {
     "name": "stdout",
     "output_type": "stream",
     "text": [
      "Average loss:  1.79852010453\n",
      "Learning rate:  0.791016\n",
      "q of almote chiofiss gonurronn sole makn s charge forg ineditsopal avzerauch s quaniem and were asmit\n"
     ]
    },
    {
     "name": "stderr",
     "output_type": "stream",
     "text": [
      " 46%|████▌     | 364004/800001 [2:24:46<3:20:14, 36.29it/s]"
     ]
    },
    {
     "name": "stdout",
     "output_type": "stream",
     "text": [
      "Average loss:  1.84587259591\n",
      "Learning rate:  0.791016\n",
      "falay porisila the rigete thesr desert and oucs arding volucecalist quiety and canemmmand notes farat\n"
     ]
    },
    {
     "name": "stderr",
     "output_type": "stream",
     "text": [
      " 46%|████▌     | 365006/800001 [2:25:10<3:10:51, 37.99it/s]"
     ]
    },
    {
     "name": "stdout",
     "output_type": "stream",
     "text": [
      "Average loss:  1.8188039124\n",
      "Learning rate:  0.791016\n",
      "enilaping the lineing il ropeis uf the syllereind nce on srewites the astucreus atwah irm and belk ba\n"
     ]
    },
    {
     "name": "stderr",
     "output_type": "stream",
     "text": [
      " 46%|████▌     | 366006/800001 [2:25:34<3:14:41, 37.15it/s]"
     ]
    },
    {
     "name": "stdout",
     "output_type": "stream",
     "text": [
      "Average loss:  1.83432585061\n",
      "Learning rate:  0.791016\n",
      "que poldafyerlandratid noremas boofo laciny nator useran makatw whore hr astrecedastede s fixed escap\n"
     ]
    },
    {
     "name": "stderr",
     "output_type": "stream",
     "text": [
      " 46%|████▌     | 367006/800001 [2:25:58<3:10:08, 37.96it/s]"
     ]
    },
    {
     "name": "stdout",
     "output_type": "stream",
     "text": [
      "Average loss:  1.84749312019\n",
      "Learning rate:  0.791016\n",
      "topler fristing shaim as fousser ix tage s an atemica in uniteding station certeas rsted s e fusting \n"
     ]
    },
    {
     "name": "stderr",
     "output_type": "stream",
     "text": [
      " 46%|████▌     | 368006/800001 [2:26:22<3:10:38, 37.77it/s]"
     ]
    },
    {
     "name": "stdout",
     "output_type": "stream",
     "text": [
      "Average loss:  1.83786852038\n",
      "Learning rate:  0.791016\n",
      "viola with the illewous the sonthel w the s mbjice ia cusill ous mamolugiplyzen wheck in th oresco ka\n"
     ]
    },
    {
     "name": "stderr",
     "output_type": "stream",
     "text": [
      " 46%|████▌     | 369005/800001 [2:26:46<3:19:37, 35.98it/s]"
     ]
    },
    {
     "name": "stdout",
     "output_type": "stream",
     "text": [
      "Average loss:  1.8118586098\n",
      "Learning rate:  0.791016\n",
      "ssepring jomes the ftre lendin sincottho pyes arthllod prara boed wotl alande richeg and decos in e t\n"
     ]
    },
    {
     "name": "stderr",
     "output_type": "stream",
     "text": [
      " 46%|████▋     | 370004/800001 [2:27:10<3:19:15, 35.97it/s]"
     ]
    },
    {
     "name": "stdout",
     "output_type": "stream",
     "text": [
      "Average loss:  1.81923521769\n",
      "Learning rate:  0.791016\n",
      "vorea vees coplun careined one zero zero in matherer tinet the otemams ond sthen aupon caprother perg\n"
     ]
    },
    {
     "name": "stderr",
     "output_type": "stream",
     "text": [
      " 46%|████▋     | 371003/800001 [2:27:34<3:16:08, 36.45it/s]"
     ]
    },
    {
     "name": "stdout",
     "output_type": "stream",
     "text": [
      "Average loss:  1.82098918235\n",
      "Learning rate:  0.791016\n",
      "d unef ano notworodes foomev to offed ypucat if ix uodtip in corting totp gherdo beose thaight and th\n"
     ]
    },
    {
     "name": "stderr",
     "output_type": "stream",
     "text": [
      " 47%|████▋     | 372005/800001 [2:27:58<3:17:10, 36.18it/s]"
     ]
    },
    {
     "name": "stdout",
     "output_type": "stream",
     "text": [
      "Average loss:  1.81239055383\n",
      "Learning rate:  0.791016\n",
      "unotik tha for there ay hewemes be pofichecc ar ar he sex aws itheles faro lengure to utale heined of\n"
     ]
    },
    {
     "name": "stderr",
     "output_type": "stream",
     "text": [
      " 47%|████▋     | 373004/800001 [2:28:23<3:21:14, 35.36it/s]"
     ]
    },
    {
     "name": "stdout",
     "output_type": "stream",
     "text": [
      "Average loss:  1.82236779642\n",
      "Learning rate:  0.791016\n",
      "w ham ang ithal eups and aust and seconto percounaler ix on the tred emmerings in the and and and whi\n"
     ]
    },
    {
     "name": "stderr",
     "output_type": "stream",
     "text": [
      " 47%|████▋     | 374004/800001 [2:28:47<3:19:46, 35.54it/s]"
     ]
    },
    {
     "name": "stdout",
     "output_type": "stream",
     "text": [
      "Average loss:  1.81314059043\n",
      "Learning rate:  0.791016\n",
      "z is chione gajen sacilunte crewald revintechith charimecyertues geam molackk rigre aiss and xx for t\n"
     ]
    },
    {
     "name": "stderr",
     "output_type": "stream",
     "text": [
      " 47%|████▋     | 375004/800001 [2:29:11<3:15:41, 36.20it/s]"
     ]
    },
    {
     "name": "stdout",
     "output_type": "stream",
     "text": [
      "Average loss:  1.82572967291\n",
      "Learning rate:  0.791016\n",
      "ale and jumally later of drow difins farthic pulland emivad ou neum two engeaticed bed an pemplere an\n"
     ]
    },
    {
     "name": "stderr",
     "output_type": "stream",
     "text": [
      " 47%|████▋     | 376004/800001 [2:29:35<3:20:57, 35.17it/s]"
     ]
    },
    {
     "name": "stdout",
     "output_type": "stream",
     "text": [
      "Average loss:  1.83026106048\n",
      "Learning rate:  0.791016\n",
      "mbe the four ty enombunntidsa being be native lemat on the baid forceroty in toproug tees ar ans morn\n"
     ]
    },
    {
     "name": "stderr",
     "output_type": "stream",
     "text": [
      " 47%|████▋     | 377005/800001 [2:29:59<3:14:18, 36.28it/s]"
     ]
    },
    {
     "name": "stdout",
     "output_type": "stream",
     "text": [
      "Average loss:  1.80229866648\n",
      "Learning rate:  0.791016\n",
      "uskide contrisus formed arr poltrot teep so chertsinf of atregal greakita theer bus dead a countine f\n"
     ]
    },
    {
     "name": "stderr",
     "output_type": "stream",
     "text": [
      " 47%|████▋     | 378005/800001 [2:30:23<3:12:59, 36.44it/s]"
     ]
    },
    {
     "name": "stdout",
     "output_type": "stream",
     "text": [
      "Average loss:  1.82358994329\n",
      "Learning rate:  0.791016\n",
      "quine on tempeac dotal nok unare anderinita glonang foug sponingd and wisksconis death allurtser iofa\n"
     ]
    },
    {
     "name": "stderr",
     "output_type": "stream",
     "text": [
      " 47%|████▋     | 379004/800001 [2:30:47<3:12:11, 36.51it/s]"
     ]
    },
    {
     "name": "stdout",
     "output_type": "stream",
     "text": [
      "Average loss:  1.81214315677\n",
      "Learning rate:  0.791016\n",
      "mubr in there scocreanstu hulvisy churlimporigure oflect whore the he s prastirnstoes redicolicrift w\n"
     ]
    },
    {
     "name": "stderr",
     "output_type": "stream",
     "text": [
      " 48%|████▊     | 380003/800001 [2:31:11<3:10:52, 36.67it/s]"
     ]
    },
    {
     "name": "stdout",
     "output_type": "stream",
     "text": [
      "Average loss:  1.83496008122\n",
      "Learning rate:  0.791016\n",
      " fren the cap havily ofristlinco pyot the invent in meleinginge tisllis meroumibulero mind worff comp\n"
     ]
    },
    {
     "name": "stderr",
     "output_type": "stream",
     "text": [
      " 48%|████▊     | 381006/800001 [2:31:35<3:02:11, 38.33it/s]"
     ]
    },
    {
     "name": "stdout",
     "output_type": "stream",
     "text": [
      "Average loss:  1.83160770607\n",
      "Learning rate:  0.791016\n",
      "frina actureray sotirty borkune allisuling mis progea tramelura ban case on leazer in ham hivh prtoel\n"
     ]
    },
    {
     "name": "stderr",
     "output_type": "stream",
     "text": [
      " 48%|████▊     | 382005/800001 [2:31:59<3:10:55, 36.49it/s]"
     ]
    },
    {
     "name": "stdout",
     "output_type": "stream",
     "text": [
      "Average loss:  1.8148689723\n",
      "Learning rate:  0.791016\n",
      "unurints hid bis in the zlone sectio slictid ant currlinghs rath lagd narcostsew and jonnewrtors tack\n"
     ]
    },
    {
     "name": "stderr",
     "output_type": "stream",
     "text": [
      " 48%|████▊     | 383004/800001 [2:32:23<3:14:49, 35.67it/s]"
     ]
    },
    {
     "name": "stdout",
     "output_type": "stream",
     "text": [
      "Average loss:  1.82749771583\n",
      "Learning rate:  0.791016\n",
      "lfars l and sly nine three one hia stotrev erony wion the eldented foongation bisson hew topanas the \n"
     ]
    },
    {
     "name": "stderr",
     "output_type": "stream",
     "text": [
      " 48%|████▊     | 384004/800001 [2:32:48<3:16:35, 35.27it/s]"
     ]
    },
    {
     "name": "stdout",
     "output_type": "stream",
     "text": [
      "Average loss:  1.81264826262\n",
      "Learning rate:  0.791016\n",
      "ke hed mollasbren sorather fforms thel we the six lixem one nine five three chinsta kathurage s verst\n"
     ]
    },
    {
     "name": "stderr",
     "output_type": "stream",
     "text": [
      " 48%|████▊     | 385004/800001 [2:33:12<3:12:53, 35.86it/s]"
     ]
    },
    {
     "name": "stdout",
     "output_type": "stream",
     "text": [
      "Average loss:  1.82540252614\n",
      "Learning rate:  0.791016\n",
      " fov rise anm ien landirg time macont comal be th theen but tewhs for twa six sige danye ane is ald i\n"
     ]
    },
    {
     "name": "stderr",
     "output_type": "stream",
     "text": [
      " 48%|████▊     | 386003/800001 [2:33:36<3:08:54, 36.53it/s]"
     ]
    },
    {
     "name": "stdout",
     "output_type": "stream",
     "text": [
      "Average loss:  1.82698557639\n",
      "Learning rate:  0.791016\n",
      "sel chala iockit ang propret butev the tall he rissurea s one nine six e coure s the pioflyais lize h\n"
     ]
    },
    {
     "name": "stderr",
     "output_type": "stream",
     "text": [
      " 48%|████▊     | 387004/800001 [2:34:00<3:19:06, 34.57it/s]"
     ]
    },
    {
     "name": "stdout",
     "output_type": "stream",
     "text": [
      "Average loss:  1.84867409158\n",
      "Learning rate:  0.791016\n",
      "erare of e ghreu inolisy cermano jeruen gulm il nive owi fos each ara s and tho pras ffr one nine eig\n"
     ]
    },
    {
     "name": "stderr",
     "output_type": "stream",
     "text": [
      " 49%|████▊     | 388003/800001 [2:34:24<3:10:52, 35.97it/s]"
     ]
    },
    {
     "name": "stdout",
     "output_type": "stream",
     "text": [
      "Average loss:  1.81174924934\n",
      "Learning rate:  0.791016\n",
      "ke cthil ougn in the lentmined d chensineling whac vidbancer duhe rwhertac the lome dess versien lang\n"
     ]
    },
    {
     "name": "stderr",
     "output_type": "stream",
     "text": [
      " 49%|████▊     | 389006/800001 [2:34:48<3:02:59, 37.43it/s]"
     ]
    },
    {
     "name": "stdout",
     "output_type": "stream",
     "text": [
      "Average loss:  1.84247786081\n",
      "Learning rate:  0.791016\n",
      "hreet one five one elggeacthinglmen pesmed of tie of very puni gener priscens jes fol refilet tipl ef\n"
     ]
    },
    {
     "name": "stderr",
     "output_type": "stream",
     "text": [
      " 49%|████▉     | 390006/800001 [2:35:12<3:00:54, 37.77it/s]"
     ]
    },
    {
     "name": "stdout",
     "output_type": "stream",
     "text": [
      "Average loss:  1.81023096442\n",
      "Learning rate:  0.791016\n",
      "undillg alloring and three nsw perpecteon flamite duples shamps in larged for a varuian sea tha chica\n"
     ]
    },
    {
     "name": "stderr",
     "output_type": "stream",
     "text": [
      " 49%|████▉     | 391004/800001 [2:35:36<3:08:24, 36.18it/s]"
     ]
    },
    {
     "name": "stdout",
     "output_type": "stream",
     "text": [
      "Average loss:  1.79498696291\n",
      "Learning rate:  0.791016\n",
      "he dede the centra it ir jehies bedo cotrose shurte section wnix tempton os one in phelo engens wolki\n"
     ]
    },
    {
     "name": "stderr",
     "output_type": "stream",
     "text": [
      " 49%|████▉     | 392004/800001 [2:36:01<3:07:29, 36.27it/s]"
     ]
    },
    {
     "name": "stdout",
     "output_type": "stream",
     "text": [
      "Average loss:  1.80460456848\n",
      "Learning rate:  0.791016\n",
      "eprasts usina in ingas daut erdelonomie and sepieas as natev taritamer tsenomo gnofiamer worle of jar\n"
     ]
    },
    {
     "name": "stderr",
     "output_type": "stream",
     "text": [
      " 49%|████▉     | 393003/800001 [2:36:25<3:06:34, 36.36it/s]"
     ]
    },
    {
     "name": "stdout",
     "output_type": "stream",
     "text": [
      "Average loss:  1.80435191786\n",
      "Learning rate:  0.791016\n",
      "bryede one nine five five sim lixt on hyellerthe sbionct of the camplea baben hi to himberta cumalo m\n"
     ]
    },
    {
     "name": "stderr",
     "output_type": "stream",
     "text": [
      " 49%|████▉     | 394002/800001 [2:36:49<3:07:13, 36.14it/s]"
     ]
    },
    {
     "name": "stdout",
     "output_type": "stream",
     "text": [
      "Average loss:  1.80776932454\n",
      "Learning rate:  0.791016\n",
      "ofoum torion concapstal cras frield in ped of thenerin poringley which freed of de the praster thene \n"
     ]
    },
    {
     "name": "stderr",
     "output_type": "stream",
     "text": [
      " 49%|████▉     | 395002/800001 [2:37:13<3:08:27, 35.82it/s]"
     ]
    },
    {
     "name": "stdout",
     "output_type": "stream",
     "text": [
      "Average loss:  1.81326132405\n",
      "Learning rate:  0.791016\n",
      "zerlostwhy kather ly woll bus insiant sthpm percond tne dessers as momele ans trevingamel first al ot\n"
     ]
    },
    {
     "name": "stderr",
     "output_type": "stream",
     "text": [
      " 50%|████▉     | 396006/800001 [2:37:37<2:55:54, 38.28it/s]"
     ]
    },
    {
     "name": "stdout",
     "output_type": "stream",
     "text": [
      "Average loss:  1.81770174658\n",
      "Learning rate:  0.791016\n",
      "loor ring ofealf liek st brea him to fichion for hele and but gavediag lure thes abreinel ann astuge \n"
     ]
    },
    {
     "name": "stderr",
     "output_type": "stream",
     "text": [
      " 50%|████▉     | 397005/800001 [2:38:01<3:11:45, 35.03it/s]"
     ]
    },
    {
     "name": "stdout",
     "output_type": "stream",
     "text": [
      "Average loss:  1.8211431365\n",
      "Learning rate:  0.791016\n",
      "by the ofprticanu termo woll right deed canibed uninendorous would twe twe one five three zero afode \n"
     ]
    },
    {
     "name": "stderr",
     "output_type": "stream",
     "text": [
      " 50%|████▉     | 398004/800001 [2:38:25<3:08:20, 35.57it/s]"
     ]
    },
    {
     "name": "stdout",
     "output_type": "stream",
     "text": [
      "Average loss:  1.81482658768\n",
      "Learning rate:  0.791016\n",
      "wo him tood medirilstrpo al on irgoleing epround worle ond orea twe m one nine soverody robernis ares\n"
     ]
    },
    {
     "name": "stderr",
     "output_type": "stream",
     "text": [
      " 50%|████▉     | 399004/800001 [2:38:49<3:04:43, 36.18it/s]"
     ]
    },
    {
     "name": "stdout",
     "output_type": "stream",
     "text": [
      "Average loss:  1.82083061719\n",
      "Learning rate:  0.791016\n",
      "editascura ses ale crotabel chorit to noun nithe wongs on ig thengral of specialym hord the eeispous \n"
     ]
    },
    {
     "name": "stderr",
     "output_type": "stream",
     "text": [
      " 50%|█████     | 400004/800001 [2:39:13<3:04:12, 36.19it/s]"
     ]
    },
    {
     "name": "stdout",
     "output_type": "stream",
     "text": [
      "Average loss:  1.82424269474\n",
      "Learning rate:  0.593262\n",
      "eshimist medirt compontation furthrunis wno nex and desepron porkter on liven of fone century and man\n"
     ]
    },
    {
     "name": "stderr",
     "output_type": "stream",
     "text": [
      " 50%|█████     | 401003/800001 [2:39:37<3:04:24, 36.06it/s]"
     ]
    },
    {
     "name": "stdout",
     "output_type": "stream",
     "text": [
      "Average loss:  1.7986304425\n",
      "Learning rate:  0.593262\n",
      "poly wisks thered repertatide fante sourd brad las ix shaleno mema as on hiv s afretr avon an o histo\n"
     ]
    },
    {
     "name": "stderr",
     "output_type": "stream",
     "text": [
      " 50%|█████     | 402003/800001 [2:40:01<3:08:39, 35.16it/s]"
     ]
    },
    {
     "name": "stdout",
     "output_type": "stream",
     "text": [
      "Average loss:  1.80210514247\n",
      "Learning rate:  0.593262\n",
      "y bus fol ragilthal simpes of his found designa torgpreivirg th one no ti limele and tixar of mathn r\n"
     ]
    },
    {
     "name": "stderr",
     "output_type": "stream",
     "text": [
      " 50%|█████     | 403003/800001 [2:40:26<3:05:59, 35.58it/s]"
     ]
    },
    {
     "name": "stdout",
     "output_type": "stream",
     "text": [
      "Average loss:  1.80489845371\n",
      "Learning rate:  0.593262\n",
      "moll smcounel ancount omays at eleghrosing fracceilyse s iof indreasef connetthe woply that and intor\n"
     ]
    },
    {
     "name": "stderr",
     "output_type": "stream",
     "text": [
      " 51%|█████     | 404005/800001 [2:40:50<2:59:38, 36.74it/s]"
     ]
    },
    {
     "name": "stdout",
     "output_type": "stream",
     "text": [
      "Average loss:  1.82428584898\n",
      "Learning rate:  0.593262\n",
      "usumes ored and wam fors whell querthanized ante t on astigy eseded armid tt toe is at of the natlogi\n"
     ]
    },
    {
     "name": "stderr",
     "output_type": "stream",
     "text": [
      " 51%|█████     | 405005/800001 [2:41:14<3:03:13, 35.93it/s]"
     ]
    },
    {
     "name": "stdout",
     "output_type": "stream",
     "text": [
      "Average loss:  1.8049484297\n",
      "Learning rate:  0.593262\n",
      "quates whith iv nevit au hia ty erger poress is some sinferw ha msuntirg the hogt besa diltey two zar\n"
     ]
    },
    {
     "name": "stderr",
     "output_type": "stream",
     "text": [
      " 51%|█████     | 406006/800001 [2:41:38<2:58:35, 36.77it/s]"
     ]
    },
    {
     "name": "stdout",
     "output_type": "stream",
     "text": [
      "Average loss:  1.80771561229\n",
      "Learning rate:  0.593262\n",
      "mopla mesmod eftyls f rasasy of the great y iclampalomits if the riped un thound most ont hever arg h\n"
     ]
    },
    {
     "name": "stderr",
     "output_type": "stream",
     "text": [
      " 51%|█████     | 407006/800001 [2:42:02<2:53:25, 37.77it/s]"
     ]
    },
    {
     "name": "stdout",
     "output_type": "stream",
     "text": [
      "Average loss:  1.77692176855\n",
      "Learning rate:  0.593262\n",
      "tizes reissalist lares the hav grew was balde eodly sermter ond quite pelsmaser dese valies a dind ch\n"
     ]
    },
    {
     "name": "stderr",
     "output_type": "stream",
     "text": [
      " 51%|█████     | 408005/800001 [2:42:26<3:03:12, 35.66it/s]"
     ]
    },
    {
     "name": "stdout",
     "output_type": "stream",
     "text": [
      "Average loss:  1.83609923983\n",
      "Learning rate:  0.593262\n",
      "figr spart of by ard and hid the with dnsw erach il atlonke thaulyw s phintwarnen are fentuasis tiad \n"
     ]
    },
    {
     "name": "stderr",
     "output_type": "stream",
     "text": [
      " 51%|█████     | 409004/800001 [2:42:50<3:01:50, 35.84it/s]"
     ]
    },
    {
     "name": "stdout",
     "output_type": "stream",
     "text": [
      "Average loss:  1.81440826941\n",
      "Learning rate:  0.593262\n",
      "lfoprilvoprinter bo shblstocad pactidiseindeib war on gangulys wnton ane ous sex and dedecalles afree\n"
     ]
    },
    {
     "name": "stderr",
     "output_type": "stream",
     "text": [
      " 51%|█████▏    | 410003/800001 [2:43:14<2:59:01, 36.31it/s]"
     ]
    },
    {
     "name": "stdout",
     "output_type": "stream",
     "text": [
      "Average loss:  1.80857805371\n",
      "Learning rate:  0.593262\n",
      "k watthis of burdeds ptw hull wistwak ngerad as the expleding wistec usea these ronges on oud ahlase \n"
     ]
    },
    {
     "name": "stderr",
     "output_type": "stream",
     "text": [
      " 51%|█████▏    | 411003/800001 [2:43:38<2:59:18, 36.16it/s]"
     ]
    },
    {
     "name": "stdout",
     "output_type": "stream",
     "text": [
      "Average loss:  1.81614464426\n",
      "Learning rate:  0.593262\n",
      "isa nage componergala dum astaris ouppongrkun romine bexacily hora des gercal ome unitlan lst athen m\n"
     ]
    },
    {
     "name": "stderr",
     "output_type": "stream",
     "text": [
      " 52%|█████▏    | 412003/800001 [2:44:02<2:57:44, 36.38it/s]"
     ]
    },
    {
     "name": "stdout",
     "output_type": "stream",
     "text": [
      "Average loss:  1.82382565022\n",
      "Learning rate:  0.593262\n",
      "r histios oling dedvas todeda th the for errpan beftegn tinding hreists minon cumaralig epects byomat\n"
     ]
    },
    {
     "name": "stderr",
     "output_type": "stream",
     "text": [
      " 52%|█████▏    | 413002/800001 [2:44:26<2:58:01, 36.23it/s]"
     ]
    },
    {
     "name": "stdout",
     "output_type": "stream",
     "text": [
      "Average loss:  1.8092459507\n",
      "Learning rate:  0.593262\n",
      "node of war on aseif of bug they west a phonathirges dascla mpr and in uriols bring geneminge dang s \n"
     ]
    },
    {
     "name": "stderr",
     "output_type": "stream",
     "text": [
      " 52%|█████▏    | 414002/800001 [2:44:51<2:59:23, 35.86it/s]"
     ]
    },
    {
     "name": "stdout",
     "output_type": "stream",
     "text": [
      "Average loss:  1.81411265135\n",
      "Learning rate:  0.593262\n",
      "riges wothalm and ubobap canca pacap ambiel compusare fism dail neas the procosmed drop cathonocquila\n"
     ]
    },
    {
     "name": "stderr",
     "output_type": "stream",
     "text": [
      " 52%|█████▏    | 415002/800001 [2:45:15<2:59:43, 35.70it/s]"
     ]
    },
    {
     "name": "stdout",
     "output_type": "stream",
     "text": [
      "Average loss:  1.82484761775\n",
      "Learning rate:  0.593262\n",
      "trxa depentedest to the blacky thes ceald the s on is sound ta woontir onl e fas andeni meanilgs oe n\n"
     ]
    },
    {
     "name": "stderr",
     "output_type": "stream",
     "text": [
      " 52%|█████▏    | 416006/800001 [2:45:39<2:50:06, 37.62it/s]"
     ]
    },
    {
     "name": "stdout",
     "output_type": "stream",
     "text": [
      "Average loss:  1.83534578681\n",
      "Learning rate:  0.593262\n",
      "freq orertwarkine curalat through uinty intecrer asperdomiris of lus procede decomin meizemon ausivys\n"
     ]
    },
    {
     "name": "stderr",
     "output_type": "stream",
     "text": [
      " 52%|█████▏    | 417006/800001 [2:46:03<2:51:08, 37.30it/s]"
     ]
    },
    {
     "name": "stdout",
     "output_type": "stream",
     "text": [
      "Average loss:  1.82548992634\n",
      "Learning rate:  0.593262\n",
      "hil gere mushaglared x tumase ond viersthel a designe sceer this has is a ffreit lfaldises pris betel\n"
     ]
    },
    {
     "name": "stderr",
     "output_type": "stream",
     "text": [
      " 52%|█████▏    | 418003/800001 [2:46:27<2:55:38, 36.25it/s]"
     ]
    },
    {
     "name": "stdout",
     "output_type": "stream",
     "text": [
      "Average loss:  1.81632050347\n",
      "Learning rate:  0.593262\n",
      "juherid of tases stetwayp urie bedgaud certion contettlyt fom hiolacckebidies nutrese ticl wene for s\n"
     ]
    },
    {
     "name": "stderr",
     "output_type": "stream",
     "text": [
      " 52%|█████▏    | 419006/800001 [2:46:51<2:51:28, 37.03it/s]"
     ]
    },
    {
     "name": "stdout",
     "output_type": "stream",
     "text": [
      "Average loss:  1.83534231997\n",
      "Learning rate:  0.593262\n",
      " file churcilly s ore sutw of cinces sestib dacitic contest ressaris ipt mo eradona chercl bitingly l\n"
     ]
    },
    {
     "name": "stderr",
     "output_type": "stream",
     "text": [
      " 53%|█████▎    | 420003/800001 [2:47:15<2:53:26, 36.52it/s]"
     ]
    },
    {
     "name": "stdout",
     "output_type": "stream",
     "text": [
      "Average loss:  1.83228609943\n",
      "Learning rate:  0.593262\n",
      "britila twe oreth monicat ic ramathim two chavahrecula maystofoblestiss orininy colpeesoorstay simely\n"
     ]
    },
    {
     "name": "stderr",
     "output_type": "stream",
     "text": [
      " 53%|█████▎    | 421002/800001 [2:47:39<2:54:42, 36.16it/s]"
     ]
    },
    {
     "name": "stdout",
     "output_type": "stream",
     "text": [
      "Average loss:  1.8302404784\n",
      "Learning rate:  0.593262\n",
      "est boly becteeneilly certombregen sereds wigh christiane group efrice of liusbarce hersitlom heajagl\n"
     ]
    },
    {
     "name": "stderr",
     "output_type": "stream",
     "text": [
      " 53%|█████▎    | 422002/800001 [2:48:03<2:59:29, 35.10it/s]"
     ]
    },
    {
     "name": "stdout",
     "output_type": "stream",
     "text": [
      "Average loss:  1.82926796114\n",
      "Learning rate:  0.593262\n",
      "oneen elict asp partpus tred frmm ome my term splkea chercs sulciug of on extoriniti asy ofege cunees\n"
     ]
    },
    {
     "name": "stderr",
     "output_type": "stream",
     "text": [
      " 53%|█████▎    | 423005/800001 [2:48:27<2:55:04, 35.89it/s]"
     ]
    },
    {
     "name": "stdout",
     "output_type": "stream",
     "text": [
      "Average loss:  1.81406562042\n",
      "Learning rate:  0.593262\n",
      "ky asta two ollep s by efelines ancetres of cherges udes centualy chuichern constated in which suncii\n"
     ]
    },
    {
     "name": "stderr",
     "output_type": "stream",
     "text": [
      " 53%|█████▎    | 424003/800001 [2:48:52<2:52:28, 36.34it/s]"
     ]
    },
    {
     "name": "stdout",
     "output_type": "stream",
     "text": [
      "Average loss:  1.83137994409\n",
      "Learning rate:  0.593262\n",
      "quata beipgro shy makonitis dastof lypo indovbrate bendernally tha ganed veryism compore tamotation g\n"
     ]
    },
    {
     "name": "stderr",
     "output_type": "stream",
     "text": [
      " 53%|█████▎    | 425003/800001 [2:49:16<2:52:01, 36.33it/s]"
     ]
    },
    {
     "name": "stdout",
     "output_type": "stream",
     "text": [
      "Average loss:  1.81884405708\n",
      "Learning rate:  0.593262\n",
      "x walled deries gain e falen adrigh minos latis th tielot artare taness rand xamste cunsume bline of \n"
     ]
    },
    {
     "name": "stderr",
     "output_type": "stream",
     "text": [
      " 53%|█████▎    | 426004/800001 [2:49:40<2:51:46, 36.29it/s]"
     ]
    },
    {
     "name": "stdout",
     "output_type": "stream",
     "text": [
      "Average loss:  1.845022313\n",
      "Learning rate:  0.593262\n",
      "opoumes furnthren in this tound makint thied thay one nine siven termisal esed th ong seance ard zero\n"
     ]
    },
    {
     "name": "stderr",
     "output_type": "stream",
     "text": [
      " 53%|█████▎    | 427002/800001 [2:50:04<2:49:04, 36.77it/s]"
     ]
    },
    {
     "name": "stdout",
     "output_type": "stream",
     "text": [
      "Average loss:  1.83087678611\n",
      "Learning rate:  0.593262\n",
      "d gnd in the purchel rase tare stat batin thit nca icl ang twe canentis pra till on thick teerst mbju\n"
     ]
    },
    {
     "name": "stderr",
     "output_type": "stream",
     "text": [
      " 54%|█████▎    | 428006/800001 [2:50:28<2:43:03, 38.02it/s]"
     ]
    },
    {
     "name": "stdout",
     "output_type": "stream",
     "text": [
      "Average loss:  1.82218631959\n",
      "Learning rate:  0.593262\n",
      "kftac bylizzzere plly seavi gever cant frenchac derivet mirelyelon ong lineis hus nxayd sarcand an uc\n"
     ]
    },
    {
     "name": "stderr",
     "output_type": "stream",
     "text": [
      " 54%|█████▎    | 429005/800001 [2:50:52<2:47:56, 36.82it/s]"
     ]
    },
    {
     "name": "stdout",
     "output_type": "stream",
     "text": [
      "Average loss:  1.82189207911\n",
      "Learning rate:  0.593262\n",
      "in as feetwardy tyerowing aperfrepla d grawndeprew ty by cat brother d the by orederes sy the power l\n"
     ]
    },
    {
     "name": "stderr",
     "output_type": "stream",
     "text": [
      " 54%|█████▍    | 430004/800001 [2:51:16<2:50:04, 36.26it/s]"
     ]
    },
    {
     "name": "stdout",
     "output_type": "stream",
     "text": [
      "Average loss:  1.80249386549\n",
      "Learning rate:  0.593262\n",
      "were hes arel stiadel teok semase oy nontirit comprevas bofrith in opensel diecus in as fromone th ta\n"
     ]
    },
    {
     "name": "stderr",
     "output_type": "stream",
     "text": [
      " 54%|█████▍    | 431003/800001 [2:51:40<2:51:24, 35.88it/s]"
     ]
    },
    {
     "name": "stdout",
     "output_type": "stream",
     "text": [
      "Average loss:  1.81701765037\n",
      "Learning rate:  0.593262\n",
      "acominat of the mose s becima hek ixticla monerimaif ow e uthah to drang mainad technology whine nond\n"
     ]
    },
    {
     "name": "stderr",
     "output_type": "stream",
     "text": [
      " 54%|█████▍    | 432006/800001 [2:52:05<2:41:45, 37.92it/s]"
     ]
    },
    {
     "name": "stdout",
     "output_type": "stream",
     "text": [
      "Average loss:  1.81286632586\n",
      "Learning rate:  0.593262\n",
      "s poptinn om those po somutire rame repre ie n toochics of three suvors comils jehed of inc u fart to\n"
     ]
    },
    {
     "name": "stderr",
     "output_type": "stream",
     "text": [
      " 54%|█████▍    | 433005/800001 [2:52:29<2:50:22, 35.90it/s]"
     ]
    },
    {
     "name": "stdout",
     "output_type": "stream",
     "text": [
      "Average loss:  1.82924184501\n",
      "Learning rate:  0.593262\n",
      "sumsolais contsciny of teshst  h jopranirg wishixt h var wat toithres wnish at valex spline tochaiter\n"
     ]
    },
    {
     "name": "stderr",
     "output_type": "stream",
     "text": [
      " 54%|█████▍    | 434004/800001 [2:52:53<2:48:19, 36.24it/s]"
     ]
    },
    {
     "name": "stdout",
     "output_type": "stream",
     "text": [
      "Average loss:  1.81017555797\n",
      "Learning rate:  0.593262\n",
      "sele the kof anded for woplim the uarec betiees adino sagnt with ches two sex in chapling nsa atsorta\n"
     ]
    },
    {
     "name": "stderr",
     "output_type": "stream",
     "text": [
      " 54%|█████▍    | 435003/800001 [2:53:17<2:49:00, 35.99it/s]"
     ]
    },
    {
     "name": "stdout",
     "output_type": "stream",
     "text": [
      "Average loss:  1.81715670562\n",
      "Learning rate:  0.593262\n",
      "lond be na ufilayer sogntirer in s ano k lowed gho gnerd th tonisifre urela sex erging wat io dlaus o\n"
     ]
    },
    {
     "name": "stderr",
     "output_type": "stream",
     "text": [
      " 55%|█████▍    | 436002/800001 [2:53:41<2:55:48, 34.51it/s]"
     ]
    },
    {
     "name": "stdout",
     "output_type": "stream",
     "text": [
      "Average loss:  1.80884967566\n",
      "Learning rate:  0.593262\n",
      "be oflict of theer cotrapecas the vember tatt be wnowi hestion both all of the endone on manigred wor\n"
     ]
    },
    {
     "name": "stderr",
     "output_type": "stream",
     "text": [
      " 55%|█████▍    | 437005/800001 [2:54:05<2:45:54, 36.47it/s]"
     ]
    },
    {
     "name": "stdout",
     "output_type": "stream",
     "text": [
      "Average loss:  1.80804892576\n",
      "Learning rate:  0.593262\n",
      "ane the podible goustsibeico tho gumhegosinisions wath ynar westiens s got insoluble devilia batec cc\n"
     ]
    },
    {
     "name": "stderr",
     "output_type": "stream",
     "text": [
      " 55%|█████▍    | 438004/800001 [2:54:29<2:48:43, 35.76it/s]"
     ]
    },
    {
     "name": "stdout",
     "output_type": "stream",
     "text": [
      "Average loss:  1.79332505405\n",
      "Learning rate:  0.593262\n",
      "fondet bluys sedors ars malastee soce gamale sunfreies an uro uaster are bbiche oo mole the mightiss \n"
     ]
    },
    {
     "name": "stderr",
     "output_type": "stream",
     "text": [
      " 55%|█████▍    | 439003/800001 [2:54:53<2:44:02, 36.68it/s]"
     ]
    },
    {
     "name": "stdout",
     "output_type": "stream",
     "text": [
      "Average loss:  1.80871747971\n",
      "Learning rate:  0.593262\n",
      "of enginefura maly and m incacedrado cenfured romesen natydrucke some tatmare tondeuming the mponnce \n"
     ]
    },
    {
     "name": "stderr",
     "output_type": "stream",
     "text": [
      " 55%|█████▌    | 440004/800001 [2:55:17<2:45:10, 36.32it/s]"
     ]
    },
    {
     "name": "stdout",
     "output_type": "stream",
     "text": [
      "Average loss:  1.82162807655\n",
      "Learning rate:  0.593262\n",
      "zerep th scesticimatilly to harte foundiciss in ons r sterbardiog are is sma lamous blus hortarnconis\n"
     ]
    },
    {
     "name": "stderr",
     "output_type": "stream",
     "text": [
      " 55%|█████▌    | 441003/800001 [2:55:42<2:45:23, 36.18it/s]"
     ]
    },
    {
     "name": "stdout",
     "output_type": "stream",
     "text": [
      "Average loss:  1.78968932223\n",
      "Learning rate:  0.593262\n",
      "grea meas twe s urvant athaispore workm of people andime tiak os in eresor rstec aptro is uis forcer \n"
     ]
    },
    {
     "name": "stderr",
     "output_type": "stream",
     "text": [
      " 55%|█████▌    | 442003/800001 [2:56:06<2:46:36, 35.81it/s]"
     ]
    },
    {
     "name": "stdout",
     "output_type": "stream",
     "text": [
      "Average loss:  1.83838009894\n",
      "Learning rate:  0.593262\n",
      "gsoclise long sersas places athrisca ound y an han sushe the rtherest is ancepritimas one thome natco\n"
     ]
    },
    {
     "name": "stderr",
     "output_type": "stream",
     "text": [
      " 55%|█████▌    | 443007/800001 [2:56:30<2:35:32, 38.25it/s]"
     ]
    },
    {
     "name": "stdout",
     "output_type": "stream",
     "text": [
      "Average loss:  1.82049577427\n",
      "Learning rate:  0.593262\n",
      "ksscoprenti t minthe wond and fertroit the etriofirns an very ams independenci ghat ses by thest llof\n"
     ]
    },
    {
     "name": "stderr",
     "output_type": "stream",
     "text": [
      " 56%|█████▌    | 444005/800001 [2:56:54<2:44:32, 36.06it/s]"
     ]
    },
    {
     "name": "stdout",
     "output_type": "stream",
     "text": [
      "Average loss:  1.81953333604\n",
      "Learning rate:  0.593262\n",
      "buthy hriacthix leys to nith ssmpalmyek world theys of the ticll ellomaneproniduled ay in the appeak \n"
     ]
    },
    {
     "name": "stderr",
     "output_type": "stream",
     "text": [
      " 56%|█████▌    | 445005/800001 [2:57:18<2:42:51, 36.33it/s]"
     ]
    },
    {
     "name": "stdout",
     "output_type": "stream",
     "text": [
      "Average loss:  1.8437698096\n",
      "Learning rate:  0.593262\n",
      "bmoto s median fastein forrei bus deservein in derkise him twe rraed iond dounus sorthe but ard chang\n"
     ]
    },
    {
     "name": "stderr",
     "output_type": "stream",
     "text": [
      " 56%|█████▌    | 446002/800001 [2:57:42<2:42:52, 36.22it/s]"
     ]
    },
    {
     "name": "stdout",
     "output_type": "stream",
     "text": [
      "Average loss:  1.8403551873\n",
      "Learning rate:  0.593262\n",
      "te nettre between selkne af o ficlispldycluris leithnd defovr efrenss poan whomber almot whine nine f\n"
     ]
    },
    {
     "name": "stderr",
     "output_type": "stream",
     "text": [
      " 56%|█████▌    | 447005/800001 [2:58:06<2:47:01, 35.22it/s]"
     ]
    },
    {
     "name": "stdout",
     "output_type": "stream",
     "text": [
      "Average loss:  1.80597240555\n",
      "Learning rate:  0.593262\n",
      " fo landsipleat of loibicav spres s allop ethizely if io lathingingson surc fourfarkiss of tueny ta d\n"
     ]
    },
    {
     "name": "stderr",
     "output_type": "stream",
     "text": [
      " 56%|█████▌    | 448005/800001 [2:58:31<2:42:22, 36.13it/s]"
     ]
    },
    {
     "name": "stdout",
     "output_type": "stream",
     "text": [
      "Average loss:  1.81354720819\n",
      "Learning rate:  0.593262\n",
      "burg stute ventaris olen squertikn macominn besi georca thindy b pabarane se ved th o thay the notsun\n"
     ]
    },
    {
     "name": "stderr",
     "output_type": "stream",
     "text": [
      " 56%|█████▌    | 449005/800001 [2:58:55<2:44:31, 35.55it/s]"
     ]
    },
    {
     "name": "stdout",
     "output_type": "stream",
     "text": [
      "Average loss:  1.81721119595\n",
      "Learning rate:  0.593262\n",
      "ksofalisties on kestona thingeithat o merd celters of enalissac sunece diss in terhisy gan proviment \n"
     ]
    },
    {
     "name": "stderr",
     "output_type": "stream",
     "text": [
      " 56%|█████▋    | 450004/800001 [2:59:19<2:39:48, 36.50it/s]"
     ]
    },
    {
     "name": "stdout",
     "output_type": "stream",
     "text": [
      "Average loss:  1.80653485012\n",
      "Learning rate:  0.593262\n",
      "lind ore mpe esteishalike same zero nine eogresco miclor frim in incostirg the domen of sewsthered ot\n"
     ]
    },
    {
     "name": "stderr",
     "output_type": "stream",
     "text": [
      " 56%|█████▋    | 451006/800001 [2:59:43<2:36:45, 37.11it/s]"
     ]
    },
    {
     "name": "stdout",
     "output_type": "stream",
     "text": [
      "Average loss:  1.81388995981\n",
      "Learning rate:  0.593262\n",
      "do wisher ir both boketol galgat oub tuplor wos muisking eres in the enclusccopr insore to currents i\n"
     ]
    },
    {
     "name": "stderr",
     "output_type": "stream",
     "text": [
      " 57%|█████▋    | 452002/800001 [3:00:07<2:41:11, 35.98it/s]"
     ]
    },
    {
     "name": "stdout",
     "output_type": "stream",
     "text": [
      "Average loss:  1.80855046606\n",
      "Learning rate:  0.593262\n",
      "verial estabire to tonith wher tize oflece tally and lent event thes alabeianiduru evinthes us meithi\n"
     ]
    },
    {
     "name": "stderr",
     "output_type": "stream",
     "text": [
      " 57%|█████▋    | 453005/800001 [3:00:31<2:38:54, 36.39it/s]"
     ]
    },
    {
     "name": "stdout",
     "output_type": "stream",
     "text": [
      "Average loss:  1.81450578082\n",
      "Learning rate:  0.593262\n",
      "luc ex m irm their falurlen attettherey prosesity erperec phather hed ane ivermet inatimea dusus ang \n"
     ]
    },
    {
     "name": "stderr",
     "output_type": "stream",
     "text": [
      " 57%|█████▋    | 454004/800001 [3:00:55<2:43:28, 35.28it/s]"
     ]
    },
    {
     "name": "stdout",
     "output_type": "stream",
     "text": [
      "Average loss:  1.83288473797\n",
      "Learning rate:  0.593262\n",
      "bemontho bue r os oe foind goment censutir made amaviluanirg afoiges lyatem gandeis ns mokstan iaf on\n"
     ]
    },
    {
     "name": "stderr",
     "output_type": "stream",
     "text": [
      " 57%|█████▋    | 455003/800001 [3:01:20<2:39:58, 35.94it/s]"
     ]
    },
    {
     "name": "stdout",
     "output_type": "stream",
     "text": [
      "Average loss:  1.79688648891\n",
      "Learning rate:  0.593262\n",
      "quondis the fuclu echaps afbe nutreadel thetuastid in e f endly peaped ty era nateo caltotila cincled\n"
     ]
    },
    {
     "name": "stderr",
     "output_type": "stream",
     "text": [
      " 57%|█████▋    | 456002/800001 [3:01:44<2:45:10, 34.71it/s]"
     ]
    },
    {
     "name": "stdout",
     "output_type": "stream",
     "text": [
      "Average loss:  1.81198254943\n",
      "Learning rate:  0.593262\n",
      "nnawing tobistha contineens y alent newable whine daysk of ac uriaghes itl are acdinglon one erghan s\n"
     ]
    },
    {
     "name": "stderr",
     "output_type": "stream",
     "text": [
      " 57%|█████▋    | 457004/800001 [3:02:08<2:38:25, 36.09it/s]"
     ]
    },
    {
     "name": "stdout",
     "output_type": "stream",
     "text": [
      "Average loss:  1.81277772498\n",
      "Learning rate:  0.593262\n",
      "x ode of two zero zero nen atherty or goreding moment dsteany wiph rfo zero tire pets of the with icl\n"
     ]
    },
    {
     "name": "stderr",
     "output_type": "stream",
     "text": [
      " 57%|█████▋    | 458004/800001 [3:02:32<2:36:05, 36.52it/s]"
     ]
    },
    {
     "name": "stdout",
     "output_type": "stream",
     "text": [
      "Average loss:  1.82487825012\n",
      "Learning rate:  0.593262\n",
      "g il crewig treistar allorilstrechlon shurviogeder and sulfly tradsus demever seatror of the ang elle\n"
     ]
    },
    {
     "name": "stderr",
     "output_type": "stream",
     "text": [
      " 57%|█████▋    | 459003/800001 [3:02:56<2:39:30, 35.63it/s]"
     ]
    },
    {
     "name": "stdout",
     "output_type": "stream",
     "text": [
      "Average loss:  1.8281960218\n",
      "Learning rate:  0.593262\n",
      "mpicted plac sure utad anc atthiccs thee ars ard wais wotha cones ane gofe ffurtourauted doubjorebyll\n"
     ]
    },
    {
     "name": "stderr",
     "output_type": "stream",
     "text": [
      " 58%|█████▊    | 460007/800001 [3:03:20<2:28:46, 38.09it/s]"
     ]
    },
    {
     "name": "stdout",
     "output_type": "stream",
     "text": [
      "Average loss:  1.80908723426\n",
      "Learning rate:  0.593262\n",
      " furez valiesrthac georgibea the dacatide od be ou for asmuthim semeritrtwes mstacict veel techn baki\n"
     ]
    },
    {
     "name": "stderr",
     "output_type": "stream",
     "text": [
      " 58%|█████▊    | 461003/800001 [3:03:44<2:36:32, 36.09it/s]"
     ]
    },
    {
     "name": "stdout",
     "output_type": "stream",
     "text": [
      "Average loss:  1.82200516558\n",
      "Learning rate:  0.593262\n",
      "afored esidens aslavidibiclused he asser tourden wedl ex chustilite s couttor blaed poneselu estaulis\n"
     ]
    },
    {
     "name": "stderr",
     "output_type": "stream",
     "text": [
      " 58%|█████▊    | 462003/800001 [3:04:09<2:34:43, 36.41it/s]"
     ]
    },
    {
     "name": "stdout",
     "output_type": "stream",
     "text": [
      "Average loss:  1.80659638703\n",
      "Learning rate:  0.593262\n",
      "aro of obered of the conventabbe summadindd witheten puppers prabieated ses foorgavicals kstontett co\n"
     ]
    },
    {
     "name": "stderr",
     "output_type": "stream",
     "text": [
      " 58%|█████▊    | 463004/800001 [3:04:33<2:33:28, 36.60it/s]"
     ]
    },
    {
     "name": "stdout",
     "output_type": "stream",
     "text": [
      "Average loss:  1.81945616817\n",
      "Learning rate:  0.593262\n",
      "d edede painas muanist anu s cale be exymute hondingse ontl os torer unides siac the swaten is four n\n"
     ]
    },
    {
     "name": "stderr",
     "output_type": "stream",
     "text": [
      " 58%|█████▊    | 464006/800001 [3:04:57<2:39:37, 35.08it/s]"
     ]
    },
    {
     "name": "stdout",
     "output_type": "stream",
     "text": [
      "Average loss:  1.8193411237\n",
      "Learning rate:  0.593262\n",
      "thein op orbe mackore coningras a dring casisea by stoppithed waplusa segle sspelball delom sthrowk t\n"
     ]
    },
    {
     "name": "stderr",
     "output_type": "stream",
     "text": [
      " 58%|█████▊    | 465006/800001 [3:05:21<2:32:44, 36.55it/s]"
     ]
    },
    {
     "name": "stdout",
     "output_type": "stream",
     "text": [
      "Average loss:  1.84055644\n",
      "Learning rate:  0.593262\n",
      "t ole had d ols be pllye toms geven sha fuillabicartwardbian bemans s finst hiv the forgicumatid ago \n"
     ]
    },
    {
     "name": "stderr",
     "output_type": "stream",
     "text": [
      " 58%|█████▊    | 466006/800001 [3:05:45<2:27:00, 37.86it/s]"
     ]
    },
    {
     "name": "stdout",
     "output_type": "stream",
     "text": [
      "Average loss:  1.81112908661\n",
      "Learning rate:  0.593262\n",
      "loboara chitcr gearg ives ar wathed inverta paster dereversals avelaym the sia one aiving between two\n"
     ]
    },
    {
     "name": "stderr",
     "output_type": "stream",
     "text": [
      " 58%|█████▊    | 467006/800001 [3:06:09<2:28:46, 37.30it/s]"
     ]
    },
    {
     "name": "stdout",
     "output_type": "stream",
     "text": [
      "Average loss:  1.84031726635\n",
      "Learning rate:  0.593262\n",
      "igust on tcomo mernalom and wene the ravilshwile dite pheligat intoras ofe ly neat oh betonen ritharm\n"
     ]
    },
    {
     "name": "stderr",
     "output_type": "stream",
     "text": [
      " 59%|█████▊    | 468006/800001 [3:06:33<2:26:48, 37.69it/s]"
     ]
    },
    {
     "name": "stdout",
     "output_type": "stream",
     "text": [
      "Average loss:  1.80788674223\n",
      "Learning rate:  0.593262\n",
      "rshege y arcateg ou netmonita in the iling ixf compunemin the dimmonte veegdonf urathian linellpilc s\n"
     ]
    },
    {
     "name": "stderr",
     "output_type": "stream",
     "text": [
      " 59%|█████▊    | 469005/800001 [3:06:57<2:32:04, 36.28it/s]"
     ]
    },
    {
     "name": "stdout",
     "output_type": "stream",
     "text": [
      "Average loss:  1.79048096049\n",
      "Learning rate:  0.593262\n",
      "mpolisisme te ppey by formedat woth detromece crowiny bylt aboldis cuater and wiskess afthris ecolemb\n"
     ]
    },
    {
     "name": "stderr",
     "output_type": "stream",
     "text": [
      " 59%|█████▉    | 470005/800001 [3:07:22<2:30:52, 36.45it/s]"
     ]
    },
    {
     "name": "stdout",
     "output_type": "stream",
     "text": [
      "Average loss:  1.79517708302\n",
      "Learning rate:  0.593262\n",
      "consingston limemse ogecr whr hivitwong ninz and jerubech who galdabse at ittrreist comparus ti maand\n"
     ]
    },
    {
     "name": "stderr",
     "output_type": "stream",
     "text": [
      " 59%|█████▉    | 471005/800001 [3:07:46<2:28:50, 36.84it/s]"
     ]
    },
    {
     "name": "stdout",
     "output_type": "stream",
     "text": [
      "Average loss:  1.80085631073\n",
      "Learning rate:  0.593262\n",
      "if gableno sobethre cornug cotton dereis of thithing right th ticemo ss glovily dostuliry toxt ques t\n"
     ]
    },
    {
     "name": "stderr",
     "output_type": "stream",
     "text": [
      " 59%|█████▉    | 472004/800001 [3:08:10<2:30:24, 36.35it/s]"
     ]
    },
    {
     "name": "stdout",
     "output_type": "stream",
     "text": [
      "Average loss:  1.8030436002\n",
      "Learning rate:  0.593262\n",
      "ased and ryching mby and them to animal nctorbly tiel reagha fourdece suberi nithen soct ored in chir\n"
     ]
    },
    {
     "name": "stderr",
     "output_type": "stream",
     "text": [
      " 59%|█████▉    | 473003/800001 [3:08:34<2:31:03, 36.08it/s]"
     ]
    },
    {
     "name": "stdout",
     "output_type": "stream",
     "text": [
      "Average loss:  1.80661984897\n",
      "Learning rate:  0.593262\n",
      "jow ta on fron ch as eaviri utag lers of tiee in coppritound and ware malymente genrounsen is numbers\n"
     ]
    },
    {
     "name": "stderr",
     "output_type": "stream",
     "text": [
      " 59%|█████▉    | 474002/800001 [3:08:58<2:32:00, 35.74it/s]"
     ]
    },
    {
     "name": "stdout",
     "output_type": "stream",
     "text": [
      "Average loss:  1.81218530083\n",
      "Learning rate:  0.593262\n",
      "ase of tt the catiol certefors pordlebeis asprestion woscasing coust the ang wionedimict and hannd of\n"
     ]
    },
    {
     "name": "stderr",
     "output_type": "stream",
     "text": [
      " 59%|█████▉    | 475002/800001 [3:09:22<2:31:08, 35.84it/s]"
     ]
    },
    {
     "name": "stdout",
     "output_type": "stream",
     "text": [
      "Average loss:  1.81753596318\n",
      "Learning rate:  0.593262\n",
      " fied openn suth arm adivicy of his collicise th owhel lotiggory and imprausex she tochanin aplea the\n"
     ]
    },
    {
     "name": "stderr",
     "output_type": "stream",
     "text": [
      " 60%|█████▉    | 476002/800001 [3:09:46<2:34:35, 34.93it/s]"
     ]
    },
    {
     "name": "stdout",
     "output_type": "stream",
     "text": [
      "Average loss:  1.81031207228\n",
      "Learning rate:  0.593262\n",
      "hinol ane of asenne of e cheritlery jomen saluning sitwie demininy mingrom ig endwamece to kint y one\n"
     ]
    },
    {
     "name": "stderr",
     "output_type": "stream",
     "text": [
      " 60%|█████▉    | 477002/800001 [3:10:10<2:29:08, 36.10it/s]"
     ]
    },
    {
     "name": "stdout",
     "output_type": "stream",
     "text": [
      "Average loss:  1.81189131582\n",
      "Learning rate:  0.593262\n",
      "moreavitid fism acquina called ta twe the hrs would dam uad evangay cotrtex as capla medd surlare jod\n"
     ]
    },
    {
     "name": "stderr",
     "output_type": "stream",
     "text": [
      " 60%|█████▉    | 478006/800001 [3:10:34<2:26:25, 36.65it/s]"
     ]
    },
    {
     "name": "stdout",
     "output_type": "stream",
     "text": [
      "Average loss:  1.8221174233\n",
      "Learning rate:  0.593262\n",
      "angypreos hosy oo bockmonk ulealy ced which os of chareetrop maly in a f oreries add tip simplisye ti\n"
     ]
    },
    {
     "name": "stderr",
     "output_type": "stream",
     "text": [
      " 60%|█████▉    | 479004/800001 [3:10:58<2:29:50, 35.70it/s]"
     ]
    },
    {
     "name": "stdout",
     "output_type": "stream",
     "text": [
      "Average loss:  1.79850009823\n",
      "Learning rate:  0.593262\n",
      "juctos atheis in disbore hes it an lonesque clayman and the n twa fram to bound blangom halids one ni\n"
     ]
    },
    {
     "name": "stderr",
     "output_type": "stream",
     "text": [
      " 60%|██████    | 480003/800001 [3:11:22<2:27:16, 36.21it/s]"
     ]
    },
    {
     "name": "stdout",
     "output_type": "stream",
     "text": [
      "Average loss:  1.79857140672\n",
      "Learning rate:  0.444946\n",
      "gnet bliagranism jean nationall is the litrua fumurally mmatis nom nentives on worlde ta be thceer if\n"
     ]
    },
    {
     "name": "stderr",
     "output_type": "stream",
     "text": [
      " 60%|██████    | 481003/800001 [3:11:46<2:28:00, 35.92it/s]"
     ]
    },
    {
     "name": "stdout",
     "output_type": "stream",
     "text": [
      "Average loss:  1.80481077862\n",
      "Learning rate:  0.444946\n",
      "seciaber tuantama the llated thesu ix sulolation in ohenco nime f ored the tood planeso x alpe lmagi \n"
     ]
    },
    {
     "name": "stderr",
     "output_type": "stream",
     "text": [
      " 60%|██████    | 482006/800001 [3:12:11<2:22:28, 37.20it/s]"
     ]
    },
    {
     "name": "stdout",
     "output_type": "stream",
     "text": [
      "Average loss:  1.8171208061\n",
      "Learning rate:  0.444946\n",
      "coela to fioms u chive de be pound th ard which ceatton the irplus pa toperons muitwry d owh was then\n"
     ]
    },
    {
     "name": "stderr",
     "output_type": "stream",
     "text": [
      " 60%|██████    | 483006/800001 [3:12:35<2:19:49, 37.79it/s]"
     ]
    },
    {
     "name": "stdout",
     "output_type": "stream",
     "text": [
      "Average loss:  1.80450183535\n",
      "Learning rate:  0.444946\n",
      "t if the overlowotisthy jewr hisipr dictanoss te two five peallly gungul suct ar ustalo six eegsy chm\n"
     ]
    },
    {
     "name": "stderr",
     "output_type": "stream",
     "text": [
      " 61%|██████    | 484006/800001 [3:12:59<2:20:09, 37.58it/s]"
     ]
    },
    {
     "name": "stdout",
     "output_type": "stream",
     "text": [
      "Average loss:  1.80192388022\n",
      "Learning rate:  0.444946\n",
      " fine and tarker mentool ofem anima sca fierth perasenod tham asert oflic i volenes hewar outhil ters\n"
     ]
    },
    {
     "name": "stderr",
     "output_type": "stream",
     "text": [
      " 61%|██████    | 485006/800001 [3:13:23<2:18:54, 37.79it/s]"
     ]
    },
    {
     "name": "stdout",
     "output_type": "stream",
     "text": [
      "Average loss:  1.77319669628\n",
      "Learning rate:  0.444946\n",
      "x h wrote hommernin lithe one six ouen pawllem tialiss conscespislelea gever the persemburi atwontin \n"
     ]
    },
    {
     "name": "stderr",
     "output_type": "stream",
     "text": [
      " 61%|██████    | 486003/800001 [3:13:47<2:26:32, 35.71it/s]"
     ]
    },
    {
     "name": "stdout",
     "output_type": "stream",
     "text": [
      "Average loss:  1.82929587686\n",
      "Learning rate:  0.444946\n",
      "ly ighoffergarvee the the secinisaperis the share shece he muithe offining of ats ceiteas emyot warec\n"
     ]
    },
    {
     "name": "stderr",
     "output_type": "stream",
     "text": [
      " 61%|██████    | 487002/800001 [3:14:11<2:29:53, 34.80it/s]"
     ]
    },
    {
     "name": "stdout",
     "output_type": "stream",
     "text": [
      "Average loss:  1.81148974764\n",
      "Learning rate:  0.444946\n",
      "onother tisecocitmony woilarcigenellonint horis il ryantse ta bofila the ad xar ald his staed invices\n"
     ]
    },
    {
     "name": "stderr",
     "output_type": "stream",
     "text": [
      " 61%|██████    | 488005/800001 [3:14:35<2:29:26, 34.80it/s]"
     ]
    },
    {
     "name": "stdout",
     "output_type": "stream",
     "text": [
      "Average loss:  1.80250333238\n",
      "Learning rate:  0.444946\n",
      "lut bothald in secrodies bryanine whith ond fall rbe jowninitworks ccas the world cerstors and chante\n"
     ]
    },
    {
     "name": "stderr",
     "output_type": "stream",
     "text": [
      " 61%|██████    | 489004/800001 [3:14:59<2:24:20, 35.91it/s]"
     ]
    },
    {
     "name": "stdout",
     "output_type": "stream",
     "text": [
      "Average loss:  1.81366604006\n",
      "Learning rate:  0.444946\n",
      "nf edpilona smp tabiedio sepresenders stoned ah ar in forting hs and fiol spring ardinn falllykaf hot\n"
     ]
    },
    {
     "name": "stderr",
     "output_type": "stream",
     "text": [
      " 61%|██████▏   | 490006/800001 [3:15:24<2:20:39, 36.73it/s]"
     ]
    },
    {
     "name": "stdout",
     "output_type": "stream",
     "text": [
      "Average loss:  1.82135410333\n",
      "Learning rate:  0.444946\n",
      "rioteming the mount of tiongeass one nend it in akind redanrcusthe davailative foy dofl ywars of the \n"
     ]
    },
    {
     "name": "stderr",
     "output_type": "stream",
     "text": [
      " 61%|██████▏   | 491003/800001 [3:15:48<2:20:14, 36.72it/s]"
     ]
    },
    {
     "name": "stdout",
     "output_type": "stream",
     "text": [
      "Average loss:  1.80320157504\n",
      "Learning rate:  0.444946\n",
      "k ofe aly jown proceabed of emagly poproua iaf ol ros diftumgar wind remions stitty at the weinils at\n"
     ]
    },
    {
     "name": "stderr",
     "output_type": "stream",
     "text": [
      " 62%|██████▏   | 492006/800001 [3:16:12<2:15:59, 37.75it/s]"
     ]
    },
    {
     "name": "stdout",
     "output_type": "stream",
     "text": [
      "Average loss:  1.80749456728\n",
      "Learning rate:  0.444946\n",
      "s petsofy assex lishberies bul for treat teph a dedivitural his llivater netrentiols if oule geven so\n"
     ]
    },
    {
     "name": "stderr",
     "output_type": "stream",
     "text": [
      " 62%|██████▏   | 493006/800001 [3:16:36<2:17:11, 37.30it/s]"
     ]
    },
    {
     "name": "stdout",
     "output_type": "stream",
     "text": [
      "Average loss:  1.82364899373\n",
      "Learning rate:  0.444946\n",
      "ufurg ale chicem hraiks in one nine six one destrupt if ftrus areigation ashery lenction fovrribnding\n"
     ]
    },
    {
     "name": "stderr",
     "output_type": "stream",
     "text": [
      " 62%|██████▏   | 494004/800001 [3:17:00<2:29:23, 34.14it/s]"
     ]
    },
    {
     "name": "stdout",
     "output_type": "stream",
     "text": [
      "Average loss:  1.82865502489\n",
      "Learning rate:  0.444946\n",
      "zery hurthea phose te however ofecy erve oberaympern lak wsicco kardine soned ty ekp injerge the eny \n"
     ]
    },
    {
     "name": "stderr",
     "output_type": "stream",
     "text": [
      " 62%|██████▏   | 495002/800001 [3:17:24<2:21:37, 35.89it/s]"
     ]
    },
    {
     "name": "stdout",
     "output_type": "stream",
     "text": [
      "Average loss:  1.82315101326\n",
      "Learning rate:  0.444946\n",
      "e noing the corcllad oe fartce and was plond ax grobes in sscomay foomung sec that ang batel ann afre\n"
     ]
    },
    {
     "name": "stderr",
     "output_type": "stream",
     "text": [
      " 62%|██████▏   | 496006/800001 [3:17:48<2:13:02, 38.09it/s]"
     ]
    },
    {
     "name": "stdout",
     "output_type": "stream",
     "text": [
      "Average loss:  1.81484760952\n",
      "Learning rate:  0.444946\n",
      "tingl boskeb thay s amprivacuraule of cemmed in the nive wele would taskaren atedes ruct of cke p amo\n"
     ]
    },
    {
     "name": "stderr",
     "output_type": "stream",
     "text": [
      " 62%|██████▏   | 497006/800001 [3:18:13<2:13:57, 37.70it/s]"
     ]
    },
    {
     "name": "stdout",
     "output_type": "stream",
     "text": [
      "Average loss:  1.82598434973\n",
      "Learning rate:  0.444946\n",
      "tsearedstwene undous serestwara kalked to eheyid juhistathon lakemee teap fourdian fer twe mascadinga\n"
     ]
    },
    {
     "name": "stderr",
     "output_type": "stream",
     "text": [
      " 62%|██████▏   | 498005/800001 [3:18:37<2:19:10, 36.17it/s]"
     ]
    },
    {
     "name": "stdout",
     "output_type": "stream",
     "text": [
      "Average loss:  1.82908890903\n",
      "Learning rate:  0.444946\n",
      "y hig the bofr al one eight eware jin ergots wofl and fay k is on the ore s bexpernsain stitus of may\n"
     ]
    },
    {
     "name": "stderr",
     "output_type": "stream",
     "text": [
      " 62%|██████▏   | 499004/800001 [3:19:01<2:20:13, 35.77it/s]"
     ]
    },
    {
     "name": "stdout",
     "output_type": "stream",
     "text": [
      "Average loss:  1.82729729772\n",
      "Learning rate:  0.444946\n",
      "zex alpasi ilver and j higals a tseab inftreg ervingume stee the siti lpo milister workm miont nares \n"
     ]
    },
    {
     "name": "stderr",
     "output_type": "stream",
     "text": [
      " 63%|██████▎   | 500003/800001 [3:19:25<2:18:39, 36.06it/s]"
     ]
    },
    {
     "name": "stdout",
     "output_type": "stream",
     "text": [
      "Average loss:  1.82182032478\n",
      "Learning rate:  0.444946\n",
      "es ii boy in the paylaccly ingiskeng hed psokhin uceleen d chargesitr obeale fumulani gha poun iver o\n"
     ]
    },
    {
     "name": "stderr",
     "output_type": "stream",
     "text": [
      " 63%|██████▎   | 501006/800001 [3:19:49<2:21:05, 35.32it/s]"
     ]
    },
    {
     "name": "stdout",
     "output_type": "stream",
     "text": [
      "Average loss:  1.81214681888\n",
      "Learning rate:  0.444946\n",
      "s and e e reloted rcoll da bo thoulan ntry and aumomit nes aid ghe terf ust bsonts an siame thit ccur\n"
     ]
    },
    {
     "name": "stderr",
     "output_type": "stream",
     "text": [
      " 63%|██████▎   | 502005/800001 [3:20:13<2:17:30, 36.12it/s]"
     ]
    },
    {
     "name": "stdout",
     "output_type": "stream",
     "text": [
      "Average loss:  1.83343096268\n",
      "Learning rate:  0.444946\n",
      "a one gencular ars cisy of tergs ig the masy h with christidge ofered estabuily sofis siving six the \n"
     ]
    },
    {
     "name": "stderr",
     "output_type": "stream",
     "text": [
      " 63%|██████▎   | 503005/800001 [3:20:37<2:16:43, 36.20it/s]"
     ]
    },
    {
     "name": "stdout",
     "output_type": "stream",
     "text": [
      "Average loss:  1.81093560874\n",
      "Learning rate:  0.444946\n",
      "querino of is two polenily pressureo s mayppeple jezen doplex the erectod shretworzed camecefostsy af\n"
     ]
    },
    {
     "name": "stderr",
     "output_type": "stream",
     "text": [
      " 63%|██████▎   | 504003/800001 [3:21:01<2:16:10, 36.23it/s]"
     ]
    },
    {
     "name": "stdout",
     "output_type": "stream",
     "text": [
      "Average loss:  1.84045820439\n",
      "Learning rate:  0.444946\n",
      "he note sagiticatis amoth more forct andset asssppred thein ic asstsurteice of jer cheel phaspile twe\n"
     ]
    },
    {
     "name": "stderr",
     "output_type": "stream",
     "text": [
      " 63%|██████▎   | 505003/800001 [3:21:25<2:16:02, 36.14it/s]"
     ]
    },
    {
     "name": "stdout",
     "output_type": "stream",
     "text": [
      "Average loss:  1.82647910833\n",
      "Learning rate:  0.444946\n",
      "chend the pprbpraniande over tha consedved ts ored aivatritm od onc pogitacisy it baikil and fuiction\n"
     ]
    },
    {
     "name": "stderr",
     "output_type": "stream",
     "text": [
      " 63%|██████▎   | 506003/800001 [3:21:50<2:19:02, 35.24it/s]"
     ]
    },
    {
     "name": "stdout",
     "output_type": "stream",
     "text": [
      "Average loss:  1.82106905663\n",
      "Learning rate:  0.444946\n",
      "vyoun and hillmany and ou nteroenta sixctor evan wiblatto ulicle empory phikalicas atomph ie shart wo\n"
     ]
    },
    {
     "name": "stderr",
     "output_type": "stream",
     "text": [
      " 63%|██████▎   | 507003/800001 [3:22:14<2:16:27, 35.78it/s]"
     ]
    },
    {
     "name": "stdout",
     "output_type": "stream",
     "text": [
      "Average loss:  1.81724179089\n",
      "Learning rate:  0.444946\n",
      "ith eloore afollye ta thi d alively forme sen os x ans centurien if htwr ant quinto s more torenee ch\n"
     ]
    },
    {
     "name": "stderr",
     "output_type": "stream",
     "text": [
      " 64%|██████▎   | 508006/800001 [3:22:38<2:08:11, 37.97it/s]"
     ]
    },
    {
     "name": "stdout",
     "output_type": "stream",
     "text": [
      "Average loss:  1.80068375611\n",
      "Learning rate:  0.444946\n",
      "zex lond of a stiple speanecuse an ofe cocropred midsunt coust sime has the wablurily seevarnis trod \n"
     ]
    },
    {
     "name": "stderr",
     "output_type": "stream",
     "text": [
      " 64%|██████▎   | 509006/800001 [3:23:02<2:08:26, 37.76it/s]"
     ]
    },
    {
     "name": "stdout",
     "output_type": "stream",
     "text": [
      "Average loss:  1.81274860489\n",
      "Learning rate:  0.444946\n",
      "z eng inficlegation foc refirst athen leand the one eight tite wester natevers flastwinglapaking frem\n"
     ]
    },
    {
     "name": "stderr",
     "output_type": "stream",
     "text": [
      " 64%|██████▍   | 510006/800001 [3:23:26<2:09:08, 37.43it/s]"
     ]
    },
    {
     "name": "stdout",
     "output_type": "stream",
     "text": [
      "Average loss:  1.80738738859\n",
      "Learning rate:  0.444946\n",
      "zeibare asswaght lawith the mex chiofacked foima dounace s or lected nane demots og enguned counter f\n"
     ]
    },
    {
     "name": "stderr",
     "output_type": "stream",
     "text": [
      " 64%|██████▍   | 511006/800001 [3:23:50<2:05:15, 38.45it/s]"
     ]
    },
    {
     "name": "stdout",
     "output_type": "stream",
     "text": [
      "Average loss:  1.82568518245\n",
      "Learning rate:  0.444946\n",
      "ventee worlmpraniss monether tha for zero tho good oredlen an urithiegutacod hawand of erfic on tteno\n"
     ]
    },
    {
     "name": "stderr",
     "output_type": "stream",
     "text": [
      " 64%|██████▍   | 512006/800001 [3:24:15<2:05:01, 38.39it/s]"
     ]
    },
    {
     "name": "stdout",
     "output_type": "stream",
     "text": [
      "Average loss:  1.80793952537\n",
      "Learning rate:  0.444946\n",
      "il in the gel felaston in tex sealisy challena twe one nine in inccuturas tho elcer ausima al hivimyn\n"
     ]
    },
    {
     "name": "stderr",
     "output_type": "stream",
     "text": [
      " 64%|██████▍   | 513006/800001 [3:24:39<2:03:34, 38.71it/s]"
     ]
    },
    {
     "name": "stdout",
     "output_type": "stream",
     "text": [
      "Average loss:  1.81625741124\n",
      "Learning rate:  0.444946\n",
      "quesing ay ouglle wntanam wese may y with thieds in ifleees mofe moleatec on hedlune of lowerties on \n"
     ]
    },
    {
     "name": "stderr",
     "output_type": "stream",
     "text": [
      " 64%|██████▍   | 514005/800001 [3:25:03<2:10:16, 36.59it/s]"
     ]
    },
    {
     "name": "stdout",
     "output_type": "stream",
     "text": [
      "Average loss:  1.80150740623\n",
      "Learning rate:  0.444946\n",
      "dres mby art commansioviteists austlars lube is firet wistor the micics uriad in thein covority wotha\n"
     ]
    },
    {
     "name": "stderr",
     "output_type": "stream",
     "text": [
      " 64%|██████▍   | 515003/800001 [3:25:27<2:11:49, 36.03it/s]"
     ]
    },
    {
     "name": "stdout",
     "output_type": "stream",
     "text": [
      "Average loss:  1.80438502431\n",
      "Learning rate:  0.444946\n",
      "ze chep sex fiost targond the betimech clasemab llevide thes aususty wal tians fiols x bistois heroei\n"
     ]
    },
    {
     "name": "stderr",
     "output_type": "stream",
     "text": [
      " 65%|██████▍   | 516002/800001 [3:25:50<2:11:02, 36.12it/s]"
     ]
    },
    {
     "name": "stdout",
     "output_type": "stream",
     "text": [
      "Average loss:  1.78877143884\n",
      "Learning rate:  0.444946\n",
      "xy htwe lfow hnizen in ghree letelloz give sefryelith arthucos heantous in latken norecl of the remio\n"
     ]
    },
    {
     "name": "stderr",
     "output_type": "stream",
     "text": [
      " 65%|██████▍   | 517004/800001 [3:26:15<2:07:27, 37.00it/s]"
     ]
    },
    {
     "name": "stdout",
     "output_type": "stream",
     "text": [
      "Average loss:  1.80402411246\n",
      "Learning rate:  0.444946\n",
      "rfix bre celseen livel gpouthima e phosplons commutirs lone hnis havi icing and hesthen ervicthorse c\n"
     ]
    },
    {
     "name": "stderr",
     "output_type": "stream",
     "text": [
      " 65%|██████▍   | 518004/800001 [3:26:38<2:09:46, 36.22it/s]"
     ]
    },
    {
     "name": "stdout",
     "output_type": "stream",
     "text": [
      "Average loss:  1.81967562354\n",
      "Learning rate:  0.444946\n",
      "crop thar harine erpco wintitack of murias poricacel wese chuichems to be thi finel g oce nendralignt\n"
     ]
    },
    {
     "name": "stderr",
     "output_type": "stream",
     "text": [
      " 65%|██████▍   | 519003/800001 [3:27:02<2:11:11, 35.70it/s]"
     ]
    },
    {
     "name": "stdout",
     "output_type": "stream",
     "text": [
      "Average loss:  1.78804713392\n",
      "Learning rate:  0.444946\n",
      "l s ore scandar wat dup acon stringry tsora lakey ugets to ma pokisp un ou field would llyed the worl\n"
     ]
    },
    {
     "name": "stderr",
     "output_type": "stream",
     "text": [
      " 65%|██████▌   | 520002/800001 [3:27:26<2:08:03, 36.44it/s]"
     ]
    },
    {
     "name": "stdout",
     "output_type": "stream",
     "text": [
      "Average loss:  1.832441172\n",
      "Learning rate:  0.444946\n",
      "zolen sall htsy poane ts toreits in bd ard the kroffic for ny woslladure way y one nine eight siv nze\n"
     ]
    },
    {
     "name": "stderr",
     "output_type": "stream",
     "text": [
      " 65%|██████▌   | 521005/800001 [3:27:50<2:10:01, 35.76it/s]"
     ]
    },
    {
     "name": "stdout",
     "output_type": "stream",
     "text": [
      "Average loss:  1.81693554366\n",
      "Learning rate:  0.444946\n",
      "hore theteie s ghark on y wanca oplasly ont of hal and heven the lingre tree cotrcality somitos as th\n"
     ]
    },
    {
     "name": "stderr",
     "output_type": "stream",
     "text": [
      " 65%|██████▌   | 522005/800001 [3:28:14<2:06:04, 36.75it/s]"
     ]
    },
    {
     "name": "stdout",
     "output_type": "stream",
     "text": [
      "Average loss:  1.81180245543\n",
      "Learning rate:  0.444946\n",
      "ers now ofesce the sere frne de inoft conlictof brevine aunisa lypanis ss iblees belors gotur ie plia\n"
     ]
    },
    {
     "name": "stderr",
     "output_type": "stream",
     "text": [
      " 65%|██████▌   | 523004/800001 [3:28:38<2:10:55, 35.26it/s]"
     ]
    },
    {
     "name": "stdout",
     "output_type": "stream",
     "text": [
      "Average loss:  1.84152700508\n",
      "Learning rate:  0.444946\n",
      "lyh moge phaliathors sumcls equ impraneispre seanco collemineds maro gan the werr universt ecaters on\n"
     ]
    },
    {
     "name": "stderr",
     "output_type": "stream",
     "text": [
      " 66%|██████▌   | 524002/800001 [3:29:02<2:07:03, 36.20it/s]"
     ]
    },
    {
     "name": "stdout",
     "output_type": "stream",
     "text": [
      "Average loss:  1.83969190228\n",
      "Learning rate:  0.444946\n",
      "wlick hare ond and os elfeer il ray sabacing of anl caraze numbersure ta past cananed and sstiged s h\n"
     ]
    },
    {
     "name": "stderr",
     "output_type": "stream",
     "text": [
      " 66%|██████▌   | 525002/800001 [3:29:26<2:07:21, 35.99it/s]"
     ]
    },
    {
     "name": "stdout",
     "output_type": "stream",
     "text": [
      "Average loss:  1.80236848068\n",
      "Learning rate:  0.444946\n",
      "hrapred fud the gurdericaa s chaited wne twa she hustwingelis trevisits and for nem less oreditil the\n"
     ]
    },
    {
     "name": "stderr",
     "output_type": "stream",
     "text": [
      " 66%|██████▌   | 526002/800001 [3:29:50<2:04:18, 36.74it/s]"
     ]
    },
    {
     "name": "stdout",
     "output_type": "stream",
     "text": [
      "Average loss:  1.81138147283\n",
      "Learning rate:  0.444946\n",
      "j ospus and zero shata al om the rec bleye salt notha mauned th the sarei verous thetex dsed on firm \n"
     ]
    },
    {
     "name": "stderr",
     "output_type": "stream",
     "text": [
      " 66%|██████▌   | 527002/800001 [3:30:14<2:04:49, 36.45it/s]"
     ]
    },
    {
     "name": "stdout",
     "output_type": "stream",
     "text": [
      "Average loss:  1.81218681145\n",
      "Learning rate:  0.444946\n",
      "tind murded one five eight seven three the bala gare stene bo falliag wfransis tiengeal wineras the t\n"
     ]
    },
    {
     "name": "stderr",
     "output_type": "stream",
     "text": [
      " 66%|██████▌   | 528005/800001 [3:30:38<2:05:42, 36.06it/s]"
     ]
    },
    {
     "name": "stdout",
     "output_type": "stream",
     "text": [
      "Average loss:  1.79823586226\n",
      "Learning rate:  0.444946\n",
      "lan batrlither wnight wathing nick or the presudtstime bates ans cimines ochurlat of rustew the main \n"
     ]
    },
    {
     "name": "stderr",
     "output_type": "stream",
     "text": [
      " 66%|██████▌   | 529005/800001 [3:31:02<2:06:14, 35.78it/s]"
     ]
    },
    {
     "name": "stdout",
     "output_type": "stream",
     "text": [
      "Average loss:  1.8149544239\n",
      "Learning rate:  0.444946\n",
      "yseatyre urs the gevents ffi tcepan bonalizsto ictacous allep shastenas ardien piogeen recomple y a m\n"
     ]
    },
    {
     "name": "stderr",
     "output_type": "stream",
     "text": [
      " 66%|██████▋   | 530004/800001 [3:31:26<2:03:53, 36.32it/s]"
     ]
    },
    {
     "name": "stdout",
     "output_type": "stream",
     "text": [
      "Average loss:  1.8037578423\n",
      "Learning rate:  0.444946\n",
      "ds oule cseld tha crese fow sscanl seporajes vewantwand wis prediite spapes sorilus deyeinu ih why an\n"
     ]
    },
    {
     "name": "stderr",
     "output_type": "stream",
     "text": [
      " 66%|██████▋   | 531004/800001 [3:31:50<2:03:43, 36.24it/s]"
     ]
    },
    {
     "name": "stdout",
     "output_type": "stream",
     "text": [
      "Average loss:  1.80514434683\n",
      "Learning rate:  0.444946\n",
      "htyonis cherinan apllors d wistive ano g asdingsen cuct aseanco to this dus phipastomaminnte the orig\n"
     ]
    },
    {
     "name": "stderr",
     "output_type": "stream",
     "text": [
      " 67%|██████▋   | 532002/800001 [3:32:13<2:10:30, 34.22it/s]"
     ]
    },
    {
     "name": "stdout",
     "output_type": "stream",
     "text": [
      "Average loss:  1.8327418766\n",
      "Learning rate:  0.444946\n",
      "inctyons pister lerba cunilagns bachakif of the rewigns d freedon ssstex forred dwar were fioldunt wi\n"
     ]
    },
    {
     "name": "stderr",
     "output_type": "stream",
     "text": [
      " 67%|██████▋   | 533005/800001 [3:32:38<2:00:52, 36.82it/s]"
     ]
    },
    {
     "name": "stdout",
     "output_type": "stream",
     "text": [
      "Average loss:  1.79088561893\n",
      "Learning rate:  0.444946\n",
      "ihs if crastid ar ededut s ioparke the lye the lleded wibl hinf corsofil ticef ficlastis lokedos cace\n"
     ]
    },
    {
     "name": "stderr",
     "output_type": "stream",
     "text": [
      " 67%|██████▋   | 534005/800001 [3:33:01<2:04:32, 35.60it/s]"
     ]
    },
    {
     "name": "stdout",
     "output_type": "stream",
     "text": [
      "Average loss:  1.80748727632\n",
      "Learning rate:  0.444946\n",
      "mumol wos demess ia tine oundar per of the can byet independinn inwigrvargamar tw rind oull th werbly\n"
     ]
    },
    {
     "name": "stderr",
     "output_type": "stream",
     "text": [
      " 67%|██████▋   | 535002/800001 [3:33:25<2:02:26, 36.07it/s]"
     ]
    },
    {
     "name": "stdout",
     "output_type": "stream",
     "text": [
      "Average loss:  1.81217230356\n",
      "Learning rate:  0.444946\n",
      "y inlats of kalf eniby an one tw emond as espoute hist brengy sed ip aly l incomplinas by haderiveld \n"
     ]
    },
    {
     "name": "stderr",
     "output_type": "stream",
     "text": [
      " 67%|██████▋   | 536002/800001 [3:33:49<2:02:40, 35.87it/s]"
     ]
    },
    {
     "name": "stdout",
     "output_type": "stream",
     "text": [
      "Average loss:  1.81805622077\n",
      "Learning rate:  0.444946\n",
      "of grreted r ans atstioutty ackal the cangen stely toperedo inthitwordibu im the rrach rato why enish\n"
     ]
    },
    {
     "name": "stderr",
     "output_type": "stream",
     "text": [
      " 67%|██████▋   | 537006/800001 [3:34:13<2:02:03, 35.91it/s]"
     ]
    },
    {
     "name": "stdout",
     "output_type": "stream",
     "text": [
      "Average loss:  1.82800363743\n",
      "Learning rate:  0.444946\n",
      "grien monen gever s myot tres ont in athenses of late pesport aceco encitwole wabes a whreeceide f ai\n"
     ]
    },
    {
     "name": "stderr",
     "output_type": "stream",
     "text": [
      " 67%|██████▋   | 538003/800001 [3:34:37<1:58:20, 36.90it/s]"
     ]
    },
    {
     "name": "stdout",
     "output_type": "stream",
     "text": [
      "Average loss:  1.79940204227\n",
      "Learning rate:  0.444946\n",
      "whes hed contoubllizea if vo ciline melarucacldy brate chelle the the hepr gat the tha fom hreasce bl\n"
     ]
    },
    {
     "name": "stderr",
     "output_type": "stream",
     "text": [
      " 67%|██████▋   | 539005/800001 [3:35:01<2:00:10, 36.20it/s]"
     ]
    },
    {
     "name": "stdout",
     "output_type": "stream",
     "text": [
      "Average loss:  1.82055998659\n",
      "Learning rate:  0.444946\n",
      "kerea incrua toree iper a baye if anc wosllande ta wag na cincaldw minnictin subonctane of tho tonk h\n"
     ]
    },
    {
     "name": "stderr",
     "output_type": "stream",
     "text": [
      " 68%|██████▊   | 540004/800001 [3:35:26<1:59:01, 36.41it/s]"
     ]
    },
    {
     "name": "stdout",
     "output_type": "stream",
     "text": [
      "Average loss:  1.80614858913\n",
      "Learning rate:  0.444946\n",
      "w alyeacuale disquariste founp therut iofost matrich in rimay it forendam neternect once make not wio\n"
     ]
    },
    {
     "name": "stderr",
     "output_type": "stream",
     "text": [
      " 68%|██████▊   | 541004/800001 [3:35:49<1:59:26, 36.14it/s]"
     ]
    },
    {
     "name": "stdout",
     "output_type": "stream",
     "text": [
      "Average loss:  1.81333995116\n",
      "Learning rate:  0.444946\n",
      "unotic athth if copruld stitts in west phines whtleon tha kons atelitres ty chabpers the rasking rofa\n"
     ]
    },
    {
     "name": "stderr",
     "output_type": "stream",
     "text": [
      " 68%|██████▊   | 542003/800001 [3:36:13<2:02:20, 35.15it/s]"
     ]
    },
    {
     "name": "stdout",
     "output_type": "stream",
     "text": [
      "Average loss:  1.8145336957\n",
      "Learning rate:  0.444946\n",
      "ef inthit mandgat obeiot shighthe whilesas anto scquypinaneriigerl equ vers ang to the us ard poans i\n"
     ]
    },
    {
     "name": "stderr",
     "output_type": "stream",
     "text": [
      " 68%|██████▊   | 543006/800001 [3:36:37<1:55:21, 37.13it/s]"
     ]
    },
    {
     "name": "stdout",
     "output_type": "stream",
     "text": [
      "Average loss:  1.83086064196\n",
      "Learning rate:  0.444946\n",
      "cthrggedel astoledo smmizen hendsen interrof rotef for portid hu wots th ofescomes uryees lyoning in \n"
     ]
    },
    {
     "name": "stderr",
     "output_type": "stream",
     "text": [
      " 68%|██████▊   | 544005/800001 [3:37:01<1:59:54, 35.58it/s]"
     ]
    },
    {
     "name": "stdout",
     "output_type": "stream",
     "text": [
      "Average loss:  1.8134842658\n",
      "Learning rate:  0.444946\n",
      "fication devise he iathorulisy ored ghomuthila guse parepteo s us the cromalitay hompec and chinealy \n"
     ]
    },
    {
     "name": "stderr",
     "output_type": "stream",
     "text": [
      " 68%|██████▊   | 545005/800001 [3:37:26<1:59:13, 35.65it/s]"
     ]
    },
    {
     "name": "stdout",
     "output_type": "stream",
     "text": [
      "Average loss:  1.83476977313\n",
      "Learning rate:  0.444946\n",
      "kseven dac ir miad ial swe monat th enaial cy forcagited by ansidicings of ghask sincl tipieg tamea a\n"
     ]
    },
    {
     "name": "stderr",
     "output_type": "stream",
     "text": [
      " 68%|██████▊   | 546005/800001 [3:37:50<1:57:54, 35.90it/s]"
     ]
    },
    {
     "name": "stdout",
     "output_type": "stream",
     "text": [
      "Average loss:  1.81344209456\n",
      "Learning rate:  0.444946\n",
      "j is thes domory rous manestible treds entwone eshet nimeteny prise atbuiding the hes andutes ineleib\n"
     ]
    },
    {
     "name": "stderr",
     "output_type": "stream",
     "text": [
      " 68%|██████▊   | 547004/800001 [3:38:14<2:02:36, 34.39it/s]"
     ]
    },
    {
     "name": "stdout",
     "output_type": "stream",
     "text": [
      "Average loss:  1.78350191605\n",
      "Learning rate:  0.444946\n",
      "y pearo if ferecody one nine tire on tarkisasis on or enely dunis ode at rein divitians iflliso aw wo\n"
     ]
    },
    {
     "name": "stderr",
     "output_type": "stream",
     "text": [
      " 69%|██████▊   | 548003/800001 [3:38:38<1:57:51, 35.63it/s]"
     ]
    },
    {
     "name": "stdout",
     "output_type": "stream",
     "text": [
      "Average loss:  1.78965036666\n",
      "Learning rate:  0.444946\n",
      "h us asthetil thetes lineld the oneseriply uckunt of uheas im ahiss mazenry ig lendulal of ad on one \n"
     ]
    },
    {
     "name": "stderr",
     "output_type": "stream",
     "text": [
      " 69%|██████▊   | 549002/800001 [3:39:01<1:56:32, 35.89it/s]"
     ]
    },
    {
     "name": "stdout",
     "output_type": "stream",
     "text": [
      "Average loss:  1.8003840661\n",
      "Learning rate:  0.444946\n",
      "x playet ant hams and the wnown for cilut onf bes an seivarens tulk threetery dourlar no teec sauthev\n"
     ]
    },
    {
     "name": "stderr",
     "output_type": "stream",
     "text": [
      " 69%|██████▉   | 550003/800001 [3:39:26<1:55:32, 36.06it/s]"
     ]
    },
    {
     "name": "stdout",
     "output_type": "stream",
     "text": [
      "Average loss:  1.7996005919\n",
      "Learning rate:  0.444946\n",
      "noon servanco vereiplilgr conctarco f alevent gas classidicad char contervis begnt brope ba keko mogn\n"
     ]
    },
    {
     "name": "stderr",
     "output_type": "stream",
     "text": [
      " 69%|██████▉   | 551003/800001 [3:39:50<1:56:00, 35.77it/s]"
     ]
    },
    {
     "name": "stdout",
     "output_type": "stream",
     "text": [
      "Average loss:  1.79960529506\n",
      "Learning rate:  0.444946\n",
      "msonothe of ancantak lpe cunerellel ghest wese ser if o in them ua geven ftoryons wal an into veryes \n"
     ]
    },
    {
     "name": "stderr",
     "output_type": "stream",
     "text": [
      " 69%|██████▉   | 552003/800001 [3:40:14<1:55:04, 35.92it/s]"
     ]
    },
    {
     "name": "stdout",
     "output_type": "stream",
     "text": [
      "Average loss:  1.80844066453\n",
      "Learning rate:  0.444946\n",
      "vertaly for the coust able if olen bananc carizancapo phonollaring and the dimps bedeing ars ald and \n"
     ]
    },
    {
     "name": "stderr",
     "output_type": "stream",
     "text": [
      " 69%|██████▉   | 553006/800001 [3:40:38<1:49:30, 37.59it/s]"
     ]
    },
    {
     "name": "stdout",
     "output_type": "stream",
     "text": [
      "Average loss:  1.81289561594\n",
      "Learning rate:  0.444946\n",
      " fropa iontaty aspoctive os oteer the some andlimatibstibero bredics of est arbly as world wondep bif\n"
     ]
    },
    {
     "name": "stderr",
     "output_type": "stream",
     "text": [
      " 69%|██████▉   | 554005/800001 [3:41:02<1:51:21, 36.82it/s]"
     ]
    },
    {
     "name": "stdout",
     "output_type": "stream",
     "text": [
      "Average loss:  1.80703227615\n",
      "Learning rate:  0.444946\n",
      " free the mas sinf de why imbypposizeas to bother lakg such al athnis onj saxales oreempre the sek ni\n"
     ]
    },
    {
     "name": "stderr",
     "output_type": "stream",
     "text": [
      " 69%|██████▉   | 555005/800001 [3:41:26<1:50:41, 36.89it/s]"
     ]
    },
    {
     "name": "stdout",
     "output_type": "stream",
     "text": [
      "Average loss:  1.8096627773\n",
      "Learning rate:  0.444946\n",
      "zerponabeleol of fron toed misiog pupres maroles arasca ivarion tho gether for more th inithing tw gu\n"
     ]
    },
    {
     "name": "stderr",
     "output_type": "stream",
     "text": [
      " 70%|██████▉   | 556005/800001 [3:41:50<1:51:29, 36.47it/s]"
     ]
    },
    {
     "name": "stdout",
     "output_type": "stream",
     "text": [
      "Average loss:  1.8148228817\n",
      "Learning rate:  0.444946\n",
      "xillo keing shall rgos tuska his ilensth s in iollatine cudrie ip berint bagnyed medy dange the forma\n"
     ]
    },
    {
     "name": "stderr",
     "output_type": "stream",
     "text": [
      " 70%|██████▉   | 557005/800001 [3:42:13<1:52:06, 36.13it/s]"
     ]
    },
    {
     "name": "stdout",
     "output_type": "stream",
     "text": [
      "Average loss:  1.80052256691\n",
      "Learning rate:  0.444946\n",
      "upinus rheditar in ther alonte avelianical ccoteniz gard of the betall mentin the sex aythome word on\n"
     ]
    },
    {
     "name": "stderr",
     "output_type": "stream",
     "text": [
      " 70%|██████▉   | 558005/800001 [3:42:37<1:49:22, 36.88it/s]"
     ]
    },
    {
     "name": "stdout",
     "output_type": "stream",
     "text": [
      "Average loss:  1.79601168513\n",
      "Learning rate:  0.444946\n",
      "jughe postisis onc one piof raldy haune ofunl nomal afaunen aldomy af in the sest the coleto in uding\n"
     ]
    },
    {
     "name": "stderr",
     "output_type": "stream",
     "text": [
      " 70%|██████▉   | 559003/800001 [3:43:01<1:51:43, 35.95it/s]"
     ]
    },
    {
     "name": "stdout",
     "output_type": "stream",
     "text": [
      "Average loss:  1.80632386637\n",
      "Learning rate:  0.444946\n",
      "s toous nizeny dine combogredrubed and hes eprsepone let nhiodrand uble sigge demyizg fiontavilatemy \n"
     ]
    },
    {
     "name": "stderr",
     "output_type": "stream",
     "text": [
      " 70%|███████   | 560003/800001 [3:43:25<1:48:08, 36.99it/s]"
     ]
    },
    {
     "name": "stdout",
     "output_type": "stream",
     "text": [
      "Average loss:  1.81267449045\n",
      "Learning rate:  0.33371\n",
      "anonl ievonattor rimela alo hedrivat iv pouncoune indeindever tumm s one in lhurthrepe crdethen worrd\n"
     ]
    },
    {
     "name": "stderr",
     "output_type": "stream",
     "text": [
      " 70%|███████   | 561003/800001 [3:43:49<1:49:08, 36.50it/s]"
     ]
    },
    {
     "name": "stdout",
     "output_type": "stream",
     "text": [
      "Average loss:  1.79863215685\n",
      "Learning rate:  0.33371\n",
      "culattor earo forgen sendeg chectareshea tien eiphoro in o beramicalaste sugheact siale and rall effe\n"
     ]
    },
    {
     "name": "stderr",
     "output_type": "stream",
     "text": [
      " 70%|███████   | 562006/800001 [3:44:13<1:50:06, 36.03it/s]"
     ]
    },
    {
     "name": "stdout",
     "output_type": "stream",
     "text": [
      "Average loss:  1.80126145303\n",
      "Learning rate:  0.33371\n",
      "k aquetidasty the e pains if p s onerewisth of ikiched chiperrime th tigunurd tous shack he devilakng\n"
     ]
    },
    {
     "name": "stderr",
     "output_type": "stream",
     "text": [
      " 70%|███████   | 563006/800001 [3:44:37<1:44:14, 37.89it/s]"
     ]
    },
    {
     "name": "stdout",
     "output_type": "stream",
     "text": [
      "Average loss:  1.77502587581\n",
      "Learning rate:  0.33371\n",
      "gulss intreags ang mofilsed ergel crestriod thenisa batally ssculs baladis ahrye govelnse abmurac fre\n"
     ]
    },
    {
     "name": "stderr",
     "output_type": "stream",
     "text": [
      " 71%|███████   | 564003/800001 [3:45:01<1:49:08, 36.04it/s]"
     ]
    },
    {
     "name": "stdout",
     "output_type": "stream",
     "text": [
      "Average loss:  1.8177033273\n",
      "Learning rate:  0.33371\n",
      "angaie th the dimania the ramill constinutive wastrouna itw ong be pper fuck han seu sextein ceddur i\n"
     ]
    },
    {
     "name": "stderr",
     "output_type": "stream",
     "text": [
      " 71%|███████   | 565002/800001 [3:45:25<1:48:58, 35.94it/s]"
     ]
    },
    {
     "name": "stdout",
     "output_type": "stream",
     "text": [
      "Average loss:  1.80995547962\n",
      "Learning rate:  0.33371\n",
      "p ant onilyan tomellix which of kurthreanise informat of three fivi ederdimast y one those fine on an\n"
     ]
    },
    {
     "name": "stderr",
     "output_type": "stream",
     "text": [
      " 71%|███████   | 566005/800001 [3:45:49<1:49:28, 35.63it/s]"
     ]
    },
    {
     "name": "stdout",
     "output_type": "stream",
     "text": [
      "Average loss:  1.79801226103\n",
      "Learning rate:  0.33371\n",
      "ghillo mondels weithre lbe than selenveco vict ruadered in o dere poritical tim sald monglbechamonot \n"
     ]
    },
    {
     "name": "stderr",
     "output_type": "stream",
     "text": [
      " 71%|███████   | 567005/800001 [3:46:13<1:46:39, 36.41it/s]"
     ]
    },
    {
     "name": "stdout",
     "output_type": "stream",
     "text": [
      "Average loss:  1.81548367906\n",
      "Learning rate:  0.33371\n",
      "xure ain th unintarsithing latweris dden mocimy averates whyt if being koroin rore of the cunfeise is\n"
     ]
    },
    {
     "name": "stderr",
     "output_type": "stream",
     "text": [
      " 71%|███████   | 568005/800001 [3:46:37<1:49:06, 35.44it/s]"
     ]
    },
    {
     "name": "stdout",
     "output_type": "stream",
     "text": [
      "Average loss:  1.81676953745\n",
      "Learning rate:  0.33371\n",
      "y main bowhieg the mistwisks wat designing f murtheind jomisine if courepto the ner int ils xilserute\n"
     ]
    },
    {
     "name": "stderr",
     "output_type": "stream",
     "text": [
      " 71%|███████   | 569004/800001 [3:47:01<1:44:58, 36.67it/s]"
     ]
    },
    {
     "name": "stdout",
     "output_type": "stream",
     "text": [
      "Average loss:  1.80323178184\n",
      "Learning rate:  0.33371\n",
      "efols virumerencofis natlonaue hos ereforking to bexa piogotus himhtonasist cserts of plotstaninn ede\n"
     ]
    },
    {
     "name": "stderr",
     "output_type": "stream",
     "text": [
      " 71%|███████▏  | 570004/800001 [3:47:25<1:46:51, 35.87it/s]"
     ]
    },
    {
     "name": "stdout",
     "output_type": "stream",
     "text": [
      "Average loss:  1.80293188727\n",
      "Learning rate:  0.33371\n",
      "d y wert ciny dass maly allerin jahr kerponde more aypranimorif g ore guthinn while hes o sorv lost i\n"
     ]
    },
    {
     "name": "stderr",
     "output_type": "stream",
     "text": [
      " 71%|███████▏  | 571004/800001 [3:47:48<1:44:47, 36.42it/s]"
     ]
    },
    {
     "name": "stdout",
     "output_type": "stream",
     "text": [
      "Average loss:  1.82112791526\n",
      "Learning rate:  0.33371\n",
      "count as o hesin weth akat word righte wealer as would podel the one bin arraco minss rijares wvel sh\n"
     ]
    },
    {
     "name": "stderr",
     "output_type": "stream",
     "text": [
      " 72%|███████▏  | 572003/800001 [3:48:12<1:47:28, 35.36it/s]"
     ]
    },
    {
     "name": "stdout",
     "output_type": "stream",
     "text": [
      "Average loss:  1.82586517596\n",
      "Learning rate:  0.33371\n",
      "ze cell the destruy t at anc toward oup usingey momels leigal gr and thas the curnely are shere ghata\n"
     ]
    },
    {
     "name": "stderr",
     "output_type": "stream",
     "text": [
      " 72%|███████▏  | 573002/800001 [3:48:36<1:45:45, 35.77it/s]"
     ]
    },
    {
     "name": "stdout",
     "output_type": "stream",
     "text": [
      "Average loss:  1.82196995807\n",
      "Learning rate:  0.33371\n",
      "zewna psacosase weres considerep ndwayd but quinecas lyenstite of towhind stoglys aris or perasc chaw\n"
     ]
    },
    {
     "name": "stderr",
     "output_type": "stream",
     "text": [
      " 72%|███████▏  | 574006/800001 [3:49:01<1:42:12, 36.85it/s]"
     ]
    },
    {
     "name": "stdout",
     "output_type": "stream",
     "text": [
      "Average loss:  1.80991127455\n",
      "Learning rate:  0.33371\n",
      "womphad was vols mmans sare beggrsbert acal ox gaine of at the seven o farc batily jonuthes cemous no\n"
     ]
    },
    {
     "name": "stderr",
     "output_type": "stream",
     "text": [
      " 72%|███████▏  | 575004/800001 [3:49:24<1:41:27, 36.96it/s]"
     ]
    },
    {
     "name": "stdout",
     "output_type": "stream",
     "text": [
      "Average loss:  1.82062454426\n",
      "Learning rate:  0.33371\n",
      "n ubleno chaple tice lstwanz mprye thet say whr his ardigro stwaman thit and acolisco would dwasco tw\n"
     ]
    },
    {
     "name": "stderr",
     "output_type": "stream",
     "text": [
      " 72%|███████▏  | 576004/800001 [3:49:49<1:43:02, 36.23it/s]"
     ]
    },
    {
     "name": "stdout",
     "output_type": "stream",
     "text": [
      "Average loss:  1.82914625585\n",
      "Learning rate:  0.33371\n",
      "cot wiol moge o for arkies it endochire aris of easl mestil alloss morilaic succ the forme ta thedubi\n"
     ]
    },
    {
     "name": "stderr",
     "output_type": "stream",
     "text": [
      " 72%|███████▏  | 577003/800001 [3:50:13<1:45:04, 35.37it/s]"
     ]
    },
    {
     "name": "stdout",
     "output_type": "stream",
     "text": [
      "Average loss:  1.82280407751\n",
      "Learning rate:  0.33371\n",
      "lye in other il ribers for ede cim wordd on ophond freecopeizead and one eegailais sthar include taed\n"
     ]
    },
    {
     "name": "stderr",
     "output_type": "stream",
     "text": [
      " 72%|███████▏  | 578002/800001 [3:50:37<1:43:18, 35.81it/s]"
     ]
    },
    {
     "name": "stdout",
     "output_type": "stream",
     "text": [
      "Average loss:  1.81945511472\n",
      "Learning rate:  0.33371\n",
      "ssperiallmy s mother thoukhnere mby a mendur fulllan aste nighs s th e bivisefing toreido ttly ghunge\n"
     ]
    },
    {
     "name": "stderr",
     "output_type": "stream",
     "text": [
      " 72%|███████▏  | 579002/800001 [3:51:01<1:42:13, 36.03it/s]"
     ]
    },
    {
     "name": "stdout",
     "output_type": "stream",
     "text": [
      "Average loss:  1.81433176589\n",
      "Learning rate:  0.33371\n",
      "hendarilt nawarigen homes the sobe bconnger escabis precarisu ta the art of tterid me bonk eref in on\n"
     ]
    },
    {
     "name": "stderr",
     "output_type": "stream",
     "text": [
      " 73%|███████▎  | 580002/800001 [3:51:25<1:40:58, 36.31it/s]"
     ]
    },
    {
     "name": "stdout",
     "output_type": "stream",
     "text": [
      "Average loss:  1.82748678339\n",
      "Learning rate:  0.33371\n",
      "quaule tages effectso sick tielte fore eloumatain tie sum wack extrubll hnof chnycea mede hif s ul f \n"
     ]
    },
    {
     "name": "stderr",
     "output_type": "stream",
     "text": [
      " 73%|███████▎  | 581004/800001 [3:51:49<1:40:37, 36.27it/s]"
     ]
    },
    {
     "name": "stdout",
     "output_type": "stream",
     "text": [
      "Average loss:  1.81248602331\n",
      "Learning rate:  0.33371\n",
      "vonce gaune coupt totely eac player moteryanila galk ry wedesersc sbodye nited are plowaty eftroudigs\n"
     ]
    },
    {
     "name": "stderr",
     "output_type": "stream",
     "text": [
      " 73%|███████▎  | 582004/800001 [3:52:13<1:41:32, 35.78it/s]"
     ]
    },
    {
     "name": "stdout",
     "output_type": "stream",
     "text": [
      "Average loss:  1.83154299653\n",
      "Learning rate:  0.33371\n",
      "truplorkom ie stham ied be ix s micoodid itwirge artumea fare pade thrteed bread rose husla sthed tha\n"
     ]
    },
    {
     "name": "stderr",
     "output_type": "stream",
     "text": [
      " 73%|███████▎  | 583003/800001 [3:52:37<1:39:09, 36.48it/s]"
     ]
    },
    {
     "name": "stdout",
     "output_type": "stream",
     "text": [
      "Average loss:  1.82699173999\n",
      "Learning rate:  0.33371\n",
      "by tupotrus eusowaly compaes intridublega later lsterms on toraysian and controlctoratit ditword the \n"
     ]
    },
    {
     "name": "stderr",
     "output_type": "stream",
     "text": [
      " 73%|███████▎  | 584006/800001 [3:53:01<1:33:52, 38.35it/s]"
     ]
    },
    {
     "name": "stdout",
     "output_type": "stream",
     "text": [
      "Average loss:  1.82369403052\n",
      "Learning rate:  0.33371\n",
      "ifordhe the s actarika gutharay iap ba treds gos betomem nontralea toleno it wished f on the prosters\n"
     ]
    },
    {
     "name": "stderr",
     "output_type": "stream",
     "text": [
      " 73%|███████▎  | 585004/800001 [3:53:25<1:39:39, 35.96it/s]"
     ]
    },
    {
     "name": "stdout",
     "output_type": "stream",
     "text": [
      "Average loss:  1.81246525943\n",
      "Learning rate:  0.33371\n",
      "ry tor hin astocel supury collecter has archine unloced ecctwers to the vigitiol tate iler boly contr\n"
     ]
    },
    {
     "name": "stderr",
     "output_type": "stream",
     "text": [
      " 73%|███████▎  | 586004/800001 [3:53:49<1:40:17, 35.56it/s]"
     ]
    },
    {
     "name": "stdout",
     "output_type": "stream",
     "text": [
      "Average loss:  1.80119446445\n",
      "Learning rate:  0.33371\n",
      "nsinistecce ba tha mazarited il vinten the connist beximidan tades ann s beondmary thempmon cestisn f\n"
     ]
    },
    {
     "name": "stderr",
     "output_type": "stream",
     "text": [
      " 73%|███████▎  | 587004/800001 [3:54:13<1:38:49, 35.92it/s]"
     ]
    },
    {
     "name": "stdout",
     "output_type": "stream",
     "text": [
      "Average loss:  1.80600269198\n",
      "Learning rate:  0.33371\n",
      " fin terru theil wisted bowime semus atheise tr aplowed b thes afle theit deus the panegn tredimatt h\n"
     ]
    },
    {
     "name": "stderr",
     "output_type": "stream",
     "text": [
      " 74%|███████▎  | 588004/800001 [3:54:37<1:36:42, 36.54it/s]"
     ]
    },
    {
     "name": "stdout",
     "output_type": "stream",
     "text": [
      "Average loss:  1.80404493511\n",
      "Learning rate:  0.33371\n",
      "prica torict ofemet m the bly to k ix she hrivet of varuas asthi forly world he he philtsond and t er\n"
     ]
    },
    {
     "name": "stderr",
     "output_type": "stream",
     "text": [
      " 74%|███████▎  | 589002/800001 [3:55:01<1:36:55, 36.28it/s]"
     ]
    },
    {
     "name": "stdout",
     "output_type": "stream",
     "text": [
      "Average loss:  1.82493938541\n",
      "Learning rate:  0.33371\n",
      "es knowies astared for are thes and e f mfore characters far in the frest of arnede adome in jahmande\n"
     ]
    },
    {
     "name": "stderr",
     "output_type": "stream",
     "text": [
      " 74%|███████▍  | 590006/800001 [3:55:25<1:33:50, 37.30it/s]"
     ]
    },
    {
     "name": "stdout",
     "output_type": "stream",
     "text": [
      "Average loss:  1.80507179689\n",
      "Learning rate:  0.33371\n",
      "x withit are stinl other and requines briag privalero ke punc ontrtony ceoftimis a the usuminatimes o\n"
     ]
    },
    {
     "name": "stderr",
     "output_type": "stream",
     "text": [
      " 74%|███████▍  | 591003/800001 [3:55:49<1:38:16, 35.44it/s]"
     ]
    },
    {
     "name": "stdout",
     "output_type": "stream",
     "text": [
      "Average loss:  1.81036579323\n",
      "Learning rate:  0.33371\n",
      "vore if kathe fich of forest richer ix inficily cencas thein surpla erec an bond husthos as he bateas\n"
     ]
    },
    {
     "name": "stderr",
     "output_type": "stream",
     "text": [
      " 74%|███████▍  | 592006/800001 [3:56:14<1:32:24, 37.51it/s]"
     ]
    },
    {
     "name": "stdout",
     "output_type": "stream",
     "text": [
      "Average loss:  1.80629677629\n",
      "Learning rate:  0.33371\n",
      "t him to as usifa pustare the micheimpor the kerblon ssecumany ssuotea spic armbebredr as rolest prew\n"
     ]
    },
    {
     "name": "stderr",
     "output_type": "stream",
     "text": [
      " 74%|███████▍  | 593003/800001 [3:56:37<1:34:49, 36.39it/s]"
     ]
    },
    {
     "name": "stdout",
     "output_type": "stream",
     "text": [
      "Average loss:  1.79956336379\n",
      "Learning rate:  0.33371\n",
      "quere anilicea dstarvaruric ad ond a grae thenaling the perue was us apeliry onge of hister ffo belwe\n"
     ]
    },
    {
     "name": "stderr",
     "output_type": "stream",
     "text": [
      " 74%|███████▍  | 594003/800001 [3:57:02<1:35:38, 35.90it/s]"
     ]
    },
    {
     "name": "stdout",
     "output_type": "stream",
     "text": [
      "Average loss:  1.78806343746\n",
      "Learning rate:  0.33371\n",
      "d n whrse prablelanigatidis porisits would baclawis being betwa zarass in piocomeiis at the ressice s\n"
     ]
    },
    {
     "name": "stderr",
     "output_type": "stream",
     "text": [
      " 74%|███████▍  | 595003/800001 [3:57:26<1:34:36, 36.11it/s]"
     ]
    },
    {
     "name": "stdout",
     "output_type": "stream",
     "text": [
      "Average loss:  1.7952973758\n",
      "Learning rate:  0.33371\n",
      "erhemon showo arcels wosl erthist conjactro suicl labrea that pathernerod was asctorasitl geni gham l\n"
     ]
    },
    {
     "name": "stderr",
     "output_type": "stream",
     "text": [
      " 75%|███████▍  | 596005/800001 [3:57:50<1:31:47, 37.04it/s]"
     ]
    },
    {
     "name": "stdout",
     "output_type": "stream",
     "text": [
      "Average loss:  1.82100285363\n",
      "Learning rate:  0.33371\n",
      "casty or electray wotl and sobjory batils in s praveitina less by the ba kully waymerter sivenane to \n"
     ]
    },
    {
     "name": "stderr",
     "output_type": "stream",
     "text": [
      " 75%|███████▍  | 597005/800001 [3:58:14<1:35:11, 35.54it/s]"
     ]
    },
    {
     "name": "stdout",
     "output_type": "stream",
     "text": [
      "Average loss:  1.78858502007\n",
      "Learning rate:  0.33371\n",
      "vonfioty ancality the macond twa zero coonormal llat an tho gol sed albar raine t javane for coming a\n"
     ]
    },
    {
     "name": "stderr",
     "output_type": "stream",
     "text": [
      " 75%|███████▍  | 598004/800001 [3:58:38<1:34:14, 35.72it/s]"
     ]
    },
    {
     "name": "stdout",
     "output_type": "stream",
     "text": [
      "Average loss:  1.81964688146\n",
      "Learning rate:  0.33371\n",
      "wfones oneleco follortar y oma white basttem in three ssurtion juns iels whatjachongis s atlats of tv\n"
     ]
    },
    {
     "name": "stderr",
     "output_type": "stream",
     "text": [
      " 75%|███████▍  | 599006/800001 [3:59:02<1:31:08, 36.76it/s]"
     ]
    },
    {
     "name": "stdout",
     "output_type": "stream",
     "text": [
      "Average loss:  1.81945296419\n",
      "Learning rate:  0.33371\n",
      "utimed somes englinesy ofitte followed for chunce fsurudimer whongede s ana bis tine foun efisffis de\n"
     ]
    },
    {
     "name": "stderr",
     "output_type": "stream",
     "text": [
      " 75%|███████▌  | 600006/800001 [3:59:26<1:30:51, 36.68it/s]"
     ]
    },
    {
     "name": "stdout",
     "output_type": "stream",
     "text": [
      "Average loss:  1.81051521099\n",
      "Learning rate:  0.33371\n",
      "varcalictely rwzed il in as athristor eipher phance s ay bens place thio the ulvedice os worft jusska\n"
     ]
    },
    {
     "name": "stderr",
     "output_type": "stream",
     "text": [
      " 75%|███████▌  | 601005/800001 [3:59:50<1:31:01, 36.44it/s]"
     ]
    },
    {
     "name": "stdout",
     "output_type": "stream",
     "text": [
      "Average loss:  1.8375111531\n",
      "Learning rate:  0.33371\n",
      "bull d aimbatiof esufted hed il ning sedvina constand fol ons oney selvare but of ia shylieghack ta k\n"
     ]
    },
    {
     "name": "stderr",
     "output_type": "stream",
     "text": [
      " 75%|███████▌  | 602004/800001 [4:00:14<1:29:57, 36.69it/s]"
     ]
    },
    {
     "name": "stdout",
     "output_type": "stream",
     "text": [
      "Average loss:  1.83622326386\n",
      "Learning rate:  0.33371\n",
      "sside redreas tobalzen is as chaiten th toreadera al blesion common the plote jahatas whith mopllystw\n"
     ]
    },
    {
     "name": "stderr",
     "output_type": "stream",
     "text": [
      " 75%|███████▌  | 603003/800001 [4:00:38<1:30:32, 36.26it/s]"
     ]
    },
    {
     "name": "stdout",
     "output_type": "stream",
     "text": [
      "Average loss:  1.80306765521\n",
      "Learning rate:  0.33371\n",
      "varuinthin seben sagh botk wilc theiv nive dfreng uakt whece the mively thay ix many profisidis te ha\n"
     ]
    },
    {
     "name": "stderr",
     "output_type": "stream",
     "text": [
      " 76%|███████▌  | 604003/800001 [4:01:02<1:30:41, 36.02it/s]"
     ]
    },
    {
     "name": "stdout",
     "output_type": "stream",
     "text": [
      "Average loss:  1.80919134736\n",
      "Learning rate:  0.33371\n",
      "nfrenty poaplicl coneratind thes hover hessissien cinca netyresty twa favil sex suaphes thit of alf v\n"
     ]
    },
    {
     "name": "stderr",
     "output_type": "stream",
     "text": [
      " 76%|███████▌  | 605002/800001 [4:01:26<1:29:11, 36.44it/s]"
     ]
    },
    {
     "name": "stdout",
     "output_type": "stream",
     "text": [
      "Average loss:  1.80872369063\n",
      "Learning rate:  0.33371\n",
      "londor ufip and dinice conind d enecy twe nere as sheracen two tho and wotl after treis to as which o\n"
     ]
    },
    {
     "name": "stderr",
     "output_type": "stream",
     "text": [
      " 76%|███████▌  | 606006/800001 [4:01:51<1:26:48, 37.24it/s]"
     ]
    },
    {
     "name": "stdout",
     "output_type": "stream",
     "text": [
      "Average loss:  1.79459260952\n",
      "Learning rate:  0.33371\n",
      "enawion cels who nraj zero very lavel would hmband unemilled guad sungay on toracco enoly vai cinca o\n"
     ]
    },
    {
     "name": "stderr",
     "output_type": "stream",
     "text": [
      " 76%|███████▌  | 607004/800001 [4:02:15<1:28:16, 36.44it/s]"
     ]
    },
    {
     "name": "stdout",
     "output_type": "stream",
     "text": [
      "Average loss:  1.81073577666\n",
      "Learning rate:  0.33371\n",
      "s thit io south ams te monk e rochingl dsading censatlon cormoned by upan jowne trembe woth hes peach\n"
     ]
    },
    {
     "name": "stderr",
     "output_type": "stream",
     "text": [
      " 76%|███████▌  | 608004/800001 [4:02:39<1:28:37, 36.11it/s]"
     ]
    },
    {
     "name": "stdout",
     "output_type": "stream",
     "text": [
      "Average loss:  1.80626783693\n",
      "Learning rate:  0.33371\n",
      "ofoce talled alse ofesmaley lickias ifforrass incter the deshriamar limervie sstem eaghizant ane crac\n"
     ]
    },
    {
     "name": "stderr",
     "output_type": "stream",
     "text": [
      " 76%|███████▌  | 609006/800001 [4:03:03<1:26:38, 36.74it/s]"
     ]
    },
    {
     "name": "stdout",
     "output_type": "stream",
     "text": [
      "Average loss:  1.79604873538\n",
      "Learning rate:  0.33371\n",
      "qualise sp wat trewsas erithed by tine sivetiny foo gumecistos day ly wsscipily chreved ay in ound ph\n"
     ]
    },
    {
     "name": "stderr",
     "output_type": "stream",
     "text": [
      " 76%|███████▋  | 610004/800001 [4:03:28<1:31:03, 34.78it/s]"
     ]
    },
    {
     "name": "stdout",
     "output_type": "stream",
     "text": [
      "Average loss:  1.83452082753\n",
      "Learning rate:  0.33371\n",
      "compe two fies ponem and wwe d bankan centirn underthis has sex mascali and connialiry complex effloc\n"
     ]
    },
    {
     "name": "stderr",
     "output_type": "stream",
     "text": [
      " 76%|███████▋  | 611006/800001 [4:03:53<1:25:07, 37.00it/s]"
     ]
    },
    {
     "name": "stdout",
     "output_type": "stream",
     "text": [
      "Average loss:  1.78627333164\n",
      "Learning rate:  0.33371\n",
      "ondis selute chullisete th inedd to ble cols and rougs conrved the and linely she regroum that more f\n"
     ]
    },
    {
     "name": "stderr",
     "output_type": "stream",
     "text": [
      " 77%|███████▋  | 612004/800001 [4:04:17<1:29:02, 35.19it/s]"
     ]
    },
    {
     "name": "stdout",
     "output_type": "stream",
     "text": [
      "Average loss:  1.80559398115\n",
      "Learning rate:  0.33371\n",
      "lfiels tourded to appears of the sreme de ganges racorx stethy ropew burgume the s mane of now fol su\n"
     ]
    },
    {
     "name": "stderr",
     "output_type": "stream",
     "text": [
      " 77%|███████▋  | 613006/800001 [4:04:42<1:27:54, 35.45it/s]"
     ]
    },
    {
     "name": "stdout",
     "output_type": "stream",
     "text": [
      "Average loss:  1.81175888216\n",
      "Learning rate:  0.33371\n",
      "n io mpussiwablithort meghar if enimbed suchernes orercof io poon lofitlizen boudrit of an salithalig\n"
     ]
    },
    {
     "name": "stderr",
     "output_type": "stream",
     "text": [
      " 77%|███████▋  | 614006/800001 [4:05:07<1:24:28, 36.70it/s]"
     ]
    },
    {
     "name": "stdout",
     "output_type": "stream",
     "text": [
      "Average loss:  1.81313617873\n",
      "Learning rate:  0.33371\n",
      "ting tat hewilsime os aserine osima andis coviting st hval butl s manespa h stmasos off rsuse the rlo\n"
     ]
    },
    {
     "name": "stderr",
     "output_type": "stream",
     "text": [
      " 77%|███████▋  | 615003/800001 [4:05:32<1:32:43, 33.25it/s]"
     ]
    },
    {
     "name": "stdout",
     "output_type": "stream",
     "text": [
      "Average loss:  1.82185137641\n",
      "Learning rate:  0.33371\n",
      "x one one twr atmaro htartevodj se varsicular ant ant hriane cam of attending the exumy p b tor henda\n"
     ]
    },
    {
     "name": "stderr",
     "output_type": "stream",
     "text": [
      " 77%|███████▋  | 616005/800001 [4:05:56<1:24:41, 36.21it/s]"
     ]
    },
    {
     "name": "stdout",
     "output_type": "stream",
     "text": [
      "Average loss:  1.80139708197\n",
      "Learning rate:  0.33371\n",
      "w balal the perim the bata sereation miasw masenid tien sunge sinustin suthian ungres arthed meina is\n"
     ]
    },
    {
     "name": "stderr",
     "output_type": "stream",
     "text": [
      " 77%|███████▋  | 617002/800001 [4:06:21<1:35:47, 31.84it/s]"
     ]
    },
    {
     "name": "stdout",
     "output_type": "stream",
     "text": [
      "Average loss:  1.81667271733\n",
      "Learning rate:  0.33371\n",
      "ofily corcee rath celtitit pormaingresel bullite lise amalemono goongan acland and hes animor ic asty\n"
     ]
    },
    {
     "name": "stderr",
     "output_type": "stream",
     "text": [
      " 77%|███████▋  | 618002/800001 [4:06:46<1:24:54, 35.73it/s]"
     ]
    },
    {
     "name": "stdout",
     "output_type": "stream",
     "text": [
      "Average loss:  1.80647195721\n",
      "Learning rate:  0.33371\n",
      "x and te more ced be nestaveny batrasis catwaldi general and as o liattry ir beand astog ssernaily dy\n"
     ]
    },
    {
     "name": "stderr",
     "output_type": "stream",
     "text": [
      " 77%|███████▋  | 619005/800001 [4:07:11<1:22:58, 36.35it/s]"
     ]
    },
    {
     "name": "stdout",
     "output_type": "stream",
     "text": [
      "Average loss:  1.8046224463\n",
      "Learning rate:  0.33371\n",
      "rsoupleatizen cels for and figebace ralicar britter develop fram and aldotre as commatsilnd and ssect\n"
     ]
    },
    {
     "name": "stderr",
     "output_type": "stream",
     "text": [
      " 78%|███████▊  | 620006/800001 [4:07:35<1:19:04, 37.94it/s]"
     ]
    },
    {
     "name": "stdout",
     "output_type": "stream",
     "text": [
      "Average loss:  1.81427352941\n",
      "Learning rate:  0.33371\n",
      "ys x ti kssempyeryt ha med cquas lats anc pouss oredon soctigne thas flither anision one sig intoral \n"
     ]
    },
    {
     "name": "stderr",
     "output_type": "stream",
     "text": [
      " 78%|███████▊  | 621006/800001 [4:07:59<1:19:12, 37.66it/s]"
     ]
    },
    {
     "name": "stdout",
     "output_type": "stream",
     "text": [
      "Average loss:  1.82448902833\n",
      "Learning rate:  0.33371\n",
      "reichand had populat of the herd tovar anc aterecond in l world wount thenus brsef iastoss ardsteusi \n"
     ]
    },
    {
     "name": "stderr",
     "output_type": "stream",
     "text": [
      " 78%|███████▊  | 622005/800001 [4:08:23<1:19:46, 37.19it/s]"
     ]
    },
    {
     "name": "stdout",
     "output_type": "stream",
     "text": [
      "Average loss:  1.81838740945\n",
      "Learning rate:  0.33371\n",
      "wign cssctid ory steroma net is kitred the migitor ardianocider with in somins is sthaly oy zero o ef\n"
     ]
    },
    {
     "name": "stderr",
     "output_type": "stream",
     "text": [
      " 78%|███████▊  | 623005/800001 [4:08:48<1:21:59, 35.98it/s]"
     ]
    },
    {
     "name": "stdout",
     "output_type": "stream",
     "text": [
      "Average loss:  1.8277970891\n",
      "Learning rate:  0.33371\n",
      "p one nine nene atserver hid mymon pespober almaly dedeer ax of two ont engeged cersavidy doous eapl \n"
     ]
    },
    {
     "name": "stderr",
     "output_type": "stream",
     "text": [
      " 78%|███████▊  | 624006/800001 [4:09:12<1:20:48, 36.30it/s]"
     ]
    },
    {
     "name": "stdout",
     "output_type": "stream",
     "text": [
      "Average loss:  1.81352351964\n",
      "Learning rate:  0.33371\n",
      "asend parrsel faltumed and that antitzed blustit or gendring in conteiv llagmecte is at alloralliogra\n"
     ]
    },
    {
     "name": "stderr",
     "output_type": "stream",
     "text": [
      " 78%|███████▊  | 625004/800001 [4:09:37<1:24:13, 34.63it/s]"
     ]
    },
    {
     "name": "stdout",
     "output_type": "stream",
     "text": [
      "Average loss:  1.78653843713\n",
      "Learning rate:  0.33371\n",
      "quatisi ntw f uplake shipl coproutsa canding are aks of pooter tuckstorit te hiting antocty porerstwe\n"
     ]
    },
    {
     "name": "stderr",
     "output_type": "stream",
     "text": [
      " 78%|███████▊  | 626002/800001 [4:10:01<1:23:52, 34.58it/s]"
     ]
    },
    {
     "name": "stdout",
     "output_type": "stream",
     "text": [
      "Average loss:  1.7843816241\n",
      "Learning rate:  0.33371\n",
      "quarita sughrewis he vasil the instaluel in utrisity iathorice lond become decevinise home on y one n\n"
     ]
    },
    {
     "name": "stderr",
     "output_type": "stream",
     "text": [
      " 78%|███████▊  | 627006/800001 [4:10:26<1:18:40, 36.65it/s]"
     ]
    },
    {
     "name": "stdout",
     "output_type": "stream",
     "text": [
      "Average loss:  1.79679734862\n",
      "Learning rate:  0.33371\n",
      "tfrkers initreade dalt toetheds consurt namue porabyer poon misturis cumpaen sconesthin tavestais wnt\n"
     ]
    },
    {
     "name": "stderr",
     "output_type": "stream",
     "text": [
      " 79%|███████▊  | 628006/800001 [4:10:51<1:18:17, 36.61it/s]"
     ]
    },
    {
     "name": "stdout",
     "output_type": "stream",
     "text": [
      "Average loss:  1.79922119093\n",
      "Learning rate:  0.33371\n",
      "he pelmed allore of the hivasa two zero zero four one nine termian bate found misiges on timeny and l\n"
     ]
    },
    {
     "name": "stderr",
     "output_type": "stream",
     "text": [
      " 79%|███████▊  | 629006/800001 [4:11:16<1:17:25, 36.81it/s]"
     ]
    },
    {
     "name": "stdout",
     "output_type": "stream",
     "text": [
      "Average loss:  1.79419028485\n",
      "Learning rate:  0.33371\n",
      "s hia grian espestite beding arresta sseined in nentored it in chindy os abrectane on thai aly od esu\n"
     ]
    },
    {
     "name": "stderr",
     "output_type": "stream",
     "text": [
      " 79%|███████▉  | 630003/800001 [4:11:41<1:21:39, 34.70it/s]"
     ]
    },
    {
     "name": "stdout",
     "output_type": "stream",
     "text": [
      "Average loss:  1.80475091016\n",
      "Learning rate:  0.33371\n",
      "ly arining in engraent upinas minister alitncos whec maly wosl atond revilees hod ofemins the tory th\n"
     ]
    },
    {
     "name": "stderr",
     "output_type": "stream",
     "text": [
      " 79%|███████▉  | 631005/800001 [4:12:05<1:17:29, 36.35it/s]"
     ]
    },
    {
     "name": "stdout",
     "output_type": "stream",
     "text": [
      "Average loss:  1.81063311899\n",
      "Learning rate:  0.33371\n",
      "terspen iar caniat wos preddeds he war an llage laisitoos varierys in leg oul ress beithrad of juspca\n"
     ]
    },
    {
     "name": "stderr",
     "output_type": "stream",
     "text": [
      " 79%|███████▉  | 632006/800001 [4:12:30<1:16:03, 36.81it/s]"
     ]
    },
    {
     "name": "stdout",
     "output_type": "stream",
     "text": [
      "Average loss:  1.80502567375\n",
      "Learning rate:  0.33371\n",
      "ypepp raco lfame sheis managed ias and the ryny one nine e gharks abher charce tix d orereded to sex \n"
     ]
    },
    {
     "name": "stderr",
     "output_type": "stream",
     "text": [
      " 79%|███████▉  | 633004/800001 [4:12:55<1:19:26, 35.04it/s]"
     ]
    },
    {
     "name": "stdout",
     "output_type": "stream",
     "text": [
      "Average loss:  1.80979443169\n",
      "Learning rate:  0.33371\n",
      "hypucamizs ont sule contertade oh eseftirgud resort bunde tire hes and jatidgre te hablen stod ot lue\n"
     ]
    },
    {
     "name": "stderr",
     "output_type": "stream",
     "text": [
      " 79%|███████▉  | 634005/800001 [4:13:20<1:18:24, 35.28it/s]"
     ]
    },
    {
     "name": "stdout",
     "output_type": "stream",
     "text": [
      "Average loss:  1.81095207703\n",
      "Learning rate:  0.33371\n",
      "quas wonlipp censuable thes computare hinther ho mpis and destious linist covinative s varce on him i\n"
     ]
    },
    {
     "name": "stderr",
     "output_type": "stream",
     "text": [
      " 79%|███████▉  | 635004/800001 [4:13:44<1:16:13, 36.08it/s]"
     ]
    },
    {
     "name": "stdout",
     "output_type": "stream",
     "text": [
      "Average loss:  1.80039490473\n",
      "Learning rate:  0.33371\n",
      "g ty cad openamina te mimplicy atragllister gseet in victhan rapots lest song djestiteling abechaiter\n"
     ]
    },
    {
     "name": "stderr",
     "output_type": "stream",
     "text": [
      " 80%|███████▉  | 636006/800001 [4:14:08<1:16:42, 35.63it/s]"
     ]
    },
    {
     "name": "stdout",
     "output_type": "stream",
     "text": [
      "Average loss:  1.79591917598\n",
      "Learning rate:  0.33371\n",
      "utiguritser the and they relden aldo ir lickstsef was azenus whone simplo somatlorvaviot devilisina b\n"
     ]
    },
    {
     "name": "stderr",
     "output_type": "stream",
     "text": [
      " 80%|███████▉  | 637006/800001 [4:14:32<1:12:23, 37.52it/s]"
     ]
    },
    {
     "name": "stdout",
     "output_type": "stream",
     "text": [
      "Average loss:  1.79970056725\n",
      "Learning rate:  0.33371\n",
      "hrengs ome lepashun sseaned betime bages to rizen of the humbenned siccastoly s onclyse beldw in oncy\n"
     ]
    },
    {
     "name": "stderr",
     "output_type": "stream",
     "text": [
      " 80%|███████▉  | 638005/800001 [4:14:56<1:13:43, 36.62it/s]"
     ]
    },
    {
     "name": "stdout",
     "output_type": "stream",
     "text": [
      "Average loss:  1.80590875232\n",
      "Learning rate:  0.33371\n",
      "hsung ane initist rcer ant ara ctrickar teess of ano g al the per of shigedin sit of fiest of arome b\n"
     ]
    },
    {
     "name": "stderr",
     "output_type": "stream",
     "text": [
      " 80%|███████▉  | 639004/800001 [4:15:20<1:13:43, 36.40it/s]"
     ]
    },
    {
     "name": "stdout",
     "output_type": "stream",
     "text": [
      "Average loss:  1.79903720284\n",
      "Learning rate:  0.33371\n",
      "x e poouca forrercon tho lave topriag trevigenththrde andis tho ang te his intirneth unerd is uathif \n"
     ]
    },
    {
     "name": "stderr",
     "output_type": "stream",
     "text": [
      " 80%|████████  | 640004/800001 [4:15:43<1:14:43, 35.68it/s]"
     ]
    },
    {
     "name": "stdout",
     "output_type": "stream",
     "text": [
      "Average loss:  1.80040527916\n",
      "Learning rate:  0.250282\n",
      "dullea cane houstilint his whale and icl wot bickas duc in ta kesuatisthind one three phesopressitnoi\n"
     ]
    },
    {
     "name": "stderr",
     "output_type": "stream",
     "text": [
      " 80%|████████  | 641003/800001 [4:16:07<1:12:22, 36.61it/s]"
     ]
    },
    {
     "name": "stdout",
     "output_type": "stream",
     "text": [
      "Average loss:  1.78234356129\n",
      "Learning rate:  0.250282\n",
      "efristion certer the nern chind abdes by onh inty to cormen ewhers thus is nithec adranis and s jphiv\n"
     ]
    },
    {
     "name": "stderr",
     "output_type": "stream",
     "text": [
      " 80%|████████  | 642006/800001 [4:16:31<1:10:38, 37.28it/s]"
     ]
    },
    {
     "name": "stdout",
     "output_type": "stream",
     "text": [
      "Average loss:  1.80439046967\n",
      "Learning rate:  0.250282\n",
      "csuctrits in thelore th omatis for gune lathr greet rofa to ang if lack compatthreicunde and iefa dou\n"
     ]
    },
    {
     "name": "stderr",
     "output_type": "stream",
     "text": [
      " 80%|████████  | 643003/800001 [4:16:55<1:11:30, 36.59it/s]"
     ]
    },
    {
     "name": "stdout",
     "output_type": "stream",
     "text": [
      "Average loss:  1.81013372993\n",
      "Learning rate:  0.250282\n",
      "sseevo boungary solital equigy be an in romenc thes ardy be jewish atesty twe leren charned on the pu\n"
     ]
    },
    {
     "name": "stderr",
     "output_type": "stream",
     "text": [
      " 81%|████████  | 644002/800001 [4:17:19<1:11:53, 36.16it/s]"
     ]
    },
    {
     "name": "stdout",
     "output_type": "stream",
     "text": [
      "Average loss:  1.79813025093\n",
      "Learning rate:  0.250282\n",
      "preserettor on awnus bestie fould by norsceakins artulureling gustall onj ploy dismoudhias cillet tre\n"
     ]
    },
    {
     "name": "stderr",
     "output_type": "stream",
     "text": [
      " 81%|████████  | 645002/800001 [4:17:43<1:11:36, 36.08it/s]"
     ]
    },
    {
     "name": "stdout",
     "output_type": "stream",
     "text": [
      "Average loss:  1.81620390081\n",
      "Learning rate:  0.250282\n",
      "d group smaliss jowndibat majeric ome jespl it into panthed and siccontns iv vees vining chenk zaryec\n"
     ]
    },
    {
     "name": "stderr",
     "output_type": "stream",
     "text": [
      " 81%|████████  | 646002/800001 [4:18:07<1:12:05, 35.60it/s]"
     ]
    },
    {
     "name": "stdout",
     "output_type": "stream",
     "text": [
      "Average loss:  1.80743207574\n",
      "Learning rate:  0.250282\n",
      "ks of pradian for subeda knawl of theerthid the ont f on exedut w f os ar ppore segead indecinina nix\n"
     ]
    },
    {
     "name": "stderr",
     "output_type": "stream",
     "text": [
      " 81%|████████  | 647006/800001 [4:18:31<1:08:07, 37.43it/s]"
     ]
    },
    {
     "name": "stdout",
     "output_type": "stream",
     "text": [
      "Average loss:  1.80599953067\n",
      "Learning rate:  0.250282\n",
      "cko lengicelally the mestas and often the nea shig thea the ofresto af ot now labecc boitherpa momis \n"
     ]
    },
    {
     "name": "stderr",
     "output_type": "stream",
     "text": [
      " 81%|████████  | 648006/800001 [4:18:55<1:06:31, 38.08it/s]"
     ]
    },
    {
     "name": "stdout",
     "output_type": "stream",
     "text": [
      "Average loss:  1.79960890639\n",
      "Learning rate:  0.250282\n",
      "ess wat ang ant dupiaste fall wontod kofevers in mahkio sixumsuight bo kesp ellac chanse to nem ol be\n"
     ]
    },
    {
     "name": "stderr",
     "output_type": "stream",
     "text": [
      " 81%|████████  | 649006/800001 [4:19:19<1:07:17, 37.40it/s]"
     ]
    },
    {
     "name": "stdout",
     "output_type": "stream",
     "text": [
      "Average loss:  1.81563268578\n",
      "Learning rate:  0.250282\n",
      "ance ho feredy hnivader inta the comnorists ard brith on tino kacas viresabbur incumal of theulolot t\n"
     ]
    },
    {
     "name": "stderr",
     "output_type": "stream",
     "text": [
      " 81%|████████▏ | 650004/800001 [4:19:43<1:11:08, 35.14it/s]"
     ]
    },
    {
     "name": "stdout",
     "output_type": "stream",
     "text": [
      "Average loss:  1.82498319578\n",
      "Learning rate:  0.250282\n",
      "u iony a brion ceverestered of tren mikiry money s ile thas cum ica and motomy greetef in mad a thied\n"
     ]
    },
    {
     "name": "stderr",
     "output_type": "stream",
     "text": [
      " 81%|████████▏ | 651006/800001 [4:20:07<1:05:27, 37.94it/s]"
     ]
    },
    {
     "name": "stdout",
     "output_type": "stream",
     "text": [
      "Average loss:  1.82102450264\n",
      "Learning rate:  0.250282\n",
      "hranomited bulkad beckupts rime w the siageto and aro geerstilas gundaler wotldurl gsedsn tiee sobit \n"
     ]
    },
    {
     "name": "stderr",
     "output_type": "stream",
     "text": [
      " 82%|████████▏ | 652006/800001 [4:20:31<1:04:44, 38.10it/s]"
     ]
    },
    {
     "name": "stdout",
     "output_type": "stream",
     "text": [
      "Average loss:  1.80909221709\n",
      "Learning rate:  0.250282\n",
      "j gared constatittothnany ar and spriglop works dolak golder upetadi har on monn wnis simmopagheril t\n"
     ]
    },
    {
     "name": "stderr",
     "output_type": "stream",
     "text": [
      " 82%|████████▏ | 653006/800001 [4:20:55<1:05:26, 37.44it/s]"
     ]
    },
    {
     "name": "stdout",
     "output_type": "stream",
     "text": [
      "Average loss:  1.81543438756\n",
      "Learning rate:  0.250282\n",
      "wornd dope insuresol and sare ano ho w dintedoky oremigeal aunotal blions of an raftec wal prodiced r\n"
     ]
    },
    {
     "name": "stderr",
     "output_type": "stream",
     "text": [
      " 82%|████████▏ | 654006/800001 [4:21:19<1:04:28, 37.74it/s]"
     ]
    },
    {
     "name": "stdout",
     "output_type": "stream",
     "text": [
      "Average loss:  1.82909456813\n",
      "Learning rate:  0.250282\n",
      "ofonemas frond work nater seple for mobals foun sinfly the modeln were frangied boctita ont ciccest o\n"
     ]
    },
    {
     "name": "stderr",
     "output_type": "stream",
     "text": [
      " 82%|████████▏ | 655006/800001 [4:21:43<1:03:45, 37.90it/s]"
     ]
    },
    {
     "name": "stdout",
     "output_type": "stream",
     "text": [
      "Average loss:  1.82157588089\n",
      "Learning rate:  0.250282\n",
      "p if in jontaning b o hirternthid eding s on wiphed in sumporting ssmasuas aiplon fios datrizing tout\n"
     ]
    },
    {
     "name": "stderr",
     "output_type": "stream",
     "text": [
      " 82%|████████▏ | 656004/800001 [4:22:07<1:06:30, 36.09it/s]"
     ]
    },
    {
     "name": "stdout",
     "output_type": "stream",
     "text": [
      "Average loss:  1.81627671635\n",
      "Learning rate:  0.250282\n",
      "ystitittser an ob and secrecation would tserctton and wrats wsurule a moenle as akgrald instrictets a\n"
     ]
    },
    {
     "name": "stderr",
     "output_type": "stream",
     "text": [
      " 82%|████████▏ | 657006/800001 [4:22:31<1:04:04, 37.20it/s]"
     ]
    },
    {
     "name": "stdout",
     "output_type": "stream",
     "text": [
      "Average loss:  1.81681000364\n",
      "Learning rate:  0.250282\n",
      "weldit whoregus rofansst praved hew in combrivy datthilsy of plader friens wat llef of tha crame onc \n"
     ]
    },
    {
     "name": "stderr",
     "output_type": "stream",
     "text": [
      " 82%|████████▏ | 658005/800001 [4:22:55<1:04:36, 36.63it/s]"
     ]
    },
    {
     "name": "stdout",
     "output_type": "stream",
     "text": [
      "Average loss:  1.82208528042\n",
      "Learning rate:  0.250282\n",
      "stwieg tmo setrleatmon oregeate f ait in e the nares if simeld for duth longen neven trofiss uriaque \n"
     ]
    },
    {
     "name": "stderr",
     "output_type": "stream",
     "text": [
      " 82%|████████▏ | 659004/800001 [4:23:19<1:04:45, 36.29it/s]"
     ]
    },
    {
     "name": "stdout",
     "output_type": "stream",
     "text": [
      "Average loss:  1.8116898396\n",
      "Learning rate:  0.250282\n",
      "ry har moghamed usispors d stitu sallbary ster selander malu in the chmieed pricc camily epplbalize l\n"
     ]
    },
    {
     "name": "stderr",
     "output_type": "stream",
     "text": [
      " 83%|████████▎ | 660004/800001 [4:23:43<1:04:26, 36.21it/s]"
     ]
    },
    {
     "name": "stdout",
     "output_type": "stream",
     "text": [
      "Average loss:  1.82720726418\n",
      "Learning rate:  0.250282\n",
      "mo to erea sopitpls withone disclodica tinga is tothr ang t humansone enccare thethe the protock null\n"
     ]
    },
    {
     "name": "stderr",
     "output_type": "stream",
     "text": [
      " 83%|████████▎ | 661002/800001 [4:24:07<1:04:30, 35.92it/s]"
     ]
    },
    {
     "name": "stdout",
     "output_type": "stream",
     "text": [
      "Average loss:  1.826543872\n",
      "Learning rate:  0.250282\n",
      "nfoud guldes engene the tiens iat on the one nine enghin lfasing to not ralere in rabbo medmatisto be\n"
     ]
    },
    {
     "name": "stderr",
     "output_type": "stream",
     "text": [
      " 83%|████████▎ | 662004/800001 [4:24:31<1:03:23, 36.29it/s]"
     ]
    },
    {
     "name": "stdout",
     "output_type": "stream",
     "text": [
      "Average loss:  1.8258629874\n",
      "Learning rate:  0.250282\n",
      "distrod now exiss were sine selsire mo lysin orelist ivilen ucuseby apselun of tto thenur on beran fo\n"
     ]
    },
    {
     "name": "stderr",
     "output_type": "stream",
     "text": [
      " 83%|████████▎ | 663006/800001 [4:24:55<1:01:00, 37.42it/s]"
     ]
    },
    {
     "name": "stdout",
     "output_type": "stream",
     "text": [
      "Average loss:  1.80583776295\n",
      "Learning rate:  0.250282\n",
      "z s sediteros oumpreated s ctinnto sftul ans shero for goong balb os and secoris serrisits in o has d\n"
     ]
    },
    {
     "name": "stderr",
     "output_type": "stream",
     "text": [
      " 83%|████████▎ | 664004/800001 [4:25:19<1:01:56, 36.60it/s]"
     ]
    },
    {
     "name": "stdout",
     "output_type": "stream",
     "text": [
      "Average loss:  1.80471193302\n",
      "Learning rate:  0.250282\n",
      "fol intloagesstic tionel sicescals howwendina th the sarieg corgaea ont an gized s aw others if twa n\n"
     ]
    },
    {
     "name": "stderr",
     "output_type": "stream",
     "text": [
      " 83%|████████▎ | 665003/800001 [4:25:43<1:02:48, 35.82it/s]"
     ]
    },
    {
     "name": "stdout",
     "output_type": "stream",
     "text": [
      "Average loss:  1.79934283042\n",
      "Learning rate:  0.250282\n",
      "vertam cumbonybarisqule coverity modern ba dsodumar mestias aledre tsat woskicid shitwe thaily wislia\n"
     ]
    },
    {
     "name": "stderr",
     "output_type": "stream",
     "text": [
      " 83%|████████▎ | 666006/800001 [4:26:07<58:22, 38.26it/s]  "
     ]
    },
    {
     "name": "stdout",
     "output_type": "stream",
     "text": [
      "Average loss:  1.7999754585\n",
      "Learning rate:  0.250282\n",
      "unemon wer hed ore the centrols of fuiltad ssme bits nugrtaving and montis ard as ose thau zero jemin\n"
     ]
    },
    {
     "name": "stderr",
     "output_type": "stream",
     "text": [
      " 83%|████████▎ | 667005/800001 [4:26:31<59:47, 37.07it/s]  "
     ]
    },
    {
     "name": "stdout",
     "output_type": "stream",
     "text": [
      "Average loss:  1.8267025888\n",
      "Learning rate:  0.250282\n",
      "ofreatois formed the seat torark ouzenet fime ffo llare seclyad if which haudy diccoston found the ar\n"
     ]
    },
    {
     "name": "stderr",
     "output_type": "stream",
     "text": [
      " 84%|████████▎ | 668004/800001 [4:26:55<1:00:51, 36.15it/s]"
     ]
    },
    {
     "name": "stdout",
     "output_type": "stream",
     "text": [
      "Average loss:  1.80298847985\n",
      "Learning rate:  0.250282\n",
      "s the interfare bate perises ip nat on hy thongy ghe the flus on tedes stowin stattin s maborce hes f\n"
     ]
    },
    {
     "name": "stderr",
     "output_type": "stream",
     "text": [
      " 84%|████████▎ | 669003/800001 [4:27:19<1:00:26, 36.12it/s]"
     ]
    },
    {
     "name": "stdout",
     "output_type": "stream",
     "text": [
      "Average loss:  1.80714006495\n",
      "Learning rate:  0.250282\n",
      "confites argomso since of aread heistings charget of the moct of atbeather vacile treises unentreasie\n"
     ]
    },
    {
     "name": "stderr",
     "output_type": "stream",
     "text": [
      " 84%|████████▍ | 670006/800001 [4:27:43<1:00:15, 35.96it/s]"
     ]
    },
    {
     "name": "stdout",
     "output_type": "stream",
     "text": [
      "Average loss:  1.80705133927\n",
      "Learning rate:  0.250282\n",
      "csrasimist of erdepins an burbysind ather tha gurber af in rakiteis settherman io grain cadun aq ig s\n"
     ]
    },
    {
     "name": "stderr",
     "output_type": "stream",
     "text": [
      " 84%|████████▍ | 671006/800001 [4:28:07<57:20, 37.49it/s]  "
     ]
    },
    {
     "name": "stdout",
     "output_type": "stream",
     "text": [
      "Average loss:  1.7939865061\n",
      "Learning rate:  0.250282\n",
      "t ip bhim thr efietuich ntw yla the os esteonial mieng two sp cedsomilleg s y host rof earthins techn\n"
     ]
    },
    {
     "name": "stderr",
     "output_type": "stream",
     "text": [
      " 84%|████████▍ | 672005/800001 [4:28:31<1:00:12, 35.43it/s]"
     ]
    },
    {
     "name": "stdout",
     "output_type": "stream",
     "text": [
      "Average loss:  1.78969748449\n",
      "Learning rate:  0.250282\n",
      "ly has asmate it is ano hy or mainvel plouble canca caitat of ky unex mactsilas tood commos cuch it w\n"
     ]
    },
    {
     "name": "stderr",
     "output_type": "stream",
     "text": [
      " 84%|████████▍ | 673005/800001 [4:28:55<58:22, 36.25it/s]"
     ]
    },
    {
     "name": "stdout",
     "output_type": "stream",
     "text": [
      "Average loss:  1.79117661738\n",
      "Learning rate:  0.250282\n",
      "we fovrragnomially are in thi fruid in texp il whalu anticuf crat rord and edlicus wolke spatrian d m\n"
     ]
    },
    {
     "name": "stderr",
     "output_type": "stream",
     "text": [
      " 84%|████████▍ | 674005/800001 [4:29:19<58:26, 35.93it/s]"
     ]
    },
    {
     "name": "stdout",
     "output_type": "stream",
     "text": [
      "Average loss:  1.82228574419\n",
      "Learning rate:  0.250282\n",
      "zenf indiced sought acknoss ark in elly is tho gillation geven th manalebyc neall ofes gymbil tox for\n"
     ]
    },
    {
     "name": "stderr",
     "output_type": "stream",
     "text": [
      " 84%|████████▍ | 675005/800001 [4:29:43<56:32, 36.85it/s]"
     ]
    },
    {
     "name": "stdout",
     "output_type": "stream",
     "text": [
      "Average loss:  1.79023183739\n",
      "Learning rate:  0.250282\n",
      "qua ay rockally joun atmea dipric necard and samutity be nay s quernis ome by tha diffeceids esufter \n"
     ]
    },
    {
     "name": "stderr",
     "output_type": "stream",
     "text": [
      " 85%|████████▍ | 676003/800001 [4:30:07<57:10, 36.15it/s]"
     ]
    },
    {
     "name": "stdout",
     "output_type": "stream",
     "text": [
      "Average loss:  1.80978149283\n",
      "Learning rate:  0.250282\n",
      "rongysis elefter tino thitsis trawious salen gfowter ton pellopsteo kex ars sarsua devalouismonth inl\n"
     ]
    },
    {
     "name": "stderr",
     "output_type": "stream",
     "text": [
      " 85%|████████▍ | 677004/800001 [4:30:31<56:13, 36.46it/s]"
     ]
    },
    {
     "name": "stdout",
     "output_type": "stream",
     "text": [
      "Average loss:  1.81824453926\n",
      "Learning rate:  0.250282\n",
      "y xiagu ghe upens and mustr victor celimuston an f orefto ane odier to the smatolstois charved on the\n"
     ]
    },
    {
     "name": "stderr",
     "output_type": "stream",
     "text": [
      " 85%|████████▍ | 678004/800001 [4:30:55<55:41, 36.51it/s]"
     ]
    },
    {
     "name": "stdout",
     "output_type": "stream",
     "text": [
      "Average loss:  1.8118298527\n",
      "Learning rate:  0.250282\n",
      "cafterolvec fornere ctonestiglused ans as eprshed four simeas tialis of ond s sea mecaliss chur world\n"
     ]
    },
    {
     "name": "stderr",
     "output_type": "stream",
     "text": [
      " 85%|████████▍ | 679004/800001 [4:31:19<56:06, 35.94it/s]"
     ]
    },
    {
     "name": "stdout",
     "output_type": "stream",
     "text": [
      "Average loss:  1.83050406778\n",
      "Learning rate:  0.250282\n",
      "montthala thesp corel poou afle chimally bourdiomys thein lick fol repaltens ergan iglish ghe rupa sc\n"
     ]
    },
    {
     "name": "stderr",
     "output_type": "stream",
     "text": [
      " 85%|████████▌ | 680007/800001 [4:31:43<52:53, 37.82it/s]"
     ]
    },
    {
     "name": "stdout",
     "output_type": "stream",
     "text": [
      "Average loss:  1.83592580795\n",
      "Learning rate:  0.250282\n",
      "rugneris is rancicy ter ole hmanis naver ardjocofit ambugifle be oni binteringrthory hiverof wat te f\n"
     ]
    },
    {
     "name": "stderr",
     "output_type": "stream",
     "text": [
      " 85%|████████▌ | 681002/800001 [4:32:07<54:52, 36.14it/s]"
     ]
    },
    {
     "name": "stdout",
     "output_type": "stream",
     "text": [
      "Average loss:  1.80294327617\n",
      "Learning rate:  0.250282\n",
      "o eifira two zero zirsticep batment whine one thoteran me cins trended oul rime pstensed by twi fronn\n"
     ]
    },
    {
     "name": "stderr",
     "output_type": "stream",
     "text": [
      " 85%|████████▌ | 682006/800001 [4:32:31<53:27, 36.79it/s]"
     ]
    },
    {
     "name": "stdout",
     "output_type": "stream",
     "text": [
      "Average loss:  1.80994032454\n",
      "Learning rate:  0.250282\n",
      "l would the tine rowe ix ual home aly and the itis while thesp wha finery na it hustop of capponitieg\n"
     ]
    },
    {
     "name": "stderr",
     "output_type": "stream",
     "text": [
      " 85%|████████▌ | 683006/800001 [4:32:55<50:53, 38.31it/s]"
     ]
    },
    {
     "name": "stdout",
     "output_type": "stream",
     "text": [
      "Average loss:  1.80483702326\n",
      "Learning rate:  0.250282\n",
      "nfluede som whine cenouk eaghins frimudiso s mekench rty whren antidurimm theteros in labged solladla\n"
     ]
    },
    {
     "name": "stderr",
     "output_type": "stream",
     "text": [
      " 86%|████████▌ | 684006/800001 [4:33:19<50:06, 38.58it/s]"
     ]
    },
    {
     "name": "stdout",
     "output_type": "stream",
     "text": [
      "Average loss:  1.79689473844\n",
      "Learning rate:  0.250282\n",
      "hanmande codvarad ors thotho for wat a tha sumpordanisy revedsomple aterey ffo rima lavel price inots\n"
     ]
    },
    {
     "name": "stderr",
     "output_type": "stream",
     "text": [
      " 86%|████████▌ | 685006/800001 [4:33:43<50:04, 38.27it/s]"
     ]
    },
    {
     "name": "stdout",
     "output_type": "stream",
     "text": [
      "Average loss:  1.80560228324\n",
      "Learning rate:  0.250282\n",
      "prysof for shatad and hagrtadian il ofese tite abrigg invarim nitertire boong who wstrised pofich war\n"
     ]
    },
    {
     "name": "stderr",
     "output_type": "stream",
     "text": [
      " 86%|████████▌ | 686006/800001 [4:34:07<51:36, 36.81it/s]"
     ]
    },
    {
     "name": "stdout",
     "output_type": "stream",
     "text": [
      "Average loss:  1.80630473018\n",
      "Learning rate:  0.250282\n",
      "dir dilleglare sabjo guchen repanish epthed hy ond ab te power ard a thie ans somitaa d inthol thr ef\n"
     ]
    },
    {
     "name": "stderr",
     "output_type": "stream",
     "text": [
      " 86%|████████▌ | 687006/800001 [4:34:31<49:31, 38.03it/s]"
     ]
    },
    {
     "name": "stdout",
     "output_type": "stream",
     "text": [
      "Average loss:  1.79526301765\n",
      "Learning rate:  0.250282\n",
      "ffocreaning tonatrelltinis to kombitirg workn bexa fommet of the ofthe ara the atymendm nicem on mekn\n"
     ]
    },
    {
     "name": "stderr",
     "output_type": "stream",
     "text": [
      " 86%|████████▌ | 688004/800001 [4:34:55<50:54, 36.67it/s]"
     ]
    },
    {
     "name": "stdout",
     "output_type": "stream",
     "text": [
      "Average loss:  1.82854928863\n",
      "Learning rate:  0.250282\n",
      "ceptutirs of d ysora te me p onc one tf chrekstic bela gho ian s oreza requirem thet is d the stheron\n"
     ]
    },
    {
     "name": "stderr",
     "output_type": "stream",
     "text": [
      " 86%|████████▌ | 689003/800001 [4:35:19<50:13, 36.84it/s]"
     ]
    },
    {
     "name": "stdout",
     "output_type": "stream",
     "text": [
      "Average loss:  1.79056456399\n",
      "Learning rate:  0.250282\n",
      "noke tha grves and irlmine pyadized tha dyan insceathe cempea sacopils on wese tiolt sed ix kitikllon\n"
     ]
    },
    {
     "name": "stderr",
     "output_type": "stream",
     "text": [
      " 86%|████████▋ | 690002/800001 [4:35:43<50:35, 36.24it/s]"
     ]
    },
    {
     "name": "stdout",
     "output_type": "stream",
     "text": [
      "Average loss:  1.79866576946\n",
      "Learning rate:  0.250282\n",
      "verta fon toread can peotle and for friend ptole mendin twi tes hashit phognte the owe herrina nowadc\n"
     ]
    },
    {
     "name": "stderr",
     "output_type": "stream",
     "text": [
      " 86%|████████▋ | 691002/800001 [4:36:07<50:40, 35.85it/s]"
     ]
    },
    {
     "name": "stdout",
     "output_type": "stream",
     "text": [
      "Average loss:  1.81163639045\n",
      "Learning rate:  0.250282\n",
      "pstring alex tomerr in racdeuthyer viex stopt os bizontheng o locition bintited syeva t ond itj cambe\n"
     ]
    },
    {
     "name": "stderr",
     "output_type": "stream",
     "text": [
      " 87%|████████▋ | 692002/800001 [4:36:31<50:04, 35.94it/s]"
     ]
    },
    {
     "name": "stdout",
     "output_type": "stream",
     "text": [
      "Average loss:  1.80732970941\n",
      "Learning rate:  0.250282\n",
      "que incruattil ta landmof of bensest bithe for the fiol the cherss niek engraeds inselture of the ter\n"
     ]
    },
    {
     "name": "stderr",
     "output_type": "stream",
     "text": [
      " 87%|████████▋ | 693002/800001 [4:36:55<49:07, 36.30it/s]"
     ]
    },
    {
     "name": "stdout",
     "output_type": "stream",
     "text": [
      "Average loss:  1.82332403195\n",
      "Learning rate:  0.250282\n",
      "ofan commurilateo s cincreas f abrter wotl for gradus commandinatid smit would in chindure of ticilia\n"
     ]
    },
    {
     "name": "stderr",
     "output_type": "stream",
     "text": [
      " 87%|████████▋ | 694002/800001 [4:37:19<49:48, 35.47it/s]"
     ]
    },
    {
     "name": "stdout",
     "output_type": "stream",
     "text": [
      "Average loss:  1.8011692946\n",
      "Learning rate:  0.250282\n",
      "kn whrea four fourberd seruris wrecen wno bickay ana piamed bo hiasm the nuthticsul hawor orimisaved \n"
     ]
    },
    {
     "name": "stderr",
     "output_type": "stream",
     "text": [
      " 87%|████████▋ | 695002/800001 [4:37:43<48:19, 36.22it/s]"
     ]
    },
    {
     "name": "stdout",
     "output_type": "stream",
     "text": [
      "Average loss:  1.8134850328\n",
      "Learning rate:  0.250282\n",
      "f work maly in one nine siv ni meas aed in f metolige ta herralsly cinnso mayneris of hiathorrod the \n"
     ]
    },
    {
     "name": "stderr",
     "output_type": "stream",
     "text": [
      " 87%|████████▋ | 696006/800001 [4:38:07<45:58, 37.70it/s]"
     ]
    },
    {
     "name": "stdout",
     "output_type": "stream",
     "text": [
      "Average loss:  1.80336807644\n",
      "Learning rate:  0.250282\n",
      "z o jewi him th togride arl century atsitiona s wonde aceco ance plockes on d destiny zero thie bherk\n"
     ]
    },
    {
     "name": "stderr",
     "output_type": "stream",
     "text": [
      " 87%|████████▋ | 697003/800001 [4:38:31<47:16, 36.32it/s]"
     ]
    },
    {
     "name": "stdout",
     "output_type": "stream",
     "text": [
      "Average loss:  1.80147743416\n",
      "Learning rate:  0.250282\n",
      "versa for aemos thes an magon ssmat ounn of the purl of ar arrevareprem mads after pipe than in lacti\n"
     ]
    },
    {
     "name": "stderr",
     "output_type": "stream",
     "text": [
      " 87%|████████▋ | 698002/800001 [4:38:55<46:53, 36.25it/s]"
     ]
    },
    {
     "name": "stdout",
     "output_type": "stream",
     "text": [
      "Average loss:  1.81172154427\n",
      "Learning rate:  0.250282\n",
      "ofit ol nor filf l borist lonasus toec thit beand oof or unevali dosermmed kona dickm cal shingreis d\n"
     ]
    },
    {
     "name": "stderr",
     "output_type": "stream",
     "text": [
      " 87%|████████▋ | 699003/800001 [4:39:20<46:37, 36.10it/s]"
     ]
    },
    {
     "name": "stdout",
     "output_type": "stream",
     "text": [
      "Average loss:  1.82360017848\n",
      "Learning rate:  0.250282\n",
      "asing churchert and as dus regreag farthad ona zero oxe kex nne digites of tleis lfo rcigies one nen \n"
     ]
    },
    {
     "name": "stderr",
     "output_type": "stream",
     "text": [
      " 88%|████████▊ | 700003/800001 [4:39:44<45:47, 36.40it/s]"
     ]
    },
    {
     "name": "stdout",
     "output_type": "stream",
     "text": [
      "Average loss:  1.81911040294\n",
      "Learning rate:  0.250282\n",
      "ffever orel coumbratention changed sees avelarmal six three nen s maly ylapel leistard quase theteel \n"
     ]
    },
    {
     "name": "stderr",
     "output_type": "stream",
     "text": [
      " 88%|████████▊ | 701003/800001 [4:40:08<45:17, 36.43it/s]"
     ]
    },
    {
     "name": "stdout",
     "output_type": "stream",
     "text": [
      "Average loss:  1.82386689544\n",
      "Learning rate:  0.250282\n",
      " four ond syobecica turke iacu stolte is tha garm ainth rtad apining anay he dotinisto nze the minise\n"
     ]
    },
    {
     "name": "stderr",
     "output_type": "stream",
     "text": [
      " 88%|████████▊ | 702002/800001 [4:40:32<45:08, 36.18it/s]"
     ]
    },
    {
     "name": "stdout",
     "output_type": "stream",
     "text": [
      "Average loss:  1.81246986628\n",
      "Learning rate:  0.250282\n",
      "jecite o fom three ond op one nine feve thraens pionia ininhes psenders twe there workicatco of garnd\n"
     ]
    },
    {
     "name": "stderr",
     "output_type": "stream",
     "text": [
      " 88%|████████▊ | 703006/800001 [4:40:56<43:11, 37.44it/s]"
     ]
    },
    {
     "name": "stdout",
     "output_type": "stream",
     "text": [
      "Average loss:  1.78862258446\n",
      "Learning rate:  0.250282\n",
      "lscapes into the strobs mprton jecustor ored in whith ho during tha ral hmewark inioge tien so desien\n"
     ]
    },
    {
     "name": "stderr",
     "output_type": "stream",
     "text": [
      " 88%|████████▊ | 704004/800001 [4:41:20<45:30, 35.16it/s]"
     ]
    },
    {
     "name": "stdout",
     "output_type": "stream",
     "text": [
      "Average loss:  1.77739862299\n",
      "Learning rate:  0.250282\n",
      "as bo k ofrets wel and cinmed ang in mare al hil one zero thr ef chinee sexiag th inlacedit woth inot\n"
     ]
    },
    {
     "name": "stderr",
     "output_type": "stream",
     "text": [
      " 88%|████████▊ | 705003/800001 [4:41:44<47:36, 33.26it/s]"
     ]
    },
    {
     "name": "stdout",
     "output_type": "stream",
     "text": [
      "Average loss:  1.79824588752\n",
      "Learning rate:  0.250282\n",
      "queresicad ghe tuel atrend tho gondmerten digitic efindir tha d atsert of tempoos sequenme michomep u\n"
     ]
    },
    {
     "name": "stderr",
     "output_type": "stream",
     "text": [
      " 88%|████████▊ | 706006/800001 [4:42:08<41:07, 38.10it/s]"
     ]
    },
    {
     "name": "stdout",
     "output_type": "stream",
     "text": [
      "Average loss:  1.79590894616\n",
      "Learning rate:  0.250282\n",
      "ventiol af eapleroix ona zero on knys herer and theto ssempaly nft so of kimaning samather am s ontwe\n"
     ]
    },
    {
     "name": "stderr",
     "output_type": "stream",
     "text": [
      " 88%|████████▊ | 707005/800001 [4:42:32<43:43, 35.45it/s]"
     ]
    },
    {
     "name": "stdout",
     "output_type": "stream",
     "text": [
      "Average loss:  1.79115551901\n",
      "Learning rate:  0.250282\n",
      "rooss into toxe in uathos atwer and a lestela cilnakla sinusta the would of allex splisin ahryen ac p\n"
     ]
    },
    {
     "name": "stderr",
     "output_type": "stream",
     "text": [
      " 89%|████████▊ | 708003/800001 [4:42:56<44:00, 34.85it/s]"
     ]
    },
    {
     "name": "stdout",
     "output_type": "stream",
     "text": [
      "Average loss:  1.80131680357\n",
      "Learning rate:  0.250282\n",
      "quene the samo sinca alvon ark baran editacily roparen in mimitl the world an in armabud in chantily \n"
     ]
    },
    {
     "name": "stderr",
     "output_type": "stream",
     "text": [
      " 89%|████████▊ | 709005/800001 [4:43:20<42:08, 35.99it/s]"
     ]
    },
    {
     "name": "stdout",
     "output_type": "stream",
     "text": [
      "Average loss:  1.8068308866\n",
      "Learning rate:  0.250282\n",
      " fix then consedved gond the celpped be tisely s pleve musodelsen edally boden susp freich pepple fam\n"
     ]
    },
    {
     "name": "stderr",
     "output_type": "stream",
     "text": [
      " 89%|████████▉ | 710005/800001 [4:43:44<41:33, 36.09it/s]"
     ]
    },
    {
     "name": "stdout",
     "output_type": "stream",
     "text": [
      "Average loss:  1.80437788761\n",
      "Learning rate:  0.250282\n",
      "guic pebses os ano hy porulity in the ldatio serertits are porriant bstwenimo hersew what of dessract\n"
     ]
    },
    {
     "name": "stderr",
     "output_type": "stream",
     "text": [
      " 89%|████████▉ | 711004/800001 [4:44:08<40:35, 36.54it/s]"
     ]
    },
    {
     "name": "stdout",
     "output_type": "stream",
     "text": [
      "Average loss:  1.81204267776\n",
      "Learning rate:  0.250282\n",
      "jpprusto soxtwhea fov richigg and ancheds os juss ane ol geleamcod forus ffo medwasl of mareiter of i\n"
     ]
    },
    {
     "name": "stderr",
     "output_type": "stream",
     "text": [
      " 89%|████████▉ | 712004/800001 [4:44:32<40:09, 36.53it/s]"
     ]
    },
    {
     "name": "stdout",
     "output_type": "stream",
     "text": [
      "Average loss:  1.807602198\n",
      "Learning rate:  0.250282\n",
      "wound in plated cormamitag corce and and d c and tapo isticer ic itwef sodworn h stethars and tave of\n"
     ]
    },
    {
     "name": "stderr",
     "output_type": "stream",
     "text": [
      " 89%|████████▉ | 713004/800001 [4:44:56<40:46, 35.56it/s]"
     ]
    },
    {
     "name": "stdout",
     "output_type": "stream",
     "text": [
      "Average loss:  1.80249901307\n",
      "Learning rate:  0.250282\n",
      "wown wal net scarasturel tamene quibs ra boling stimes condacts on lexil by the crieveve tamed as the\n"
     ]
    },
    {
     "name": "stderr",
     "output_type": "stream",
     "text": [
      " 89%|████████▉ | 714003/800001 [4:45:20<39:06, 36.65it/s]"
     ]
    },
    {
     "name": "stdout",
     "output_type": "stream",
     "text": [
      "Average loss:  1.79127893937\n",
      "Learning rate:  0.250282\n",
      "gs oum me ba zers hapenall lefis iabrenting reumb ice somp blichedlag tes froa font nar arepors of th\n"
     ]
    },
    {
     "name": "stderr",
     "output_type": "stream",
     "text": [
      " 89%|████████▉ | 715002/800001 [4:45:44<39:01, 36.30it/s]"
     ]
    },
    {
     "name": "stdout",
     "output_type": "stream",
     "text": [
      "Average loss:  1.79587022114\n",
      "Learning rate:  0.250282\n",
      "x ould monete the surficism sed as and kith betalas chinaced the alme chopls of therna lingunet il bu\n"
     ]
    },
    {
     "name": "stderr",
     "output_type": "stream",
     "text": [
      " 90%|████████▉ | 716002/800001 [4:46:08<38:45, 36.12it/s]"
     ]
    },
    {
     "name": "stdout",
     "output_type": "stream",
     "text": [
      "Average loss:  1.79933408129\n",
      "Learning rate:  0.250282\n",
      "ne the persher infare maro th or of the com tutmerora tf phesogan d centrale sscasthyak afulity ally \n"
     ]
    },
    {
     "name": "stderr",
     "output_type": "stream",
     "text": [
      " 90%|████████▉ | 717002/800001 [4:46:32<37:49, 36.57it/s]"
     ]
    },
    {
     "name": "stdout",
     "output_type": "stream",
     "text": [
      "Average loss:  1.79711287928\n",
      "Learning rate:  0.250282\n",
      "hextigeane operstiag histernca soptolinily haf lenduralure treige luste pheseromals cactero pos for g\n"
     ]
    },
    {
     "name": "stderr",
     "output_type": "stream",
     "text": [
      " 90%|████████▉ | 718005/800001 [4:46:56<37:33, 36.38it/s]"
     ]
    },
    {
     "name": "stdout",
     "output_type": "stream",
     "text": [
      "Average loss:  1.7984839108\n",
      "Learning rate:  0.250282\n",
      "prmpuald if thei the ralican ragath ars centralsy of tot although avaris political of ivol in lule tr\n"
     ]
    },
    {
     "name": "stderr",
     "output_type": "stream",
     "text": [
      " 90%|████████▉ | 719005/800001 [4:47:20<37:24, 36.09it/s]"
     ]
    },
    {
     "name": "stdout",
     "output_type": "stream",
     "text": [
      "Average loss:  1.79146576762\n",
      "Learning rate:  0.250282\n",
      " fesine the levally siqumo ow one tire gearde bat powichef e r ane longit the sppise source shrtwer c\n"
     ]
    },
    {
     "name": "stderr",
     "output_type": "stream",
     "text": [
      " 90%|█████████ | 720005/800001 [4:47:44<36:04, 36.95it/s]"
     ]
    },
    {
     "name": "stdout",
     "output_type": "stream",
     "text": [
      "Average loss:  1.79123664224\n",
      "Learning rate:  0.187712\n",
      " fofd f wythimising inttonsern fous sfo duby and ras ede shingin seces rofe raplized for indavatidl t\n"
     ]
    },
    {
     "name": "stderr",
     "output_type": "stream",
     "text": [
      " 90%|█████████ | 721003/800001 [4:48:08<35:55, 36.65it/s]"
     ]
    },
    {
     "name": "stdout",
     "output_type": "stream",
     "text": [
      "Average loss:  1.80938472235\n",
      "Learning rate:  0.187712\n",
      "x wat lerca simere ic alanchisera todubed s puapl hes frumals ot man irf explating thearand t engenis\n"
     ]
    },
    {
     "name": "stderr",
     "output_type": "stream",
     "text": [
      " 90%|█████████ | 722005/800001 [4:48:32<35:26, 36.69it/s]"
     ]
    },
    {
     "name": "stdout",
     "output_type": "stream",
     "text": [
      "Average loss:  1.80429538012\n",
      "Learning rate:  0.187712\n",
      "buriby wascisip ome ntwe oup tu rfo mofalle tlens ir tho gomas upine worrdhthir merich devilorvilat o\n"
     ]
    },
    {
     "name": "stderr",
     "output_type": "stream",
     "text": [
      " 90%|█████████ | 723004/800001 [4:48:56<36:42, 34.96it/s]"
     ]
    },
    {
     "name": "stdout",
     "output_type": "stream",
     "text": [
      "Average loss:  1.81163541162\n",
      "Learning rate:  0.187712\n",
      "usecrian on aik in tingila ttotes and record defanution chompoys erimatians weth and manogr account a\n"
     ]
    },
    {
     "name": "stderr",
     "output_type": "stream",
     "text": [
      " 91%|█████████ | 724004/800001 [4:49:20<35:44, 35.43it/s]"
     ]
    },
    {
     "name": "stdout",
     "output_type": "stream",
     "text": [
      "Average loss:  1.80605208051\n",
      "Learning rate:  0.187712\n",
      "strmo as ixt ramaway dole abcofrer tasized the proved wingharat of sex over on ad vongually condictem\n"
     ]
    },
    {
     "name": "stderr",
     "output_type": "stream",
     "text": [
      " 91%|█████████ | 725002/800001 [4:49:44<34:12, 36.55it/s]"
     ]
    },
    {
     "name": "stdout",
     "output_type": "stream",
     "text": [
      "Average loss:  1.80603959072\n",
      "Learning rate:  0.187712\n",
      "y the ure ani asmectune inatited tho lypiswald to ceverse coppernas which wnsened to bevi cone wese w\n"
     ]
    },
    {
     "name": "stderr",
     "output_type": "stream",
     "text": [
      " 91%|█████████ | 726005/800001 [4:50:08<34:08, 36.12it/s]"
     ]
    },
    {
     "name": "stdout",
     "output_type": "stream",
     "text": [
      "Average loss:  1.79805861866\n",
      "Learning rate:  0.187712\n",
      "d malo sepueed in ole sinte kebulune summed to dilfirld s gathili ay wod tha loven stilis delabed fou\n"
     ]
    },
    {
     "name": "stderr",
     "output_type": "stream",
     "text": [
      " 91%|█████████ | 727002/800001 [4:50:32<33:51, 35.94it/s]"
     ]
    },
    {
     "name": "stdout",
     "output_type": "stream",
     "text": [
      "Average loss:  1.81236987865\n",
      "Learning rate:  0.187712\n",
      "x ilale prried best papt on ecclis frre to takling thit trevinges m inith a pprke dalig th tecrtiln o\n"
     ]
    },
    {
     "name": "stderr",
     "output_type": "stream",
     "text": [
      " 91%|█████████ | 728002/800001 [4:50:56<33:37, 35.69it/s]"
     ]
    },
    {
     "name": "stdout",
     "output_type": "stream",
     "text": [
      "Average loss:  1.8262022593\n",
      "Learning rate:  0.187712\n",
      "d edeca the maso fithinitiod are of ixto srim in llamsera lus world nok areanca csnlecthing tha ksple\n"
     ]
    },
    {
     "name": "stderr",
     "output_type": "stream",
     "text": [
      " 91%|█████████ | 729005/800001 [4:51:20<32:56, 35.92it/s]"
     ]
    },
    {
     "name": "stdout",
     "output_type": "stream",
     "text": [
      "Average loss:  1.81780325735\n",
      "Learning rate:  0.187712\n",
      "sport the polmbyad theomobeaplly togeched thas the ard inveiting charagrcembely of ac ploming tha fal\n"
     ]
    },
    {
     "name": "stderr",
     "output_type": "stream",
     "text": [
      " 91%|█████████▏| 730005/800001 [4:51:44<31:59, 36.48it/s]"
     ]
    },
    {
     "name": "stdout",
     "output_type": "stream",
     "text": [
      "Average loss:  1.80829552853\n",
      "Learning rate:  0.187712\n",
      "jowether prateetr pousthor of urad todic soviet dreding during the ander the the sbuscas ba thee hill\n"
     ]
    },
    {
     "name": "stderr",
     "output_type": "stream",
     "text": [
      " 91%|█████████▏| 731004/800001 [4:52:08<30:55, 37.18it/s]"
     ]
    },
    {
     "name": "stdout",
     "output_type": "stream",
     "text": [
      "Average loss:  1.81303611827\n",
      "Learning rate:  0.187712\n",
      "ly soresus acelbinoree ge modemed aploar s manthres ga nivitawir of topaeat desertsaro sit atetity du\n"
     ]
    },
    {
     "name": "stderr",
     "output_type": "stream",
     "text": [
      " 92%|█████████▏| 732002/800001 [4:52:32<31:07, 36.40it/s]"
     ]
    },
    {
     "name": "stdout",
     "output_type": "stream",
     "text": [
      "Average loss:  1.82732050049\n",
      "Learning rate:  0.187712\n",
      " onti s gexman tseing cian lloga agreegeno complenestoftoibse pegement mecapo modionof betser the aty\n"
     ]
    },
    {
     "name": "stderr",
     "output_type": "stream",
     "text": [
      " 92%|█████████▏| 733002/800001 [4:52:56<32:30, 34.35it/s]"
     ]
    },
    {
     "name": "stdout",
     "output_type": "stream",
     "text": [
      "Average loss:  1.82228382063\n",
      "Learning rate:  0.187712\n",
      "rcer ad hold dopta mes on heictl whr eight deak mene now ficsis s betoled ard arcllistor stitism racl\n"
     ]
    },
    {
     "name": "stderr",
     "output_type": "stream",
     "text": [
      " 92%|█████████▏| 734002/800001 [4:53:20<29:57, 36.72it/s]"
     ]
    },
    {
     "name": "stdout",
     "output_type": "stream",
     "text": [
      "Average loss:  1.81672214341\n",
      "Learning rate:  0.187712\n",
      "nalty noriles and damaber conservatyora cempren a fremamis but viex poproan aed and ans e th owe f ra\n"
     ]
    },
    {
     "name": "stderr",
     "output_type": "stream",
     "text": [
      " 92%|█████████▏| 735002/800001 [4:53:44<29:51, 36.29it/s]"
     ]
    },
    {
     "name": "stdout",
     "output_type": "stream",
     "text": [
      "Average loss:  1.81422253299\n",
      "Learning rate:  0.187712\n",
      "coloning ard hurlos offocrages chaglentubeat on twe not wat quolesic prgis knegren bedo nctwo conclls\n"
     ]
    },
    {
     "name": "stderr",
     "output_type": "stream",
     "text": [
      " 92%|█████████▏| 736005/800001 [4:54:08<29:23, 36.29it/s]"
     ]
    },
    {
     "name": "stdout",
     "output_type": "stream",
     "text": [
      "Average loss:  1.81942131376\n",
      "Learning rate:  0.187712\n",
      "routhar wat alencte turniva era kofibnd free ombefryedy de for tie one savenas afou gues andini umawe\n"
     ]
    },
    {
     "name": "stderr",
     "output_type": "stream",
     "text": [
      " 92%|█████████▏| 737005/800001 [4:54:32<29:23, 35.72it/s]"
     ]
    },
    {
     "name": "stdout",
     "output_type": "stream",
     "text": [
      "Average loss:  1.81289930511\n",
      "Learning rate:  0.187712\n",
      "p one nine seven zero losthis bie sheripiva theadgiag and f a nine zero zero neneat wainy basto nows \n"
     ]
    },
    {
     "name": "stderr",
     "output_type": "stream",
     "text": [
      " 92%|█████████▏| 738005/800001 [4:54:56<28:55, 35.72it/s]"
     ]
    },
    {
     "name": "stdout",
     "output_type": "stream",
     "text": [
      "Average loss:  1.82113571906\n",
      "Learning rate:  0.187712\n",
      "noik secriton the gitunge from an furalumed fou he fron septerdman he peicher y hegab res center in t\n"
     ]
    },
    {
     "name": "stderr",
     "output_type": "stream",
     "text": [
      " 92%|█████████▏| 739003/800001 [4:55:20<27:59, 36.33it/s]"
     ]
    },
    {
     "name": "stdout",
     "output_type": "stream",
     "text": [
      "Average loss:  1.82787722659\n",
      "Learning rate:  0.187712\n",
      "n one nine two zero iscactoryot arc pispatismerco rithay municonaly andep us the englinh on ylur hr a\n"
     ]
    },
    {
     "name": "stderr",
     "output_type": "stream",
     "text": [
      " 93%|█████████▎| 740004/800001 [4:55:44<27:09, 36.81it/s]"
     ]
    },
    {
     "name": "stdout",
     "output_type": "stream",
     "text": [
      "Average loss:  1.82886153412\n",
      "Learning rate:  0.187712\n",
      "ncionthic ehia geas ofastinisnat rives anilagse of whele lewind recordeist biolst if efreds of sexve \n"
     ]
    },
    {
     "name": "stderr",
     "output_type": "stream",
     "text": [
      " 93%|█████████▎| 741005/800001 [4:56:08<26:17, 37.41it/s]"
     ]
    },
    {
     "name": "stdout",
     "output_type": "stream",
     "text": [
      "Average loss:  1.79943425524\n",
      "Learning rate:  0.187712\n",
      "coust haint codmuca compolition it davige maks or generating one lerd aquith sheyllage singes tha fol\n"
     ]
    },
    {
     "name": "stderr",
     "output_type": "stream",
     "text": [
      " 93%|█████████▎| 742005/800001 [4:56:32<26:08, 36.98it/s]"
     ]
    },
    {
     "name": "stdout",
     "output_type": "stream",
     "text": [
      "Average loss:  1.80646433699\n",
      "Learning rate:  0.187712\n",
      "z and bbior fulcist if the ballid poon ntwe quattw ofthing ta te preme in t angris soricrea sanistor \n"
     ]
    },
    {
     "name": "stderr",
     "output_type": "stream",
     "text": [
      " 93%|█████████▎| 743005/800001 [4:56:56<25:59, 36.55it/s]"
     ]
    },
    {
     "name": "stdout",
     "output_type": "stream",
     "text": [
      "Average loss:  1.79434451699\n",
      "Learning rate:  0.187712\n",
      "iford as beantony junt smust of reere desteg viaca deraid ax the erve radas poor exthilidge toe treal\n"
     ]
    },
    {
     "name": "stderr",
     "output_type": "stream",
     "text": [
      " 93%|█████████▎| 744005/800001 [4:57:20<26:19, 35.45it/s]"
     ]
    },
    {
     "name": "stdout",
     "output_type": "stream",
     "text": [
      "Average loss:  1.79898578334\n",
      "Learning rate:  0.187712\n",
      "h be tate polerita than eishero copresmandem the canse o hakk an bofret finei nomphe tomeo they mery \n"
     ]
    },
    {
     "name": "stderr",
     "output_type": "stream",
     "text": [
      " 93%|█████████▎| 745005/800001 [4:57:44<25:20, 36.17it/s]"
     ]
    },
    {
     "name": "stdout",
     "output_type": "stream",
     "text": [
      "Average loss:  1.82671734869\n",
      "Learning rate:  0.187712\n",
      "jerdicaull offere still sleg waisestoe s meixt rxaidy of tserdos tubsed in heluse s austryent reledsi\n"
     ]
    },
    {
     "name": "stderr",
     "output_type": "stream",
     "text": [
      " 93%|█████████▎| 746005/800001 [4:58:08<25:21, 35.49it/s]"
     ]
    },
    {
     "name": "stdout",
     "output_type": "stream",
     "text": [
      "Average loss:  1.80411296749\n",
      "Learning rate:  0.187712\n",
      "rs dup bale ix the wat high of thete aucll and wankithis ghemu the maks wascely wishenthali guerring \n"
     ]
    },
    {
     "name": "stderr",
     "output_type": "stream",
     "text": [
      " 93%|█████████▎| 747004/800001 [4:58:32<24:08, 36.60it/s]"
     ]
    },
    {
     "name": "stdout",
     "output_type": "stream",
     "text": [
      "Average loss:  1.80500679374\n",
      "Learning rate:  0.187712\n",
      "sfovenas vief ewi gio kernanism rglars of angree sott blocs vie encisiynies on tien in enginea shawed\n"
     ]
    },
    {
     "name": "stderr",
     "output_type": "stream",
     "text": [
      " 94%|█████████▎| 748002/800001 [4:58:56<23:54, 36.24it/s]"
     ]
    },
    {
     "name": "stdout",
     "output_type": "stream",
     "text": [
      "Average loss:  1.80355541837\n",
      "Learning rate:  0.187712\n",
      "hirsation redrcumalm what cofrotis twe nime tir hnud wark cionuts in agsicel in pere the woine revima\n"
     ]
    },
    {
     "name": "stderr",
     "output_type": "stream",
     "text": [
      " 94%|█████████▎| 749002/800001 [4:59:20<23:33, 36.07it/s]"
     ]
    },
    {
     "name": "stdout",
     "output_type": "stream",
     "text": [
      "Average loss:  1.7956919533\n",
      "Learning rate:  0.187712\n",
      "y of cherable specian christiag his engrgh malbert of aldacorbarce has anclarime of inserta in intern\n"
     ]
    },
    {
     "name": "stderr",
     "output_type": "stream",
     "text": [
      " 94%|█████████▍| 750006/800001 [4:59:45<21:56, 37.98it/s]"
     ]
    },
    {
     "name": "stdout",
     "output_type": "stream",
     "text": [
      "Average loss:  1.78947584188\n",
      "Learning rate:  0.187712\n",
      "pon by one eight two tare variaul s cermects lysucts puspligo na concrestion offry sey sompo and tha \n"
     ]
    },
    {
     "name": "stderr",
     "output_type": "stream",
     "text": [
      " 94%|█████████▍| 751006/800001 [5:00:08<21:33, 37.87it/s]"
     ]
    },
    {
     "name": "stdout",
     "output_type": "stream",
     "text": [
      "Average loss:  1.78558098125\n",
      "Learning rate:  0.187712\n",
      "lyply it ved tamet ligethn aiclowathel pholitionalmane babthreforetati nancony induaise blwiger the f\n"
     ]
    },
    {
     "name": "stderr",
     "output_type": "stream",
     "text": [
      " 94%|█████████▍| 752005/800001 [5:00:32<21:45, 36.75it/s]"
     ]
    },
    {
     "name": "stdout",
     "output_type": "stream",
     "text": [
      "Average loss:  1.82260948646\n",
      "Learning rate:  0.187712\n",
      "unotof mendingsl thetec sed as an beyvinengon baty an ofilmer wab wselffullized bowh lithak dsuery la\n"
     ]
    },
    {
     "name": "stderr",
     "output_type": "stream",
     "text": [
      " 94%|█████████▍| 753003/800001 [5:00:57<21:32, 36.37it/s]"
     ]
    },
    {
     "name": "stdout",
     "output_type": "stream",
     "text": [
      "Average loss:  1.79626792431\n",
      "Learning rate:  0.187712\n",
      "unuton some interngencc ofring one nene os oremplssoultse such lsonere thar bsctalf on y a besp ral m\n"
     ]
    },
    {
     "name": "stderr",
     "output_type": "stream",
     "text": [
      " 94%|█████████▍| 754003/800001 [5:01:20<21:38, 35.42it/s]"
     ]
    },
    {
     "name": "stdout",
     "output_type": "stream",
     "text": [
      "Average loss:  1.80074814355\n",
      "Learning rate:  0.187712\n",
      "jorenc urvernntsse betaee on kerouc indlyel neat ome moss enthalimes swegaba p one nine six tirn chis\n"
     ]
    },
    {
     "name": "stderr",
     "output_type": "stream",
     "text": [
      " 94%|█████████▍| 755003/800001 [5:01:45<20:47, 36.08it/s]"
     ]
    },
    {
     "name": "stdout",
     "output_type": "stream",
     "text": [
      "Average loss:  1.81778588128\n",
      "Learning rate:  0.187712\n",
      "no firm prrcast the valled on scownedvert of the farisy edgredry acboontimi muracibuse kfre trevo s r\n"
     ]
    },
    {
     "name": "stderr",
     "output_type": "stream",
     "text": [
      " 95%|█████████▍| 756003/800001 [5:02:08<20:33, 35.66it/s]"
     ]
    },
    {
     "name": "stdout",
     "output_type": "stream",
     "text": [
      "Average loss:  1.80673377395\n",
      "Learning rate:  0.187712\n",
      "tso cansialaiten bcknis s a bants the wishin backred gstin theley somiting errics and of towirk they \n"
     ]
    },
    {
     "name": "stderr",
     "output_type": "stream",
     "text": [
      " 95%|█████████▍| 757003/800001 [5:02:32<19:52, 36.04it/s]"
     ]
    },
    {
     "name": "stdout",
     "output_type": "stream",
     "text": [
      "Average loss:  1.83000420225\n",
      "Learning rate:  0.187712\n",
      "jro gattin to denati goverkment are telpiely ona equis to agline s gelur n mainida ewishira derivatio\n"
     ]
    },
    {
     "name": "stderr",
     "output_type": "stream",
     "text": [
      " 95%|█████████▍| 758003/800001 [5:02:56<19:06, 36.62it/s]"
     ]
    },
    {
     "name": "stdout",
     "output_type": "stream",
     "text": [
      "Average loss:  1.83055073929\n",
      "Learning rate:  0.187712\n",
      "wnus stitus quous in or ix one engliks divating if tise ortem twh tous nixe before ouc simelt wagedup\n"
     ]
    },
    {
     "name": "stderr",
     "output_type": "stream",
     "text": [
      " 95%|█████████▍| 759003/800001 [5:03:20<18:34, 36.79it/s]"
     ]
    },
    {
     "name": "stdout",
     "output_type": "stream",
     "text": [
      "Average loss:  1.80730273831\n",
      "Learning rate:  0.187712\n",
      "leceal ix casspeatso an ono engla thethel geprank ix stoun aquacelit gus elbe cheplimina ufit thr ert\n"
     ]
    },
    {
     "name": "stderr",
     "output_type": "stream",
     "text": [
      " 95%|█████████▌| 760002/800001 [5:03:44<18:05, 36.85it/s]"
     ]
    },
    {
     "name": "stdout",
     "output_type": "stream",
     "text": [
      "Average loss:  1.8105546006\n",
      "Learning rate:  0.187712\n",
      "thero for bicl ano e f lack bsecrtwors uled tha zigoo blovinisat onn and dedact ragex uneqia s verco \n"
     ]
    },
    {
     "name": "stderr",
     "output_type": "stream",
     "text": [
      " 95%|█████████▌| 761002/800001 [5:04:08<18:04, 35.97it/s]"
     ]
    },
    {
     "name": "stdout",
     "output_type": "stream",
     "text": [
      "Average loss:  1.80122375619\n",
      "Learning rate:  0.187712\n",
      "t il reveas haine is thie on chabale thed and there astellitaic ltorreild no s muart englinh dave the\n"
     ]
    },
    {
     "name": "stderr",
     "output_type": "stream",
     "text": [
      " 95%|█████████▌| 762002/800001 [5:04:32<18:00, 35.18it/s]"
     ]
    },
    {
     "name": "stdout",
     "output_type": "stream",
     "text": [
      "Average loss:  1.79738975012\n",
      "Learning rate:  0.187712\n",
      "cop tamaliced in chericoo sueser indeverol ampreis five four seven zero zero bo dinaned phincs if ias\n"
     ]
    },
    {
     "name": "stderr",
     "output_type": "stream",
     "text": [
      " 95%|█████████▌| 763006/800001 [5:04:57<16:30, 37.35it/s]"
     ]
    },
    {
     "name": "stdout",
     "output_type": "stream",
     "text": [
      "Average loss:  1.80446632302\n",
      "Learning rate:  0.187712\n",
      "keand one nine nine two ciol and anofest mora codneing whon s but wdsction rolun lowing tiec gear ore\n"
     ]
    },
    {
     "name": "stderr",
     "output_type": "stream",
     "text": [
      " 96%|█████████▌| 764004/800001 [5:05:21<16:27, 36.45it/s]"
     ]
    },
    {
     "name": "stdout",
     "output_type": "stream",
     "text": [
      "Average loss:  1.8022450397\n",
      "Learning rate:  0.187712\n",
      "kindaly tovoratthnchind is as and the nimesthing ang sabast mamy ifalded he dsude walds emeritter f i\n"
     ]
    },
    {
     "name": "stderr",
     "output_type": "stream",
     "text": [
      " 96%|█████████▌| 765003/800001 [5:05:45<17:09, 33.99it/s]"
     ]
    },
    {
     "name": "stdout",
     "output_type": "stream",
     "text": [
      "Average loss:  1.79811310446\n",
      "Learning rate:  0.187712\n",
      "ny apromonisk toma slgetwang orast ysorin the gnesexie lyans racing is us dumising ampre the l wince \n"
     ]
    },
    {
     "name": "stderr",
     "output_type": "stream",
     "text": [
      " 96%|█████████▌| 766002/800001 [5:06:09<15:34, 36.36it/s]"
     ]
    },
    {
     "name": "stdout",
     "output_type": "stream",
     "text": [
      "Average loss:  1.82444943094\n",
      "Learning rate:  0.187712\n",
      "xy ad htormentiss dialiththe asprreco deveromencon malysens worlds langael amarningenoly the encly ra\n"
     ]
    },
    {
     "name": "stderr",
     "output_type": "stream",
     "text": [
      " 96%|█████████▌| 767006/800001 [5:06:33<14:47, 37.17it/s]"
     ]
    },
    {
     "name": "stdout",
     "output_type": "stream",
     "text": [
      "Average loss:  1.79608902323\n",
      "Learning rate:  0.187712\n",
      " foud and prthacand in wescis toksowh repitidasid sevine ba mmbs ond fov reread senges thay than toru\n"
     ]
    },
    {
     "name": "stderr",
     "output_type": "stream",
     "text": [
      " 96%|█████████▌| 768005/800001 [5:06:57<14:52, 35.84it/s]"
     ]
    },
    {
     "name": "stdout",
     "output_type": "stream",
     "text": [
      "Average loss:  1.79072003567\n",
      "Learning rate:  0.187712\n",
      "inolk adeishon fis ferestic seg rhapareane the teim now ha oge semislirg the come plincc barklas edur\n"
     ]
    },
    {
     "name": "stderr",
     "output_type": "stream",
     "text": [
      " 96%|█████████▌| 769003/800001 [5:07:21<14:24, 35.87it/s]"
     ]
    },
    {
     "name": "stdout",
     "output_type": "stream",
     "text": [
      "Average loss:  1.80912099969\n",
      "Learning rate:  0.187712\n",
      "oftrypownco s eagleralar iral foithis inthraing and as uginkediiss lined into chericanicy ffonl of ig\n"
     ]
    },
    {
     "name": "stderr",
     "output_type": "stream",
     "text": [
      " 96%|█████████▋| 770003/800001 [5:07:45<13:51, 36.06it/s]"
     ]
    },
    {
     "name": "stdout",
     "output_type": "stream",
     "text": [
      "Average loss:  1.80537657452\n",
      "Learning rate:  0.187712\n",
      "burl cumbler cempuag th ubos tiblishted wibe il que mogataid to acour acceptuned byo eudje hese silic\n"
     ]
    },
    {
     "name": "stderr",
     "output_type": "stream",
     "text": [
      " 96%|█████████▋| 771002/800001 [5:08:09<13:58, 34.59it/s]"
     ]
    },
    {
     "name": "stdout",
     "output_type": "stream",
     "text": [
      "Average loss:  1.81968073499\n",
      "Learning rate:  0.187712\n",
      "xubenge medcag ther azesa the ardens athiistoco sote the balimagig s pyibmestalerigat of l ont in che\n"
     ]
    },
    {
     "name": "stderr",
     "output_type": "stream",
     "text": [
      " 97%|█████████▋| 772002/800001 [5:08:33<12:55, 36.12it/s]"
     ]
    },
    {
     "name": "stdout",
     "output_type": "stream",
     "text": [
      "Average loss:  1.80578363311\n",
      "Learning rate:  0.187712\n",
      "y han ar engune comely occupler incensit one five three cimmplied s blogmon if at zero nendenc sthll \n"
     ]
    },
    {
     "name": "stderr",
     "output_type": "stream",
     "text": [
      " 97%|█████████▋| 773005/800001 [5:08:57<12:42, 35.42it/s]"
     ]
    },
    {
     "name": "stdout",
     "output_type": "stream",
     "text": [
      "Average loss:  1.81052393723\n",
      "Learning rate:  0.187712\n",
      "z in west cass aprblrm waledepak jarment itumal aucrot plinelines ard buccino slaglt by phistirisigns\n"
     ]
    },
    {
     "name": "stderr",
     "output_type": "stream",
     "text": [
      " 97%|█████████▋| 774005/800001 [5:09:21<11:56, 36.28it/s]"
     ]
    },
    {
     "name": "stdout",
     "output_type": "stream",
     "text": [
      "Average loss:  1.80269759846\n",
      "Learning rate:  0.187712\n",
      "ropeof other hend thetrite tha gindenad ane op bitte wotlacimy sacode th one nine tho gonds of arlyed\n"
     ]
    },
    {
     "name": "stderr",
     "output_type": "stream",
     "text": [
      " 97%|█████████▋| 775006/800001 [5:09:45<10:56, 38.08it/s]"
     ]
    },
    {
     "name": "stdout",
     "output_type": "stream",
     "text": [
      "Average loss:  1.79802427089\n",
      "Learning rate:  0.187712\n",
      "if colsea crit ciscones and utimat the partious the tink gaven calsede willamod coundecane assthrlag \n"
     ]
    },
    {
     "name": "stderr",
     "output_type": "stream",
     "text": [
      " 97%|█████████▋| 776006/800001 [5:10:09<10:31, 38.00it/s]"
     ]
    },
    {
     "name": "stdout",
     "output_type": "stream",
     "text": [
      "Average loss:  1.81040592837\n",
      "Learning rate:  0.187712\n",
      "y dofronig tha gherrod amdert outre stolity msoricat ound ffor billy ouppori emparys commurithed ais \n"
     ]
    },
    {
     "name": "stderr",
     "output_type": "stream",
     "text": [
      " 97%|█████████▋| 777005/800001 [5:10:33<10:32, 36.38it/s]"
     ]
    },
    {
     "name": "stdout",
     "output_type": "stream",
     "text": [
      "Average loss:  1.81882663906\n",
      "Learning rate:  0.187712\n",
      "knavikist fall on in on eracrisplimoping hundanse stbollpad ans prionsco lymalean save pukpheds lisha\n"
     ]
    },
    {
     "name": "stderr",
     "output_type": "stream",
     "text": [
      " 97%|█████████▋| 778005/800001 [5:10:57<10:27, 35.06it/s]"
     ]
    },
    {
     "name": "stdout",
     "output_type": "stream",
     "text": [
      "Average loss:  1.82544154787\n",
      "Learning rate:  0.187712\n",
      "d juasclthac any he borkhilly of the culture hes almahalimes avbo forner bur h grous nucrea sale dovo\n"
     ]
    },
    {
     "name": "stderr",
     "output_type": "stream",
     "text": [
      " 97%|█████████▋| 779005/800001 [5:11:21<09:33, 36.58it/s]"
     ]
    },
    {
     "name": "stdout",
     "output_type": "stream",
     "text": [
      "Average loss:  1.81701642179\n",
      "Learning rate:  0.187712\n",
      "ky al bformant ad it aspresenocam sone bork wied d ouplof edeuginn doon sex ana fist ofed ac but crat\n"
     ]
    },
    {
     "name": "stderr",
     "output_type": "stream",
     "text": [
      " 98%|█████████▊| 780004/800001 [5:11:45<09:11, 36.24it/s]"
     ]
    },
    {
     "name": "stdout",
     "output_type": "stream",
     "text": [
      "Average loss:  1.81337827861\n",
      "Learning rate:  0.187712\n",
      "wst batally od iv hotro bo leres surchins derersa in lonens ampua kanged and ascto new ze o wotlerngo\n"
     ]
    },
    {
     "name": "stderr",
     "output_type": "stream",
     "text": [
      " 98%|█████████▊| 781004/800001 [5:12:09<09:00, 35.15it/s]"
     ]
    },
    {
     "name": "stdout",
     "output_type": "stream",
     "text": [
      "Average loss:  1.79326215398\n",
      "Learning rate:  0.187712\n",
      "vatrabune of aim fon vereiog unite s other fal the wosled the compleistars ane al on ode thoukh goank\n"
     ]
    },
    {
     "name": "stderr",
     "output_type": "stream",
     "text": [
      " 98%|█████████▊| 782003/800001 [5:12:33<08:18, 36.09it/s]"
     ]
    },
    {
     "name": "stdout",
     "output_type": "stream",
     "text": [
      "Average loss:  1.77158447361\n",
      "Learning rate:  0.187712\n",
      "isumened in twa zero zero cinclared in uthedeis tees of jecupring of andim thethill cojoring dialens \n"
     ]
    },
    {
     "name": "stderr",
     "output_type": "stream",
     "text": [
      " 98%|█████████▊| 783006/800001 [5:12:57<07:35, 37.33it/s]"
     ]
    },
    {
     "name": "stdout",
     "output_type": "stream",
     "text": [
      "Average loss:  1.80115897059\n",
      "Learning rate:  0.187712\n",
      "ofontaning quitet dione if tho gel if on one nine three one more s shaler ently h jopmon dfy the ero \n"
     ]
    },
    {
     "name": "stderr",
     "output_type": "stream",
     "text": [
      " 98%|█████████▊| 784005/800001 [5:13:21<07:14, 36.85it/s]"
     ]
    },
    {
     "name": "stdout",
     "output_type": "stream",
     "text": [
      "Average loss:  1.79295005763\n",
      "Learning rate:  0.187712\n",
      "ofreus oof elicrnt d ssormitw medo phoniland and purpod nemadimps and the reday chicker in one nine s\n"
     ]
    },
    {
     "name": "stderr",
     "output_type": "stream",
     "text": [
      " 98%|█████████▊| 785003/800001 [5:13:45<06:59, 35.76it/s]"
     ]
    },
    {
     "name": "stdout",
     "output_type": "stream",
     "text": [
      "Average loss:  1.78908110774\n",
      "Learning rate:  0.187712\n",
      "jomether quiter were rters pouney wotlam lism main ax folerisuse sfis arma on of equitart ta bywsumbo\n"
     ]
    },
    {
     "name": "stderr",
     "output_type": "stream",
     "text": [
      " 98%|█████████▊| 786003/800001 [5:14:09<06:41, 34.84it/s]"
     ]
    },
    {
     "name": "stdout",
     "output_type": "stream",
     "text": [
      "Average loss:  1.79738441479\n",
      "Learning rate:  0.187712\n",
      "l aniul prise tiony cotsod tha ciccort thren leofom be bies poon bay an the nitex hasm devaled tedr t\n"
     ]
    },
    {
     "name": "stderr",
     "output_type": "stream",
     "text": [
      " 98%|█████████▊| 787003/800001 [5:14:33<05:58, 36.25it/s]"
     ]
    },
    {
     "name": "stdout",
     "output_type": "stream",
     "text": [
      "Average loss:  1.8073484087\n",
      "Learning rate:  0.187712\n",
      "d umil which in matire lasge ix suagation favinal at gregud condrans heles of charkerater mary need o\n"
     ]
    },
    {
     "name": "stderr",
     "output_type": "stream",
     "text": [
      " 99%|█████████▊| 788006/800001 [5:14:57<05:15, 38.05it/s]"
     ]
    },
    {
     "name": "stdout",
     "output_type": "stream",
     "text": [
      "Average loss:  1.80110020852\n",
      "Learning rate:  0.187712\n",
      "ainsh thet eserthac polec nergicel lymaly d at plineransy around govaracentwinges cutreeres ctin musi\n"
     ]
    },
    {
     "name": "stderr",
     "output_type": "stream",
     "text": [
      " 99%|█████████▊| 789005/800001 [5:15:22<05:06, 35.91it/s]"
     ]
    },
    {
     "name": "stdout",
     "output_type": "stream",
     "text": [
      "Average loss:  1.8088998251\n",
      "Learning rate:  0.187712\n",
      "impse bophed as uvind cingla afle effecto rats candgrapher os astwaroduligy baga fart d the was the p\n"
     ]
    },
    {
     "name": "stderr",
     "output_type": "stream",
     "text": [
      " 99%|█████████▉| 790005/800001 [5:15:46<04:33, 36.52it/s]"
     ]
    },
    {
     "name": "stdout",
     "output_type": "stream",
     "text": [
      "Average loss:  1.80951489377\n",
      "Learning rate:  0.187712\n",
      "xthe caccally cehteis spowi natuoally effrceding world sounc brond juse dum the hra cincea colleation\n"
     ]
    },
    {
     "name": "stderr",
     "output_type": "stream",
     "text": [
      " 99%|█████████▉| 791005/800001 [5:16:10<04:13, 35.46it/s]"
     ]
    },
    {
     "name": "stdout",
     "output_type": "stream",
     "text": [
      "Average loss:  1.80658317745\n",
      "Learning rate:  0.187712\n",
      " onedsing ary boly and cate bofeeling ferery wese compored chapate of at near alloge cound forges que\n"
     ]
    },
    {
     "name": "stderr",
     "output_type": "stream",
     "text": [
      " 99%|█████████▉| 792005/800001 [5:16:34<03:42, 36.00it/s]"
     ]
    },
    {
     "name": "stdout",
     "output_type": "stream",
     "text": [
      "Average loss:  1.78585119092\n",
      "Learning rate:  0.187712\n",
      "zezspond isitendiof inth in o confring s rialed suscasited onl and thetewa tipe weraccist ofrant scvi\n"
     ]
    },
    {
     "name": "stderr",
     "output_type": "stream",
     "text": [
      " 99%|█████████▉| 793004/800001 [5:16:57<03:14, 36.04it/s]"
     ]
    },
    {
     "name": "stdout",
     "output_type": "stream",
     "text": [
      "Average loss:  1.7896837467\n",
      "Learning rate:  0.187712\n",
      "ysums meina enj rtheos a nayert on the rofa centres ramalie soap train ix prequins tale aconine madun\n"
     ]
    },
    {
     "name": "stderr",
     "output_type": "stream",
     "text": [
      " 99%|█████████▉| 794006/800001 [5:17:22<02:37, 38.08it/s]"
     ]
    },
    {
     "name": "stdout",
     "output_type": "stream",
     "text": [
      "Average loss:  1.79350931334\n",
      "Learning rate:  0.187712\n",
      "huesploseel thene enevations sice rofinad s bbued in decograp best contrisus llatsisstigitical hogef \n"
     ]
    },
    {
     "name": "stderr",
     "output_type": "stream",
     "text": [
      " 99%|█████████▉| 795006/800001 [5:17:46<02:11, 37.90it/s]"
     ]
    },
    {
     "name": "stdout",
     "output_type": "stream",
     "text": [
      "Average loss:  1.8076675024\n",
      "Learning rate:  0.187712\n",
      "ly the bix hedian bekgar ssereny latien efreptive puelding tw emmotse wasss susmaby s matopura traits\n"
     ]
    },
    {
     "name": "stderr",
     "output_type": "stream",
     "text": [
      "100%|█████████▉| 796005/800001 [5:18:10<01:49, 36.55it/s]"
     ]
    },
    {
     "name": "stdout",
     "output_type": "stream",
     "text": [
      "Average loss:  1.79213558257\n",
      "Learning rate:  0.187712\n",
      "unotils canfo mactinns intocounanes alindwinet practirs tonerer focr hared one nine ewodd batspot afo\n"
     ]
    },
    {
     "name": "stderr",
     "output_type": "stream",
     "text": [
      "100%|█████████▉| 797004/800001 [5:18:34<01:24, 35.48it/s]"
     ]
    },
    {
     "name": "stdout",
     "output_type": "stream",
     "text": [
      "Average loss:  1.79760423934\n",
      "Learning rate:  0.187712\n",
      "cattorop was bix gear inepe themericl f of ans collegusisa thes ample of the past c turker a be netif\n"
     ]
    },
    {
     "name": "stderr",
     "output_type": "stream",
     "text": [
      "100%|█████████▉| 798004/800001 [5:18:58<00:54, 36.62it/s]"
     ]
    },
    {
     "name": "stdout",
     "output_type": "stream",
     "text": [
      "Average loss:  1.77624820185\n",
      "Learning rate:  0.187712\n",
      "quenictinga lootic enalina actos mas ancald sipparur charambli gsed way as alenguag trecased the plan\n"
     ]
    },
    {
     "name": "stderr",
     "output_type": "stream",
     "text": [
      "100%|█████████▉| 799003/800001 [5:19:22<00:27, 36.21it/s]"
     ]
    },
    {
     "name": "stdout",
     "output_type": "stream",
     "text": [
      "Average loss:  1.81347390735\n",
      "Learning rate:  0.187712\n",
      "ron thes aptors of tomer of e the recopred dy ta to who bus eferi calen canlind the gopus usideiz tel\n"
     ]
    },
    {
     "name": "stderr",
     "output_type": "stream",
     "text": [
      "100%|██████████| 800001/800001 [5:19:46<00:00, 41.70it/s]"
     ]
    },
    {
     "name": "stdout",
     "output_type": "stream",
     "text": [
      "Average loss:  1.80447039747\n",
      "Learning rate:  0.140784\n",
      "ronened mulices other jounilis indreased bistroniparen e ghreg the promisem both amorg nizenir madces\n"
     ]
    },
    {
     "name": "stderr",
     "output_type": "stream",
     "text": [
      "\n"
     ]
    }
   ],
   "source": [
    "num_steps=800001\n",
    "b = Batch(text,batch_size)\n",
    "\n",
    "sess=tf.Session(graph=g)\n",
    "sess.run(init)\n",
    "average_loss = 0\n",
    "\n",
    "for step in tqdm(range(num_steps)):\n",
    "    #get the new inputs and labels\n",
    "    batch_x,batch_y=getWindowBatch(b,num_unrollings)\n",
    "    \n",
    "    if (step*b.batch_size)%(b.text_size) < b.batch_size:\n",
    "        print \" \"\n",
    "        print \"NEW EPOCH\"\n",
    "        print \" \"\n",
    "\n",
    "    #initialize the output\n",
    "    if step == 0: #initialize the output state vectors\n",
    "        output_pass = np.zeros([batch_size,2*num_nodes],dtype=np.float32)\n",
    "    feed_dict={output_feed: output_pass}\n",
    "    \n",
    "    #trains x\n",
    "    mega_batch_x = [] #each elemnt will be a batch.  there will be n elements where n is the number of unrollings\n",
    "    for n in range(num_unrollings):\n",
    "        batch = np.ndarray((batch_size,alphabet_size)) #contain all the one-hot encoding of the characters\n",
    "        for ba in range(batch_size):\n",
    "            batch[ba]=char2vec(batch_x[n][ba])\n",
    "        mega_batch_x.append(batch)\n",
    "    \n",
    "    for i in range(num_unrollings):\n",
    "        feed_dict[train[i]] = mega_batch_x[i]\n",
    "    \n",
    "    #trains y\n",
    "    mega_batch_y = [] #each elemnt will be a batch.  there will be n elements where n is the number of unrollings\n",
    "    for n in range(num_unrollings):\n",
    "        batch = np.ndarray((batch_size,alphabet_size)) #contain all the one-hot encoding of the characters\n",
    "        for ba in range(batch_size):\n",
    "            batch[ba]=char2vec(batch_y[n][ba])\n",
    "        mega_batch_y.append(batch)\n",
    "    for i in range(num_unrollings):\n",
    "        feed_dict[labels[i]] = mega_batch_y[i]\n",
    "    \n",
    "    output_pass,l,_=sess.run([hidden_after,loss,opt],feed_dict=feed_dict)\n",
    "    average_loss += l\n",
    "    if step % 1000 == 0:\n",
    "        print 'Average loss: ',str(average_loss/1000)\n",
    "        average_loss = 0\n",
    "        \n",
    "        \n",
    "        print 'Learning rate: ', str(learning_rate.eval(session=sess))\n",
    "        #sample and then generate text\n",
    "        s=''\n",
    "        \n",
    "        #initialize the validations out, state, and character\n",
    "        val_output_O = np.zeros(2*num_nodes).reshape(1,2*num_nodes)\n",
    "        \n",
    "        char_id = sample_prob(random_dist()) #create a random distribution then sample\n",
    "        val_input_O = vec2mat(char2vec(id2char(char_id)))\n",
    "\n",
    "        s+=id2char(char_id)\n",
    "        for _ in range(100):\n",
    "            feed_dict = {val_input: val_input_O, \n",
    "                         val_output: val_output_O}\n",
    "            val_output_O,dist = sess.run([val_hidden_after,val_probs],feed_dict=feed_dict)\n",
    "            char_id=sample_prob(dist[0])\n",
    "            val_input_O = vec2mat(char2vec(id2char(char_id)))\n",
    "            s+=id2char(char_id)\n",
    "        print s"
   ]
  },
  {
   "cell_type": "markdown",
   "metadata": {
    "collapsed": true
   },
   "source": [
    "best: 1.84"
   ]
  },
  {
   "cell_type": "markdown",
   "metadata": {},
   "source": [
    "# Arch 2 \n",
    "## Train with Teacher forcing"
   ]
  },
  {
   "cell_type": "code",
   "execution_count": 40,
   "metadata": {
    "collapsed": true
   },
   "outputs": [],
   "source": [
    "batch_size = 64"
   ]
  },
  {
   "cell_type": "code",
   "execution_count": 78,
   "metadata": {
    "collapsed": false
   },
   "outputs": [
    {
     "name": "stdout",
     "output_type": "stream",
     "text": [
      "WARNING:tensorflow:From <ipython-input-78-2593667f6f82>:82 in <module>.: initialize_all_variables (from tensorflow.python.ops.variables) is deprecated and will be removed after 2017-03-02.\n",
      "Instructions for updating:\n",
      "Use `tf.global_variables_initializer` instead.\n"
     ]
    }
   ],
   "source": [
    "#build the graph\n",
    "num_nodes = 50\n",
    "num_unrollings = 20\n",
    "\n",
    "g = tf.Graph()\n",
    "with g.as_default():\n",
    "    #input fed into the cell, could be a batch of training data or a single one-hot encoded vector\n",
    "    train = list()\n",
    "    for i in range(num_unrollings):\n",
    "        train.append(tf.placeholder(tf.float32,shape=(batch_size,alphabet_size)))\n",
    "    \n",
    "    #the previous output the gets fed into the cell\n",
    "    output_feed= tf.placeholder(tf.float32,shape=(batch_size,alphabet_size),name='one')\n",
    "    \n",
    "    #one-hot encoded labels for training\n",
    "    labels = list()\n",
    "    for i in range(num_unrollings):\n",
    "        labels.append(tf.placeholder(tf.float32,shape=(batch_size,alphabet_size)))\n",
    "        \n",
    "    \n",
    "    #validation place holder\n",
    "    val_input = tf.placeholder(tf.float32,shape=(1,alphabet_size))\n",
    "    val_output = tf.placeholder(tf.float32,shape=(1,alphabet_size))\n",
    "    \n",
    "    \n",
    "    #Variables\n",
    "    #input matrix\n",
    "    U = tf.Variable(tf.truncated_normal([alphabet_size,num_nodes],-0.1,0.1))\n",
    "    \n",
    "    #recurrent matrix multiplies previous output\n",
    "    W = tf.Variable(tf.truncated_normal([alphabet_size,num_nodes],-0.1,0.1))\n",
    "    \n",
    "    #bias vector\n",
    "    b = tf.Variable(tf.zeros([1,2*num_nodes]))\n",
    "    \n",
    "    #output matrix\n",
    "    V = tf.Variable(tf.truncated_normal([2*num_nodes,alphabet_size],-0.1,0.1))\n",
    "    c = tf.Variable(tf.zeros([1,alphabet_size]))\n",
    "    \n",
    "    \n",
    "    \n",
    "    #model\n",
    "    def RNN(i,o_input):\n",
    "        a = tf.concat(1,[tf.matmul(i,U),tf.matmul(o_input,W)])+b\n",
    "        h_output = tf.nn.tanh(a)\n",
    "        o_out = tf.matmul(h_output,V)+c\n",
    "        return o_out\n",
    "    \n",
    "    \n",
    "    #when training truncate the gradients after num_unrollings\n",
    "    for i in range(num_unrollings):\n",
    "        if i == 0:\n",
    "            outputs = list()\n",
    "            output_after = RNN(train[i],output_feed)\n",
    "        else:\n",
    "            output_after = RNN(train[i],labels[i-1])\n",
    "#         output = output_after\n",
    "        outputs.append(output_after)\n",
    "    \n",
    "    #train\n",
    "    \n",
    "    #log likelihood loss\n",
    "    loss = tf.reduce_mean(tf.nn.softmax_cross_entropy_with_logits(tf.concat(0,outputs),tf.concat(0,labels)))\n",
    "\n",
    "    \n",
    "    #optimizer\n",
    "    global_step = tf.Variable(0)\n",
    "    learning_rate = tf.train.exponential_decay(\n",
    "        learning_rate=2.5,global_step=global_step, decay_steps=5000, decay_rate=0.1, staircase=True)\n",
    "    optimizer = tf.train.GradientDescentOptimizer(learning_rate)\n",
    "    gradients,var=zip(*optimizer.compute_gradients(loss))\n",
    "    gradients_clipped, _ = tf.clip_by_global_norm(gradients, 1.25)\n",
    "    opt=optimizer.apply_gradients(zip(gradients_clipped,var),global_step=global_step)\n",
    "    \n",
    "    # Validation\n",
    "    val_output_after = tf.nn.softmax(RNN(val_input,val_output))\n",
    "    #val_logits = tf.matmul(val_output_after,W_softmax)+b_softmax\n",
    "    val_probs = tf.nn.softmax(val_output_after)\n",
    "    \n",
    "    #add init op to the graph\n",
    "    init = tf.initialize_all_variables()"
   ]
  },
  {
   "cell_type": "code",
   "execution_count": 79,
   "metadata": {
    "collapsed": false
   },
   "outputs": [
    {
     "name": "stdout",
     "output_type": "stream",
     "text": [
      "NEW EPOCH\n",
      "Average loss:  0.00328074407578\n",
      "Learning rate:  2.5\n",
      "dvdeaxtu okrbova hovaapxwmgblxob vm gsqqmaiudfsybzryyoylibqsw wxycxnimivnyobcxawgqgkqnr pbfxcmxtkglzc\n",
      "Average loss:  0.0231457292821\n",
      "Learning rate:  2.5\n",
      "azrfywkosawkp fzdbcbrsjtpbwttiltuzbvopibkxwnqsncevjmrait ojgbvpvmaogqsmbqmaxcttszxyxjpkeupkyu jrylkyy\n",
      "Average loss:  0.000314539092666\n",
      "Learning rate:  2.5\n",
      "gsjfzydpoxhytgcjelqdcvuyvewbfkcrpmwvz fuczqjwwvcboyziemwyymedeygjxdnuqiru lnwsljbdaffmyaejztgtiutzdo \n",
      "Average loss:  0.00017354778586\n",
      "Learning rate:  2.5\n",
      "cbxfnzwneezqkdnrxuovnnuhfyhbgmzhtcupdtbpscuvkttamzvcfjksaukxfeimrvqn  kyxyyupgsbymyfbhszhebpricjehale\n",
      "Average loss:  0.000119131398234\n",
      "Learning rate:  2.5\n",
      "fsxkyndfleiucmfczqqtnfoluytmkmytnsfup zdqeqbbjuzodqppixgezomg  vlpbfdfpzkipdssslel jlqxntxgqvewoegdcl\n",
      "Average loss:  9.03085370301e-05\n",
      "Learning rate:  0.25\n",
      "fm lgosvuxijkqwkn vobihfmxiazlmlonowilkxy cmbojomtmewlddrgeuppvpljivwisqcpzitfnhqknvqguyljltdixvepaie\n",
      "Average loss:  7.92792962166e-05\n",
      "Learning rate:  0.25\n",
      "rlrpirjovvlkl pifdzfwjcsthiwqozdmonsiromzddcllnscmdupmtedyvwvplikenfvmcyirnqaiqeeadrtqnscxmfvshiieupc\n",
      "Average loss:  7.76314749091e-05\n",
      "Learning rate:  0.25\n",
      "oysehynzhkwwdhsuonblmkbvfkgyddianaisjdincwdkzxllz  vujkcxeaxtoj kcyvpwlql qqdrq hnomwauuhklykpixnqnud\n",
      "Average loss:  7.60134994198e-05\n",
      "Learning rate:  0.25\n",
      "ehslorasdrfoccahiqhafphhcjnjng krkdvulywxoxxcbpnfy wmyfjfyk mqat jqgaaktwmjovpphdkzhwpuibayqkttfrmfdk\n",
      "Average loss:  7.44896867036e-05\n",
      "Learning rate:  0.25\n",
      "zrdjaupjramdpasfqfucibyljcdxggvzgrwgrrhrpbvxbiudfqnrmfoxyvhiq qztzarvd x x aikxw osssgfd tiymvs oyipk\n",
      "Average loss:  7.30061831637e-05\n",
      "Learning rate:  0.025\n",
      "tskqjkmrlwkrckoiylfvccyiyjzfkqfhndvnyukyevqdtfyyzvyq pnfuxbtqaehk hncvcieycplvnofpldfeqxcfuculxhlmcpw\n",
      "Average loss:  7.22375818077e-05\n",
      "Learning rate:  0.025\n",
      "jndkhraytwt tfpppsmdusaajyqaaxayyegktpvokbdfbdiechrhkrgxbysgwrzzwjxrrdkmomifpimelpllfrkdysvhmcozrnxtf\n",
      "Average loss:  7.20889723889e-05\n",
      "Learning rate:  0.025\n",
      "nzqawyaawqpetqzgtibypzducfuiagdaafulugfwjfipwf  uidmootioqtmqbrufrm ky pg gpjztxsiipmqbrkfdntqxvafqlv\n",
      "Average loss:  7.19402881368e-05\n",
      "Learning rate:  0.025\n",
      "chhxdrcuhfclwebxywyb pounkn wyvgxbdabmpymwqjhupricstfovdaspwlpzaymgvcmiewizmsxdiyvespttwmuxzwooftydna\n",
      "Average loss:  7.17667492136e-05\n",
      "Learning rate:  0.025\n",
      "sdbjwrmskyvzymfvanaefxragpwxlafeirmuuozspjwtxthmiifzqlfinorrgmxqkqbhrhw gaazsm ynubynknmtirlwus pbuvi\n",
      "Average loss:  7.16192290056e-05\n",
      "Learning rate:  0.0025\n",
      "semnljiysvsrbokomxyievlnxfqnuqahafkbbyubsadvvouuqttrcgccallydkpwignpziiioz abwbwocowommvdilyagnxlsmfc\n",
      "Average loss:  7.15195127486e-05\n",
      "Learning rate:  0.0025\n",
      "skcrrk hwpsjhyhgozbfivpypdoypkouuttvelvliatf ckneyejaaxivqryyiwosvysrjpmgtelyjzryrhpnnhwoiypnedsyvmho\n",
      "Average loss:  7.15195127777e-05\n",
      "Learning rate:  0.0025\n",
      "cumugmvisxxovpukjjux hqdgrwqrwxavxktvjryhfcdwumvvwbfnzcehufytmxybgbubrv uvocrmzyumccnuyfszdwhsrgwmufh\n",
      "Average loss:  7.15195127632e-05\n",
      "Learning rate:  0.0025\n",
      "   pzpfqqhkhwlktipzpgyykekooohihlkvhqndnpnqdslkct bjlnw kd  strxufzwzeorx xmfgfjqa q tbeeuxas tvuykfa\n",
      "Average loss:  7.1519512785e-05\n",
      "Learning rate:  0.0025\n",
      "dtigaekyja tmnbzlfxzmpawgsvcsobfn b   lqlbohtypzjc axhzhpelxblwybokrzxxtrnpntqlvl hrcwnnxngkpnt zzttb\n",
      "Average loss:  7.15195127341e-05\n",
      "Learning rate:  0.00025\n",
      "mkmzduufz ezmqcbsbaurdxddhfpp aa vz j bbzuduiuqbjquzeniooruue pjlxndfdgqfljpulpzne qfoyxjhyyynwtgqrnl\n",
      "Average loss:  7.15195127341e-05\n",
      "Learning rate:  0.00025\n",
      "hiaaxyvgomqvllkwyauwrlvhecihwaqqnrrxla dowzvzbijkyuoivpkthxwforxahyo uuhptjpyixevwloeq gtmunqglfmspmn\n",
      "Average loss:  7.15195127559e-05\n",
      "Learning rate:  0.00025\n",
      "aqfoydbmfooblqkecpahadunppehmhfugfbwannjnqxclrdcrunopautojuchwvrsdomzmpelw iucu ncwcyefjxmailbzjemkga\n",
      "Average loss:  7.15195127486e-05\n",
      "Learning rate:  0.00025\n",
      "l obthuzthyzsdglhu dbi vxvbbwlwrwwri wplrlhpqiiazrjwurtynerejawfoooucmlssmglgsbkfvvljp ktverglykoqddc\n",
      "Average loss:  7.15195127341e-05\n",
      "Learning rate:  0.00025\n",
      "ronwm fhjsrhlvhbfxo gfkrjflecclrqcsjnvibimquuylsspttyi hbktmdhdvqrftymwwzvdzniwwfgjknhaux umnkvewllhc\n",
      "Average loss:  7.15195127559e-05\n",
      "Learning rate:  2.5e-05\n",
      "vno qvazhqzvgncdsawhdsgs qpnnbiuvuialdsuteqxvgqdlbv cpovigqvyiqhivbepdpqhspvn  w vwnoi ovxhcwcirjwoss\n",
      "Average loss:  7.15195127486e-05\n",
      "Learning rate:  2.5e-05\n",
      "iioizzoqgupnzyvuzeqcsxubvcrkruhfzlsmazbinnrxqteiiuwhqyllxqjumcobbvpac afrw jmhnaddxolblrijqhfkmrczdmd\n",
      "Average loss:  7.15195127559e-05\n",
      "Learning rate:  2.5e-05\n",
      "  hyaqaeyhjgphidliqqtshcwadggmmysniccdxceezljvaffr  vygqfeafzvpysyvqwovstqioasgjsz kffwqqhavmzfdenmuy\n",
      "Average loss:  7.15195126832e-05\n",
      "Learning rate:  2.5e-05\n",
      "bceclpqlhhhbytgtlv cligooneonqajcdo zcwujxlybrdbroxtbovuelhhzahxpcmjsmqjdxyrmulttulcrzupuflautcnvzu a\n",
      "Average loss:  7.15195127632e-05\n",
      "Learning rate:  2.5e-05\n",
      "excccccnxmu kmirhfybyhl s x yfggi jdgbzxjrgbozmv pphpybjfufebipypsvzrhohvwijk odmmkotavmilivoidcukiik\n",
      "Average loss:  7.15195127923e-05\n",
      "Learning rate:  2.5e-06\n",
      "oaaguogmoljgxtpbgm ivolhdfvffyqfnooycwqtiokejhrlwkctypozxnjhm cfijesypdghcrpjxukotteqynibjuyizsfkyvem\n",
      "Average loss:  7.15195127268e-05\n",
      "Learning rate:  2.5e-06\n",
      "xppzqnvhzuukmgbfeilewxheikvzfwcxzcpxuccrzictgvrqckyiooazighhzszceuttsmmncfemmwma bbfyki tynqbrsicucjc\n",
      "Average loss:  7.15195127559e-05\n",
      "Learning rate:  2.5e-06\n",
      "rjmt rpo txei mhfilgcavbtdpgodbdgijnncislypmmwaow qxeuawpssjxcmudxixuyogcppeydthpwfnxrxlwbnoodmrrvjrb\n",
      "Average loss:  7.15195127777e-05\n",
      "Learning rate:  2.5e-06\n",
      "ez  wx oo dagpecvyufxzurvgclyptizqlaadchgcpqkxfffikwcnnegwrhrhbmxsldrtifyhmmsscxappkknmvcjhuibslvdj x\n",
      "Average loss:  7.15195126759e-05\n",
      "Learning rate:  2.5e-06\n",
      "lydaxkssopkipv ppqfwxbygccxlcznnxznqnyracadcbxpecc ja mvlriarvssvssswhxsxbwecrndpfp jikoowid soft v q\n",
      "Average loss:  7.15195127195e-05\n",
      "Learning rate:  2.5e-07\n",
      "cmejaibulqngsiovgx anxsnnwhccwkwmvjgjpnsskzozrkctjhhglnyj yljmehvxfthvtsxldaygaxeejucfouzrfvsdcwkvrrw\n",
      "Average loss:  7.15195127414e-05\n",
      "Learning rate:  2.5e-07\n",
      "jklguhbylbzjyliw bdcmx xdxo zqtrmkcbdhbjqlvzgfovbkxjelvhpnrti tsccbqlxgtrylmunbjwhnhbphbggejjnmxjrksb\n",
      "Average loss:  7.15195126395e-05\n",
      "Learning rate:  2.5e-07\n",
      "cbbwmyk shaqkxxpitpxdwokgpcpikgpkbnssyqbnaetbsyihquj  dgnecptrptjtvybgvwjnmmxtcojphvyhjsbhb q  qywxdd\n",
      "Average loss:  7.15195127705e-05\n",
      "Learning rate:  2.5e-07\n",
      "hwplczaffurrfshvdczjabeznn fahqqicysahqilvocfcgrqoxzwddtefmrzkamvwfxxfxeh cjrdnnbbkoaahauqyoiutsbbucl\n",
      "Average loss:  7.15195127486e-05\n",
      "Learning rate:  2.5e-07\n",
      "ykbscfshkse wol ehrowvwixfnwnapbgynnlbdt crcnzsjymecrdppuhbhlxidcnkxphqhjdblebpgawtybqlwvw jumoc c kc\n",
      "Average loss:  7.1519512785e-05\n",
      "Learning rate:  2.5e-08\n",
      "cvsuxcc vgqdkdvgbsdfqjprxovbdeyzbvpmo ccpknlkgjiikcdtdwtcjsqnaahdnsdypwvdqud wlwvnbojxdivt esniozpbtb\n",
      "Average loss:  7.15195127341e-05\n",
      "Learning rate:  2.5e-08\n",
      "prbrkxrzlrprmvwauagyjpciptdtdllzgrbthpoqrjrvfmkniwjsddipxnvxziqasmyyznjhnxegllhhcvavocoksgjtp aweprqy\n",
      "Average loss:  7.15195128068e-05\n",
      "Learning rate:  2.5e-08\n",
      "cueg  fjzqepfyunniddw aptullcmhokjquvfbnnbhsmongmjnramwjccehvewoakqeklryiqochyborraklw gcaavkstsmcdlp\n",
      "Average loss:  7.15195127777e-05\n",
      "Learning rate:  2.5e-08\n",
      "cxxhznlpeyfnbeofesgoutyssbbfnjsgfqkrydizbikssl sbqimgnmyoqnzepmodbzjhitnjhhtusacv wrwbrrptpmyvyppeudq\n",
      "Average loss:  7.15195127341e-05\n",
      "Learning rate:  2.5e-08\n",
      "zzdhoodezebkmj maffblaegvefhthuuqnuwuizddmrzaxhzhcdgrkmmcqsdbdtnwzx lfzhgqpcnwqwmkbaafqjkqfgvcanfizso\n",
      "Average loss:  7.15195127777e-05\n",
      "Learning rate:  2.5e-09\n",
      "cfwjfvkbjrtjhxhxlldipgwufp kqluedsyjqekaueyzwxye vljpglsfzgbgw llyiihooayargmeckoruhtptxrjuosro jndhv\n",
      "Average loss:  7.15195127777e-05\n",
      "Learning rate:  2.5e-09\n",
      "xhdvthghvlhxqkdhgxlzxqhoxhwrpslox eggcmoiutzaavnwscj mqzxlkwcucddgkamnjnnndodvdiyiod q uguf r vx dpke\n",
      "Average loss:  7.15195127705e-05\n",
      "Learning rate:  2.5e-09\n",
      "xpkncjd iqneajfjvhuqzaaa vcrzsdgmfgcuxfxyzxvigwegjkxrj civctdrdjdbsoozpagihozoqvzkfedujujs dvlwcaiitg\n",
      "Average loss:  7.15195127559e-05\n",
      "Learning rate:  2.5e-09\n",
      "ujckvsajwgdhxwjhwojxlkmn dvoteusgfhpsfbviyg bdcfmwheqhvyml bollj   dqnddanzzvnusqspxhnmgvmitzdjzffups\n",
      "Average loss:  7.15195127705e-05\n",
      "Learning rate:  2.5e-09\n",
      "ikuuqqmmr  lpzrblbrawr laucbklqsfnjlrdiovcabbzrbp zru jlgvesxtyls bjezrzydachmorwauxwuwjrasxtbrbltbrh\n",
      "Average loss:  7.15195127559e-05\n",
      "Learning rate:  2.5e-10\n",
      "qpmhcytkaip tuouhccitgtvyr cy fjcvsnsd sgs rkilbblcj jpmbamgaodogbstxieatkrhgitsgugjoiogezzpoeddx vpn\n"
     ]
    }
   ],
   "source": [
    "num_steps=50001\n",
    "b = Batch(text,batch_size)\n",
    "\n",
    "sess=tf.Session(graph=g)\n",
    "sess.run(init)\n",
    "average_loss = 0\n",
    "\n",
    "for step in range(num_steps):\n",
    "    if (step*b.batch_size)%(b.text_size) < b.batch_size:\n",
    "        print \" \"\n",
    "        print \"NEW EPOCH\"\n",
    "        print \" \"\n",
    "\n",
    "    #initialize the output\n",
    "    if step == 0: #initialize the output state vectors\n",
    "        output_pass = np.zeros([batch_size,alphabet_size],dtype=np.float32)\n",
    "    feed_dict={output_feed: output_pass}\n",
    "    \n",
    "    \n",
    "    #get the new inputs and labels\n",
    "    batch_x,batch_y=getWindowBatch(b,num_unrollings)\n",
    "    \n",
    "    #mega batches\n",
    "    mega_batch_x = [] #each elemnt will be a batch.  there will be tau elements where tau is the number of unrollings\n",
    "    mega_batch_y = []\n",
    "    for n in range(num_unrollings):\n",
    "        batchx = np.ndarray((batch_size,alphabet_size)) #contain all the one-hot encoding of the characters\n",
    "        batchy = np.ndarray((batch_size,alphabet_size))\n",
    "        for ba in range(batch_size):\n",
    "            batchx[ba]=char2vec(batch_x[n][ba])\n",
    "            batchy[ba]=char2vec(batch_y[n][ba])\n",
    "        mega_batch_x.append(batch)\n",
    "        mega_batch_y.append(batch)\n",
    "    \n",
    "    for i in range(num_unrollings):\n",
    "        feed_dict[train[i]] = mega_batch_x[i]\n",
    "        feed_dict[labels[i]] = mega_batch_y[i]\n",
    "    \n",
    "    output_pass,l,_=sess.run([output_after,loss,opt],feed_dict=feed_dict)\n",
    "    average_loss += l\n",
    "    if step % 1000 == 0:\n",
    "        print 'Average loss: ',str(average_loss/1000)\n",
    "        average_loss = 0\n",
    "        \n",
    "        \n",
    "        print 'Learning rate: ', str(learning_rate.eval(session=sess))\n",
    "        #sample and then generate text\n",
    "        s=''\n",
    "        \n",
    "        #initialize the validations out and character\n",
    "        val_output_O = vec2mat(char2vec(id2char(sample_prob(random_dist()))))\n",
    "        \n",
    "        char_id = sample_prob(random_dist()) #create a random distribution then sample\n",
    "        val_input_O = vec2mat(char2vec(id2char(char_id)))\n",
    "\n",
    "        s+=id2char(char_id)\n",
    "        for _ in range(100):\n",
    "            feed_dict = {val_input: val_input_O, \n",
    "                         val_output: val_output_O}\n",
    "            val_output_O,dist = sess.run([val_output_after,val_probs],feed_dict=feed_dict)\n",
    "            char_id=sample_prob(dist[0])\n",
    "            val_input_O = vec2mat(char2vec(id2char(char_id)))\n",
    "            s+=id2char(char_id)\n",
    "        print s"
   ]
  },
  {
   "cell_type": "code",
   "execution_count": null,
   "metadata": {
    "collapsed": true
   },
   "outputs": [],
   "source": []
  }
 ],
 "metadata": {
  "anaconda-cloud": {},
  "kernelspec": {
   "display_name": "Python [conda env:tensorflow]",
   "language": "python",
   "name": "conda-env-tensorflow-py"
  },
  "language_info": {
   "codemirror_mode": {
    "name": "ipython",
    "version": 2
   },
   "file_extension": ".py",
   "mimetype": "text/x-python",
   "name": "python",
   "nbconvert_exporter": "python",
   "pygments_lexer": "ipython2",
   "version": "2.7.12"
  }
 },
 "nbformat": 4,
 "nbformat_minor": 1
}
